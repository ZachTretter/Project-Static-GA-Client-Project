{
 "cells": [
  {
   "cell_type": "markdown",
   "metadata": {},
   "source": [
    "DSI BOS 11 (May 2020) Project 5\n",
    "\n",
    "Alex Golden, Jungmoon Ham, Luke Podsiadlo, Zach Tretter\n",
    "\n",
    "---------"
   ]
  },
  {
   "cell_type": "markdown",
   "metadata": {},
   "source": [
    "## Download Police Radio Archive from BroadCastify\n",
    "\n",
    "Our emphatic appreciation to prior General Assembly Data Science cohorts\n",
    "* DSI-ATL-8 (Anthony Chapman, Carol Chiu, Kwamae Delva, and Joseph Hopkins) for developing Broadcastify Archive\n",
    "\n",
    "* DSI-SF-9 (Grant Wilson, J. Hall, Gabriel Perez Prieto) for a well documented instantiation of Broadcastify Archive\n",
    "\n",
    "## Notebook Contents\n",
    "- [BroadcastifyArchive Tool (BART)](#BroadcastifyArchive-Tool-(BART))\n",
    "- [Imports](#Imports)\n",
    "- [Parameterize BART](#Parameterize-BART)\n",
    "- [Execute BART](#Executive-BART)"
   ]
  },
  {
   "cell_type": "markdown",
   "metadata": {},
   "source": [
    "----------\n",
    "## BroadcastifyArchive Tool (BART)\n",
    "\n",
    "[Link to Broadcastify Website](https://www.broadcastify.com)\n",
    "\n",
    "[BART Source Documentation on github](https://github.com/ljhopkins2/broadcastify-archtk)\n",
    "\n",
    "#### How to Install and Run BART\n",
    "\n",
    "1. Install BART ```!pip install broadcastify-archtk```\n",
    "2. Install Selenium```!pip install selenium```\n",
    "3. Download [ChromeWebDriver](https://sites.google.com/a/chromium.org/chromedriver/downloads)\n",
    "4. Identify the absolute file path to 'chromedriver.exe'\n",
    "\n",
    "\n",
    "#### Note BroadcastifyArchive tool worked despite this \"RequestsDependencyWarning\" upon installation\n",
    "* C:\\Users\\(```username```)\\anaconda3\\lib\\site-packages\\requests\\__init__.py:91: \n",
    "    * RequestsDependencyWarning: urllib3 (1.25.8) or chardet (3.0.4) doesn't match a supported version!"
   ]
  },
  {
   "cell_type": "markdown",
   "metadata": {},
   "source": [
    "### Your Broadcastify Premium Username and Password"
   ]
  },
  {
   "cell_type": "code",
   "execution_count": null,
   "metadata": {
    "ExecuteTime": {
     "end_time": "2020-05-09T16:52:52.808798Z",
     "start_time": "2020-05-09T16:52:52.805808Z"
    }
   },
   "outputs": [],
   "source": [
    "USERNAME = '[YOUR USERNAME HERE]'\n",
    "PASSWORD = '[YOUR PASSWORD HERE]'"
   ]
  },
  {
   "cell_type": "markdown",
   "metadata": {},
   "source": [
    "### Webdriver Path (Specific to Your Machine)"
   ]
  },
  {
   "cell_type": "code",
   "execution_count": null,
   "metadata": {
    "ExecuteTime": {
     "end_time": "2020-05-17T15:44:39.191127Z",
     "start_time": "2020-05-17T15:44:39.186131Z"
    }
   },
   "outputs": [],
   "source": [
    "chromedriverpath = \"[FILE PATH TO CHROME DRIVER]\""
   ]
  },
  {
   "cell_type": "markdown",
   "metadata": {},
   "source": [
    "--------\n",
    "\n",
    "## Imports"
   ]
  },
  {
   "cell_type": "code",
   "execution_count": null,
   "metadata": {
    "ExecuteTime": {
     "end_time": "2020-05-17T15:44:53.254955Z",
     "start_time": "2020-05-17T15:44:51.247531Z"
    }
   },
   "outputs": [],
   "source": [
    "from broadcastify_archtk import BroadcastifyArchive\n",
    "from datetime import datetime as dt\n",
    "import os"
   ]
  },
  {
   "cell_type": "markdown",
   "metadata": {},
   "source": [
    "--------\n",
    "\n",
    "## Parameterize BART\n",
    "\n",
    "Requirements\n",
    "* Test Feed ID found in the url: .../archives/feed/```NUMERIC CODE```\n",
    "* Username (Any download requires a premium account)\n",
    "* Password associated with username\n",
    "* Start and End Dates (Must be Datetime.date)\n",
    "* Start and End Times (Must be Datetime.time)\n",
    "* Outpath for File Download"
   ]
  },
  {
   "cell_type": "markdown",
   "metadata": {},
   "source": [
    "### Test Feed ID"
   ]
  },
  {
   "cell_type": "code",
   "execution_count": null,
   "metadata": {
    "ExecuteTime": {
     "end_time": "2020-05-09T16:52:52.106073Z",
     "start_time": "2020-05-09T16:52:52.102082Z"
    }
   },
   "outputs": [],
   "source": [
    "# Boston Metro Police and Fire West\n",
    "TEST_FEED_ID = \"25818\"  "
   ]
  },
  {
   "cell_type": "markdown",
   "metadata": {},
   "source": [
    "### Dates and Time"
   ]
  },
  {
   "cell_type": "code",
   "execution_count": null,
   "metadata": {
    "ExecuteTime": {
     "end_time": "2020-05-17T15:47:23.824559Z",
     "start_time": "2020-05-17T15:47:23.816558Z"
    }
   },
   "outputs": [],
   "source": [
    "start_date = dt(2020, 5, 1).date()\n",
    "\n",
    "end_date = dt(2020, 5, 2).date()\n",
    "\n",
    "start_time = dt(2020, 5, 1, 0, 0)\n",
    "\n",
    "end_time = dt(2020, 5, 2, 23, 59)\n",
    "\n",
    "print(f'This will download archived audio \\nstarting at {start_time} \\nending at {end_time}')"
   ]
  },
  {
   "cell_type": "markdown",
   "metadata": {},
   "source": [
    "### Download Path"
   ]
  },
  {
   "cell_type": "code",
   "execution_count": null,
   "metadata": {
    "ExecuteTime": {
     "end_time": "2020-05-17T15:47:13.037409Z",
     "start_time": "2020-05-17T15:47:13.033423Z"
    }
   },
   "outputs": [],
   "source": [
    "outputpath = \"../DATASETS/raw_audio/\""
   ]
  },
  {
   "cell_type": "markdown",
   "metadata": {},
   "source": [
    "-------\n",
    "\n",
    "## Execute BART\n",
    "\n",
    "* Instantiate with Test Feed ID, Username, and Password\n",
    "* Activate BART bound by the Start and End DATES\n",
    "* Download mp3 files bound by the Start and End TIMES\n",
    "* Confirm Existence of Files"
   ]
  },
  {
   "cell_type": "markdown",
   "metadata": {},
   "source": [
    "### Initialize the BroadcastifyArchive Tool"
   ]
  },
  {
   "cell_type": "code",
   "execution_count": null,
   "metadata": {
    "ExecuteTime": {
     "end_time": "2020-05-09T16:53:14.855711Z",
     "start_time": "2020-05-09T16:52:57.156832Z"
    }
   },
   "outputs": [],
   "source": [
    "archive = BroadcastifyArchive(TEST_FEED_ID, \n",
    "                              login_cfg_path = None, \n",
    "                              username = USERNAME, \n",
    "                              password = PASSWORD,\n",
    "                              webdriver_path = chromedriverpath)"
   ]
  },
  {
   "cell_type": "markdown",
   "metadata": {},
   "source": [
    "### Activate the BroadcastifyArchive Tool"
   ]
  },
  {
   "cell_type": "code",
   "execution_count": null,
   "metadata": {
    "ExecuteTime": {
     "end_time": "2020-05-09T16:53:42.960437Z",
     "start_time": "2020-05-09T16:53:35.782288Z"
    }
   },
   "outputs": [],
   "source": [
    "archive.build(start = start_date,\n",
    "              end = end_date)"
   ]
  },
  {
   "cell_type": "markdown",
   "metadata": {},
   "source": [
    "### Download MP3 Audio Files from the BroadcastifyArchive"
   ]
  },
  {
   "cell_type": "code",
   "execution_count": null,
   "metadata": {
    "ExecuteTime": {
     "end_time": "2020-05-09T16:53:58.435756Z",
     "start_time": "2020-05-09T16:53:45.415115Z"
    },
    "scrolled": false
   },
   "outputs": [],
   "source": [
    "archive.download(start = start_time,\n",
    "             end = end_time,\n",
    "             output_path = outputpath)"
   ]
  },
  {
   "cell_type": "markdown",
   "metadata": {
    "ExecuteTime": {
     "end_time": "2020-05-09T16:52:18.017680Z",
     "start_time": "2020-05-09T16:52:18.014723Z"
    }
   },
   "source": [
    "## Confirm Existence of Downloaded Files"
   ]
  },
  {
   "cell_type": "code",
   "execution_count": null,
   "metadata": {
    "ExecuteTime": {
     "end_time": "2020-05-17T15:45:11.850229Z",
     "start_time": "2020-05-17T15:45:11.839288Z"
    }
   },
   "outputs": [],
   "source": [
    "os.listdir(outputpath)"
   ]
  }
 ],
 "metadata": {
  "kernelspec": {
   "display_name": "Python 3",
   "language": "python",
   "name": "python3"
  },
  "language_info": {
   "codemirror_mode": {
    "name": "ipython",
    "version": 3
   },
   "file_extension": ".py",
   "mimetype": "text/x-python",
   "name": "python",
   "nbconvert_exporter": "python",
   "pygments_lexer": "ipython3",
   "version": "3.7.6"
  },
  "toc": {
   "base_numbering": 1,
   "nav_menu": {},
   "number_sections": true,
   "sideBar": true,
   "skip_h1_title": false,
   "title_cell": "Table of Contents",
   "title_sidebar": "Contents",
   "toc_cell": false,
   "toc_position": {},
   "toc_section_display": true,
   "toc_window_display": false
  },
  "varInspector": {
   "cols": {
    "lenName": 16,
    "lenType": 16,
    "lenVar": 40
   },
   "kernels_config": {
    "python": {
     "delete_cmd_postfix": "",
     "delete_cmd_prefix": "del ",
     "library": "var_list.py",
     "varRefreshCmd": "print(var_dic_list())"
    },
    "r": {
     "delete_cmd_postfix": ") ",
     "delete_cmd_prefix": "rm(",
     "library": "var_list.r",
     "varRefreshCmd": "cat(var_dic_list()) "
    }
   },
   "types_to_exclude": [
    "module",
    "function",
    "builtin_function_or_method",
    "instance",
    "_Feature"
   ],
   "window_display": false
  }
 },
 "nbformat": 4,
 "nbformat_minor": 4
}
