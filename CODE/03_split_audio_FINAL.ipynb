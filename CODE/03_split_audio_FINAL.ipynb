{
 "cells": [
  {
   "cell_type": "markdown",
   "metadata": {},
   "source": [
    "DSI BOS 11 (May 2020) Project 5\n",
    "\n",
    "Alex Golden, Jungmoon Ham, Luke Podsiadlo, Zach Tretter\n",
    "\n",
    "Workbook 2 - Audio Splitting\n",
    "\n",
    "----------"
   ]
  },
  {
   "cell_type": "markdown",
   "metadata": {},
   "source": [
    "## Split Audio \n",
    "\n",
    "Relevance to Problem Statement : This step breaks the long raw audio downloads into individual segements of audio which represent individual radio calls.  \n",
    "\n",
    "#### Workflow Steps\n",
    "\n",
    "1. Define location of our input file location.\n",
    "\n",
    "2. Split files: Using Pydub library 'split on silence' method, we split the audio file in smaller segements.\n",
    "\n",
    "3. Output new audio segements to desired output location."
   ]
  },
  {
   "cell_type": "code",
   "execution_count": null,
   "metadata": {
    "ExecuteTime": {
     "end_time": "2020-05-11T21:35:29.995646Z",
     "start_time": "2020-05-11T21:35:29.991656Z"
    }
   },
   "outputs": [],
   "source": [
    "import os\n",
    "import time\n",
    "import pydub\n",
    "import seaborn as sns\n",
    "from pydub.silence import split_on_silence\n",
    "from pydub import AudioSegment"
   ]
  },
  {
   "cell_type": "markdown",
   "metadata": {},
   "source": [
    "#### Establish Splitting Function"
   ]
  },
  {
   "cell_type": "code",
   "execution_count": null,
   "metadata": {},
   "outputs": [],
   "source": [
    "def split_audio(input_path, output_path):\n",
    "    \n",
    "    # Establish Pathways\n",
    "    raw_path = input_path\n",
    "    output_path = output_path\n",
    "    \n",
    "    # Establish Sound Processing Criteria\n",
    "    silence_length_ms = 4_000\n",
    "    silence_threshold_delta_dBFS = -5\n",
    "\n",
    "    min_chunk_length_ms = 2_000\n",
    "    max_chunk_length_ms = 60_000\n",
    "    \n",
    "    # Start Timer\n",
    "    start_time = time.time()\n",
    "\n",
    "    # Counter for file names\n",
    "    counter = 0\n",
    "    # Calculat total length of audio\n",
    "    total_length_to_process = 0\n",
    "\n",
    "    for raw_file in os.listdir(raw_path): \n",
    "        if raw_file.endswith('.mp3'):\n",
    "            print(f\"Examine {raw_file}\")\n",
    "\n",
    "            # Pull in File\n",
    "            audio_to_split = AudioSegment.from_mp3(raw_path + raw_file)\n",
    "\n",
    "            # Split based on silence critiera\n",
    "            chunks = split_on_silence(audio_to_split,\n",
    "                                     min_silence_len = silence_length_ms,\n",
    "                                     silence_thresh = audio_to_split.dBFS + silence_threshold_delta_dBFS)\n",
    "\n",
    "            # Calculate Processing Time\n",
    "            processing_time = round(time.time() - start_time,0)\n",
    "\n",
    "            # Return informative statement\n",
    "            print(f'File {raw_file} required {processing_time} seconds to split into {len(chunks)} candidate chunks of audio')\n",
    "\n",
    "            # Export qualifying chunks\n",
    "            for chunk in chunks:\n",
    "                sound_length = len(chunk)\n",
    "                if sound_length >= min_chunk_length_ms and sound_length <= max_chunk_length_ms:\n",
    "                    total_length_to_process += len(chunk)\n",
    "                    print(f\"this chunk is {len(chunk)/1_000} seconds long and our count is {counter}\")\n",
    "                    counter +=1\n",
    "                    file_name = \"sample{}-{}.wav\".format(counter,raw_file.split(\".\")[0])\n",
    "                    print(f'write this file as {file_name}')\n",
    "                    chunk.export(output_path + file_name,\n",
    "                             format = \"wav\")\n",
    "            print('\\n')\n",
    "\n",
    "    print(f'Exporting {counter} qualifying chunks required {time.time()-start_time} seconds') \n",
    "    print(f'Total audio length of {total_length_to_process/36_000} minutes')\n",
    "    \n",
    "    return os.listdir(output_path)"
   ]
  },
  {
   "cell_type": "markdown",
   "metadata": {},
   "source": [
    "#### Run Splitting Function"
   ]
  },
  {
   "cell_type": "code",
   "execution_count": null,
   "metadata": {},
   "outputs": [],
   "source": [
    "split_audio('../DATASETS/raw_audio/','../DATASETS/split_audio/split_raw/')"
   ]
  },
  {
   "cell_type": "code",
   "execution_count": null,
   "metadata": {},
   "outputs": [],
   "source": [
    "split_audio('../DATASETS/enhanced_audio/','../DATASETS/split_audio/split_enhanced/')"
   ]
  }
 ],
 "metadata": {
  "kernelspec": {
   "display_name": "Python 3",
   "language": "python",
   "name": "python3"
  },
  "language_info": {
   "codemirror_mode": {
    "name": "ipython",
    "version": 3
   },
   "file_extension": ".py",
   "mimetype": "text/x-python",
   "name": "python",
   "nbconvert_exporter": "python",
   "pygments_lexer": "ipython3",
   "version": "3.7.6"
  },
  "toc": {
   "base_numbering": 1,
   "nav_menu": {},
   "number_sections": true,
   "sideBar": true,
   "skip_h1_title": false,
   "title_cell": "Table of Contents",
   "title_sidebar": "Contents",
   "toc_cell": false,
   "toc_position": {},
   "toc_section_display": true,
   "toc_window_display": false
  },
  "varInspector": {
   "cols": {
    "lenName": 16,
    "lenType": 16,
    "lenVar": 40
   },
   "kernels_config": {
    "python": {
     "delete_cmd_postfix": "",
     "delete_cmd_prefix": "del ",
     "library": "var_list.py",
     "varRefreshCmd": "print(var_dic_list())"
    },
    "r": {
     "delete_cmd_postfix": ") ",
     "delete_cmd_prefix": "rm(",
     "library": "var_list.r",
     "varRefreshCmd": "cat(var_dic_list()) "
    }
   },
   "types_to_exclude": [
    "module",
    "function",
    "builtin_function_or_method",
    "instance",
    "_Feature"
   ],
   "window_display": false
  }
 },
 "nbformat": 4,
 "nbformat_minor": 4
}
