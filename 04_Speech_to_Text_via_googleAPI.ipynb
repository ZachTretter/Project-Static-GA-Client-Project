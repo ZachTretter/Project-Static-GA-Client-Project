{
 "cells": [
  {
   "cell_type": "markdown",
   "metadata": {},
   "source": [
    "DSI BOS 11 (May 2020) Project 5\n",
    "\n",
    "Alex Golden, Jungmoon Ham, Luke Podsiadlo, Zach Tretter\n",
    "\n",
    "Workbook 4 - Speech to Text Transcription\n",
    "\n",
    "----------"
   ]
  },
  {
   "cell_type": "markdown",
   "metadata": {
    "ExecuteTime": {
     "end_time": "2020-05-13T19:47:09.907464Z",
     "start_time": "2020-05-13T19:47:09.903512Z"
    }
   },
   "source": [
    "## Speech Recognition\n",
    "\n",
    "#### Workflow Steps\n",
    "\n",
    "1. Import audio segments (.wav files)\n",
    "\n",
    "2. Transcribe via google's cloud speech-to-text API\n",
    "\n",
    "3. Export results as dataframe\n",
    "\n",
    "#### Requirements\n",
    "\n",
    "* Key for google API\n",
    "* Input path for audio files to be processed\n",
    "* Output path for csv file (the dataframe)\n",
    "* Name for said csv file\n",
    "\n",
    "Core code adapted from\n",
    "* DSI-SF-9 [(Grant Wilson, J. Hall, Gabriel Perez Prieto)](https://github.com/GWilson97/san_francisco_dispatch_audio_mapping/blob/master/code/03a_speech_to_text.ipynb)\n"
   ]
  },
  {
   "cell_type": "code",
   "execution_count": 2,
   "metadata": {
    "ExecuteTime": {
     "end_time": "2020-05-13T15:47:56.395514Z",
     "start_time": "2020-05-13T15:47:56.391509Z"
    }
   },
   "outputs": [],
   "source": [
    "# !pip install --upgrade google-cloud-speech\n",
    "import os\n",
    "import io\n",
    "import pandas as pd\n",
    "import time\n",
    "\n",
    "from google.cloud import speech_v1p1beta1 as speech\n",
    "from google.cloud.speech_v1p1beta1 import enums"
   ]
  },
  {
   "cell_type": "markdown",
   "metadata": {},
   "source": [
    "### Establish Credentials for Google Application"
   ]
  },
  {
   "cell_type": "code",
   "execution_count": 3,
   "metadata": {
    "ExecuteTime": {
     "end_time": "2020-05-13T15:47:56.863670Z",
     "start_time": "2020-05-13T15:47:56.854691Z"
    }
   },
   "outputs": [],
   "source": [
    "path_to_key = '/Users/alex/ga-dsi-11/'\n",
    "\n",
    "key_name = 'police-scanner-speech-to-text-c09b11750e4e.json'\n",
    "\n",
    "os.environ[\"GOOGLE_APPLICATION_CREDENTIALS\"] = path_to_key + key_name\n",
    "\n",
    "client = speech.SpeechClient()"
   ]
  },
  {
   "cell_type": "markdown",
   "metadata": {},
   "source": [
    "### Establish Input Path (Specific to Your Machine)"
   ]
  },
  {
   "cell_type": "code",
   "execution_count": 9,
   "metadata": {
    "ExecuteTime": {
     "end_time": "2020-05-13T15:48:01.786450Z",
     "start_time": "2020-05-13T15:48:01.767495Z"
    },
    "scrolled": true
   },
   "outputs": [
    {
     "data": {
      "text/plain": [
       "['sample27-enhanced-25818-20200501-1210.wav',\n",
       " 'sample4-enhanced-25818-20200501-1210.wav',\n",
       " 'sample10-enhanced-25818-20200501-1210.wav',\n",
       " 'sample38-enhanced-25818-20200501-1210.wav',\n",
       " 'sample49-enhanced-25818-20200501-1210.wav',\n",
       " 'sample23-enhanced-25818-20200501-1210.wav',\n",
       " 'sample14-enhanced-25818-20200501-1210.wav',\n",
       " 'sample45-enhanced-25818-20200501-1210.wav',\n",
       " 'sample34-enhanced-25818-20200501-1210.wav',\n",
       " 'sample8-enhanced-25818-20200501-1210.wav',\n",
       " 'sample18-enhanced-25818-20200501-1210.wav',\n",
       " 'sample41-enhanced-25818-20200501-1210.wav',\n",
       " 'sample30-enhanced-25818-20200501-1210.wav',\n",
       " 'sample28-enhanced-25818-20200501-1210.wav',\n",
       " 'sample46-enhanced-25818-20200501-1210.wav',\n",
       " 'sample37-enhanced-25818-20200501-1210.wav',\n",
       " 'sample42-enhanced-25818-20200501-1210.wav',\n",
       " 'sample33-enhanced-25818-20200501-1210.wav',\n",
       " 'sample24-enhanced-25818-20200501-1210.wav',\n",
       " 'sample7-enhanced-25818-20200501-1210.wav',\n",
       " 'sample13-enhanced-25818-20200501-1210.wav',\n",
       " 'sample3-enhanced-25818-20200501-1210.wav',\n",
       " 'sample20-enhanced-25818-20200501-1210.wav',\n",
       " 'sample51-enhanced-25818-20200501-1210.wav',\n",
       " 'sample17-enhanced-25818-20200501-1210.wav',\n",
       " 'sample19-enhanced-25818-20200501-1210.wav',\n",
       " 'sample31-enhanced-25818-20200501-1210.wav',\n",
       " 'sample40-enhanced-25818-20200501-1210.wav',\n",
       " 'sample35-enhanced-25818-20200501-1210.wav',\n",
       " 'sample44-enhanced-25818-20200501-1210.wav',\n",
       " 'sample9-enhanced-25818-20200501-1210.wav',\n",
       " 'sample15-enhanced-25818-20200501-1210.wav',\n",
       " 'sample22-enhanced-25818-20200501-1210.wav',\n",
       " 'sample1-enhanced-25818-20200501-1210.wav',\n",
       " 'sample11-enhanced-25818-20200501-1210.wav',\n",
       " 'sample5-enhanced-25818-20200501-1210.wav',\n",
       " 'sample26-enhanced-25818-20200501-1210.wav',\n",
       " 'sample48-enhanced-25818-20200501-1210.wav',\n",
       " 'sample39-enhanced-25818-20200501-1210.wav',\n",
       " 'sample16-enhanced-25818-20200501-1210.wav',\n",
       " 'sample50-enhanced-25818-20200501-1210.wav',\n",
       " 'sample21-enhanced-25818-20200501-1210.wav',\n",
       " 'sample2-enhanced-25818-20200501-1210.wav',\n",
       " 'sample12-enhanced-25818-20200501-1210.wav',\n",
       " 'sample6-enhanced-25818-20200501-1210.wav',\n",
       " 'sample25-enhanced-25818-20200501-1210.wav',\n",
       " 'sample32-enhanced-25818-20200501-1210.wav',\n",
       " 'sample43-enhanced-25818-20200501-1210.wav',\n",
       " 'sample29-enhanced-25818-20200501-1210.wav',\n",
       " 'sample36-enhanced-25818-20200501-1210.wav',\n",
       " 'sample47-enhanced-25818-20200501-1210.wav']"
      ]
     },
     "execution_count": 9,
     "metadata": {},
     "output_type": "execute_result"
    }
   ],
   "source": [
    "input_path = './Datasets/dolby_tests/chunks/enhanced/'\n",
    "\n",
    "os.listdir(input_path)"
   ]
  },
  {
   "cell_type": "markdown",
   "metadata": {
    "ExecuteTime": {
     "end_time": "2020-05-12T00:24:36.025031Z",
     "start_time": "2020-05-12T00:24:36.023029Z"
    }
   },
   "source": [
    "### Establish Output Path (Specific to Your Machine)"
   ]
  },
  {
   "cell_type": "code",
   "execution_count": 10,
   "metadata": {
    "ExecuteTime": {
     "end_time": "2020-05-13T19:42:11.952552Z",
     "start_time": "2020-05-13T19:42:11.945547Z"
    }
   },
   "outputs": [
    {
     "data": {
      "text/plain": [
       "['.DS_Store', 'raw-test-df.csv', 'chunks', 'enhanced', 'raw']"
      ]
     },
     "execution_count": 10,
     "metadata": {},
     "output_type": "execute_result"
    }
   ],
   "source": [
    "output_path = './Datasets/dolby_tests/'\n",
    "\n",
    "file_name = 'enhanced-test-df.csv'\n",
    "\n",
    "os.listdir(output_path)"
   ]
  },
  {
   "cell_type": "markdown",
   "metadata": {
    "ExecuteTime": {
     "end_time": "2020-05-12T00:26:34.835965Z",
     "start_time": "2020-05-12T00:26:34.832957Z"
    }
   },
   "source": [
    "### Transcribe to Dataframe"
   ]
  },
  {
   "cell_type": "code",
   "execution_count": 11,
   "metadata": {
    "ExecuteTime": {
     "end_time": "2020-05-13T18:05:13.188779Z",
     "start_time": "2020-05-13T15:51:21.784478Z"
    },
    "scrolled": true
   },
   "outputs": [
    {
     "name": "stdout",
     "output_type": "stream",
     "text": [
      "File sample27-enhanced-25818-20200501-1210.wav transcribed to df in 10.0 secs\n",
      "File sample4-enhanced-25818-20200501-1210.wav transcribed to df in 2.0 secs\n",
      "File sample10-enhanced-25818-20200501-1210.wav transcribed to df in 13.0 secs\n",
      "File sample38-enhanced-25818-20200501-1210.wav transcribed to df in 13.0 secs\n",
      "File sample49-enhanced-25818-20200501-1210.wav transcribed to df in 14.0 secs\n",
      "File sample23-enhanced-25818-20200501-1210.wav transcribed to df in 10.0 secs\n",
      "File sample14-enhanced-25818-20200501-1210.wav transcribed to df in 3.0 secs\n",
      "File sample45-enhanced-25818-20200501-1210.wav transcribed to df in 9.0 secs\n",
      "File sample34-enhanced-25818-20200501-1210.wav transcribed to df in 9.0 secs\n",
      "File sample8-enhanced-25818-20200501-1210.wav transcribed to df in 5.0 secs\n",
      "File sample18-enhanced-25818-20200501-1210.wav transcribed to df in 2.0 secs\n",
      "File sample41-enhanced-25818-20200501-1210.wav transcribed to df in 4.0 secs\n",
      "File sample30-enhanced-25818-20200501-1210.wav transcribed to df in 11.0 secs\n",
      "File sample28-enhanced-25818-20200501-1210.wav transcribed to df in 4.0 secs\n",
      "File sample46-enhanced-25818-20200501-1210.wav transcribed to df in 2.0 secs\n",
      "File sample37-enhanced-25818-20200501-1210.wav transcribed to df in 5.0 secs\n",
      "File sample42-enhanced-25818-20200501-1210.wav transcribed to df in 10.0 secs\n",
      "File sample33-enhanced-25818-20200501-1210.wav transcribed to df in 12.0 secs\n",
      "File sample24-enhanced-25818-20200501-1210.wav transcribed to df in 6.0 secs\n",
      "File sample7-enhanced-25818-20200501-1210.wav transcribed to df in 5.0 secs\n",
      "File sample13-enhanced-25818-20200501-1210.wav transcribed to df in 5.0 secs\n",
      "File sample3-enhanced-25818-20200501-1210.wav transcribed to df in 21.0 secs\n",
      "File sample20-enhanced-25818-20200501-1210.wav transcribed to df in 3.0 secs\n",
      "File sample51-enhanced-25818-20200501-1210.wav transcribed to df in 21.0 secs\n",
      "File sample17-enhanced-25818-20200501-1210.wav transcribed to df in 5.0 secs\n",
      "File sample19-enhanced-25818-20200501-1210.wav transcribed to df in 8.0 secs\n",
      "File sample31-enhanced-25818-20200501-1210.wav transcribed to df in 8.0 secs\n",
      "File sample40-enhanced-25818-20200501-1210.wav transcribed to df in 10.0 secs\n",
      "File sample35-enhanced-25818-20200501-1210.wav transcribed to df in 9.0 secs\n",
      "File sample44-enhanced-25818-20200501-1210.wav transcribed to df in 5.0 secs\n",
      "File sample9-enhanced-25818-20200501-1210.wav transcribed to df in 4.0 secs\n",
      "File sample15-enhanced-25818-20200501-1210.wav transcribed to df in 3.0 secs\n",
      "File sample22-enhanced-25818-20200501-1210.wav transcribed to df in 6.0 secs\n",
      "File sample1-enhanced-25818-20200501-1210.wav transcribed to df in 10.0 secs\n",
      "File sample11-enhanced-25818-20200501-1210.wav transcribed to df in 1.0 secs\n",
      "File sample5-enhanced-25818-20200501-1210.wav transcribed to df in 2.0 secs\n",
      "File sample26-enhanced-25818-20200501-1210.wav transcribed to df in 8.0 secs\n",
      "File sample48-enhanced-25818-20200501-1210.wav transcribed to df in 4.0 secs\n",
      "File sample39-enhanced-25818-20200501-1210.wav transcribed to df in 6.0 secs\n",
      "File sample16-enhanced-25818-20200501-1210.wav transcribed to df in 6.0 secs\n",
      "File sample50-enhanced-25818-20200501-1210.wav transcribed to df in 3.0 secs\n",
      "File sample21-enhanced-25818-20200501-1210.wav transcribed to df in 20.0 secs\n",
      "File sample2-enhanced-25818-20200501-1210.wav transcribed to df in 10.0 secs\n",
      "File sample12-enhanced-25818-20200501-1210.wav transcribed to df in 4.0 secs\n",
      "File sample6-enhanced-25818-20200501-1210.wav transcribed to df in 14.0 secs\n",
      "File sample25-enhanced-25818-20200501-1210.wav transcribed to df in 3.0 secs\n",
      "File sample32-enhanced-25818-20200501-1210.wav transcribed to df in 14.0 secs\n",
      "File sample43-enhanced-25818-20200501-1210.wav transcribed to df in 8.0 secs\n",
      "File sample29-enhanced-25818-20200501-1210.wav transcribed to df in 11.0 secs\n",
      "File sample36-enhanced-25818-20200501-1210.wav transcribed to df in 5.0 secs\n",
      "File sample47-enhanced-25818-20200501-1210.wav transcribed to df in 13.0 secs\n",
      "total time of 379.1173107624054\n"
     ]
    }
   ],
   "source": [
    "start_time = time.time()\n",
    "\n",
    "df = pd.DataFrame()\n",
    "\n",
    "for sample_audio in os.listdir(input_path):\n",
    "    loop_time = time.time()\n",
    "    \n",
    "    # Examine wav files\n",
    "    if sample_audio.endswith('.wav'):\n",
    "        \n",
    "        # Open files\n",
    "        with io.open(input_path + sample_audio,'rb') as audio_to_transcribe:\n",
    "            content = audio_to_transcribe.read()\n",
    "            audio = speech.types.RecognitionAudio(content = content)\n",
    "            \n",
    "        # Declare speech recognition parameters\n",
    "        config = speech.types.RecognitionConfig(\n",
    "            encoding = enums.RecognitionConfig.AudioEncoding.LINEAR16,\n",
    "            sample_rate_hertz = 22050,\n",
    "            language_code = 'en-US',\n",
    "            audio_channel_count = 1,\n",
    "            enable_separate_recognition_per_channel = True,\n",
    "            use_enhanced = True,\n",
    "            model = 'phone_call',\n",
    "            speech_contexts = [{'boost':20.0}]\n",
    "        )\n",
    "        \n",
    "        # This models equivalent of fit/predict\n",
    "        response = client.recognize(config,audio)\n",
    "        \n",
    "        # Build Dictionary that becomes a Dataframe\n",
    "        for result in response.results:\n",
    "            d = {}\n",
    "            d['transcript'] = result.alternatives[0].transcript\n",
    "            d['confidence'] = result.alternatives[0].confidence\n",
    "            d['file_name'] = sample_audio\n",
    "            d['audio_length'] = round(int(sample_audio.split(\"-\")[-1].split(\".\")[0])/1_000,1)\n",
    "            processing_time = round(time.time() - loop_time,1)\n",
    "            d['transcribe_time'] = processing_time\n",
    "            df = df.append(d, ignore_index=True)\n",
    "                    \n",
    "        print(f\"File {sample_audio} transcribed to df in {round(processing_time,0)} secs\")\n",
    "\n",
    "print(f'total time of {time.time() - start_time}')"
   ]
  },
  {
   "cell_type": "markdown",
   "metadata": {},
   "source": [
    "### View Dataframe"
   ]
  },
  {
   "cell_type": "code",
   "execution_count": 12,
   "metadata": {
    "ExecuteTime": {
     "end_time": "2020-05-13T18:05:30.341337Z",
     "start_time": "2020-05-13T18:05:30.302472Z"
    }
   },
   "outputs": [
    {
     "data": {
      "text/html": [
       "<div>\n",
       "<style scoped>\n",
       "    .dataframe tbody tr th:only-of-type {\n",
       "        vertical-align: middle;\n",
       "    }\n",
       "\n",
       "    .dataframe tbody tr th {\n",
       "        vertical-align: top;\n",
       "    }\n",
       "\n",
       "    .dataframe thead th {\n",
       "        text-align: right;\n",
       "    }\n",
       "</style>\n",
       "<table border=\"1\" class=\"dataframe\">\n",
       "  <thead>\n",
       "    <tr style=\"text-align: right;\">\n",
       "      <th></th>\n",
       "      <th>file_name</th>\n",
       "      <th>audio_length</th>\n",
       "      <th>transcribe_time</th>\n",
       "      <th>confidence</th>\n",
       "      <th>transcript</th>\n",
       "    </tr>\n",
       "  </thead>\n",
       "  <tbody>\n",
       "    <tr>\n",
       "      <th>0</th>\n",
       "      <td>sample27-enhanced-25818-20200501-1210.wav</td>\n",
       "      <td>1.2</td>\n",
       "      <td>10.1</td>\n",
       "      <td>0.711187</td>\n",
       "      <td>1175</td>\n",
       "    </tr>\n",
       "    <tr>\n",
       "      <th>1</th>\n",
       "      <td>sample27-enhanced-25818-20200501-1210.wav</td>\n",
       "      <td>1.2</td>\n",
       "      <td>10.1</td>\n",
       "      <td>0.748561</td>\n",
       "      <td>and shoes help to 1433 Washington Street West...</td>\n",
       "    </tr>\n",
       "    <tr>\n",
       "      <th>2</th>\n",
       "      <td>sample27-enhanced-25818-20200501-1210.wav</td>\n",
       "      <td>1.2</td>\n",
       "      <td>10.2</td>\n",
       "      <td>0.613585</td>\n",
       "      <td>for a 3-3 Blog</td>\n",
       "    </tr>\n",
       "    <tr>\n",
       "      <th>3</th>\n",
       "      <td>sample4-enhanced-25818-20200501-1210.wav</td>\n",
       "      <td>1.2</td>\n",
       "      <td>2.0</td>\n",
       "      <td>0.779042</td>\n",
       "      <td>Galaxy S7 so</td>\n",
       "    </tr>\n",
       "    <tr>\n",
       "      <th>4</th>\n",
       "      <td>sample10-enhanced-25818-20200501-1210.wav</td>\n",
       "      <td>1.2</td>\n",
       "      <td>12.7</td>\n",
       "      <td>0.808266</td>\n",
       "      <td>I want to say 78 customer rescue on 70th possi...</td>\n",
       "    </tr>\n",
       "    <tr>\n",
       "      <th>...</th>\n",
       "      <td>...</td>\n",
       "      <td>...</td>\n",
       "      <td>...</td>\n",
       "      <td>...</td>\n",
       "      <td>...</td>\n",
       "    </tr>\n",
       "    <tr>\n",
       "      <th>62</th>\n",
       "      <td>sample43-enhanced-25818-20200501-1210.wav</td>\n",
       "      <td>1.2</td>\n",
       "      <td>8.3</td>\n",
       "      <td>0.635526</td>\n",
       "      <td>I spoke to the answering service for the sprin...</td>\n",
       "    </tr>\n",
       "    <tr>\n",
       "      <th>63</th>\n",
       "      <td>sample29-enhanced-25818-20200501-1210.wav</td>\n",
       "      <td>1.2</td>\n",
       "      <td>11.2</td>\n",
       "      <td>0.752587</td>\n",
       "      <td>yeah that cost an occupied across McDonald's p...</td>\n",
       "    </tr>\n",
       "    <tr>\n",
       "      <th>64</th>\n",
       "      <td>sample36-enhanced-25818-20200501-1210.wav</td>\n",
       "      <td>1.2</td>\n",
       "      <td>5.2</td>\n",
       "      <td>0.678468</td>\n",
       "      <td>that's all the oil wants to plug up a little</td>\n",
       "    </tr>\n",
       "    <tr>\n",
       "      <th>65</th>\n",
       "      <td>sample47-enhanced-25818-20200501-1210.wav</td>\n",
       "      <td>1.2</td>\n",
       "      <td>13.1</td>\n",
       "      <td>0.620793</td>\n",
       "      <td>check out I can put them on my car. He'll find...</td>\n",
       "    </tr>\n",
       "    <tr>\n",
       "      <th>66</th>\n",
       "      <td>sample47-enhanced-25818-20200501-1210.wav</td>\n",
       "      <td>1.2</td>\n",
       "      <td>13.1</td>\n",
       "      <td>0.764385</td>\n",
       "      <td>yeah I don't think he has a clue he's been ru...</td>\n",
       "    </tr>\n",
       "  </tbody>\n",
       "</table>\n",
       "<p>67 rows × 5 columns</p>\n",
       "</div>"
      ],
      "text/plain": [
       "                                    file_name  audio_length  transcribe_time  \\\n",
       "0   sample27-enhanced-25818-20200501-1210.wav           1.2             10.1   \n",
       "1   sample27-enhanced-25818-20200501-1210.wav           1.2             10.1   \n",
       "2   sample27-enhanced-25818-20200501-1210.wav           1.2             10.2   \n",
       "3    sample4-enhanced-25818-20200501-1210.wav           1.2              2.0   \n",
       "4   sample10-enhanced-25818-20200501-1210.wav           1.2             12.7   \n",
       "..                                        ...           ...              ...   \n",
       "62  sample43-enhanced-25818-20200501-1210.wav           1.2              8.3   \n",
       "63  sample29-enhanced-25818-20200501-1210.wav           1.2             11.2   \n",
       "64  sample36-enhanced-25818-20200501-1210.wav           1.2              5.2   \n",
       "65  sample47-enhanced-25818-20200501-1210.wav           1.2             13.1   \n",
       "66  sample47-enhanced-25818-20200501-1210.wav           1.2             13.1   \n",
       "\n",
       "    confidence                                         transcript  \n",
       "0     0.711187                                               1175  \n",
       "1     0.748561   and shoes help to 1433 Washington Street West...  \n",
       "2     0.613585                                     for a 3-3 Blog  \n",
       "3     0.779042                                       Galaxy S7 so  \n",
       "4     0.808266  I want to say 78 customer rescue on 70th possi...  \n",
       "..         ...                                                ...  \n",
       "62    0.635526  I spoke to the answering service for the sprin...  \n",
       "63    0.752587  yeah that cost an occupied across McDonald's p...  \n",
       "64    0.678468       that's all the oil wants to plug up a little  \n",
       "65    0.620793  check out I can put them on my car. He'll find...  \n",
       "66    0.764385   yeah I don't think he has a clue he's been ru...  \n",
       "\n",
       "[67 rows x 5 columns]"
      ]
     },
     "execution_count": 12,
     "metadata": {},
     "output_type": "execute_result"
    }
   ],
   "source": [
    "pd.set_option('display.max_columns',None)  \n",
    "\n",
    "df = df[['file_name',\n",
    "         'audio_length',\n",
    "         'transcribe_time',\n",
    "         'confidence',\n",
    "         'transcript']]\n",
    "df"
   ]
  },
  {
   "cell_type": "markdown",
   "metadata": {
    "ExecuteTime": {
     "end_time": "2020-05-12T01:00:37.348178Z",
     "start_time": "2020-05-12T01:00:37.344188Z"
    }
   },
   "source": [
    "### Export CSV"
   ]
  },
  {
   "cell_type": "code",
   "execution_count": 13,
   "metadata": {
    "ExecuteTime": {
     "end_time": "2020-05-13T18:05:44.177905Z",
     "start_time": "2020-05-13T18:05:44.151938Z"
    }
   },
   "outputs": [],
   "source": [
    "df.to_csv(output_path + file_name,\n",
    "          index_label = False)"
   ]
  },
  {
   "cell_type": "code",
   "execution_count": null,
   "metadata": {},
   "outputs": [],
   "source": []
  }
 ],
 "metadata": {
  "kernelspec": {
   "display_name": "Python 3",
   "language": "python",
   "name": "python3"
  },
  "language_info": {
   "codemirror_mode": {
    "name": "ipython",
    "version": 3
   },
   "file_extension": ".py",
   "mimetype": "text/x-python",
   "name": "python",
   "nbconvert_exporter": "python",
   "pygments_lexer": "ipython3",
   "version": "3.7.6"
  },
  "toc": {
   "base_numbering": 1,
   "nav_menu": {},
   "number_sections": true,
   "sideBar": true,
   "skip_h1_title": false,
   "title_cell": "Table of Contents",
   "title_sidebar": "Contents",
   "toc_cell": false,
   "toc_position": {},
   "toc_section_display": true,
   "toc_window_display": false
  },
  "varInspector": {
   "cols": {
    "lenName": 16,
    "lenType": 16,
    "lenVar": 40
   },
   "kernels_config": {
    "python": {
     "delete_cmd_postfix": "",
     "delete_cmd_prefix": "del ",
     "library": "var_list.py",
     "varRefreshCmd": "print(var_dic_list())"
    },
    "r": {
     "delete_cmd_postfix": ") ",
     "delete_cmd_prefix": "rm(",
     "library": "var_list.r",
     "varRefreshCmd": "cat(var_dic_list()) "
    }
   },
   "types_to_exclude": [
    "module",
    "function",
    "builtin_function_or_method",
    "instance",
    "_Feature"
   ],
   "window_display": false
  }
 },
 "nbformat": 4,
 "nbformat_minor": 4
}
