{
 "cells": [
  {
   "cell_type": "code",
   "execution_count": 1,
   "metadata": {},
   "outputs": [],
   "source": [
    "# pip install --upgrade google-cloud-speech\n",
    "import os\n",
    "import io\n",
    "from google.cloud import speech_v1p1beta1 as speech\n",
    "from google.cloud.speech_v1p1beta1 import enums\n",
    "\n",
    "from pydub import AudioSegment"
   ]
  },
  {
   "cell_type": "code",
   "execution_count": 81,
   "metadata": {},
   "outputs": [
    {
     "data": {
      "text/plain": [
       "<_io.BufferedRandom name='./Datasets/sample_audio/sample5loud.wav'>"
      ]
     },
     "execution_count": 81,
     "metadata": {},
     "output_type": "execute_result"
    }
   ],
   "source": [
    "segment = AudioSegment.from_wav('./Datasets/sample_audio/sample5.wav')\n",
    "louder_segment = segment + 40\n",
    "louder_segment.export(f\"./Datasets/sample_audio/sample5loud.wav\", format = \"wav\")"
   ]
  },
  {
   "cell_type": "code",
   "execution_count": 75,
   "metadata": {},
   "outputs": [],
   "source": [
    "os.environ[\"GOOGLE_APPLICATION_CREDENTIALS\"] = '/Users/alex/ga-dsi-11/police-scanner-speech-to-text-c09b11750e4e.json'\n",
    "client = speech.SpeechClient()"
   ]
  },
  {
   "cell_type": "code",
   "execution_count": 76,
   "metadata": {},
   "outputs": [
    {
     "name": "stdout",
     "output_type": "stream",
     "text": [
      "Sample Width: 2\n",
      "Channel Count: 2\n",
      "Duration: 19.101s\n",
      "Sample Rate: 22050\n",
      "Sample Rate: 22050\n"
     ]
    }
   ],
   "source": [
    "sound_file = AudioSegment.from_file('./Datasets/sample_audio/sample5loud.wav', format=\"wav\")\n",
    "\n",
    "print(f'Sample Width: {sound_file.sample_width}')\n",
    "print(f'Channel Count: {sound_file.channels}')\n",
    "print(f'Duration: {len(sound_file) / 1000}s')\n",
    "print(f'Sample Rate: {sound_file.frame_rate}')\n",
    "print(f'Sample Rate: {sound_file.frame_rate}')"
   ]
  },
  {
   "cell_type": "code",
   "execution_count": 82,
   "metadata": {},
   "outputs": [],
   "source": [
    "with io.open('./Datasets/sample_audio/sample5clean.wav', 'rb') as audio_file:\n",
    "    content = audio_file.read()\n",
    "    audio = speech.types.RecognitionAudio(content=content)"
   ]
  },
  {
   "cell_type": "code",
   "execution_count": 89,
   "metadata": {},
   "outputs": [],
   "source": [
    "config = speech.types.RecognitionConfig(\n",
    "    encoding=enums.RecognitionConfig.AudioEncoding.LINEAR16,\n",
    "    sample_rate_hertz=22050,\n",
    "    language_code='en-US',\n",
    "    audio_channel_count=2,\n",
    "    enable_separate_recognition_per_channel = True,\n",
    "    use_enhanced = True,\n",
    "    model = 'phone_call',\n",
    "    speech_contexts= [{'boost': 10.0}]\n",
    ")\n",
    "\n",
    "# uri = 'gs://bucket_name/file_name.flac'\n",
    "# audio = {'uri': uri}\n",
    "\n",
    "response = client.recognize(config, audio)"
   ]
  },
  {
   "cell_type": "code",
   "execution_count": 90,
   "metadata": {},
   "outputs": [
    {
     "data": {
      "text/plain": [
       "[alternatives {\n",
       "  transcript: \"well being sacked at 21 Kenwood Street Unit 1 going to be on a Robert club and contacting the dead bird\"\n",
       "  confidence: 0.8211405873298645\n",
       "}\n",
       "channel_tag: 1\n",
       "language_code: \"en-us\"\n",
       ", alternatives {\n",
       "  transcript: \"well being check at 21 Kenwood Street Unit 1 going to be on a Robert club and contacting the the name\"\n",
       "  confidence: 0.7946491837501526\n",
       "}\n",
       "channel_tag: 2\n",
       "language_code: \"en-us\"\n",
       ", alternatives {\n",
       "  transcript: \" and I personally am on line\"\n",
       "  confidence: 0.6223400235176086\n",
       "}\n",
       "channel_tag: 1\n",
       "language_code: \"en-us\"\n",
       ", alternatives {\n",
       "  transcript: \" yeah I think personally and on line\"\n",
       "  confidence: 0.5745284557342529\n",
       "}\n",
       "channel_tag: 2\n",
       "language_code: \"en-us\"\n",
       "]"
      ]
     },
     "execution_count": 90,
     "metadata": {},
     "output_type": "execute_result"
    }
   ],
   "source": [
    "# clean\n",
    "response.results"
   ]
  },
  {
   "cell_type": "code",
   "execution_count": 79,
   "metadata": {
    "scrolled": false
   },
   "outputs": [
    {
     "data": {
      "text/plain": [
       "[alternatives {\n",
       "  transcript: \"well being sacked at 21 Kenwood Street Unit 1 and 2 be on a Robert club and contacted upstairs neighbors\"\n",
       "  confidence: 0.7588315010070801\n",
       "}\n",
       "channel_tag: 2\n",
       "language_code: \"en-us\"\n",
       ", alternatives {\n",
       "  transcript: \" in person and on line\"\n",
       "  confidence: 0.5953508019447327\n",
       "}\n",
       "channel_tag: 2\n",
       "language_code: \"en-us\"\n",
       ", alternatives {\n",
       "  transcript: \"another while being checked at 21 Kenwood Street Unit 1 going to be on a Robert club and contacted us their neighbors and person and on line\"\n",
       "  confidence: 0.8242164850234985\n",
       "}\n",
       "channel_tag: 1\n",
       "language_code: \"en-us\"\n",
       "]"
      ]
     },
     "execution_count": 79,
     "metadata": {},
     "output_type": "execute_result"
    }
   ],
   "source": [
    "# loud\n",
    "response.results"
   ]
  },
  {
   "cell_type": "code",
   "execution_count": null,
   "metadata": {},
   "outputs": [],
   "source": []
  }
 ],
 "metadata": {
  "kernelspec": {
   "display_name": "Python 3",
   "language": "python",
   "name": "python3"
  },
  "language_info": {
   "codemirror_mode": {
    "name": "ipython",
    "version": 3
   },
   "file_extension": ".py",
   "mimetype": "text/x-python",
   "name": "python",
   "nbconvert_exporter": "python",
   "pygments_lexer": "ipython3",
   "version": "3.7.6"
  },
  "toc": {
   "base_numbering": 1,
   "nav_menu": {},
   "number_sections": true,
   "sideBar": true,
   "skip_h1_title": false,
   "title_cell": "Table of Contents",
   "title_sidebar": "Contents",
   "toc_cell": false,
   "toc_position": {},
   "toc_section_display": true,
   "toc_window_display": false
  },
  "varInspector": {
   "cols": {
    "lenName": 16,
    "lenType": 16,
    "lenVar": 40
   },
   "kernels_config": {
    "python": {
     "delete_cmd_postfix": "",
     "delete_cmd_prefix": "del ",
     "library": "var_list.py",
     "varRefreshCmd": "print(var_dic_list())"
    },
    "r": {
     "delete_cmd_postfix": ") ",
     "delete_cmd_prefix": "rm(",
     "library": "var_list.r",
     "varRefreshCmd": "cat(var_dic_list()) "
    }
   },
   "types_to_exclude": [
    "module",
    "function",
    "builtin_function_or_method",
    "instance",
    "_Feature"
   ],
   "window_display": false
  }
 },
 "nbformat": 4,
 "nbformat_minor": 4
}
