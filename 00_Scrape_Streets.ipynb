{
 "cells": [
  {
   "cell_type": "markdown",
   "metadata": {},
   "source": [
    "## Sheet Overview\n",
    "This sheet scrapes the geographic.org website for all the street names in Boston and stores them in a list"
   ]
  },
  {
   "cell_type": "markdown",
   "metadata": {},
   "source": [
    "### Necessary Imports"
   ]
  },
  {
   "cell_type": "code",
   "execution_count": 2,
   "metadata": {},
   "outputs": [],
   "source": [
    "import requests\n",
    "from bs4 import BeautifulSoup\n",
    "import time\n",
    "import numpy as np\n",
    "import pandas as pd"
   ]
  },
  {
   "cell_type": "markdown",
   "metadata": {},
   "source": [
    "### Set the url for scraping"
   ]
  },
  {
   "cell_type": "code",
   "execution_count": 3,
   "metadata": {},
   "outputs": [
    {
     "data": {
      "text/plain": [
       "'https://geographic.org/streetview/usa/ma/middlesex/cambridge.html'"
      ]
     },
     "execution_count": 3,
     "metadata": {},
     "output_type": "execute_result"
    }
   ],
   "source": [
    "scrape_url = 'https://geographic.org/streetview/usa/ma/middlesex/cambridge.html'\n",
    "scrape_url"
   ]
  },
  {
   "cell_type": "markdown",
   "metadata": {},
   "source": [
    "### Request street names from url and check status"
   ]
  },
  {
   "cell_type": "code",
   "execution_count": 4,
   "metadata": {},
   "outputs": [
    {
     "data": {
      "text/plain": [
       "200"
      ]
     },
     "execution_count": 4,
     "metadata": {},
     "output_type": "execute_result"
    }
   ],
   "source": [
    "res = requests.get(scrape_url)\n",
    "res.status_code"
   ]
  },
  {
   "cell_type": "markdown",
   "metadata": {},
   "source": [
    "### Use BeautifulSoup to parse the content of the Boston Street name web page"
   ]
  },
  {
   "cell_type": "code",
   "execution_count": 5,
   "metadata": {},
   "outputs": [],
   "source": [
    "soup = BeautifulSoup(res.content, 'lxml')"
   ]
  },
  {
   "cell_type": "markdown",
   "metadata": {},
   "source": [
    "### Isolate the street names table using soup.find"
   ]
  },
  {
   "cell_type": "code",
   "execution_count": 6,
   "metadata": {},
   "outputs": [],
   "source": [
    "street_name_table = soup.find('ul')"
   ]
  },
  {
   "cell_type": "markdown",
   "metadata": {},
   "source": [
    "### Create a list of street names by extratcating them individually from the street name table"
   ]
  },
  {
   "cell_type": "code",
   "execution_count": 8,
   "metadata": {},
   "outputs": [],
   "source": [
    "cambridge_streets = []\n",
    "\n",
    "for li in street_name_table.find_all('li'):\n",
    "    cambridge_streets.append(li.text)"
   ]
  },
  {
   "cell_type": "code",
   "execution_count": 9,
   "metadata": {},
   "outputs": [
    {
     "data": {
      "text/plain": [
       "['1st Street \\xa0 2141',\n",
       " '1st Street \\xa0 2142',\n",
       " '2nd Street \\xa0 2141',\n",
       " '2nd Street \\xa0 2142',\n",
       " '3rd Street \\xa0 2141',\n",
       " '3rd Street \\xa0 2142',\n",
       " '4th Street Place \\xa0 2141',\n",
       " '5th Street \\xa0 2141',\n",
       " '5th Street \\xa0 2142',\n",
       " '6th Street \\xa0 2141']"
      ]
     },
     "execution_count": 9,
     "metadata": {},
     "output_type": "execute_result"
    }
   ],
   "source": [
    "cambridge_streets[0:10]"
   ]
  },
  {
   "cell_type": "markdown",
   "metadata": {},
   "source": [
    "### Clean the street names by stripping the uneccsary info and only selecting the firest word of each street\n"
   ]
  },
  {
   "cell_type": "code",
   "execution_count": 10,
   "metadata": {},
   "outputs": [
    {
     "data": {
      "text/plain": [
       "[['1st', 'Street', '\\xa0', '2141'],\n",
       " ['1st', 'Street', '\\xa0', '2142'],\n",
       " ['2nd', 'Street', '\\xa0', '2141'],\n",
       " ['2nd', 'Street', '\\xa0', '2142'],\n",
       " ['3rd', 'Street', '\\xa0', '2141'],\n",
       " ['3rd', 'Street', '\\xa0', '2142'],\n",
       " ['4th', 'Street', 'Place', '\\xa0', '2141'],\n",
       " ['5th', 'Street', '\\xa0', '2141'],\n",
       " ['5th', 'Street', '\\xa0', '2142'],\n",
       " ['6th', 'Street', '\\xa0', '2141']]"
      ]
     },
     "execution_count": 10,
     "metadata": {},
     "output_type": "execute_result"
    }
   ],
   "source": [
    "# Split street name into individual pieces\n",
    "cambridge_streets =[streets.split(\" \") for streets in cambridge_streets]\n",
    "cambridge_streets[:10]"
   ]
  },
  {
   "cell_type": "code",
   "execution_count": 11,
   "metadata": {},
   "outputs": [
    {
     "data": {
      "text/plain": [
       "['1st', '1st', '2nd', '2nd', '3rd', '3rd', '4th', '5th', '5th', '6th']"
      ]
     },
     "execution_count": 11,
     "metadata": {},
     "output_type": "execute_result"
    }
   ],
   "source": [
    "# Select the first word of each street name\n",
    "cambridge_streets =[streets[0] for streets in cambridge_streets]\n",
    "\n",
    "# Remove all street names with name length less than 3 characters\n",
    "cambridge_streets =[streets for streets in cambridge_streets if len(streets)>=3]\n",
    "cambridge_streets[:10]"
   ]
  },
  {
   "cell_type": "code",
   "execution_count": 12,
   "metadata": {
    "scrolled": true
   },
   "outputs": [
    {
     "name": "stdout",
     "output_type": "stream",
     "text": [
      "Stored 'cambridge_streets' (list)\n"
     ]
    }
   ],
   "source": [
    "%store cambridge_streets"
   ]
  },
  {
   "cell_type": "markdown",
   "metadata": {},
   "source": [
    "Above code adapted from Grant Wilson of San Francisco cohort"
   ]
  },
  {
   "cell_type": "markdown",
   "metadata": {},
   "source": [
    "## Create a csv file with all the Boston Street Names"
   ]
  },
  {
   "cell_type": "code",
   "execution_count": 13,
   "metadata": {
    "scrolled": true
   },
   "outputs": [],
   "source": [
    "df = pd.DataFrame(cambridge_streets)"
   ]
  },
  {
   "cell_type": "code",
   "execution_count": 14,
   "metadata": {},
   "outputs": [],
   "source": [
    "df.to_csv('cambridge.csv', index = False)"
   ]
  }
 ],
 "metadata": {
  "kernelspec": {
   "display_name": "Python 3",
   "language": "python",
   "name": "python3"
  },
  "language_info": {
   "codemirror_mode": {
    "name": "ipython",
    "version": 3
   },
   "file_extension": ".py",
   "mimetype": "text/x-python",
   "name": "python",
   "nbconvert_exporter": "python",
   "pygments_lexer": "ipython3",
   "version": "3.7.3"
  }
 },
 "nbformat": 4,
 "nbformat_minor": 2
}
