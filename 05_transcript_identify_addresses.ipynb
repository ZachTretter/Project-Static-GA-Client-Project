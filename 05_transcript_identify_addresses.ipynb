{
 "cells": [
  {
   "cell_type": "markdown",
   "metadata": {},
   "source": [
    "### Import All Neccesary Libraries"
   ]
  },
  {
   "cell_type": "code",
   "execution_count": 17,
   "metadata": {
    "ExecuteTime": {
     "end_time": "2020-05-14T01:41:21.200472Z",
     "start_time": "2020-05-14T01:41:20.659863Z"
    },
    "scrolled": false
   },
   "outputs": [],
   "source": [
    "# ! pip install usaddress\n",
    "# ! pip install spacy\n",
    "\n",
    "import spacy\n",
    "import re\n",
    "import pandas as pd\n",
    "from spacy import displacy\n",
    "from spacy.attrs import LOWER \n",
    "from collections import Counter\n",
    "from spacy.matcher import Matcher\n",
    "import numpy as np\n",
    "import usaddress\n",
    "import requests\n",
    "import pandas as pd\n",
    "\n",
    "import nltk\n",
    "from nltk.tokenize import RegexpTokenizer\n",
    "\n",
    "# !python -m spacy download en_core_web_sm\n",
    "import en_core_web_sm\n",
    "nlp = en_core_web_sm.load()"
   ]
  },
  {
   "cell_type": "code",
   "execution_count": 7,
   "metadata": {
    "ExecuteTime": {
     "end_time": "2020-05-14T01:40:37.671326Z",
     "start_time": "2020-05-14T01:40:37.668301Z"
    }
   },
   "outputs": [],
   "source": [
    "# Set column width to be larger to display more content\n",
    "pd.options.display.max_colwidth = 1000"
   ]
  },
  {
   "cell_type": "markdown",
   "metadata": {},
   "source": [
    "### Import the Transcribed Audio"
   ]
  },
  {
   "cell_type": "code",
   "execution_count": 8,
   "metadata": {
    "ExecuteTime": {
     "end_time": "2020-05-14T01:40:38.753954Z",
     "start_time": "2020-05-14T01:40:38.733043Z"
    }
   },
   "outputs": [
    {
     "data": {
      "text/html": [
       "<div>\n",
       "<style scoped>\n",
       "    .dataframe tbody tr th:only-of-type {\n",
       "        vertical-align: middle;\n",
       "    }\n",
       "\n",
       "    .dataframe tbody tr th {\n",
       "        vertical-align: top;\n",
       "    }\n",
       "\n",
       "    .dataframe thead th {\n",
       "        text-align: right;\n",
       "    }\n",
       "</style>\n",
       "<table border=\"1\" class=\"dataframe\">\n",
       "  <thead>\n",
       "    <tr style=\"text-align: right;\">\n",
       "      <th></th>\n",
       "      <th>file_name</th>\n",
       "      <th>confidence</th>\n",
       "      <th>transcript</th>\n",
       "    </tr>\n",
       "  </thead>\n",
       "  <tbody>\n",
       "    <tr>\n",
       "      <th>0</th>\n",
       "      <td>sample786-25818-20200501-0442.wav</td>\n",
       "      <td>0.637047</td>\n",
       "      <td>Thursday</td>\n",
       "    </tr>\n",
       "    <tr>\n",
       "      <th>1</th>\n",
       "      <td>sample116-25818-20200501-0941.wav</td>\n",
       "      <td>0.764874</td>\n",
       "      <td>returning from the second alarm to go off in fact about</td>\n",
       "    </tr>\n",
       "  </tbody>\n",
       "</table>\n",
       "</div>"
      ],
      "text/plain": [
       "                           file_name  confidence  \\\n",
       "0  sample786-25818-20200501-0442.wav    0.637047   \n",
       "1  sample116-25818-20200501-0941.wav    0.764874   \n",
       "\n",
       "                                                transcript  \n",
       "0                                                 Thursday  \n",
       "1  returning from the second alarm to go off in fact about  "
      ]
     },
     "execution_count": 8,
     "metadata": {},
     "output_type": "execute_result"
    }
   ],
   "source": [
    "df1 = pd.read_csv(\"./Datasets/transcribed_audio/Feed25818_May2020_01AM_to_03PM_transcript_Alex.csv\")\n",
    "df1 = df1[['file_name','confidence','transcript']]\n",
    "df1.head(2)"
   ]
  },
  {
   "cell_type": "code",
   "execution_count": 9,
   "metadata": {
    "ExecuteTime": {
     "end_time": "2020-05-14T01:40:39.094133Z",
     "start_time": "2020-05-14T01:40:39.077184Z"
    }
   },
   "outputs": [
    {
     "data": {
      "text/html": [
       "<div>\n",
       "<style scoped>\n",
       "    .dataframe tbody tr th:only-of-type {\n",
       "        vertical-align: middle;\n",
       "    }\n",
       "\n",
       "    .dataframe tbody tr th {\n",
       "        vertical-align: top;\n",
       "    }\n",
       "\n",
       "    .dataframe thead th {\n",
       "        text-align: right;\n",
       "    }\n",
       "</style>\n",
       "<table border=\"1\" class=\"dataframe\">\n",
       "  <thead>\n",
       "    <tr style=\"text-align: right;\">\n",
       "      <th></th>\n",
       "      <th>file_name</th>\n",
       "      <th>confidence</th>\n",
       "      <th>transcript</th>\n",
       "    </tr>\n",
       "  </thead>\n",
       "  <tbody>\n",
       "    <tr>\n",
       "      <th>0</th>\n",
       "      <td>sample-1-25818-20200502-1017-8558.wav</td>\n",
       "      <td>0.797743</td>\n",
       "      <td>I think that says okay moral</td>\n",
       "    </tr>\n",
       "    <tr>\n",
       "      <th>1</th>\n",
       "      <td>sample-1-25818-20200502-1017-8558.wav</td>\n",
       "      <td>0.812221</td>\n",
       "      <td>what</td>\n",
       "    </tr>\n",
       "  </tbody>\n",
       "</table>\n",
       "</div>"
      ],
      "text/plain": [
       "                               file_name  confidence  \\\n",
       "0  sample-1-25818-20200502-1017-8558.wav    0.797743   \n",
       "1  sample-1-25818-20200502-1017-8558.wav    0.812221   \n",
       "\n",
       "                     transcript  \n",
       "0  I think that says okay moral  \n",
       "1                          what  "
      ]
     },
     "execution_count": 9,
     "metadata": {},
     "output_type": "execute_result"
    }
   ],
   "source": [
    "df2 = pd.read_csv(\"./Datasets/transcribed_audio/Feed25818_May2020_10AM_to_12AM_transcript_Zach.csv\")\n",
    "df2 = df2.drop(columns = ['audio_length', 'transcribe_time'])\n",
    "df2.head(2)"
   ]
  },
  {
   "cell_type": "code",
   "execution_count": 10,
   "metadata": {
    "ExecuteTime": {
     "end_time": "2020-05-14T01:40:39.450050Z",
     "start_time": "2020-05-14T01:40:39.421149Z"
    }
   },
   "outputs": [],
   "source": [
    "df3 = pd.read_excel(\"./Datasets/transcribed_audio/watertown_manhunt_transcript.xlsx\")\n",
    "df3 = df3.drop(columns = ['Unnamed: 1'])\n",
    "df3['confidence'] = None\n",
    "df3['file_name'] = 'watertown_manhunt'\n",
    "df3 = df3[['file_name','confidence','transcript']]"
   ]
  },
  {
   "cell_type": "code",
   "execution_count": 11,
   "metadata": {
    "ExecuteTime": {
     "end_time": "2020-05-14T01:40:39.730085Z",
     "start_time": "2020-05-14T01:40:39.715086Z"
    }
   },
   "outputs": [
    {
     "data": {
      "text/html": [
       "<div>\n",
       "<style scoped>\n",
       "    .dataframe tbody tr th:only-of-type {\n",
       "        vertical-align: middle;\n",
       "    }\n",
       "\n",
       "    .dataframe tbody tr th {\n",
       "        vertical-align: top;\n",
       "    }\n",
       "\n",
       "    .dataframe thead th {\n",
       "        text-align: right;\n",
       "    }\n",
       "</style>\n",
       "<table border=\"1\" class=\"dataframe\">\n",
       "  <thead>\n",
       "    <tr style=\"text-align: right;\">\n",
       "      <th></th>\n",
       "      <th>file_name</th>\n",
       "      <th>confidence</th>\n",
       "      <th>transcript</th>\n",
       "    </tr>\n",
       "  </thead>\n",
       "  <tbody>\n",
       "    <tr>\n",
       "      <th>0</th>\n",
       "      <td>sample786-25818-20200501-0442.wav</td>\n",
       "      <td>0.637047</td>\n",
       "      <td>Thursday</td>\n",
       "    </tr>\n",
       "    <tr>\n",
       "      <th>1</th>\n",
       "      <td>sample116-25818-20200501-0941.wav</td>\n",
       "      <td>0.764874</td>\n",
       "      <td>returning from the second alarm to go off in fact about</td>\n",
       "    </tr>\n",
       "    <tr>\n",
       "      <th>2</th>\n",
       "      <td>sample92-25818-20200501-0941.wav</td>\n",
       "      <td>0.692422</td>\n",
       "      <td>having a t show jokes to 19219 South Street</td>\n",
       "    </tr>\n",
       "    <tr>\n",
       "      <th>3</th>\n",
       "      <td>sample635-25818-20200501-1439.wav</td>\n",
       "      <td>0.643082</td>\n",
       "      <td>but I'm trying to we went through a window we found a party took social housing waiting for the window</td>\n",
       "    </tr>\n",
       "    <tr>\n",
       "      <th>4</th>\n",
       "      <td>sample697-25818-20200501-0243.wav</td>\n",
       "      <td>0.609950</td>\n",
       "      <td>407</td>\n",
       "    </tr>\n",
       "    <tr>\n",
       "      <th>...</th>\n",
       "      <td>...</td>\n",
       "      <td>...</td>\n",
       "      <td>...</td>\n",
       "    </tr>\n",
       "    <tr>\n",
       "      <th>3041</th>\n",
       "      <td>sample-9-25818-20200502-2229-19283.wav</td>\n",
       "      <td>0.721903</td>\n",
       "      <td>chat again you have like a beeping noise in the background</td>\n",
       "    </tr>\n",
       "    <tr>\n",
       "      <th>3042</th>\n",
       "      <td>sample-9-25818-20200502-2229-19283.wav</td>\n",
       "      <td>0.758561</td>\n",
       "      <td>yep the only one in the same time together</td>\n",
       "    </tr>\n",
       "    <tr>\n",
       "      <th>3043</th>\n",
       "      <td>sample-9-25818-20200502-2258-24835.wav</td>\n",
       "      <td>0.785126</td>\n",
       "      <td>we're an apartment 3016 culture the cover off okay the company be responsible 376 are companies responding to box 3726 close to your age 22</td>\n",
       "    </tr>\n",
       "    <tr>\n",
       "      <th>3044</th>\n",
       "      <td>sample-9-25818-20200502-2328-3018.wav</td>\n",
       "      <td>0.670549</td>\n",
       "      <td>that's when Kodak instamatic</td>\n",
       "    </tr>\n",
       "    <tr>\n",
       "      <th>3045</th>\n",
       "      <td>sample-9-25818-20200502-2358-16786.wav</td>\n",
       "      <td>0.676292</td>\n",
       "      <td>not much more expensive coastal plain play around. Enter one subject at a black screen underneath took it over someone</td>\n",
       "    </tr>\n",
       "  </tbody>\n",
       "</table>\n",
       "<p>3046 rows × 3 columns</p>\n",
       "</div>"
      ],
      "text/plain": [
       "                                   file_name  confidence  \\\n",
       "0          sample786-25818-20200501-0442.wav    0.637047   \n",
       "1          sample116-25818-20200501-0941.wav    0.764874   \n",
       "2           sample92-25818-20200501-0941.wav    0.692422   \n",
       "3          sample635-25818-20200501-1439.wav    0.643082   \n",
       "4          sample697-25818-20200501-0243.wav    0.609950   \n",
       "...                                      ...         ...   \n",
       "3041  sample-9-25818-20200502-2229-19283.wav    0.721903   \n",
       "3042  sample-9-25818-20200502-2229-19283.wav    0.758561   \n",
       "3043  sample-9-25818-20200502-2258-24835.wav    0.785126   \n",
       "3044   sample-9-25818-20200502-2328-3018.wav    0.670549   \n",
       "3045  sample-9-25818-20200502-2358-16786.wav    0.676292   \n",
       "\n",
       "                                                                                                                                       transcript  \n",
       "0                                                                                                                                        Thursday  \n",
       "1                                                                                         returning from the second alarm to go off in fact about  \n",
       "2                                                                                                     having a t show jokes to 19219 South Street  \n",
       "3                                          but I'm trying to we went through a window we found a party took social housing waiting for the window  \n",
       "4                                                                                                                                             407  \n",
       "...                                                                                                                                           ...  \n",
       "3041                                                                                   chat again you have like a beeping noise in the background  \n",
       "3042                                                                                                   yep the only one in the same time together  \n",
       "3043  we're an apartment 3016 culture the cover off okay the company be responsible 376 are companies responding to box 3726 close to your age 22  \n",
       "3044                                                                                                                 that's when Kodak instamatic  \n",
       "3045                       not much more expensive coastal plain play around. Enter one subject at a black screen underneath took it over someone  \n",
       "\n",
       "[3046 rows x 3 columns]"
      ]
     },
     "execution_count": 11,
     "metadata": {},
     "output_type": "execute_result"
    }
   ],
   "source": [
    "df = pd.concat([df1,df3,df2]).reset_index().drop(columns=['index'])\n",
    "df"
   ]
  },
  {
   "cell_type": "markdown",
   "metadata": {},
   "source": [
    "### Import List of Streets"
   ]
  },
  {
   "cell_type": "code",
   "execution_count": 12,
   "metadata": {
    "ExecuteTime": {
     "end_time": "2020-05-14T01:40:40.492784Z",
     "start_time": "2020-05-14T01:40:40.484809Z"
    }
   },
   "outputs": [
    {
     "data": {
      "text/plain": [
       "['3rd',\n",
       " 'Aberdeen',\n",
       " 'Academy',\n",
       " 'Acton',\n",
       " 'Adamian',\n",
       " 'Adams',\n",
       " 'Addison',\n",
       " 'Aerial',\n",
       " 'Albermarle',\n",
       " 'Alfred']"
      ]
     },
     "execution_count": 12,
     "metadata": {},
     "output_type": "execute_result"
    }
   ],
   "source": [
    "street_list = pd.read_csv('./Datasets/Metro_West_Streets.csv')\n",
    "streets_list = street_list['0'].tolist()\n",
    "streets_list[:10]"
   ]
  },
  {
   "cell_type": "markdown",
   "metadata": {},
   "source": [
    "### Tokenize the Transcribed Audio"
   ]
  },
  {
   "cell_type": "code",
   "execution_count": 15,
   "metadata": {
    "ExecuteTime": {
     "end_time": "2020-05-14T01:41:02.312222Z",
     "start_time": "2020-05-14T01:41:01.956960Z"
    }
   },
   "outputs": [],
   "source": [
    "# adapted from Michael Allen (pythonhealthcare.org)\n",
    "\n",
    "def identify_tokens(row):\n",
    "    tran = row['transcript']\n",
    "    tokens = nltk.word_tokenize(tran)\n",
    "    # taken only words (not punctuation)\n",
    "    token_words = [w for w in tokens if w.isalpha()]\n",
    "    return token_words\n",
    "\n",
    "df['tokens'] = df.apply(identify_tokens,\n",
    "                        axis=1)"
   ]
  },
  {
   "cell_type": "markdown",
   "metadata": {},
   "source": [
    "### Identify and Match Street Names from the Audio Transcripts\n",
    "\n",
    "Code Adapted from: Grant Wilson San Francisco Cohort"
   ]
  },
  {
   "cell_type": "code",
   "execution_count": 18,
   "metadata": {
    "ExecuteTime": {
     "end_time": "2020-05-14T01:41:52.583682Z",
     "start_time": "2020-05-14T01:41:23.684933Z"
    }
   },
   "outputs": [],
   "source": [
    "# Instantiate the Spacy Matcher Function\n",
    "matcher = Matcher(nlp.vocab)\n",
    "\n",
    "# Create a matching function\n",
    "def on_match(matcher, doc, id, matches):\n",
    "    return matches\n",
    "\n",
    "# building patterns for every road name\n",
    "def build_pattern(road_name):\n",
    "    list_words = road_name.split(' ')\n",
    "    # ensure capitlization does not affect the model \n",
    "    pattern = [{'LOWER': word.lower()} for word in list_words]\n",
    "    return pattern\n",
    "\n",
    "# Get a pattern of every road\n",
    "for road in streets_list:\n",
    "    matcher.add(road, on_match, build_pattern(road))\n",
    "    \n",
    "# capitalize all the strings\n",
    "def capitalize_string(string_in):\n",
    "    words = string_in.split(' ')\n",
    "    string_out = ''\n",
    "    for i in words:\n",
    "        string_out += i.capitalize() + ' '\n",
    "    string_out = string_out[:-1]\n",
    "    return string_out   \n",
    "    \n",
    "# Look for locations in the transcript, then extract them\n",
    "def location_extraction_context(string_in):\n",
    "    doc = nlp(string_in)\n",
    "    string_out = ''\n",
    "    list_words = string_in.split(' ')\n",
    "    matches = matcher(doc)\n",
    "    if len(matches) == 0:\n",
    "        return None\n",
    "\n",
    "    # loop through the matches and make sure they all follow the same format\n",
    "    for match in matches:\n",
    "        list_pattern = matcher.get(match[0])[1][0]\n",
    "        for token in list_pattern:\n",
    "            string_out += token['LOWER'] + ' '\n",
    "        string_out += ', '\n",
    "    string_out = string_out[:-3]\n",
    "    string_out = capitalize_string(string_out)\n",
    "    return string_out\n",
    "\n",
    "# Add a column consisting of the extracted streets\n",
    "df['streets'] = df['transcript'].map(location_extraction_context)"
   ]
  },
  {
   "cell_type": "markdown",
   "metadata": {},
   "source": [
    "### Find Possible Street Numbers"
   ]
  },
  {
   "cell_type": "code",
   "execution_count": 19,
   "metadata": {
    "ExecuteTime": {
     "end_time": "2020-05-14T01:42:07.314442Z",
     "start_time": "2020-05-14T01:42:06.445711Z"
    }
   },
   "outputs": [],
   "source": [
    "# Creat list to house data from all addresses\n",
    "addresses = []\n",
    "\n",
    "# Loop Through all DataFrame's rows\n",
    "for row in df['transcript']:\n",
    "    # Create dictionary to house data for each row of the DataFrame\n",
    "    d = {}\n",
    "    \n",
    "    # Parse through rows and house results in a list\n",
    "    list_tuples = usaddress.parse(row)\n",
    "    \n",
    "    # Create variable to house list of possible numbers\n",
    "    numbers = []\n",
    "    \n",
    "    # Loop through each value in the list created\n",
    "    for i, n in enumerate(list_tuples):\n",
    "        \n",
    "        # Get addresses' numbers\n",
    "        if list_tuples[i][1] == 'AddressNumber':\n",
    "            \n",
    "            # Append numbers to list\n",
    "            numbers.append(n[0])\n",
    "    \n",
    "    # Include keys and values into d\n",
    "    d['numbers'] = numbers\n",
    "    \n",
    "    # Append d to addresses\n",
    "    addresses.append(d)"
   ]
  },
  {
   "cell_type": "markdown",
   "metadata": {},
   "source": [
    "Above Code Adapted from: Grant Wilson San Francisco Cohort"
   ]
  },
  {
   "cell_type": "markdown",
   "metadata": {},
   "source": [
    "### Add Street Number Column to the Dataframe"
   ]
  },
  {
   "cell_type": "code",
   "execution_count": 20,
   "metadata": {
    "ExecuteTime": {
     "end_time": "2020-05-14T01:42:11.221178Z",
     "start_time": "2020-05-14T01:42:11.212202Z"
    }
   },
   "outputs": [],
   "source": [
    "df = pd.concat([df, \n",
    "                pd.DataFrame(addresses)], axis=1)"
   ]
  },
  {
   "cell_type": "code",
   "execution_count": 21,
   "metadata": {
    "ExecuteTime": {
     "end_time": "2020-05-14T01:42:22.239173Z",
     "start_time": "2020-05-14T01:42:22.230203Z"
    }
   },
   "outputs": [],
   "source": [
    "# Drop NaNs\n",
    "df.dropna(inplace=True)\n",
    "df.reset_index(drop=True,\n",
    "               inplace=True)"
   ]
  },
  {
   "cell_type": "code",
   "execution_count": 22,
   "metadata": {
    "ExecuteTime": {
     "end_time": "2020-05-14T01:42:22.872014Z",
     "start_time": "2020-05-14T01:42:22.868024Z"
    }
   },
   "outputs": [
    {
     "data": {
      "text/plain": [
       "(1513, 6)"
      ]
     },
     "execution_count": 22,
     "metadata": {},
     "output_type": "execute_result"
    }
   ],
   "source": [
    "df.shape"
   ]
  },
  {
   "cell_type": "markdown",
   "metadata": {},
   "source": [
    "### Generate a List of All Possible Adresses for each Row in the Transcript\n",
    "\n",
    "Above Code Adapted from: Grant Wilson San Francisco Cohort"
   ]
  },
  {
   "cell_type": "code",
   "execution_count": 23,
   "metadata": {
    "ExecuteTime": {
     "end_time": "2020-05-14T01:42:25.679312Z",
     "start_time": "2020-05-14T01:42:25.308520Z"
    }
   },
   "outputs": [],
   "source": [
    "# Creat list to house data for possible addresses\n",
    "possibilities = []\n",
    "\n",
    "# Loop Through all DataFrame's rows\n",
    "for i in range(0, df.shape[0]):\n",
    "    \n",
    "    # Create variables to temporarily house information\n",
    "    final_poss = []\n",
    "    d = {}\n",
    "    number_poss = []\n",
    "    \n",
    "    # Loop through values in each row / numbers\n",
    "    for row in df[i:i+1]['numbers']:\n",
    "        for a_number in row:\n",
    "            number_poss.append(a_number)\n",
    "    \n",
    "    # Loop through values in each row / streets\n",
    "    street_poss = []\n",
    "    for row2 in [x.split(',') for x in df[i:(i+1)]['streets']][0]:\n",
    "        for j in row2.split(','):\n",
    "            street_poss.append(j.strip())\n",
    "\n",
    "    # Concatenate numbers and streets\n",
    "    for i in number_poss:\n",
    "        for j in street_poss:\n",
    "            final_poss.append(i + ' ' + j)\n",
    "\n",
    "    # Append all possibilities to list\n",
    "    d['full_streets'] = list(set(final_poss))\n",
    "    possibilities.append(d)\n",
    "\n",
    "# Concatenate dataframes\n",
    "df = pd.concat([df, pd.DataFrame(possibilities)], axis=1)"
   ]
  },
  {
   "cell_type": "code",
   "execution_count": 25,
   "metadata": {
    "ExecuteTime": {
     "end_time": "2020-05-14T01:42:57.659219Z",
     "start_time": "2020-05-14T01:42:57.638308Z"
    }
   },
   "outputs": [
    {
     "data": {
      "text/html": [
       "<div>\n",
       "<style scoped>\n",
       "    .dataframe tbody tr th:only-of-type {\n",
       "        vertical-align: middle;\n",
       "    }\n",
       "\n",
       "    .dataframe tbody tr th {\n",
       "        vertical-align: top;\n",
       "    }\n",
       "\n",
       "    .dataframe thead th {\n",
       "        text-align: right;\n",
       "    }\n",
       "</style>\n",
       "<table border=\"1\" class=\"dataframe\">\n",
       "  <thead>\n",
       "    <tr style=\"text-align: right;\">\n",
       "      <th></th>\n",
       "      <th>file_name</th>\n",
       "      <th>confidence</th>\n",
       "      <th>transcript</th>\n",
       "      <th>tokens</th>\n",
       "      <th>streets</th>\n",
       "      <th>numbers</th>\n",
       "      <th>full_streets</th>\n",
       "    </tr>\n",
       "  </thead>\n",
       "  <tbody>\n",
       "    <tr>\n",
       "      <th>0</th>\n",
       "      <td>sample116-25818-20200501-0941.wav</td>\n",
       "      <td>0.764874</td>\n",
       "      <td>returning from the second alarm to go off in fact about</td>\n",
       "      <td>[returning, from, the, second, alarm, to, go, off, in, fact, about]</td>\n",
       "      <td>The , Off</td>\n",
       "      <td>[]</td>\n",
       "      <td>[]</td>\n",
       "    </tr>\n",
       "    <tr>\n",
       "      <th>1</th>\n",
       "      <td>sample92-25818-20200501-0941.wav</td>\n",
       "      <td>0.692422</td>\n",
       "      <td>having a t show jokes to 19219 South Street</td>\n",
       "      <td>[having, a, t, show, jokes, to, South, Street]</td>\n",
       "      <td>South</td>\n",
       "      <td>[19219]</td>\n",
       "      <td>[19219 South]</td>\n",
       "    </tr>\n",
       "    <tr>\n",
       "      <th>2</th>\n",
       "      <td>sample635-25818-20200501-1439.wav</td>\n",
       "      <td>0.643082</td>\n",
       "      <td>but I'm trying to we went through a window we found a party took social housing waiting for the window</td>\n",
       "      <td>[but, I, trying, to, we, went, through, a, window, we, found, a, party, took, social, housing, waiting, for, the, window]</td>\n",
       "      <td>The</td>\n",
       "      <td>[]</td>\n",
       "      <td>[]</td>\n",
       "    </tr>\n",
       "    <tr>\n",
       "      <th>3</th>\n",
       "      <td>sample396-25818-20200501-1140.wav</td>\n",
       "      <td>0.787601</td>\n",
       "      <td>CMS said that they were told by somebody up here that they were up and they walked off and went downstairs that needs to be fine at least jumped on</td>\n",
       "      <td>[CMS, said, that, they, were, told, by, somebody, up, here, that, they, were, up, and, they, walked, off, and, went, downstairs, that, needs, to, be, fine, at, least, jumped, on]</td>\n",
       "      <td>Off</td>\n",
       "      <td>[]</td>\n",
       "      <td>[]</td>\n",
       "    </tr>\n",
       "    <tr>\n",
       "      <th>4</th>\n",
       "      <td>sample217-25818-20200501-0612.wav</td>\n",
       "      <td>0.722337</td>\n",
       "      <td>for calling Broadway</td>\n",
       "      <td>[for, calling, Broadway]</td>\n",
       "      <td>Broadway</td>\n",
       "      <td>[]</td>\n",
       "      <td>[]</td>\n",
       "    </tr>\n",
       "    <tr>\n",
       "      <th>...</th>\n",
       "      <td>...</td>\n",
       "      <td>...</td>\n",
       "      <td>...</td>\n",
       "      <td>...</td>\n",
       "      <td>...</td>\n",
       "      <td>...</td>\n",
       "      <td>...</td>\n",
       "    </tr>\n",
       "    <tr>\n",
       "      <th>1508</th>\n",
       "      <td>sample-9-25818-20200502-2159-19588.wav</td>\n",
       "      <td>0.832902</td>\n",
       "      <td>off of 104 1st Ave on the Callback</td>\n",
       "      <td>[off, of, Ave, on, the, Callback]</td>\n",
       "      <td>Off , 1st , The</td>\n",
       "      <td>[104]</td>\n",
       "      <td>[104 1st, 104 The, 104 Off]</td>\n",
       "    </tr>\n",
       "    <tr>\n",
       "      <th>1509</th>\n",
       "      <td>sample-9-25818-20200502-2229-19283.wav</td>\n",
       "      <td>0.721903</td>\n",
       "      <td>chat again you have like a beeping noise in the background</td>\n",
       "      <td>[chat, again, you, have, like, a, beeping, noise, in, the, background]</td>\n",
       "      <td>The</td>\n",
       "      <td>[]</td>\n",
       "      <td>[]</td>\n",
       "    </tr>\n",
       "    <tr>\n",
       "      <th>1510</th>\n",
       "      <td>sample-9-25818-20200502-2229-19283.wav</td>\n",
       "      <td>0.758561</td>\n",
       "      <td>yep the only one in the same time together</td>\n",
       "      <td>[yep, the, only, one, in, the, same, time, together]</td>\n",
       "      <td>The , The</td>\n",
       "      <td>[]</td>\n",
       "      <td>[]</td>\n",
       "    </tr>\n",
       "    <tr>\n",
       "      <th>1511</th>\n",
       "      <td>sample-9-25818-20200502-2258-24835.wav</td>\n",
       "      <td>0.785126</td>\n",
       "      <td>we're an apartment 3016 culture the cover off okay the company be responsible 376 are companies responding to box 3726 close to your age 22</td>\n",
       "      <td>[we, an, apartment, culture, the, cover, off, okay, the, company, be, responsible, are, companies, responding, to, box, close, to, your, age]</td>\n",
       "      <td>The , Off , The</td>\n",
       "      <td>[]</td>\n",
       "      <td>[]</td>\n",
       "    </tr>\n",
       "    <tr>\n",
       "      <th>1512</th>\n",
       "      <td>sample-9-25818-20200502-2358-16786.wav</td>\n",
       "      <td>0.676292</td>\n",
       "      <td>not much more expensive coastal plain play around. Enter one subject at a black screen underneath took it over someone</td>\n",
       "      <td>[not, much, more, expensive, coastal, plain, play, around, Enter, one, subject, at, a, black, screen, underneath, took, it, over, someone]</td>\n",
       "      <td>Plain , Black</td>\n",
       "      <td>[]</td>\n",
       "      <td>[]</td>\n",
       "    </tr>\n",
       "  </tbody>\n",
       "</table>\n",
       "<p>1513 rows × 7 columns</p>\n",
       "</div>"
      ],
      "text/plain": [
       "                                   file_name  confidence  \\\n",
       "0          sample116-25818-20200501-0941.wav    0.764874   \n",
       "1           sample92-25818-20200501-0941.wav    0.692422   \n",
       "2          sample635-25818-20200501-1439.wav    0.643082   \n",
       "3          sample396-25818-20200501-1140.wav    0.787601   \n",
       "4          sample217-25818-20200501-0612.wav    0.722337   \n",
       "...                                      ...         ...   \n",
       "1508  sample-9-25818-20200502-2159-19588.wav    0.832902   \n",
       "1509  sample-9-25818-20200502-2229-19283.wav    0.721903   \n",
       "1510  sample-9-25818-20200502-2229-19283.wav    0.758561   \n",
       "1511  sample-9-25818-20200502-2258-24835.wav    0.785126   \n",
       "1512  sample-9-25818-20200502-2358-16786.wav    0.676292   \n",
       "\n",
       "                                                                                                                                               transcript  \\\n",
       "0                                                                                                 returning from the second alarm to go off in fact about   \n",
       "1                                                                                                             having a t show jokes to 19219 South Street   \n",
       "2                                                  but I'm trying to we went through a window we found a party took social housing waiting for the window   \n",
       "3     CMS said that they were told by somebody up here that they were up and they walked off and went downstairs that needs to be fine at least jumped on   \n",
       "4                                                                                                                                    for calling Broadway   \n",
       "...                                                                                                                                                   ...   \n",
       "1508                                                                                                                   off of 104 1st Ave on the Callback   \n",
       "1509                                                                                           chat again you have like a beeping noise in the background   \n",
       "1510                                                                                                           yep the only one in the same time together   \n",
       "1511          we're an apartment 3016 culture the cover off okay the company be responsible 376 are companies responding to box 3726 close to your age 22   \n",
       "1512                               not much more expensive coastal plain play around. Enter one subject at a black screen underneath took it over someone   \n",
       "\n",
       "                                                                                                                                                                                  tokens  \\\n",
       "0                                                                                                                    [returning, from, the, second, alarm, to, go, off, in, fact, about]   \n",
       "1                                                                                                                                         [having, a, t, show, jokes, to, South, Street]   \n",
       "2                                                              [but, I, trying, to, we, went, through, a, window, we, found, a, party, took, social, housing, waiting, for, the, window]   \n",
       "3     [CMS, said, that, they, were, told, by, somebody, up, here, that, they, were, up, and, they, walked, off, and, went, downstairs, that, needs, to, be, fine, at, least, jumped, on]   \n",
       "4                                                                                                                                                               [for, calling, Broadway]   \n",
       "...                                                                                                                                                                                  ...   \n",
       "1508                                                                                                                                                   [off, of, Ave, on, the, Callback]   \n",
       "1509                                                                                                              [chat, again, you, have, like, a, beeping, noise, in, the, background]   \n",
       "1510                                                                                                                                [yep, the, only, one, in, the, same, time, together]   \n",
       "1511                                       [we, an, apartment, culture, the, cover, off, okay, the, company, be, responsible, are, companies, responding, to, box, close, to, your, age]   \n",
       "1512                                          [not, much, more, expensive, coastal, plain, play, around, Enter, one, subject, at, a, black, screen, underneath, took, it, over, someone]   \n",
       "\n",
       "              streets  numbers                 full_streets  \n",
       "0           The , Off       []                           []  \n",
       "1               South  [19219]                [19219 South]  \n",
       "2                 The       []                           []  \n",
       "3                 Off       []                           []  \n",
       "4            Broadway       []                           []  \n",
       "...               ...      ...                          ...  \n",
       "1508  Off , 1st , The    [104]  [104 1st, 104 The, 104 Off]  \n",
       "1509              The       []                           []  \n",
       "1510        The , The       []                           []  \n",
       "1511  The , Off , The       []                           []  \n",
       "1512    Plain , Black       []                           []  \n",
       "\n",
       "[1513 rows x 7 columns]"
      ]
     },
     "execution_count": 25,
     "metadata": {},
     "output_type": "execute_result"
    }
   ],
   "source": [
    "df"
   ]
  },
  {
   "cell_type": "markdown",
   "metadata": {},
   "source": [
    "### Drop Blanks"
   ]
  },
  {
   "cell_type": "code",
   "execution_count": 26,
   "metadata": {
    "ExecuteTime": {
     "end_time": "2020-05-14T01:43:28.894172Z",
     "start_time": "2020-05-14T01:43:28.885193Z"
    }
   },
   "outputs": [],
   "source": [
    "df['full_streets'] = df['full_streets'].map(lambda x: np.nan if len(x) == 0 else x)\n",
    "df.dropna(inplace=True)\n",
    "df.reset_index(drop=True, inplace=True)"
   ]
  },
  {
   "cell_type": "code",
   "execution_count": 28,
   "metadata": {
    "ExecuteTime": {
     "end_time": "2020-05-14T01:43:36.896478Z",
     "start_time": "2020-05-14T01:43:36.891491Z"
    }
   },
   "outputs": [
    {
     "data": {
      "text/plain": [
       "(418, 7)"
      ]
     },
     "execution_count": 28,
     "metadata": {},
     "output_type": "execute_result"
    }
   ],
   "source": [
    "df.shape"
   ]
  },
  {
   "cell_type": "markdown",
   "metadata": {
    "ExecuteTime": {
     "end_time": "2020-05-14T01:43:47.633343Z",
     "start_time": "2020-05-14T01:43:47.629354Z"
    }
   },
   "source": [
    "### Export"
   ]
  },
  {
   "cell_type": "code",
   "execution_count": 30,
   "metadata": {
    "ExecuteTime": {
     "end_time": "2020-05-14T01:44:32.315138Z",
     "start_time": "2020-05-14T01:44:32.301711Z"
    }
   },
   "outputs": [],
   "source": [
    "df.to_csv(\"./Datasets/transcript_with_addresses.csv\")"
   ]
  },
  {
   "cell_type": "code",
   "execution_count": null,
   "metadata": {},
   "outputs": [],
   "source": []
  }
 ],
 "metadata": {
  "kernelspec": {
   "display_name": "Python 3",
   "language": "python",
   "name": "python3"
  },
  "language_info": {
   "codemirror_mode": {
    "name": "ipython",
    "version": 3
   },
   "file_extension": ".py",
   "mimetype": "text/x-python",
   "name": "python",
   "nbconvert_exporter": "python",
   "pygments_lexer": "ipython3",
   "version": "3.7.6"
  }
 },
 "nbformat": 4,
 "nbformat_minor": 2
}
