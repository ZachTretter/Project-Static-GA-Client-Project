{
 "cells": [
  {
   "cell_type": "code",
   "execution_count": 1,
   "metadata": {},
   "outputs": [],
   "source": [
    "import pandas as pd"
   ]
  },
  {
   "cell_type": "code",
   "execution_count": 3,
   "metadata": {},
   "outputs": [],
   "source": [
    "df1 = pd.read_csv('alex_streets_final.csv')"
   ]
  },
  {
   "cell_type": "code",
   "execution_count": 4,
   "metadata": {},
   "outputs": [],
   "source": [
    "df2 = pd.read_csv('zach_streets_final.csv')"
   ]
  },
  {
   "cell_type": "code",
   "execution_count": 6,
   "metadata": {},
   "outputs": [
    {
     "data": {
      "text/html": [
       "<div>\n",
       "<style scoped>\n",
       "    .dataframe tbody tr th:only-of-type {\n",
       "        vertical-align: middle;\n",
       "    }\n",
       "\n",
       "    .dataframe tbody tr th {\n",
       "        vertical-align: top;\n",
       "    }\n",
       "\n",
       "    .dataframe thead th {\n",
       "        text-align: right;\n",
       "    }\n",
       "</style>\n",
       "<table border=\"1\" class=\"dataframe\">\n",
       "  <thead>\n",
       "    <tr style=\"text-align: right;\">\n",
       "      <th></th>\n",
       "      <th>confidence</th>\n",
       "      <th>file_name</th>\n",
       "      <th>transcript</th>\n",
       "      <th>tokens</th>\n",
       "      <th>streets</th>\n",
       "      <th>numbers</th>\n",
       "      <th>full_streets</th>\n",
       "    </tr>\n",
       "  </thead>\n",
       "  <tbody>\n",
       "    <tr>\n",
       "      <th>0</th>\n",
       "      <td>0.801003</td>\n",
       "      <td>sample92-25818-20200501-0941.wav</td>\n",
       "      <td>a van a t show a joke to 19219 South Street</td>\n",
       "      <td>['a', 'van', 'a', 't', 'show', 'a', 'joke', 't...</td>\n",
       "      <td>Van , South</td>\n",
       "      <td>['19219']</td>\n",
       "      <td>['19219 Van', '19219 South']</td>\n",
       "    </tr>\n",
       "    <tr>\n",
       "      <th>1</th>\n",
       "      <td>0.819970</td>\n",
       "      <td>sample644-25818-20200501-1439.wav</td>\n",
       "      <td>medical a r v a $12 C Street Hyde Park / 28 / ...</td>\n",
       "      <td>['medical', 'a', 'r', 'v', 'a', 'C', 'Street',...</td>\n",
       "      <td>Hyde , Park , Hyde , Park , Fox</td>\n",
       "      <td>['12']</td>\n",
       "      <td>['12 Fox', '12 Park', '12 Hyde']</td>\n",
       "    </tr>\n",
       "    <tr>\n",
       "      <th>2</th>\n",
       "      <td>0.804967</td>\n",
       "      <td>sample315-25818-20200501-1509.wav</td>\n",
       "      <td>what happened to a medic you / sponsor T Adams...</td>\n",
       "      <td>['what', 'happened', 'to', 'a', 'medic', 'you'...</td>\n",
       "      <td>Adams , Lexington , Milton</td>\n",
       "      <td>['11']</td>\n",
       "      <td>['11 Milton', '11 Adams', '11 Lexington']</td>\n",
       "    </tr>\n",
       "    <tr>\n",
       "      <th>3</th>\n",
       "      <td>0.767576</td>\n",
       "      <td>sample23-25818-20200501-0413.wav</td>\n",
       "      <td>a t pull it off and just pull up in 1 / man, r</td>\n",
       "      <td>['a', 't', 'pull', 'it', 'off', 'and', 'just',...</td>\n",
       "      <td>Off</td>\n",
       "      <td>['1']</td>\n",
       "      <td>['1 Off']</td>\n",
       "    </tr>\n",
       "    <tr>\n",
       "      <th>4</th>\n",
       "      <td>0.741951</td>\n",
       "      <td>sample1013-25818-20200501-0343.wav</td>\n",
       "      <td>20 Old Road / 360</td>\n",
       "      <td>['Old', 'Road']</td>\n",
       "      <td>Old</td>\n",
       "      <td>['20']</td>\n",
       "      <td>['20 Old']</td>\n",
       "    </tr>\n",
       "  </tbody>\n",
       "</table>\n",
       "</div>"
      ],
      "text/plain": [
       "   confidence                           file_name  \\\n",
       "0    0.801003    sample92-25818-20200501-0941.wav   \n",
       "1    0.819970   sample644-25818-20200501-1439.wav   \n",
       "2    0.804967   sample315-25818-20200501-1509.wav   \n",
       "3    0.767576    sample23-25818-20200501-0413.wav   \n",
       "4    0.741951  sample1013-25818-20200501-0343.wav   \n",
       "\n",
       "                                          transcript  \\\n",
       "0        a van a t show a joke to 19219 South Street   \n",
       "1  medical a r v a $12 C Street Hyde Park / 28 / ...   \n",
       "2  what happened to a medic you / sponsor T Adams...   \n",
       "3     a t pull it off and just pull up in 1 / man, r   \n",
       "4                                  20 Old Road / 360   \n",
       "\n",
       "                                              tokens  \\\n",
       "0  ['a', 'van', 'a', 't', 'show', 'a', 'joke', 't...   \n",
       "1  ['medical', 'a', 'r', 'v', 'a', 'C', 'Street',...   \n",
       "2  ['what', 'happened', 'to', 'a', 'medic', 'you'...   \n",
       "3  ['a', 't', 'pull', 'it', 'off', 'and', 'just',...   \n",
       "4                                    ['Old', 'Road']   \n",
       "\n",
       "                           streets    numbers  \\\n",
       "0                      Van , South  ['19219']   \n",
       "1  Hyde , Park , Hyde , Park , Fox     ['12']   \n",
       "2       Adams , Lexington , Milton     ['11']   \n",
       "3                              Off      ['1']   \n",
       "4                              Old     ['20']   \n",
       "\n",
       "                                full_streets  \n",
       "0               ['19219 Van', '19219 South']  \n",
       "1           ['12 Fox', '12 Park', '12 Hyde']  \n",
       "2  ['11 Milton', '11 Adams', '11 Lexington']  \n",
       "3                                  ['1 Off']  \n",
       "4                                 ['20 Old']  "
      ]
     },
     "execution_count": 6,
     "metadata": {},
     "output_type": "execute_result"
    }
   ],
   "source": [
    "df1.head()"
   ]
  },
  {
   "cell_type": "code",
   "execution_count": 12,
   "metadata": {
    "scrolled": true
   },
   "outputs": [],
   "source": [
    "df2 = df2.drop(columns = ['audio_length', 'transcribe_time'])"
   ]
  },
  {
   "cell_type": "code",
   "execution_count": 11,
   "metadata": {},
   "outputs": [
    {
     "data": {
      "text/html": [
       "<div>\n",
       "<style scoped>\n",
       "    .dataframe tbody tr th:only-of-type {\n",
       "        vertical-align: middle;\n",
       "    }\n",
       "\n",
       "    .dataframe tbody tr th {\n",
       "        vertical-align: top;\n",
       "    }\n",
       "\n",
       "    .dataframe thead th {\n",
       "        text-align: right;\n",
       "    }\n",
       "</style>\n",
       "<table border=\"1\" class=\"dataframe\">\n",
       "  <thead>\n",
       "    <tr style=\"text-align: right;\">\n",
       "      <th></th>\n",
       "      <th>file_name</th>\n",
       "      <th>confidence</th>\n",
       "      <th>transcript</th>\n",
       "      <th>tokens</th>\n",
       "      <th>streets</th>\n",
       "      <th>numbers</th>\n",
       "      <th>full_streets</th>\n",
       "    </tr>\n",
       "  </thead>\n",
       "  <tbody>\n",
       "    <tr>\n",
       "      <th>0</th>\n",
       "      <td>sample-1-25818-20200502-1830-5330.wav</td>\n",
       "      <td>0.670882</td>\n",
       "      <td>2153 Charlotte and Catawba Street 1758</td>\n",
       "      <td>['Charlotte', 'and', 'Catawba', 'Street']</td>\n",
       "      <td>Charlotte</td>\n",
       "      <td>['2153']</td>\n",
       "      <td>['2153 Charlotte']</td>\n",
       "    </tr>\n",
       "    <tr>\n",
       "      <th>1</th>\n",
       "      <td>sample-10-25818-20200502-1601-34333.wav</td>\n",
       "      <td>0.455361</td>\n",
       "      <td>1946 West Town of eleven</td>\n",
       "      <td>['West', 'Town', 'of', 'eleven']</td>\n",
       "      <td>West , Town</td>\n",
       "      <td>['1946']</td>\n",
       "      <td>['1946 Town', '1946 West']</td>\n",
       "    </tr>\n",
       "    <tr>\n",
       "      <th>2</th>\n",
       "      <td>sample-10-25818-20200502-1601-34333.wav</td>\n",
       "      <td>0.830881</td>\n",
       "      <td>Carol 2837 settings</td>\n",
       "      <td>['Carol', 'settings']</td>\n",
       "      <td>Carol</td>\n",
       "      <td>['2837']</td>\n",
       "      <td>['2837 Carol']</td>\n",
       "    </tr>\n",
       "    <tr>\n",
       "      <th>3</th>\n",
       "      <td>sample-11-25818-20200502-1222-9001.wav</td>\n",
       "      <td>0.728600</td>\n",
       "      <td>Thomas 155 Lexington Street South Korea parkin...</td>\n",
       "      <td>['Thomas', 'Lexington', 'Street', 'South', 'Ko...</td>\n",
       "      <td>Thomas , Lexington , South</td>\n",
       "      <td>['155']</td>\n",
       "      <td>['155 Thomas', '155 South', '155 Lexington']</td>\n",
       "    </tr>\n",
       "    <tr>\n",
       "      <th>4</th>\n",
       "      <td>sample-11-25818-20200502-1332-8849.wav</td>\n",
       "      <td>0.823085</td>\n",
       "      <td>I said are no magical one Central Square East ...</td>\n",
       "      <td>['I', 'said', 'are', 'no', 'magical', 'one', '...</td>\n",
       "      <td>Central , East , Boston , Red , Bennington , C...</td>\n",
       "      <td>['6163']</td>\n",
       "      <td>['6163 Central', '6163 Red', '6163 Bennington'...</td>\n",
       "    </tr>\n",
       "  </tbody>\n",
       "</table>\n",
       "</div>"
      ],
      "text/plain": [
       "                                 file_name  confidence  \\\n",
       "0    sample-1-25818-20200502-1830-5330.wav    0.670882   \n",
       "1  sample-10-25818-20200502-1601-34333.wav    0.455361   \n",
       "2  sample-10-25818-20200502-1601-34333.wav    0.830881   \n",
       "3   sample-11-25818-20200502-1222-9001.wav    0.728600   \n",
       "4   sample-11-25818-20200502-1332-8849.wav    0.823085   \n",
       "\n",
       "                                          transcript  \\\n",
       "0             2153 Charlotte and Catawba Street 1758   \n",
       "1                           1946 West Town of eleven   \n",
       "2                                Carol 2837 settings   \n",
       "3  Thomas 155 Lexington Street South Korea parkin...   \n",
       "4  I said are no magical one Central Square East ...   \n",
       "\n",
       "                                              tokens  \\\n",
       "0          ['Charlotte', 'and', 'Catawba', 'Street']   \n",
       "1                   ['West', 'Town', 'of', 'eleven']   \n",
       "2                              ['Carol', 'settings']   \n",
       "3  ['Thomas', 'Lexington', 'Street', 'South', 'Ko...   \n",
       "4  ['I', 'said', 'are', 'no', 'magical', 'one', '...   \n",
       "\n",
       "                                             streets   numbers  \\\n",
       "0                                          Charlotte  ['2153']   \n",
       "1                                        West , Town  ['1946']   \n",
       "2                                              Carol  ['2837']   \n",
       "3                         Thomas , Lexington , South   ['155']   \n",
       "4  Central , East , Boston , Red , Bennington , C...  ['6163']   \n",
       "\n",
       "                                        full_streets  \n",
       "0                                 ['2153 Charlotte']  \n",
       "1                         ['1946 Town', '1946 West']  \n",
       "2                                     ['2837 Carol']  \n",
       "3       ['155 Thomas', '155 South', '155 Lexington']  \n",
       "4  ['6163 Central', '6163 Red', '6163 Bennington'...  "
      ]
     },
     "execution_count": 11,
     "metadata": {},
     "output_type": "execute_result"
    }
   ],
   "source": [
    "df2.head()"
   ]
  },
  {
   "cell_type": "code",
   "execution_count": 13,
   "metadata": {},
   "outputs": [],
   "source": [
    "df3 = pd.concat([df1, df2])"
   ]
  },
  {
   "cell_type": "code",
   "execution_count": null,
   "metadata": {},
   "outputs": [],
   "source": [
    "df3.head()"
   ]
  },
  {
   "cell_type": "code",
   "execution_count": null,
   "metadata": {},
   "outputs": [],
   "source": [
    "df3.to_csv('')"
   ]
  },
  {
   "cell_type": "code",
   "execution_count": null,
   "metadata": {},
   "outputs": [],
   "source": []
  }
 ],
 "metadata": {
  "kernelspec": {
   "display_name": "Python 3",
   "language": "python",
   "name": "python3"
  },
  "language_info": {
   "codemirror_mode": {
    "name": "ipython",
    "version": 3
   },
   "file_extension": ".py",
   "mimetype": "text/x-python",
   "name": "python",
   "nbconvert_exporter": "python",
   "pygments_lexer": "ipython3",
   "version": "3.7.3"
  }
 },
 "nbformat": 4,
 "nbformat_minor": 2
}
