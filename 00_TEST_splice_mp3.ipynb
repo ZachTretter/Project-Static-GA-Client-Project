{
 "cells": [
  {
   "cell_type": "code",
   "execution_count": 2,
   "metadata": {},
   "outputs": [],
   "source": [
    "# Installs \n",
    "# pip install pydub\n",
    "# brew install ffmpeg\n",
    "\n",
    "# Imports \n",
    "from pydub import AudioSegment  # allows us to import our auido\n",
    "from pydub.silence import detect_silence, split_on_silence\n",
    "import time\n",
    "import numpy as np"
   ]
  },
  {
   "cell_type": "code",
   "execution_count": 2,
   "metadata": {},
   "outputs": [],
   "source": [
    "file = AudioSegment.from_mp3(\"./Datasets/Sample/202005061138-383648-31120.mp3\")"
   ]
  },
  {
   "cell_type": "code",
   "execution_count": 3,
   "metadata": {},
   "outputs": [
    {
     "name": "stdout",
     "output_type": "stream",
     "text": [
      "This function took 577.910285949707 seconds\n"
     ]
    }
   ],
   "source": [
    "timestart = time.time()\n",
    "chunks = split_on_silence(file, silence_thresh = file.dBFS, min_silence_len= 4000)\n",
    "print(f\"This function took {time.time() - timestart} seconds\")"
   ]
  },
  {
   "cell_type": "code",
   "execution_count": 4,
   "metadata": {},
   "outputs": [
    {
     "data": {
      "text/plain": [
       "[<pydub.audio_segment.AudioSegment at 0x10e5248d0>,\n",
       " <pydub.audio_segment.AudioSegment at 0x10e524090>,\n",
       " <pydub.audio_segment.AudioSegment at 0x10e524790>,\n",
       " <pydub.audio_segment.AudioSegment at 0x10d308110>,\n",
       " <pydub.audio_segment.AudioSegment at 0x10d3083d0>,\n",
       " <pydub.audio_segment.AudioSegment at 0x10d3023d0>,\n",
       " <pydub.audio_segment.AudioSegment at 0x10d302110>,\n",
       " <pydub.audio_segment.AudioSegment at 0x10e530190>,\n",
       " <pydub.audio_segment.AudioSegment at 0x10e530d10>,\n",
       " <pydub.audio_segment.AudioSegment at 0x10e5247d0>,\n",
       " <pydub.audio_segment.AudioSegment at 0x104664c90>,\n",
       " <pydub.audio_segment.AudioSegment at 0x10d99fc50>,\n",
       " <pydub.audio_segment.AudioSegment at 0x106066990>,\n",
       " <pydub.audio_segment.AudioSegment at 0x104e6c490>,\n",
       " <pydub.audio_segment.AudioSegment at 0x10ec7a750>,\n",
       " <pydub.audio_segment.AudioSegment at 0x10ec6cd50>,\n",
       " <pydub.audio_segment.AudioSegment at 0x10f425fd0>,\n",
       " <pydub.audio_segment.AudioSegment at 0x10f425e50>,\n",
       " <pydub.audio_segment.AudioSegment at 0x10f425650>,\n",
       " <pydub.audio_segment.AudioSegment at 0x10f425c50>,\n",
       " <pydub.audio_segment.AudioSegment at 0x10f4251d0>,\n",
       " <pydub.audio_segment.AudioSegment at 0x10f4256d0>,\n",
       " <pydub.audio_segment.AudioSegment at 0x10f4258d0>,\n",
       " <pydub.audio_segment.AudioSegment at 0x10f425150>,\n",
       " <pydub.audio_segment.AudioSegment at 0x10f425d50>,\n",
       " <pydub.audio_segment.AudioSegment at 0x10f4257d0>,\n",
       " <pydub.audio_segment.AudioSegment at 0x10f425550>,\n",
       " <pydub.audio_segment.AudioSegment at 0x10f4252d0>,\n",
       " <pydub.audio_segment.AudioSegment at 0x10f425ed0>,\n",
       " <pydub.audio_segment.AudioSegment at 0x10f425450>,\n",
       " <pydub.audio_segment.AudioSegment at 0x10f425750>,\n",
       " <pydub.audio_segment.AudioSegment at 0x10f425950>,\n",
       " <pydub.audio_segment.AudioSegment at 0x10f425350>,\n",
       " <pydub.audio_segment.AudioSegment at 0x10f425ad0>,\n",
       " <pydub.audio_segment.AudioSegment at 0x10f425b50>,\n",
       " <pydub.audio_segment.AudioSegment at 0x10f425850>]"
      ]
     },
     "execution_count": 4,
     "metadata": {},
     "output_type": "execute_result"
    }
   ],
   "source": [
    "chunks"
   ]
  },
  {
   "cell_type": "code",
   "execution_count": 5,
   "metadata": {},
   "outputs": [],
   "source": [
    "total_time = 0\n",
    "counter = 1\n",
    "for chunk in chunks:\n",
    "    chunk.export(f\"./Datasets/Sample/sample{counter}.wav\", format = \"wav\")\n",
    "    counter += 1"
   ]
  },
  {
   "cell_type": "code",
   "execution_count": 1,
   "metadata": {},
   "outputs": [
    {
     "ename": "NameError",
     "evalue": "name 'total_time' is not defined",
     "output_type": "error",
     "traceback": [
      "\u001b[0;31m---------------------------------------------------------------------------\u001b[0m",
      "\u001b[0;31mNameError\u001b[0m                                 Traceback (most recent call last)",
      "\u001b[0;32m<ipython-input-1-9bec417112c8>\u001b[0m in \u001b[0;36m<module>\u001b[0;34m\u001b[0m\n\u001b[0;32m----> 1\u001b[0;31m \u001b[0mtotal_time\u001b[0m\u001b[0;34m\u001b[0m\u001b[0;34m\u001b[0m\u001b[0m\n\u001b[0m",
      "\u001b[0;31mNameError\u001b[0m: name 'total_time' is not defined"
     ]
    }
   ],
   "source": [
    "total_time"
   ]
  },
  {
   "cell_type": "code",
   "execution_count": null,
   "metadata": {},
   "outputs": [],
   "source": [
    "#detect_silence(file[:200_000], silence_thresh = file.dBFS,)"
   ]
  }
 ],
 "metadata": {
  "kernelspec": {
   "display_name": "Python 3",
   "language": "python",
   "name": "python3"
  },
  "language_info": {
   "codemirror_mode": {
    "name": "ipython",
    "version": 3
   },
   "file_extension": ".py",
   "mimetype": "text/x-python",
   "name": "python",
   "nbconvert_exporter": "python",
   "pygments_lexer": "ipython3",
   "version": "3.7.6"
  },
  "toc": {
   "base_numbering": 1,
   "nav_menu": {},
   "number_sections": true,
   "sideBar": true,
   "skip_h1_title": false,
   "title_cell": "Table of Contents",
   "title_sidebar": "Contents",
   "toc_cell": false,
   "toc_position": {},
   "toc_section_display": true,
   "toc_window_display": false
  },
  "varInspector": {
   "cols": {
    "lenName": 16,
    "lenType": 16,
    "lenVar": 40
   },
   "kernels_config": {
    "python": {
     "delete_cmd_postfix": "",
     "delete_cmd_prefix": "del ",
     "library": "var_list.py",
     "varRefreshCmd": "print(var_dic_list())"
    },
    "r": {
     "delete_cmd_postfix": ") ",
     "delete_cmd_prefix": "rm(",
     "library": "var_list.r",
     "varRefreshCmd": "cat(var_dic_list()) "
    }
   },
   "types_to_exclude": [
    "module",
    "function",
    "builtin_function_or_method",
    "instance",
    "_Feature"
   ],
   "window_display": false
  }
 },
 "nbformat": 4,
 "nbformat_minor": 4
}
