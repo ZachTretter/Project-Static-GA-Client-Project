{
 "cells": [
  {
   "cell_type": "markdown",
   "metadata": {},
   "source": [
    "# Scrape Data"
   ]
  },
  {
   "cell_type": "code",
   "execution_count": 62,
   "metadata": {},
   "outputs": [],
   "source": [
    "# General\n",
    "import pandas as pd\n",
    "import seaborn as sns\n",
    "import numpy as np\n",
    "import matplotlib.pyplot as plt\n",
    "%matplotlib inline\n",
    "\n",
    "# For Natural Language Processing\n",
    "import regex as re\n",
    "import unidecode\n",
    "from nltk.tokenize import RegexpTokenizer\n",
    "from nltk.stem import WordNetLemmatizer\n",
    "from nltk.corpus import stopwords\n",
    "from sklearn.feature_extraction.text import CountVectorizer"
   ]
  },
  {
   "cell_type": "markdown",
   "metadata": {},
   "source": [
    "## Watertown transcript"
   ]
  },
  {
   "cell_type": "code",
   "execution_count": 63,
   "metadata": {},
   "outputs": [],
   "source": [
    "# import text file, Watertown transcript\n",
    "with open('watertown.txt', 'r') as file:\n",
    "    data = file.read()"
   ]
  },
  {
   "cell_type": "code",
   "execution_count": 64,
   "metadata": {},
   "outputs": [
    {
     "name": "stdout",
     "output_type": "stream",
     "text": [
      "One 5'7\", the second with darker skin, both suspects armed with firearms, driving a Black Mercedes SUV.  Carjacked at 816 memorial drive at the gas station in Cambridge, Suspects are two middle eastern males, on is 5'7\", second one with\n",
      "\n"
     ]
    }
   ],
   "source": [
    "# Split the text by sentence\n",
    "df = data.split('\\n')\n",
    "print(df[0])\n",
    "print(df[2])"
   ]
  },
  {
   "cell_type": "code",
   "execution_count": 65,
   "metadata": {},
   "outputs": [
    {
     "data": {
      "text/plain": [
       "str"
      ]
     },
     "execution_count": 65,
     "metadata": {},
     "output_type": "execute_result"
    }
   ],
   "source": [
    "type(df[2])"
   ]
  },
  {
   "cell_type": "code",
   "execution_count": 66,
   "metadata": {},
   "outputs": [
    {
     "data": {
      "text/plain": [
       "0"
      ]
     },
     "execution_count": 66,
     "metadata": {},
     "output_type": "execute_result"
    }
   ],
   "source": [
    "len(df[2])"
   ]
  },
  {
   "cell_type": "code",
   "execution_count": 67,
   "metadata": {},
   "outputs": [],
   "source": [
    "# Remove empty sentences\n",
    "df = [string for string in df if len(string) > 0]\n",
    "\n",
    "# Put it into the dataframe\n",
    "df_transcript = pd.DataFrame({'transcript':df})\n",
    "\n",
    "# Define Watertown text as 'is_crime'\n",
    "df_transcript['type'] = 'is_crime'"
   ]
  },
  {
   "cell_type": "code",
   "execution_count": 136,
   "metadata": {},
   "outputs": [
    {
     "data": {
      "text/html": [
       "<div>\n",
       "<style scoped>\n",
       "    .dataframe tbody tr th:only-of-type {\n",
       "        vertical-align: middle;\n",
       "    }\n",
       "\n",
       "    .dataframe tbody tr th {\n",
       "        vertical-align: top;\n",
       "    }\n",
       "\n",
       "    .dataframe thead th {\n",
       "        text-align: right;\n",
       "    }\n",
       "</style>\n",
       "<table border=\"1\" class=\"dataframe\">\n",
       "  <thead>\n",
       "    <tr style=\"text-align: right;\">\n",
       "      <th></th>\n",
       "      <th>transcript</th>\n",
       "      <th>type</th>\n",
       "    </tr>\n",
       "  </thead>\n",
       "  <tbody>\n",
       "    <tr>\n",
       "      <th>0</th>\n",
       "      <td>One 5'7\", the second with darker skin, both suspects armed with firearms, driving a Black Mercedes SUV.  Carjacked at 816 memorial drive at the gas station in Cambridge, Suspects are two middle eastern males, on is 5'7\", second one with</td>\n",
       "      <td>is_crime</td>\n",
       "    </tr>\n",
       "    <tr>\n",
       "      <th>1</th>\n",
       "      <td>darker skin, no description on clothing yet, ahh both are armed with firearms\"</td>\n",
       "      <td>is_crime</td>\n",
       "    </tr>\n",
       "    <tr>\n",
       "      <th>2</th>\n",
       "      <td>508, inaudible...supposedly he is saying inaudible...fled towards Harvard Square. I believe he also said one of the suspects went into the Shell Station and paid cash for gas, put gas in the car, before they fled and that was when the victim was able to get out of the vehicle</td>\n",
       "      <td>is_crime</td>\n",
       "    </tr>\n",
       "    <tr>\n",
       "      <th>3</th>\n",
       "      <td>Control:  they went into that gas station, paid cash for gas and then fled towards Harvard Square?</td>\n",
       "      <td>is_crime</td>\n",
       "    </tr>\n",
       "    <tr>\n",
       "      <th>4</th>\n",
       "      <td>Yea, I believe they have video in that Shell station, I am with the victim and believe they have video in the station</td>\n",
       "      <td>is_crime</td>\n",
       "    </tr>\n",
       "    <tr>\n",
       "      <th>...</th>\n",
       "      <td>...</td>\n",
       "      <td>...</td>\n",
       "    </tr>\n",
       "    <tr>\n",
       "      <th>163</th>\n",
       "      <td>Control, the suspect vehicle is on Spruce - the suspect vehicle is on Spruce.</td>\n",
       "      <td>is_crime</td>\n",
       "    </tr>\n",
       "    <tr>\n",
       "      <th>164</th>\n",
       "      <td>(officer at Spruce ) 19, ahh you have a math problem here,  Do you have 1 or 2 SP's in custody?  Do you know?</td>\n",
       "      <td>is_crime</td>\n",
       "    </tr>\n",
       "    <tr>\n",
       "      <th>165</th>\n",
       "      <td>19, I don't know - I gotten word that there's one at Upland and Mt. Auburn in custody, I've gotten word there's another one at Dexter and Laurel - fallen down waiting for EMS - the second party is not out of his ....inaudible</td>\n",
       "      <td>is_crime</td>\n",
       "    </tr>\n",
       "    <tr>\n",
       "      <th>166</th>\n",
       "      <td>521, All non Cambridge units we have two suspects in custody - one at Dexter and Laurel and one at Mt Auburn and Upland.  Two suspects are in custody.</td>\n",
       "      <td>is_crime</td>\n",
       "    </tr>\n",
       "    <tr>\n",
       "      <th>167</th>\n",
       "      <td>be advised ours is not in custody - he is down on the ground, he is at gunpoint, he is not in custody.  He is not in custody yet.</td>\n",
       "      <td>is_crime</td>\n",
       "    </tr>\n",
       "  </tbody>\n",
       "</table>\n",
       "<p>168 rows × 2 columns</p>\n",
       "</div>"
      ],
      "text/plain": [
       "                                                                                                                                                                                                                                                                               transcript  \\\n",
       "0                                            One 5'7\", the second with darker skin, both suspects armed with firearms, driving a Black Mercedes SUV.  Carjacked at 816 memorial drive at the gas station in Cambridge, Suspects are two middle eastern males, on is 5'7\", second one with   \n",
       "1                                                                                                                                                                                                          darker skin, no description on clothing yet, ahh both are armed with firearms\"   \n",
       "2    508, inaudible...supposedly he is saying inaudible...fled towards Harvard Square. I believe he also said one of the suspects went into the Shell Station and paid cash for gas, put gas in the car, before they fled and that was when the victim was able to get out of the vehicle   \n",
       "3                                                                                                                                                                                      Control:  they went into that gas station, paid cash for gas and then fled towards Harvard Square?   \n",
       "4                                                                                                                                                                   Yea, I believe they have video in that Shell station, I am with the victim and believe they have video in the station   \n",
       "..                                                                                                                                                                                                                                                                                    ...   \n",
       "163                                                                                                                                                                                                         Control, the suspect vehicle is on Spruce - the suspect vehicle is on Spruce.   \n",
       "164                                                                                                                                                                         (officer at Spruce ) 19, ahh you have a math problem here,  Do you have 1 or 2 SP's in custody?  Do you know?   \n",
       "165                                                     19, I don't know - I gotten word that there's one at Upland and Mt. Auburn in custody, I've gotten word there's another one at Dexter and Laurel - fallen down waiting for EMS - the second party is not out of his ....inaudible   \n",
       "166                                                                                                                                521, All non Cambridge units we have two suspects in custody - one at Dexter and Laurel and one at Mt Auburn and Upland.  Two suspects are in custody.   \n",
       "167                                                                                                                                                     be advised ours is not in custody - he is down on the ground, he is at gunpoint, he is not in custody.  He is not in custody yet.   \n",
       "\n",
       "         type  \n",
       "0    is_crime  \n",
       "1    is_crime  \n",
       "2    is_crime  \n",
       "3    is_crime  \n",
       "4    is_crime  \n",
       "..        ...  \n",
       "163  is_crime  \n",
       "164  is_crime  \n",
       "165  is_crime  \n",
       "166  is_crime  \n",
       "167  is_crime  \n",
       "\n",
       "[168 rows x 2 columns]"
      ]
     },
     "execution_count": 136,
     "metadata": {},
     "output_type": "execute_result"
    }
   ],
   "source": [
    "df_transcript"
   ]
  },
  {
   "cell_type": "code",
   "execution_count": 139,
   "metadata": {},
   "outputs": [],
   "source": [
    "# For street name\n",
    "df_transcript.to_csv('watertown_street.csv', index=False)"
   ]
  },
  {
   "cell_type": "markdown",
   "metadata": {},
   "source": [
    "## Football Commentary"
   ]
  },
  {
   "cell_type": "code",
   "execution_count": 69,
   "metadata": {},
   "outputs": [],
   "source": [
    "# https://www.news18.com/fifa-world-cup-2018/commentary/21977/\n",
    "# http://www.chesterfc.com/page/3/?s=LIVE+TEXT+COMMENTARY"
   ]
  },
  {
   "cell_type": "code",
   "execution_count": 70,
   "metadata": {},
   "outputs": [],
   "source": [
    "# import text file, soccer commentary transcript\n",
    "with open('football.txt', 'r') as file:\n",
    "    data2 = file.read()"
   ]
  },
  {
   "cell_type": "code",
   "execution_count": 71,
   "metadata": {},
   "outputs": [],
   "source": [
    "# Split the text by sentence\n",
    "df_nonwatertown = data2.split('\\n')\n",
    "\n",
    "# Remove empty sentences\n",
    "df_nonwatertown = [string for string in df_nonwatertown if len(string) > 0]\n",
    "\n",
    "# Put it into the dataframe\n",
    "df_non_transcript = pd.DataFrame({'transcript':df_nonwatertown})\n",
    "\n",
    "# Define Watertown text as 'is_not_crime'\n",
    "df_non_transcript['type'] = 'is_not_crime'"
   ]
  },
  {
   "cell_type": "code",
   "execution_count": 72,
   "metadata": {},
   "outputs": [
    {
     "data": {
      "text/html": [
       "<div>\n",
       "<style scoped>\n",
       "    .dataframe tbody tr th:only-of-type {\n",
       "        vertical-align: middle;\n",
       "    }\n",
       "\n",
       "    .dataframe tbody tr th {\n",
       "        vertical-align: top;\n",
       "    }\n",
       "\n",
       "    .dataframe thead th {\n",
       "        text-align: right;\n",
       "    }\n",
       "</style>\n",
       "<table border=\"1\" class=\"dataframe\">\n",
       "  <thead>\n",
       "    <tr style=\"text-align: right;\">\n",
       "      <th></th>\n",
       "      <th>transcript</th>\n",
       "      <th>type</th>\n",
       "    </tr>\n",
       "  </thead>\n",
       "  <tbody>\n",
       "    <tr>\n",
       "      <th>0</th>\n",
       "      <td>we played nearly six minutes yer list’ning to five live from the bee bee cee Real Madrid nil Manchester united nil here in the bernabeu (1) Alonso (.) drives it in right footed (.) deep and its headed over the crossbar</td>\n",
       "      <td>is_not_crime</td>\n",
       "    </tr>\n",
       "    <tr>\n",
       "      <th>1</th>\n",
       "      <td>ROBBIE SAVAGE: (2) Yeh (.) I thought united (.) y’know the back four were bit too deep then for the initial free kick they started on the penalty area and drifted towards the six yard a /</td>\n",
       "      <td>is_not_crime</td>\n",
       "    </tr>\n",
       "    <tr>\n",
       "      <th>2</th>\n",
       "      <td>ALAN GREEN: / Sergio</td>\n",
       "      <td>is_not_crime</td>\n",
       "    </tr>\n",
       "    <tr>\n",
       "      <th>3</th>\n",
       "      <td>ROBBIE SAVAGE: /yep/</td>\n",
       "      <td>is_not_crime</td>\n",
       "    </tr>\n",
       "    <tr>\n",
       "      <th>4</th>\n",
       "      <td>ALAN GREEN: /Ramos who got the header in</td>\n",
       "      <td>is_not_crime</td>\n",
       "    </tr>\n",
       "    <tr>\n",
       "      <th>...</th>\n",
       "      <td>...</td>\n",
       "      <td>...</td>\n",
       "    </tr>\n",
       "    <tr>\n",
       "      <th>161</th>\n",
       "      <td>Portugal Substitutions: Beto, Ruben Dias, Manuel Fernandes, Joao Mario, Anthony Lopes, Gelson Martins, Bruno Alves, Ricardo Pereira, Ricardo Quaresma, Mario Rui, Adrien Silva, Andre Silva</td>\n",
       "      <td>is_not_crime</td>\n",
       "    </tr>\n",
       "    <tr>\n",
       "      <th>162</th>\n",
       "      <td>Portugal (4-2-3-1): Rui Patricio; Cedric, Pepe, Jose Fonte, Raphael Guerreiro; William Carvalho, Joao Moutinho; Bernardo Silva, Goncalo Guedes, Bruno Fernandes; Cristiano Ronaldo; Fernando Santos</td>\n",
       "      <td>is_not_crime</td>\n",
       "    </tr>\n",
       "    <tr>\n",
       "      <th>163</th>\n",
       "      <td>Spain look to repeat their 2010 World Cup performance which they won, while trying to avoid their 2014 World Cup performance which they failed to make it out of the group stage. The big news coming out of the Spain camp is the firing of manager Julen Lopetegui on the eve of the start of the World Cup. Lopetegui did not lose a match while managing Spain. Spain players have rallied together, with Gerard Pique referencing the 1989 Michigan Wolverines basketball team, implying that they can win, even with the new manager.</td>\n",
       "      <td>is_not_crime</td>\n",
       "    </tr>\n",
       "    <tr>\n",
       "      <th>164</th>\n",
       "      <td>The 2016 UEFA European Champions will look to make it out of the group stage after failing to do so in 2014. In what might be Cristiano Ronaldo's last World Cup, Ronaldo will be looking for glory. He will have help from an experienced defense, led by goalie Rui Patricio and stalwart center back Pepe, while Goncalo Guedes and Bernardo Silva will look to provide pace and support on the wings.</td>\n",
       "      <td>is_not_crime</td>\n",
       "    </tr>\n",
       "    <tr>\n",
       "      <th>165</th>\n",
       "      <td>In what will be one of the marquee match ups in the group stages of the World Cup, we see Portugal face off against Spain in Group B. Kickoff is a little under an hour away so let's take a look at today's starting lineups and analyze the team news coming out of their respective base camps.</td>\n",
       "      <td>is_not_crime</td>\n",
       "    </tr>\n",
       "  </tbody>\n",
       "</table>\n",
       "<p>166 rows × 2 columns</p>\n",
       "</div>"
      ],
      "text/plain": [
       "                                                                                                                                                                                                                                                                                                                                                                                                                                                                                                                                      transcript  \\\n",
       "0                                                                                                                                                                                                                                                                                                                     we played nearly six minutes yer list’ning to five live from the bee bee cee Real Madrid nil Manchester united nil here in the bernabeu (1) Alonso (.) drives it in right footed (.) deep and its headed over the crossbar   \n",
       "1                                                                                                                                                                                                                                                                                                                                                    ROBBIE SAVAGE: (2) Yeh (.) I thought united (.) y’know the back four were bit too deep then for the initial free kick they started on the penalty area and drifted towards the six yard a /   \n",
       "2                                                                                                                                                                                                                                                                                                                                                                                                                                                                                                                           ALAN GREEN: / Sergio   \n",
       "3                                                                                                                                                                                                                                                                                                                                                                                                                                                                                                                           ROBBIE SAVAGE: /yep/   \n",
       "4                                                                                                                                                                                                                                                                                                                                                                                                                                                                                                       ALAN GREEN: /Ramos who got the header in   \n",
       "..                                                                                                                                                                                                                                                                                                                                                                                                                                                                                                                                           ...   \n",
       "161                                                                                                                                                                                                                                                                                                                                                  Portugal Substitutions: Beto, Ruben Dias, Manuel Fernandes, Joao Mario, Anthony Lopes, Gelson Martins, Bruno Alves, Ricardo Pereira, Ricardo Quaresma, Mario Rui, Adrien Silva, Andre Silva   \n",
       "162                                                                                                                                                                                                                                                                                                                                          Portugal (4-2-3-1): Rui Patricio; Cedric, Pepe, Jose Fonte, Raphael Guerreiro; William Carvalho, Joao Moutinho; Bernardo Silva, Goncalo Guedes, Bruno Fernandes; Cristiano Ronaldo; Fernando Santos   \n",
       "163  Spain look to repeat their 2010 World Cup performance which they won, while trying to avoid their 2014 World Cup performance which they failed to make it out of the group stage. The big news coming out of the Spain camp is the firing of manager Julen Lopetegui on the eve of the start of the World Cup. Lopetegui did not lose a match while managing Spain. Spain players have rallied together, with Gerard Pique referencing the 1989 Michigan Wolverines basketball team, implying that they can win, even with the new manager.   \n",
       "164                                                                                                                                    The 2016 UEFA European Champions will look to make it out of the group stage after failing to do so in 2014. In what might be Cristiano Ronaldo's last World Cup, Ronaldo will be looking for glory. He will have help from an experienced defense, led by goalie Rui Patricio and stalwart center back Pepe, while Goncalo Guedes and Bernardo Silva will look to provide pace and support on the wings.   \n",
       "165                                                                                                                                                                                                                                           In what will be one of the marquee match ups in the group stages of the World Cup, we see Portugal face off against Spain in Group B. Kickoff is a little under an hour away so let's take a look at today's starting lineups and analyze the team news coming out of their respective base camps.   \n",
       "\n",
       "             type  \n",
       "0    is_not_crime  \n",
       "1    is_not_crime  \n",
       "2    is_not_crime  \n",
       "3    is_not_crime  \n",
       "4    is_not_crime  \n",
       "..            ...  \n",
       "161  is_not_crime  \n",
       "162  is_not_crime  \n",
       "163  is_not_crime  \n",
       "164  is_not_crime  \n",
       "165  is_not_crime  \n",
       "\n",
       "[166 rows x 2 columns]"
      ]
     },
     "execution_count": 72,
     "metadata": {},
     "output_type": "execute_result"
    }
   ],
   "source": [
    "df_non_transcript"
   ]
  },
  {
   "cell_type": "code",
   "execution_count": 73,
   "metadata": {},
   "outputs": [],
   "source": [
    "# Combine into single dataframe\n",
    "df = pd.concat([df_transcript, df_non_transcript])\n",
    "df = df.reset_index(drop=True)\n",
    "df['is_crime'] = df['type'].map(lambda t: 1 if t == 'is_crime' else 0)"
   ]
  },
  {
   "cell_type": "code",
   "execution_count": 74,
   "metadata": {},
   "outputs": [
    {
     "data": {
      "text/html": [
       "<div>\n",
       "<style scoped>\n",
       "    .dataframe tbody tr th:only-of-type {\n",
       "        vertical-align: middle;\n",
       "    }\n",
       "\n",
       "    .dataframe tbody tr th {\n",
       "        vertical-align: top;\n",
       "    }\n",
       "\n",
       "    .dataframe thead th {\n",
       "        text-align: right;\n",
       "    }\n",
       "</style>\n",
       "<table border=\"1\" class=\"dataframe\">\n",
       "  <thead>\n",
       "    <tr style=\"text-align: right;\">\n",
       "      <th></th>\n",
       "      <th>transcript</th>\n",
       "      <th>type</th>\n",
       "      <th>is_crime</th>\n",
       "    </tr>\n",
       "  </thead>\n",
       "  <tbody>\n",
       "    <tr>\n",
       "      <th>0</th>\n",
       "      <td>One 5'7\", the second with darker skin, both suspects armed with firearms, driving a Black Mercedes SUV.  Carjacked at 816 memorial drive at the gas station in Cambridge, Suspects are two middle eastern males, on is 5'7\", second one with</td>\n",
       "      <td>is_crime</td>\n",
       "      <td>1</td>\n",
       "    </tr>\n",
       "    <tr>\n",
       "      <th>1</th>\n",
       "      <td>darker skin, no description on clothing yet, ahh both are armed with firearms\"</td>\n",
       "      <td>is_crime</td>\n",
       "      <td>1</td>\n",
       "    </tr>\n",
       "    <tr>\n",
       "      <th>2</th>\n",
       "      <td>508, inaudible...supposedly he is saying inaudible...fled towards Harvard Square. I believe he also said one of the suspects went into the Shell Station and paid cash for gas, put gas in the car, before they fled and that was when the victim was able to get out of the vehicle</td>\n",
       "      <td>is_crime</td>\n",
       "      <td>1</td>\n",
       "    </tr>\n",
       "    <tr>\n",
       "      <th>3</th>\n",
       "      <td>Control:  they went into that gas station, paid cash for gas and then fled towards Harvard Square?</td>\n",
       "      <td>is_crime</td>\n",
       "      <td>1</td>\n",
       "    </tr>\n",
       "    <tr>\n",
       "      <th>4</th>\n",
       "      <td>Yea, I believe they have video in that Shell station, I am with the victim and believe they have video in the station</td>\n",
       "      <td>is_crime</td>\n",
       "      <td>1</td>\n",
       "    </tr>\n",
       "  </tbody>\n",
       "</table>\n",
       "</div>"
      ],
      "text/plain": [
       "                                                                                                                                                                                                                                                                             transcript  \\\n",
       "0                                          One 5'7\", the second with darker skin, both suspects armed with firearms, driving a Black Mercedes SUV.  Carjacked at 816 memorial drive at the gas station in Cambridge, Suspects are two middle eastern males, on is 5'7\", second one with   \n",
       "1                                                                                                                                                                                                        darker skin, no description on clothing yet, ahh both are armed with firearms\"   \n",
       "2  508, inaudible...supposedly he is saying inaudible...fled towards Harvard Square. I believe he also said one of the suspects went into the Shell Station and paid cash for gas, put gas in the car, before they fled and that was when the victim was able to get out of the vehicle   \n",
       "3                                                                                                                                                                                    Control:  they went into that gas station, paid cash for gas and then fled towards Harvard Square?   \n",
       "4                                                                                                                                                                 Yea, I believe they have video in that Shell station, I am with the victim and believe they have video in the station   \n",
       "\n",
       "       type  is_crime  \n",
       "0  is_crime         1  \n",
       "1  is_crime         1  \n",
       "2  is_crime         1  \n",
       "3  is_crime         1  \n",
       "4  is_crime         1  "
      ]
     },
     "execution_count": 74,
     "metadata": {},
     "output_type": "execute_result"
    }
   ],
   "source": [
    "df.head()"
   ]
  },
  {
   "cell_type": "markdown",
   "metadata": {},
   "source": [
    "# Cleaning"
   ]
  },
  {
   "cell_type": "markdown",
   "metadata": {},
   "source": [
    "## Pre-processing"
   ]
  },
  {
   "cell_type": "code",
   "execution_count": 75,
   "metadata": {},
   "outputs": [
    {
     "data": {
      "text/plain": [
       "0    0.50303\n",
       "1    0.49697\n",
       "Name: is_crime, dtype: float64"
      ]
     },
     "execution_count": 75,
     "metadata": {},
     "output_type": "execute_result"
    }
   ],
   "source": [
    "# Drop duplicates and check the base accuracy\n",
    "df.drop_duplicates(inplace=True)\n",
    "df['is_crime'].value_counts(normalize=True)"
   ]
  },
  {
   "cell_type": "code",
   "execution_count": 76,
   "metadata": {},
   "outputs": [],
   "source": [
    "# Preprocessing function\n",
    "def commentaries_to_words(raw_commentary):\n",
    "    \n",
    "    # Get rid of accents\n",
    "    unaccented = unidecode.unidecode(raw_commentary)\n",
    "    \n",
    "    # Get rid of punctuation\n",
    "    letters_only = re.sub(\"[^a-zA-Z]\", \" \", unaccented)\n",
    "    \n",
    "    # Get all lowercase words\n",
    "    words = letters_only.lower().split()\n",
    "    \n",
    "    # Instantiate and run Lemmatizer\n",
    "    lemmatizer = WordNetLemmatizer()\n",
    "    tokens_lem = [lemmatizer.lemmatize(i) for i in words]\n",
    "    \n",
    "    # Remove stop words\n",
    "    stops = set(stopwords.words('english'))\n",
    "    meaningful_words = [w for w in words if not w in stops]\n",
    "    \n",
    "    # Join into string and return the result.\n",
    "    return(\" \".join(meaningful_words))"
   ]
  },
  {
   "cell_type": "code",
   "execution_count": 77,
   "metadata": {},
   "outputs": [
    {
     "name": "stdout",
     "output_type": "stream",
     "text": [
      "Cleaning the commentaries\n"
     ]
    }
   ],
   "source": [
    "# Clean all commentary \n",
    "total_commentaries = df.shape[0]\n",
    "clean_commentaries = []\n",
    "\n",
    "print(\"Cleaning the commentaries\")\n",
    "\n",
    "i = 0\n",
    "for commentary in df['transcript']:\n",
    "    clean_commentaries.append(commentaries_to_words(commentary))\n",
    "    \n",
    "    if (i+1) % 100 == 0:\n",
    "        print(f'Commentary {i+1} of {total_commentaries}.')\n",
    "        \n",
    "        i += 1\n",
    "        \n",
    "        if i == total_commentaries:\n",
    "            print('Done.')"
   ]
  },
  {
   "cell_type": "code",
   "execution_count": 78,
   "metadata": {},
   "outputs": [
    {
     "data": {
      "text/html": [
       "<div>\n",
       "<style scoped>\n",
       "    .dataframe tbody tr th:only-of-type {\n",
       "        vertical-align: middle;\n",
       "    }\n",
       "\n",
       "    .dataframe tbody tr th {\n",
       "        vertical-align: top;\n",
       "    }\n",
       "\n",
       "    .dataframe thead th {\n",
       "        text-align: right;\n",
       "    }\n",
       "</style>\n",
       "<table border=\"1\" class=\"dataframe\">\n",
       "  <thead>\n",
       "    <tr style=\"text-align: right;\">\n",
       "      <th></th>\n",
       "      <th>transcript</th>\n",
       "      <th>type</th>\n",
       "      <th>is_crime</th>\n",
       "      <th>clean_commentary</th>\n",
       "    </tr>\n",
       "  </thead>\n",
       "  <tbody>\n",
       "    <tr>\n",
       "      <th>0</th>\n",
       "      <td>One 5'7\", the second with darker skin, both suspects armed with firearms, driving a Black Mercedes SUV.  Carjacked at 816 memorial drive at the gas station in Cambridge, Suspects are two middle eastern males, on is 5'7\", second one with</td>\n",
       "      <td>is_crime</td>\n",
       "      <td>1</td>\n",
       "      <td>one second darker skin suspects armed firearms driving black mercedes suv carjacked memorial drive gas station cambridge suspects two middle eastern males second one</td>\n",
       "    </tr>\n",
       "    <tr>\n",
       "      <th>1</th>\n",
       "      <td>darker skin, no description on clothing yet, ahh both are armed with firearms\"</td>\n",
       "      <td>is_crime</td>\n",
       "      <td>1</td>\n",
       "      <td>darker skin description clothing yet ahh armed firearms</td>\n",
       "    </tr>\n",
       "    <tr>\n",
       "      <th>2</th>\n",
       "      <td>508, inaudible...supposedly he is saying inaudible...fled towards Harvard Square. I believe he also said one of the suspects went into the Shell Station and paid cash for gas, put gas in the car, before they fled and that was when the victim was able to get out of the vehicle</td>\n",
       "      <td>is_crime</td>\n",
       "      <td>1</td>\n",
       "      <td>inaudible supposedly saying inaudible fled towards harvard square believe also said one suspects went shell station paid cash gas put gas car fled victim able get vehicle</td>\n",
       "    </tr>\n",
       "    <tr>\n",
       "      <th>3</th>\n",
       "      <td>Control:  they went into that gas station, paid cash for gas and then fled towards Harvard Square?</td>\n",
       "      <td>is_crime</td>\n",
       "      <td>1</td>\n",
       "      <td>control went gas station paid cash gas fled towards harvard square</td>\n",
       "    </tr>\n",
       "    <tr>\n",
       "      <th>4</th>\n",
       "      <td>Yea, I believe they have video in that Shell station, I am with the victim and believe they have video in the station</td>\n",
       "      <td>is_crime</td>\n",
       "      <td>1</td>\n",
       "      <td>yea believe video shell station victim believe video station</td>\n",
       "    </tr>\n",
       "  </tbody>\n",
       "</table>\n",
       "</div>"
      ],
      "text/plain": [
       "                                                                                                                                                                                                                                                                             transcript  \\\n",
       "0                                          One 5'7\", the second with darker skin, both suspects armed with firearms, driving a Black Mercedes SUV.  Carjacked at 816 memorial drive at the gas station in Cambridge, Suspects are two middle eastern males, on is 5'7\", second one with   \n",
       "1                                                                                                                                                                                                        darker skin, no description on clothing yet, ahh both are armed with firearms\"   \n",
       "2  508, inaudible...supposedly he is saying inaudible...fled towards Harvard Square. I believe he also said one of the suspects went into the Shell Station and paid cash for gas, put gas in the car, before they fled and that was when the victim was able to get out of the vehicle   \n",
       "3                                                                                                                                                                                    Control:  they went into that gas station, paid cash for gas and then fled towards Harvard Square?   \n",
       "4                                                                                                                                                                 Yea, I believe they have video in that Shell station, I am with the victim and believe they have video in the station   \n",
       "\n",
       "       type  is_crime  \\\n",
       "0  is_crime         1   \n",
       "1  is_crime         1   \n",
       "2  is_crime         1   \n",
       "3  is_crime         1   \n",
       "4  is_crime         1   \n",
       "\n",
       "                                                                                                                                                             clean_commentary  \n",
       "0       one second darker skin suspects armed firearms driving black mercedes suv carjacked memorial drive gas station cambridge suspects two middle eastern males second one  \n",
       "1                                                                                                                     darker skin description clothing yet ahh armed firearms  \n",
       "2  inaudible supposedly saying inaudible fled towards harvard square believe also said one suspects went shell station paid cash gas put gas car fled victim able get vehicle  \n",
       "3                                                                                                          control went gas station paid cash gas fled towards harvard square  \n",
       "4                                                                                                                yea believe video shell station victim believe video station  "
      ]
     },
     "execution_count": 78,
     "metadata": {},
     "output_type": "execute_result"
    }
   ],
   "source": [
    "df = df.assign(clean_commentary = clean_commentaries)\n",
    "df.head()"
   ]
  },
  {
   "cell_type": "code",
   "execution_count": 79,
   "metadata": {},
   "outputs": [
    {
     "data": {
      "text/html": [
       "<div>\n",
       "<style scoped>\n",
       "    .dataframe tbody tr th:only-of-type {\n",
       "        vertical-align: middle;\n",
       "    }\n",
       "\n",
       "    .dataframe tbody tr th {\n",
       "        vertical-align: top;\n",
       "    }\n",
       "\n",
       "    .dataframe thead th {\n",
       "        text-align: right;\n",
       "    }\n",
       "</style>\n",
       "<table border=\"1\" class=\"dataframe\">\n",
       "  <thead>\n",
       "    <tr style=\"text-align: right;\">\n",
       "      <th></th>\n",
       "      <th>commentary</th>\n",
       "      <th>crime</th>\n",
       "    </tr>\n",
       "  </thead>\n",
       "  <tbody>\n",
       "    <tr>\n",
       "      <th>0</th>\n",
       "      <td>one second darker skin suspects armed firearms driving black mercedes suv carjacked memorial drive gas station cambridge suspects two middle eastern males second one</td>\n",
       "      <td>1</td>\n",
       "    </tr>\n",
       "    <tr>\n",
       "      <th>1</th>\n",
       "      <td>darker skin description clothing yet ahh armed firearms</td>\n",
       "      <td>1</td>\n",
       "    </tr>\n",
       "    <tr>\n",
       "      <th>2</th>\n",
       "      <td>inaudible supposedly saying inaudible fled towards harvard square believe also said one suspects went shell station paid cash gas put gas car fled victim able get vehicle</td>\n",
       "      <td>1</td>\n",
       "    </tr>\n",
       "    <tr>\n",
       "      <th>3</th>\n",
       "      <td>control went gas station paid cash gas fled towards harvard square</td>\n",
       "      <td>1</td>\n",
       "    </tr>\n",
       "    <tr>\n",
       "      <th>4</th>\n",
       "      <td>yea believe video shell station victim believe video station</td>\n",
       "      <td>1</td>\n",
       "    </tr>\n",
       "  </tbody>\n",
       "</table>\n",
       "</div>"
      ],
      "text/plain": [
       "                                                                                                                                                                   commentary  \\\n",
       "0       one second darker skin suspects armed firearms driving black mercedes suv carjacked memorial drive gas station cambridge suspects two middle eastern males second one   \n",
       "1                                                                                                                     darker skin description clothing yet ahh armed firearms   \n",
       "2  inaudible supposedly saying inaudible fled towards harvard square believe also said one suspects went shell station paid cash gas put gas car fled victim able get vehicle   \n",
       "3                                                                                                          control went gas station paid cash gas fled towards harvard square   \n",
       "4                                                                                                                yea believe video shell station victim believe video station   \n",
       "\n",
       "   crime  \n",
       "0      1  \n",
       "1      1  \n",
       "2      1  \n",
       "3      1  \n",
       "4      1  "
      ]
     },
     "execution_count": 79,
     "metadata": {},
     "output_type": "execute_result"
    }
   ],
   "source": [
    "df_clean = pd.DataFrame({'commentary': df['clean_commentary'], 'crime': df['is_crime']})\n",
    "df_clean.head()"
   ]
  },
  {
   "cell_type": "code",
   "execution_count": 80,
   "metadata": {},
   "outputs": [],
   "source": [
    "df_clean.to_csv('cleaned_data.csv', index=False)"
   ]
  },
  {
   "cell_type": "code",
   "execution_count": 81,
   "metadata": {},
   "outputs": [
    {
     "data": {
      "text/plain": [
       "0"
      ]
     },
     "execution_count": 81,
     "metadata": {},
     "output_type": "execute_result"
    }
   ],
   "source": [
    "df_clean['commentary'].isna().sum()"
   ]
  },
  {
   "cell_type": "markdown",
   "metadata": {},
   "source": [
    "# NLP"
   ]
  },
  {
   "cell_type": "markdown",
   "metadata": {},
   "source": [
    "## Classification Models"
   ]
  },
  {
   "cell_type": "code",
   "execution_count": 82,
   "metadata": {},
   "outputs": [],
   "source": [
    "# import libraries\n",
    "\n",
    "# For classification modeling\n",
    "from sklearn.model_selection import train_test_split, cross_val_score, GridSearchCV\n",
    "from sklearn.linear_model import LogisticRegression\n",
    "from sklearn.ensemble import RandomForestClassifier\n",
    "from sklearn.naive_bayes import MultinomialNB\n",
    "\n",
    "# For evaluation\n",
    "from sklearn.metrics import confusion_matrix"
   ]
  },
  {
   "cell_type": "code",
   "execution_count": 83,
   "metadata": {},
   "outputs": [],
   "source": [
    "# import data\n",
    "df = pd.read_csv('cleaned_data.csv')"
   ]
  },
  {
   "cell_type": "code",
   "execution_count": 84,
   "metadata": {},
   "outputs": [
    {
     "data": {
      "text/plain": [
       "0         one second darker skin suspects armed firearms driving black mercedes suv carjacked memorial drive gas station cambridge suspects two middle eastern males second one\n",
       "1                                                                                                                       darker skin description clothing yet ahh armed firearms\n",
       "2    inaudible supposedly saying inaudible fled towards harvard square believe also said one suspects went shell station paid cash gas put gas car fled victim able get vehicle\n",
       "3                                                                                                            control went gas station paid cash gas fled towards harvard square\n",
       "4                                                                                                                  yea believe video shell station victim believe video station\n",
       "Name: commentary, dtype: object"
      ]
     },
     "execution_count": 84,
     "metadata": {},
     "output_type": "execute_result"
    }
   ],
   "source": [
    "# Few examples of crime\n",
    "df.loc[df['crime']==1, 'commentary'].head()"
   ]
  },
  {
   "cell_type": "code",
   "execution_count": 85,
   "metadata": {},
   "outputs": [
    {
     "data": {
      "text/plain": [
       "164    played nearly six minutes yer list ning five live bee bee cee real madrid nil manchester united nil bernabeu alonso drives right footed deep headed crossbar\n",
       "165                                        robbie savage yeh thought united know back four bit deep initial free kick started penalty area drifted towards six yard\n",
       "166                                                                                                                                               alan green sergio\n",
       "167                                                                                                                                               robbie savage yep\n",
       "168                                                                                                                                     alan green ramos got header\n",
       "Name: commentary, dtype: object"
      ]
     },
     "execution_count": 85,
     "metadata": {},
     "output_type": "execute_result"
    }
   ],
   "source": [
    "# Few examples of not_crime\n",
    "df.loc[df['crime']==0, 'commentary'].head()"
   ]
  },
  {
   "cell_type": "code",
   "execution_count": 86,
   "metadata": {},
   "outputs": [],
   "source": [
    "df = df.dropna()"
   ]
  },
  {
   "cell_type": "markdown",
   "metadata": {},
   "source": [
    "### Get baseline accuracy score"
   ]
  },
  {
   "cell_type": "code",
   "execution_count": 87,
   "metadata": {},
   "outputs": [
    {
     "data": {
      "text/plain": [
       "0    0.506098\n",
       "1    0.493902\n",
       "Name: crime, dtype: float64"
      ]
     },
     "execution_count": 87,
     "metadata": {},
     "output_type": "execute_result"
    }
   ],
   "source": [
    "df['crime'].value_counts(normalize=True)"
   ]
  },
  {
   "cell_type": "markdown",
   "metadata": {},
   "source": [
    "### Train/Test Split"
   ]
  },
  {
   "cell_type": "code",
   "execution_count": 88,
   "metadata": {},
   "outputs": [],
   "source": [
    "# Set features and target\n",
    "features = df['commentary']\n",
    "\n",
    "X = features\n",
    "y = df['crime']"
   ]
  },
  {
   "cell_type": "code",
   "execution_count": 89,
   "metadata": {},
   "outputs": [],
   "source": [
    "# Train/test split\n",
    "X_train, X_test, y_train, y_test = train_test_split(X, y, stratify=y, random_state=42)"
   ]
  },
  {
   "cell_type": "markdown",
   "metadata": {},
   "source": [
    "### Bag of Words"
   ]
  },
  {
   "cell_type": "code",
   "execution_count": 90,
   "metadata": {},
   "outputs": [],
   "source": [
    "# Instantiate CountVectorizer and add some stop words\n",
    "cv = CountVectorizer(stop_words=['inaudible','okay','portugal','spain'])\n",
    "\n",
    "# Fit the vectorizer\n",
    "X_train_cv = cv.fit_transform(X_train)\n",
    "X_train_cv = pd.DataFrame(X_train_cv.toarray(), columns=cv.get_feature_names())\n",
    "\n",
    "# Transform the test set\n",
    "X_test_cv = cv.transform(X_test)"
   ]
  },
  {
   "cell_type": "markdown",
   "metadata": {},
   "source": [
    "### Logistic Regression"
   ]
  },
  {
   "cell_type": "code",
   "execution_count": 91,
   "metadata": {},
   "outputs": [
    {
     "name": "stdout",
     "output_type": "stream",
     "text": [
      "CV score: 0.9512195121951219\n",
      "Training accuracy: 1.0\n",
      "Testing accuracy: 0.975609756097561\n"
     ]
    }
   ],
   "source": [
    "# Instantiate model\n",
    "lr = LogisticRegression(solver='lbfgs')\n",
    "\n",
    "# Fit model\n",
    "lr.fit(X_train_cv, y_train)\n",
    "\n",
    "# Get scores\n",
    "print('CV score:', cross_val_score(lr, X_train_cv, y_train, cv=3).mean())\n",
    "print('Training accuracy:', lr.score(X_train_cv, y_train))\n",
    "print('Testing accuracy:', lr.score(X_test_cv, y_test))"
   ]
  },
  {
   "cell_type": "markdown",
   "metadata": {},
   "source": [
    "### Naive Bayes"
   ]
  },
  {
   "cell_type": "code",
   "execution_count": 92,
   "metadata": {},
   "outputs": [
    {
     "name": "stdout",
     "output_type": "stream",
     "text": [
      "CV score: 0.9430894308943089\n",
      "Training accuracy: 0.9959349593495935\n",
      "Testing accuracy: 0.9512195121951219\n"
     ]
    }
   ],
   "source": [
    "# Instantiate model\n",
    "nb = MultinomialNB(0.7)\n",
    "\n",
    "# Fit model\n",
    "nb.fit(X_train_cv, y_train)\n",
    "\n",
    "# Get scores\n",
    "print('CV score:', cross_val_score(nb, X_train_cv, y_train, cv=3).mean())\n",
    "print('Training accuracy:', nb.score(X_train_cv, y_train))\n",
    "print('Testing accuracy:', nb.score(X_test_cv, y_test))"
   ]
  },
  {
   "cell_type": "markdown",
   "metadata": {},
   "source": [
    "### Random Forest"
   ]
  },
  {
   "cell_type": "code",
   "execution_count": 93,
   "metadata": {},
   "outputs": [],
   "source": [
    "# Instantiate model\n",
    "rf = RandomForestClassifier()"
   ]
  },
  {
   "cell_type": "code",
   "execution_count": 94,
   "metadata": {},
   "outputs": [
    {
     "data": {
      "text/plain": [
       "RandomForestClassifier(bootstrap=True, ccp_alpha=0.0, class_weight=None,\n",
       "                       criterion='gini', max_depth=None, max_features='auto',\n",
       "                       max_leaf_nodes=None, max_samples=None,\n",
       "                       min_impurity_decrease=0.0, min_impurity_split=None,\n",
       "                       min_samples_leaf=1, min_samples_split=2,\n",
       "                       min_weight_fraction_leaf=0.0, n_estimators=100,\n",
       "                       n_jobs=None, oob_score=False, random_state=None,\n",
       "                       verbose=0, warm_start=False)"
      ]
     },
     "execution_count": 94,
     "metadata": {},
     "output_type": "execute_result"
    }
   ],
   "source": [
    "rf.fit(X_train_cv, y_train)"
   ]
  },
  {
   "cell_type": "code",
   "execution_count": 95,
   "metadata": {},
   "outputs": [
    {
     "data": {
      "text/plain": [
       "0.8536326530612245"
      ]
     },
     "execution_count": 95,
     "metadata": {},
     "output_type": "execute_result"
    }
   ],
   "source": [
    "cross_val_score(rf,X_train_cv,y_train).mean()"
   ]
  },
  {
   "cell_type": "code",
   "execution_count": 96,
   "metadata": {},
   "outputs": [
    {
     "name": "stdout",
     "output_type": "stream",
     "text": [
      "0.8699591836734694\n"
     ]
    },
    {
     "data": {
      "text/plain": [
       "{'max_depth': 5, 'min_samples_split': 2, 'n_estimators': 25}"
      ]
     },
     "execution_count": 96,
     "metadata": {},
     "output_type": "execute_result"
    }
   ],
   "source": [
    "# Set model params \n",
    "rf_params = {\n",
    "    'n_estimators': [15, 20, 25],\n",
    "    'max_depth': [None, 1, 2, 3, 4, 5],\n",
    "    'min_samples_split': [2,3,4]\n",
    "}\n",
    "\n",
    "rf_gs = GridSearchCV(rf, param_grid=rf_params)\n",
    "rf_gs.fit(X_train_cv, y_train)\n",
    "print(rf_gs.best_score_)\n",
    "rf_gs.best_params_"
   ]
  },
  {
   "cell_type": "code",
   "execution_count": 97,
   "metadata": {},
   "outputs": [
    {
     "name": "stdout",
     "output_type": "stream",
     "text": [
      "train score: 0.8617886178861789\n",
      "test score: 0.8902439024390244\n"
     ]
    }
   ],
   "source": [
    "# Store the best fit model as best_rf \n",
    "best_rf = rf_gs.best_estimator_\n",
    "\n",
    "# Evaluate the best fit model on the train and test data\n",
    "print('train score:', best_rf.score(X_train_cv, y_train))\n",
    "print('test score:', best_rf.score(X_test_cv, y_test))"
   ]
  },
  {
   "cell_type": "markdown",
   "metadata": {},
   "source": [
    "## Evaluation"
   ]
  },
  {
   "cell_type": "code",
   "execution_count": 98,
   "metadata": {},
   "outputs": [],
   "source": [
    "from sklearn.metrics import confusion_matrix"
   ]
  },
  {
   "cell_type": "code",
   "execution_count": 99,
   "metadata": {},
   "outputs": [],
   "source": [
    "# Use best scoring model to evaluate\n",
    "predictions = lr.predict(X_test_cv)\n",
    "cm = confusion_matrix(y_test, predictions)"
   ]
  },
  {
   "cell_type": "code",
   "execution_count": 100,
   "metadata": {},
   "outputs": [
    {
     "data": {
      "text/html": [
       "<div>\n",
       "<style scoped>\n",
       "    .dataframe tbody tr th:only-of-type {\n",
       "        vertical-align: middle;\n",
       "    }\n",
       "\n",
       "    .dataframe tbody tr th {\n",
       "        vertical-align: top;\n",
       "    }\n",
       "\n",
       "    .dataframe thead th {\n",
       "        text-align: right;\n",
       "    }\n",
       "</style>\n",
       "<table border=\"1\" class=\"dataframe\">\n",
       "  <thead>\n",
       "    <tr style=\"text-align: right;\">\n",
       "      <th></th>\n",
       "      <th>predicted neg</th>\n",
       "      <th>predicted pos</th>\n",
       "    </tr>\n",
       "  </thead>\n",
       "  <tbody>\n",
       "    <tr>\n",
       "      <th>actual neg</th>\n",
       "      <td>41</td>\n",
       "      <td>1</td>\n",
       "    </tr>\n",
       "    <tr>\n",
       "      <th>actual pos</th>\n",
       "      <td>1</td>\n",
       "      <td>39</td>\n",
       "    </tr>\n",
       "  </tbody>\n",
       "</table>\n",
       "</div>"
      ],
      "text/plain": [
       "            predicted neg  predicted pos\n",
       "actual neg             41              1\n",
       "actual pos              1             39"
      ]
     },
     "execution_count": 100,
     "metadata": {},
     "output_type": "execute_result"
    }
   ],
   "source": [
    "# Convert confusion matrix to dataframe\n",
    "cm_df = pd.DataFrame(cm,\n",
    "                    columns = ['predicted neg', 'predicted pos'],\n",
    "                    index = ['actual neg', 'actual pos'])\n",
    "cm_df"
   ]
  },
  {
   "cell_type": "code",
   "execution_count": 101,
   "metadata": {},
   "outputs": [
    {
     "data": {
      "text/html": [
       "<div>\n",
       "<style scoped>\n",
       "    .dataframe tbody tr th:only-of-type {\n",
       "        vertical-align: middle;\n",
       "    }\n",
       "\n",
       "    .dataframe tbody tr th {\n",
       "        vertical-align: top;\n",
       "    }\n",
       "\n",
       "    .dataframe thead th {\n",
       "        text-align: right;\n",
       "    }\n",
       "</style>\n",
       "<table border=\"1\" class=\"dataframe\">\n",
       "  <thead>\n",
       "    <tr style=\"text-align: right;\">\n",
       "      <th></th>\n",
       "      <th>actual</th>\n",
       "      <th>predicted</th>\n",
       "      <th>confusion</th>\n",
       "    </tr>\n",
       "  </thead>\n",
       "  <tbody>\n",
       "    <tr>\n",
       "      <th>109</th>\n",
       "      <td>1</td>\n",
       "      <td>1</td>\n",
       "      <td>TP</td>\n",
       "    </tr>\n",
       "    <tr>\n",
       "      <th>93</th>\n",
       "      <td>1</td>\n",
       "      <td>1</td>\n",
       "      <td>TP</td>\n",
       "    </tr>\n",
       "    <tr>\n",
       "      <th>52</th>\n",
       "      <td>1</td>\n",
       "      <td>1</td>\n",
       "      <td>TP</td>\n",
       "    </tr>\n",
       "  </tbody>\n",
       "</table>\n",
       "</div>"
      ],
      "text/plain": [
       "     actual  predicted confusion\n",
       "109       1          1        TP\n",
       "93        1          1        TP\n",
       "52        1          1        TP"
      ]
     },
     "execution_count": 101,
     "metadata": {},
     "output_type": "execute_result"
    }
   ],
   "source": [
    "# Create dataframe to show true and predicted values\n",
    "results = pd.DataFrame()\n",
    "results['actual'] = y_test\n",
    "results['predicted'] = predictions\n",
    "\n",
    "# Create column to show confusion matrix values\n",
    "results['confusion'] = ''\n",
    "\n",
    "# Set true positives\n",
    "results['confusion'] = np.where(((results['actual']==1) & (results['predicted']==1)), 'TP', results['confusion'])\n",
    "\n",
    "# Set true negatives\n",
    "results['confusion'] = np.where(((results['actual']==0) & (results['predicted']==0)), 'TN', results['confusion'])\n",
    "\n",
    "# Set false positives\n",
    "results['confusion'] = np.where(((results['actual']==0) & (results['predicted']==1)), 'FP', results['confusion'])\n",
    "\n",
    "# Set false negatives\n",
    "results['confusion'] = np.where(((results['actual']==1) & (results['predicted']==0)), 'FN', results['confusion'])\n",
    "\n",
    "results.head(3)"
   ]
  },
  {
   "cell_type": "code",
   "execution_count": 102,
   "metadata": {},
   "outputs": [],
   "source": [
    "coefs = list(zip(cv.get_feature_names(), lr.coef_[0].T))\n",
    "coefs = pd.DataFrame(coefs, columns = ['word','coef'])\n",
    "coefs['e^coef'] = np.exp(coefs['coef'])"
   ]
  },
  {
   "cell_type": "code",
   "execution_count": 103,
   "metadata": {},
   "outputs": [
    {
     "data": {
      "text/html": [
       "<div>\n",
       "<style scoped>\n",
       "    .dataframe tbody tr th:only-of-type {\n",
       "        vertical-align: middle;\n",
       "    }\n",
       "\n",
       "    .dataframe tbody tr th {\n",
       "        vertical-align: top;\n",
       "    }\n",
       "\n",
       "    .dataframe thead th {\n",
       "        text-align: right;\n",
       "    }\n",
       "</style>\n",
       "<table border=\"1\" class=\"dataframe\">\n",
       "  <thead>\n",
       "    <tr style=\"text-align: right;\">\n",
       "      <th></th>\n",
       "      <th>word</th>\n",
       "      <th>coef</th>\n",
       "      <th>e^coef</th>\n",
       "    </tr>\n",
       "  </thead>\n",
       "  <tbody>\n",
       "    <tr>\n",
       "      <th>865</th>\n",
       "      <td>spruce</td>\n",
       "      <td>0.971849</td>\n",
       "      <td>2.642827</td>\n",
       "    </tr>\n",
       "    <tr>\n",
       "      <th>993</th>\n",
       "      <td>vehicle</td>\n",
       "      <td>0.880107</td>\n",
       "      <td>2.411157</td>\n",
       "    </tr>\n",
       "    <tr>\n",
       "      <th>652</th>\n",
       "      <td>officer</td>\n",
       "      <td>0.771334</td>\n",
       "      <td>2.162649</td>\n",
       "    </tr>\n",
       "    <tr>\n",
       "      <th>249</th>\n",
       "      <td>dexter</td>\n",
       "      <td>0.746303</td>\n",
       "      <td>2.109188</td>\n",
       "    </tr>\n",
       "    <tr>\n",
       "      <th>1014</th>\n",
       "      <td>watertown</td>\n",
       "      <td>0.731561</td>\n",
       "      <td>2.078322</td>\n",
       "    </tr>\n",
       "    <tr>\n",
       "      <th>621</th>\n",
       "      <td>mt</td>\n",
       "      <td>0.682675</td>\n",
       "      <td>1.979165</td>\n",
       "    </tr>\n",
       "    <tr>\n",
       "      <th>72</th>\n",
       "      <td>auburn</td>\n",
       "      <td>0.682675</td>\n",
       "      <td>1.979165</td>\n",
       "    </tr>\n",
       "    <tr>\n",
       "      <th>198</th>\n",
       "      <td>copy</td>\n",
       "      <td>0.589220</td>\n",
       "      <td>1.802582</td>\n",
       "    </tr>\n",
       "    <tr>\n",
       "      <th>520</th>\n",
       "      <td>laurel</td>\n",
       "      <td>0.576691</td>\n",
       "      <td>1.780138</td>\n",
       "    </tr>\n",
       "    <tr>\n",
       "      <th>189</th>\n",
       "      <td>confirm</td>\n",
       "      <td>0.561408</td>\n",
       "      <td>1.753138</td>\n",
       "    </tr>\n",
       "  </tbody>\n",
       "</table>\n",
       "</div>"
      ],
      "text/plain": [
       "           word      coef    e^coef\n",
       "865      spruce  0.971849  2.642827\n",
       "993     vehicle  0.880107  2.411157\n",
       "652     officer  0.771334  2.162649\n",
       "249      dexter  0.746303  2.109188\n",
       "1014  watertown  0.731561  2.078322\n",
       "621          mt  0.682675  1.979165\n",
       "72       auburn  0.682675  1.979165\n",
       "198        copy  0.589220  1.802582\n",
       "520      laurel  0.576691  1.780138\n",
       "189     confirm  0.561408  1.753138"
      ]
     },
     "execution_count": 103,
     "metadata": {},
     "output_type": "execute_result"
    }
   ],
   "source": [
    "# Show words most associated with is_Crime\n",
    "coefs.sort_values(by='e^coef', ascending=False).head(10)"
   ]
  },
  {
   "cell_type": "code",
   "execution_count": 104,
   "metadata": {},
   "outputs": [
    {
     "data": {
      "text/html": [
       "<div>\n",
       "<style scoped>\n",
       "    .dataframe tbody tr th:only-of-type {\n",
       "        vertical-align: middle;\n",
       "    }\n",
       "\n",
       "    .dataframe tbody tr th {\n",
       "        vertical-align: top;\n",
       "    }\n",
       "\n",
       "    .dataframe thead th {\n",
       "        text-align: right;\n",
       "    }\n",
       "</style>\n",
       "<table border=\"1\" class=\"dataframe\">\n",
       "  <thead>\n",
       "    <tr style=\"text-align: right;\">\n",
       "      <th></th>\n",
       "      <th>word</th>\n",
       "      <th>coef</th>\n",
       "      <th>e^coef</th>\n",
       "    </tr>\n",
       "  </thead>\n",
       "  <tbody>\n",
       "    <tr>\n",
       "      <th>84</th>\n",
       "      <td>ball</td>\n",
       "      <td>-0.844388</td>\n",
       "      <td>0.429820</td>\n",
       "    </tr>\n",
       "    <tr>\n",
       "      <th>387</th>\n",
       "      <td>get</td>\n",
       "      <td>-0.842814</td>\n",
       "      <td>0.430498</td>\n",
       "    </tr>\n",
       "    <tr>\n",
       "      <th>408</th>\n",
       "      <td>good</td>\n",
       "      <td>-0.835097</td>\n",
       "      <td>0.433833</td>\n",
       "    </tr>\n",
       "    <tr>\n",
       "      <th>946</th>\n",
       "      <td>time</td>\n",
       "      <td>-0.785553</td>\n",
       "      <td>0.455867</td>\n",
       "    </tr>\n",
       "    <tr>\n",
       "      <th>839</th>\n",
       "      <td>silva</td>\n",
       "      <td>-0.777572</td>\n",
       "      <td>0.459520</td>\n",
       "    </tr>\n",
       "    <tr>\n",
       "      <th>948</th>\n",
       "      <td>today</td>\n",
       "      <td>-0.697451</td>\n",
       "      <td>0.497852</td>\n",
       "    </tr>\n",
       "    <tr>\n",
       "      <th>127</th>\n",
       "      <td>bruno</td>\n",
       "      <td>-0.683084</td>\n",
       "      <td>0.505057</td>\n",
       "    </tr>\n",
       "    <tr>\n",
       "      <th>330</th>\n",
       "      <td>fernandes</td>\n",
       "      <td>-0.683084</td>\n",
       "      <td>0.505057</td>\n",
       "    </tr>\n",
       "    <tr>\n",
       "      <th>789</th>\n",
       "      <td>ronaldo</td>\n",
       "      <td>-0.680434</td>\n",
       "      <td>0.506397</td>\n",
       "    </tr>\n",
       "    <tr>\n",
       "      <th>212</th>\n",
       "      <td>cristiano</td>\n",
       "      <td>-0.680344</td>\n",
       "      <td>0.506443</td>\n",
       "    </tr>\n",
       "  </tbody>\n",
       "</table>\n",
       "</div>"
      ],
      "text/plain": [
       "          word      coef    e^coef\n",
       "84        ball -0.844388  0.429820\n",
       "387        get -0.842814  0.430498\n",
       "408       good -0.835097  0.433833\n",
       "946       time -0.785553  0.455867\n",
       "839      silva -0.777572  0.459520\n",
       "948      today -0.697451  0.497852\n",
       "127      bruno -0.683084  0.505057\n",
       "330  fernandes -0.683084  0.505057\n",
       "789    ronaldo -0.680434  0.506397\n",
       "212  cristiano -0.680344  0.506443"
      ]
     },
     "execution_count": 104,
     "metadata": {},
     "output_type": "execute_result"
    }
   ],
   "source": [
    "coefs.sort_values(by='e^coef').head(10)"
   ]
  },
  {
   "cell_type": "markdown",
   "metadata": {},
   "source": [
    "# Street name "
   ]
  },
  {
   "cell_type": "code",
   "execution_count": 105,
   "metadata": {},
   "outputs": [
    {
     "name": "stdout",
     "output_type": "stream",
     "text": [
      "Requirement already satisfied: spacy in /Users/moon/anaconda3/lib/python3.7/site-packages (2.2.4)\n",
      "Requirement already satisfied: catalogue<1.1.0,>=0.0.7 in /Users/moon/anaconda3/lib/python3.7/site-packages (from spacy) (1.0.0)\n",
      "Requirement already satisfied: tqdm<5.0.0,>=4.38.0 in /Users/moon/anaconda3/lib/python3.7/site-packages (from spacy) (4.42.1)\n",
      "Requirement already satisfied: wasabi<1.1.0,>=0.4.0 in /Users/moon/anaconda3/lib/python3.7/site-packages (from spacy) (0.6.0)\n",
      "Requirement already satisfied: requests<3.0.0,>=2.13.0 in /Users/moon/anaconda3/lib/python3.7/site-packages (from spacy) (2.22.0)\n",
      "Requirement already satisfied: murmurhash<1.1.0,>=0.28.0 in /Users/moon/anaconda3/lib/python3.7/site-packages (from spacy) (1.0.2)\n",
      "Requirement already satisfied: numpy>=1.15.0 in /Users/moon/anaconda3/lib/python3.7/site-packages (from spacy) (1.18.2)\n",
      "Requirement already satisfied: plac<1.2.0,>=0.9.6 in /Users/moon/anaconda3/lib/python3.7/site-packages (from spacy) (1.1.3)\n",
      "Requirement already satisfied: cymem<2.1.0,>=2.0.2 in /Users/moon/anaconda3/lib/python3.7/site-packages (from spacy) (2.0.3)\n",
      "Requirement already satisfied: thinc==7.4.0 in /Users/moon/anaconda3/lib/python3.7/site-packages (from spacy) (7.4.0)\n",
      "Requirement already satisfied: blis<0.5.0,>=0.4.0 in /Users/moon/anaconda3/lib/python3.7/site-packages (from spacy) (0.4.1)\n",
      "Requirement already satisfied: preshed<3.1.0,>=3.0.2 in /Users/moon/anaconda3/lib/python3.7/site-packages (from spacy) (3.0.2)\n",
      "Requirement already satisfied: srsly<1.1.0,>=1.0.2 in /Users/moon/anaconda3/lib/python3.7/site-packages (from spacy) (1.0.2)\n",
      "Requirement already satisfied: setuptools in /Users/moon/anaconda3/lib/python3.7/site-packages (from spacy) (45.2.0.post20200210)\n",
      "Requirement already satisfied: importlib-metadata>=0.20; python_version < \"3.8\" in /Users/moon/anaconda3/lib/python3.7/site-packages (from catalogue<1.1.0,>=0.0.7->spacy) (1.5.0)\n",
      "Requirement already satisfied: chardet<3.1.0,>=3.0.2 in /Users/moon/anaconda3/lib/python3.7/site-packages (from requests<3.0.0,>=2.13.0->spacy) (3.0.4)\n",
      "Requirement already satisfied: certifi>=2017.4.17 in /Users/moon/anaconda3/lib/python3.7/site-packages (from requests<3.0.0,>=2.13.0->spacy) (2019.11.28)\n",
      "Requirement already satisfied: idna<2.9,>=2.5 in /Users/moon/anaconda3/lib/python3.7/site-packages (from requests<3.0.0,>=2.13.0->spacy) (2.8)\n",
      "Requirement already satisfied: urllib3!=1.25.0,!=1.25.1,<1.26,>=1.21.1 in /Users/moon/anaconda3/lib/python3.7/site-packages (from requests<3.0.0,>=2.13.0->spacy) (1.25.8)\n",
      "Requirement already satisfied: zipp>=0.5 in /Users/moon/anaconda3/lib/python3.7/site-packages (from importlib-metadata>=0.20; python_version < \"3.8\"->catalogue<1.1.0,>=0.0.7->spacy) (2.2.0)\n",
      "Note: you may need to restart the kernel to use updated packages.\n"
     ]
    }
   ],
   "source": [
    "pip install spacy"
   ]
  },
  {
   "cell_type": "code",
   "execution_count": 106,
   "metadata": {},
   "outputs": [
    {
     "name": "stdout",
     "output_type": "stream",
     "text": [
      "Requirement already satisfied: usaddress in /Users/moon/anaconda3/lib/python3.7/site-packages (0.5.10)\n",
      "Requirement already satisfied: future>=0.14 in /Users/moon/anaconda3/lib/python3.7/site-packages (from usaddress) (0.18.2)\n",
      "Requirement already satisfied: probableparsing in /Users/moon/anaconda3/lib/python3.7/site-packages (from usaddress) (0.0.1)\n",
      "Requirement already satisfied: python-crfsuite>=0.7 in /Users/moon/anaconda3/lib/python3.7/site-packages (from usaddress) (0.9.7)\n",
      "Note: you may need to restart the kernel to use updated packages.\n"
     ]
    }
   ],
   "source": [
    "pip install usaddress"
   ]
  },
  {
   "cell_type": "markdown",
   "metadata": {},
   "source": [
    "### Import all necessary libraries"
   ]
  },
  {
   "cell_type": "code",
   "execution_count": 107,
   "metadata": {},
   "outputs": [],
   "source": [
    "import spacy\n",
    "import re\n",
    "import pandas as pd\n",
    "from spacy import displacy\n",
    "from spacy.attrs import LOWER \n",
    "from collections import Counter\n",
    "from spacy.matcher import Matcher\n",
    "import numpy as np\n",
    "import usaddress\n",
    "import requests\n",
    "import pandas as pd\n",
    "\n",
    "import nltk\n",
    "from nltk.tokenize import RegexpTokenizer"
   ]
  },
  {
   "cell_type": "code",
   "execution_count": 111,
   "metadata": {},
   "outputs": [
    {
     "name": "stdout",
     "output_type": "stream",
     "text": [
      "Collecting https://github.com/explosion/spacy-models/releases/download/en_core_web_sm-2.2.0/en_core_web_sm-2.2.0.tar.gz\n",
      "  Using cached https://github.com/explosion/spacy-models/releases/download/en_core_web_sm-2.2.0/en_core_web_sm-2.2.0.tar.gz (12.0 MB)\n",
      "Requirement already satisfied (use --upgrade to upgrade): en-core-web-sm==2.2.0 from https://github.com/explosion/spacy-models/releases/download/en_core_web_sm-2.2.0/en_core_web_sm-2.2.0.tar.gz in /Users/moon/anaconda3/lib/python3.7/site-packages\n",
      "Requirement already satisfied: spacy>=2.2.0 in /Users/moon/anaconda3/lib/python3.7/site-packages (from en-core-web-sm==2.2.0) (2.2.4)\n",
      "Requirement already satisfied: blis<0.5.0,>=0.4.0 in /Users/moon/anaconda3/lib/python3.7/site-packages (from spacy>=2.2.0->en-core-web-sm==2.2.0) (0.4.1)\n",
      "Requirement already satisfied: thinc==7.4.0 in /Users/moon/anaconda3/lib/python3.7/site-packages (from spacy>=2.2.0->en-core-web-sm==2.2.0) (7.4.0)\n",
      "Requirement already satisfied: setuptools in /Users/moon/anaconda3/lib/python3.7/site-packages (from spacy>=2.2.0->en-core-web-sm==2.2.0) (45.2.0.post20200210)\n",
      "Requirement already satisfied: preshed<3.1.0,>=3.0.2 in /Users/moon/anaconda3/lib/python3.7/site-packages (from spacy>=2.2.0->en-core-web-sm==2.2.0) (3.0.2)\n",
      "Requirement already satisfied: srsly<1.1.0,>=1.0.2 in /Users/moon/anaconda3/lib/python3.7/site-packages (from spacy>=2.2.0->en-core-web-sm==2.2.0) (1.0.2)\n",
      "Requirement already satisfied: wasabi<1.1.0,>=0.4.0 in /Users/moon/anaconda3/lib/python3.7/site-packages (from spacy>=2.2.0->en-core-web-sm==2.2.0) (0.6.0)\n",
      "Requirement already satisfied: numpy>=1.15.0 in /Users/moon/anaconda3/lib/python3.7/site-packages (from spacy>=2.2.0->en-core-web-sm==2.2.0) (1.18.2)\n",
      "Requirement already satisfied: murmurhash<1.1.0,>=0.28.0 in /Users/moon/anaconda3/lib/python3.7/site-packages (from spacy>=2.2.0->en-core-web-sm==2.2.0) (1.0.2)\n",
      "Requirement already satisfied: cymem<2.1.0,>=2.0.2 in /Users/moon/anaconda3/lib/python3.7/site-packages (from spacy>=2.2.0->en-core-web-sm==2.2.0) (2.0.3)\n",
      "Requirement already satisfied: plac<1.2.0,>=0.9.6 in /Users/moon/anaconda3/lib/python3.7/site-packages (from spacy>=2.2.0->en-core-web-sm==2.2.0) (1.1.3)\n",
      "Requirement already satisfied: requests<3.0.0,>=2.13.0 in /Users/moon/anaconda3/lib/python3.7/site-packages (from spacy>=2.2.0->en-core-web-sm==2.2.0) (2.22.0)\n",
      "Requirement already satisfied: tqdm<5.0.0,>=4.38.0 in /Users/moon/anaconda3/lib/python3.7/site-packages (from spacy>=2.2.0->en-core-web-sm==2.2.0) (4.42.1)\n",
      "Requirement already satisfied: catalogue<1.1.0,>=0.0.7 in /Users/moon/anaconda3/lib/python3.7/site-packages (from spacy>=2.2.0->en-core-web-sm==2.2.0) (1.0.0)\n",
      "Requirement already satisfied: certifi>=2017.4.17 in /Users/moon/anaconda3/lib/python3.7/site-packages (from requests<3.0.0,>=2.13.0->spacy>=2.2.0->en-core-web-sm==2.2.0) (2019.11.28)\n",
      "Requirement already satisfied: idna<2.9,>=2.5 in /Users/moon/anaconda3/lib/python3.7/site-packages (from requests<3.0.0,>=2.13.0->spacy>=2.2.0->en-core-web-sm==2.2.0) (2.8)\n",
      "Requirement already satisfied: urllib3!=1.25.0,!=1.25.1,<1.26,>=1.21.1 in /Users/moon/anaconda3/lib/python3.7/site-packages (from requests<3.0.0,>=2.13.0->spacy>=2.2.0->en-core-web-sm==2.2.0) (1.25.8)\n",
      "Requirement already satisfied: chardet<3.1.0,>=3.0.2 in /Users/moon/anaconda3/lib/python3.7/site-packages (from requests<3.0.0,>=2.13.0->spacy>=2.2.0->en-core-web-sm==2.2.0) (3.0.4)\n",
      "Requirement already satisfied: importlib-metadata>=0.20; python_version < \"3.8\" in /Users/moon/anaconda3/lib/python3.7/site-packages (from catalogue<1.1.0,>=0.0.7->spacy>=2.2.0->en-core-web-sm==2.2.0) (1.5.0)\n",
      "Requirement already satisfied: zipp>=0.5 in /Users/moon/anaconda3/lib/python3.7/site-packages (from importlib-metadata>=0.20; python_version < \"3.8\"->catalogue<1.1.0,>=0.0.7->spacy>=2.2.0->en-core-web-sm==2.2.0) (2.2.0)\n",
      "Building wheels for collected packages: en-core-web-sm\n",
      "  Building wheel for en-core-web-sm (setup.py) ... \u001b[?25ldone\n",
      "\u001b[?25h  Created wheel for en-core-web-sm: filename=en_core_web_sm-2.2.0-py3-none-any.whl size=12019121 sha256=4090c07acc4b79a69b83b2681c46d6b598d26f751da4aa1ba365d1005741b84b\n",
      "  Stored in directory: /Users/moon/Library/Caches/pip/wheels/64/69/41/6f820cf1d7488a0381a2059f66ec9f8f23116f7c67d18f3d8d\n",
      "Successfully built en-core-web-sm\n",
      "Note: you may need to restart the kernel to use updated packages.\n"
     ]
    }
   ],
   "source": [
    "pip install https://github.com/explosion/spacy-models/releases/download/en_core_web_sm-2.2.0/en_core_web_sm-2.2.0.tar.gz"
   ]
  },
  {
   "cell_type": "code",
   "execution_count": 116,
   "metadata": {},
   "outputs": [],
   "source": [
    "import en_core_web_sm\n",
    "nlp = en_core_web_sm.load()"
   ]
  },
  {
   "cell_type": "code",
   "execution_count": 117,
   "metadata": {},
   "outputs": [],
   "source": [
    "# Set column width to be larger to display more content\n",
    "pd.options.display.max_colwidth = 1000"
   ]
  },
  {
   "cell_type": "markdown",
   "metadata": {},
   "source": [
    "### Import the transcribed audio"
   ]
  },
  {
   "cell_type": "code",
   "execution_count": 141,
   "metadata": {},
   "outputs": [],
   "source": [
    "data = pd.read_csv('watertown_street.csv')"
   ]
  },
  {
   "cell_type": "markdown",
   "metadata": {},
   "source": [
    "### Import List of streets"
   ]
  },
  {
   "cell_type": "code",
   "execution_count": 142,
   "metadata": {},
   "outputs": [],
   "source": [
    "street_list = pd.read_csv('../Datasets/Metro_West_Streets.csv')"
   ]
  },
  {
   "cell_type": "code",
   "execution_count": 143,
   "metadata": {},
   "outputs": [],
   "source": [
    "streets_list = street_list['0'].tolist()"
   ]
  },
  {
   "cell_type": "markdown",
   "metadata": {},
   "source": [
    "### Tokenize the Transcribed Audio"
   ]
  },
  {
   "cell_type": "code",
   "execution_count": 144,
   "metadata": {},
   "outputs": [
    {
     "name": "stderr",
     "output_type": "stream",
     "text": [
      "[nltk_data] Downloading package punkt to /Users/moon/nltk_data...\n",
      "[nltk_data]   Package punkt is already up-to-date!\n"
     ]
    },
    {
     "data": {
      "text/plain": [
       "True"
      ]
     },
     "execution_count": 144,
     "metadata": {},
     "output_type": "execute_result"
    }
   ],
   "source": [
    "import nltk\n",
    "nltk.download('punkt')"
   ]
  },
  {
   "cell_type": "code",
   "execution_count": 145,
   "metadata": {},
   "outputs": [],
   "source": [
    "def identify_tokens(row):\n",
    "    tran = row['transcript']\n",
    "    tokens = nltk.word_tokenize(tran)\n",
    "    # taken only words (not punctuation)\n",
    "    token_words = [w for w in tokens if w.isalpha()]\n",
    "    return token_words\n",
    "\n",
    "data['tokens'] = data.apply(identify_tokens, axis=1)\n",
    "\n",
    "# adpapted from Michael Allen (pythonhealthcare.org)"
   ]
  },
  {
   "cell_type": "code",
   "execution_count": 146,
   "metadata": {},
   "outputs": [
    {
     "data": {
      "text/html": [
       "<div>\n",
       "<style scoped>\n",
       "    .dataframe tbody tr th:only-of-type {\n",
       "        vertical-align: middle;\n",
       "    }\n",
       "\n",
       "    .dataframe tbody tr th {\n",
       "        vertical-align: top;\n",
       "    }\n",
       "\n",
       "    .dataframe thead th {\n",
       "        text-align: right;\n",
       "    }\n",
       "</style>\n",
       "<table border=\"1\" class=\"dataframe\">\n",
       "  <thead>\n",
       "    <tr style=\"text-align: right;\">\n",
       "      <th></th>\n",
       "      <th>transcript</th>\n",
       "      <th>type</th>\n",
       "      <th>tokens</th>\n",
       "    </tr>\n",
       "  </thead>\n",
       "  <tbody>\n",
       "    <tr>\n",
       "      <th>0</th>\n",
       "      <td>One 5'7\", the second with darker skin, both suspects armed with firearms, driving a Black Mercedes SUV.  Carjacked at 816 memorial drive at the gas station in Cambridge, Suspects are two middle eastern males, on is 5'7\", second one with</td>\n",
       "      <td>is_crime</td>\n",
       "      <td>[One, the, second, with, darker, skin, both, suspects, armed, with, firearms, driving, a, Black, Mercedes, SUV, Carjacked, at, memorial, drive, at, the, gas, station, in, Cambridge, Suspects, are, two, middle, eastern, males, on, is, second, one, with]</td>\n",
       "    </tr>\n",
       "    <tr>\n",
       "      <th>1</th>\n",
       "      <td>darker skin, no description on clothing yet, ahh both are armed with firearms\"</td>\n",
       "      <td>is_crime</td>\n",
       "      <td>[darker, skin, no, description, on, clothing, yet, ahh, both, are, armed, with, firearms]</td>\n",
       "    </tr>\n",
       "    <tr>\n",
       "      <th>2</th>\n",
       "      <td>508, inaudible...supposedly he is saying inaudible...fled towards Harvard Square. I believe he also said one of the suspects went into the Shell Station and paid cash for gas, put gas in the car, before they fled and that was when the victim was able to get out of the vehicle</td>\n",
       "      <td>is_crime</td>\n",
       "      <td>[inaudible, supposedly, he, is, saying, inaudible, fled, towards, Harvard, Square, I, believe, he, also, said, one, of, the, suspects, went, into, the, Shell, Station, and, paid, cash, for, gas, put, gas, in, the, car, before, they, fled, and, that, was, when, the, victim, was, able, to, get, out, of, the, vehicle]</td>\n",
       "    </tr>\n",
       "    <tr>\n",
       "      <th>3</th>\n",
       "      <td>Control:  they went into that gas station, paid cash for gas and then fled towards Harvard Square?</td>\n",
       "      <td>is_crime</td>\n",
       "      <td>[Control, they, went, into, that, gas, station, paid, cash, for, gas, and, then, fled, towards, Harvard, Square]</td>\n",
       "    </tr>\n",
       "    <tr>\n",
       "      <th>4</th>\n",
       "      <td>Yea, I believe they have video in that Shell station, I am with the victim and believe they have video in the station</td>\n",
       "      <td>is_crime</td>\n",
       "      <td>[Yea, I, believe, they, have, video, in, that, Shell, station, I, am, with, the, victim, and, believe, they, have, video, in, the, station]</td>\n",
       "    </tr>\n",
       "  </tbody>\n",
       "</table>\n",
       "</div>"
      ],
      "text/plain": [
       "                                                                                                                                                                                                                                                                             transcript  \\\n",
       "0                                          One 5'7\", the second with darker skin, both suspects armed with firearms, driving a Black Mercedes SUV.  Carjacked at 816 memorial drive at the gas station in Cambridge, Suspects are two middle eastern males, on is 5'7\", second one with   \n",
       "1                                                                                                                                                                                                        darker skin, no description on clothing yet, ahh both are armed with firearms\"   \n",
       "2  508, inaudible...supposedly he is saying inaudible...fled towards Harvard Square. I believe he also said one of the suspects went into the Shell Station and paid cash for gas, put gas in the car, before they fled and that was when the victim was able to get out of the vehicle   \n",
       "3                                                                                                                                                                                    Control:  they went into that gas station, paid cash for gas and then fled towards Harvard Square?   \n",
       "4                                                                                                                                                                 Yea, I believe they have video in that Shell station, I am with the victim and believe they have video in the station   \n",
       "\n",
       "       type  \\\n",
       "0  is_crime   \n",
       "1  is_crime   \n",
       "2  is_crime   \n",
       "3  is_crime   \n",
       "4  is_crime   \n",
       "\n",
       "                                                                                                                                                                                                                                                                                                                         tokens  \n",
       "0                                                                  [One, the, second, with, darker, skin, both, suspects, armed, with, firearms, driving, a, Black, Mercedes, SUV, Carjacked, at, memorial, drive, at, the, gas, station, in, Cambridge, Suspects, are, two, middle, eastern, males, on, is, second, one, with]  \n",
       "1                                                                                                                                                                                                                                     [darker, skin, no, description, on, clothing, yet, ahh, both, are, armed, with, firearms]  \n",
       "2  [inaudible, supposedly, he, is, saying, inaudible, fled, towards, Harvard, Square, I, believe, he, also, said, one, of, the, suspects, went, into, the, Shell, Station, and, paid, cash, for, gas, put, gas, in, the, car, before, they, fled, and, that, was, when, the, victim, was, able, to, get, out, of, the, vehicle]  \n",
       "3                                                                                                                                                                                                              [Control, they, went, into, that, gas, station, paid, cash, for, gas, and, then, fled, towards, Harvard, Square]  \n",
       "4                                                                                                                                                                                   [Yea, I, believe, they, have, video, in, that, Shell, station, I, am, with, the, victim, and, believe, they, have, video, in, the, station]  "
      ]
     },
     "execution_count": 146,
     "metadata": {},
     "output_type": "execute_result"
    }
   ],
   "source": [
    "data.head()"
   ]
  },
  {
   "cell_type": "markdown",
   "metadata": {},
   "source": [
    "### Identify and Match Street Names from the Audio Transcripts"
   ]
  },
  {
   "cell_type": "code",
   "execution_count": 147,
   "metadata": {},
   "outputs": [],
   "source": [
    "# Instantiate the Spacy Matcher Function\n",
    "matcher = Matcher(nlp.vocab)\n",
    "\n",
    "# Create a matching function\n",
    "def on_match(matcher, doc, id, matches):\n",
    "    return matches\n",
    "\n",
    "# building patterns for every road name\n",
    "def build_pattern(road_name):\n",
    "    list_words = road_name.split(' ')\n",
    "# ensure capitlization does not affect the model \n",
    "    pattern = [{'LOWER': word.lower()} for word in list_words]\n",
    "    return pattern\n",
    "\n",
    "# Get a pattern of every road\n",
    "for road in streets_list:\n",
    "    matcher.add(road, on_match, build_pattern(road))\n",
    "    \n",
    "# capitalize all the strings\n",
    "def capitalize_string(string_in):\n",
    "    words = string_in.split(' ')\n",
    "    string_out = ''\n",
    "    for i in words:\n",
    "        string_out += i.capitalize() + ' '\n",
    "    string_out = string_out[:-1]\n",
    "    return string_out   \n",
    "    \n",
    "# Look for locations in the transcript, then extract them\n",
    "def location_extraction_context(string_in):\n",
    "    doc = nlp(string_in)\n",
    "    string_out = ''\n",
    "    list_words = string_in.split(' ')\n",
    "    matches = matcher(doc)\n",
    "    if len(matches) == 0:\n",
    "        return None\n",
    "\n",
    "    # loop through the matches and make sure they all follow the same format\n",
    "    for match in matches:\n",
    "        list_pattern = matcher.get(match[0])[1][0]\n",
    "        for token in list_pattern:\n",
    "            string_out += token['LOWER'] + ' '\n",
    "        string_out += ', '\n",
    "    string_out = string_out[:-3]\n",
    "    string_out = capitalize_string(string_out)\n",
    "    return string_out\n",
    "\n",
    "# Add a column consisting of the extracted streets\n",
    "data['streets'] = data['transcript'].map(location_extraction_context)"
   ]
  },
  {
   "cell_type": "markdown",
   "metadata": {},
   "source": [
    "### Find possible street numbers"
   ]
  },
  {
   "cell_type": "code",
   "execution_count": 149,
   "metadata": {},
   "outputs": [],
   "source": [
    "# Creat list to house data from all addresses\n",
    "addresses = []\n",
    "\n",
    "# Loop Through all DataFrame's rows\n",
    "for row in data['transcript']:\n",
    "    # Create dictionary to house data for each row of the DataFrame\n",
    "    d = {}\n",
    "    \n",
    "    # Parse through rows and house results in a list\n",
    "    list_tuples = usaddress.parse(row)\n",
    "    \n",
    "    # Create variable to house list of possible numbers\n",
    "    numbers = []\n",
    "    \n",
    "    # Loop through each value in the list created\n",
    "    for i, n in enumerate(list_tuples):\n",
    "        \n",
    "        # Get addresses' numbers\n",
    "        if list_tuples[i][1] == 'AddressNumber':\n",
    "            \n",
    "            # Append numbers to list\n",
    "            numbers.append(n[0])\n",
    "    \n",
    "    # Include keys and values into d\n",
    "    d['numbers'] = numbers\n",
    "    \n",
    "    # Append d to addresses\n",
    "    addresses.append(d)"
   ]
  },
  {
   "cell_type": "code",
   "execution_count": 150,
   "metadata": {},
   "outputs": [],
   "source": [
    "data = pd.concat([data, pd.DataFrame(addresses)], axis=1)"
   ]
  },
  {
   "cell_type": "code",
   "execution_count": 151,
   "metadata": {},
   "outputs": [],
   "source": [
    "# Drop NaNs\n",
    "data.dropna(inplace=True)\n",
    "data.reset_index(drop=True, inplace=True)"
   ]
  },
  {
   "cell_type": "code",
   "execution_count": 152,
   "metadata": {},
   "outputs": [
    {
     "data": {
      "text/plain": [
       "(136, 5)"
      ]
     },
     "execution_count": 152,
     "metadata": {},
     "output_type": "execute_result"
    }
   ],
   "source": [
    "data.shape"
   ]
  },
  {
   "cell_type": "code",
   "execution_count": 153,
   "metadata": {},
   "outputs": [],
   "source": [
    "# Creat list to house data for possible addresses\n",
    "possibilities = []\n",
    "\n",
    "# Loop Through all DataFrame's rows\n",
    "for i in range(0, data.shape[0]):\n",
    "    \n",
    "    # Create variables to temporarily house information\n",
    "    final_poss = []\n",
    "    d = {}\n",
    "    number_poss = []\n",
    "    \n",
    "    # Loop through values in each row / numbers\n",
    "    for row in data[i:i+1]['numbers']:\n",
    "        for a_number in row:\n",
    "            number_poss.append(a_number)\n",
    "    \n",
    "    # Loop through values in each row / streets\n",
    "    street_poss = []\n",
    "    for row2 in [x.split(',') for x in data[i:(i+1)]['streets']][0]:\n",
    "        for j in row2.split(','):\n",
    "            street_poss.append(j.strip())\n",
    "\n",
    "    # Concatenate numbers and streets\n",
    "    for i in number_poss:\n",
    "        for j in street_poss:\n",
    "            final_poss.append(i + ' ' + j)\n",
    "\n",
    "    # Append all possibilities to list\n",
    "    d['full_streets'] = list(set(final_poss))\n",
    "    possibilities.append(d)\n",
    "\n",
    "# Concatenate dataframes\n",
    "data = pd.concat([data, pd.DataFrame(possibilities)], axis=1)"
   ]
  },
  {
   "cell_type": "code",
   "execution_count": 154,
   "metadata": {},
   "outputs": [
    {
     "data": {
      "text/html": [
       "<div>\n",
       "<style scoped>\n",
       "    .dataframe tbody tr th:only-of-type {\n",
       "        vertical-align: middle;\n",
       "    }\n",
       "\n",
       "    .dataframe tbody tr th {\n",
       "        vertical-align: top;\n",
       "    }\n",
       "\n",
       "    .dataframe thead th {\n",
       "        text-align: right;\n",
       "    }\n",
       "</style>\n",
       "<table border=\"1\" class=\"dataframe\">\n",
       "  <thead>\n",
       "    <tr style=\"text-align: right;\">\n",
       "      <th></th>\n",
       "      <th>transcript</th>\n",
       "      <th>type</th>\n",
       "      <th>tokens</th>\n",
       "      <th>streets</th>\n",
       "      <th>numbers</th>\n",
       "      <th>full_streets</th>\n",
       "    </tr>\n",
       "  </thead>\n",
       "  <tbody>\n",
       "    <tr>\n",
       "      <th>0</th>\n",
       "      <td>One 5'7\", the second with darker skin, both suspects armed with firearms, driving a Black Mercedes SUV.  Carjacked at 816 memorial drive at the gas station in Cambridge, Suspects are two middle eastern males, on is 5'7\", second one with</td>\n",
       "      <td>is_crime</td>\n",
       "      <td>[One, the, second, with, darker, skin, both, suspects, armed, with, firearms, driving, a, Black, Mercedes, SUV, Carjacked, at, memorial, drive, at, the, gas, station, in, Cambridge, Suspects, are, two, middle, eastern, males, on, is, second, one, with]</td>\n",
       "      <td>The , Black , Memorial , Drive , The , Station , Cambridge , Middle , Eastern</td>\n",
       "      <td>[816]</td>\n",
       "      <td>[816 Cambridge, 816 Station, 816 Memorial, 816 Eastern, 816 Middle, 816 Black, 816 The, 816 Drive]</td>\n",
       "    </tr>\n",
       "    <tr>\n",
       "      <th>1</th>\n",
       "      <td>508, inaudible...supposedly he is saying inaudible...fled towards Harvard Square. I believe he also said one of the suspects went into the Shell Station and paid cash for gas, put gas in the car, before they fled and that was when the victim was able to get out of the vehicle</td>\n",
       "      <td>is_crime</td>\n",
       "      <td>[inaudible, supposedly, he, is, saying, inaudible, fled, towards, Harvard, Square, I, believe, he, also, said, one, of, the, suspects, went, into, the, Shell, Station, and, paid, cash, for, gas, put, gas, in, the, car, before, they, fled, and, that, was, when, the, victim, was, able, to, get, out, of, the, vehicle]</td>\n",
       "      <td>Harvard , The , The , Station , The , The , The</td>\n",
       "      <td>[]</td>\n",
       "      <td>[]</td>\n",
       "    </tr>\n",
       "    <tr>\n",
       "      <th>2</th>\n",
       "      <td>Control:  they went into that gas station, paid cash for gas and then fled towards Harvard Square?</td>\n",
       "      <td>is_crime</td>\n",
       "      <td>[Control, they, went, into, that, gas, station, paid, cash, for, gas, and, then, fled, towards, Harvard, Square]</td>\n",
       "      <td>Station , Harvard</td>\n",
       "      <td>[]</td>\n",
       "      <td>[]</td>\n",
       "    </tr>\n",
       "    <tr>\n",
       "      <th>3</th>\n",
       "      <td>Yea, I believe they have video in that Shell station, I am with the victim and believe they have video in the station</td>\n",
       "      <td>is_crime</td>\n",
       "      <td>[Yea, I, believe, they, have, video, in, that, Shell, station, I, am, with, the, victim, and, believe, they, have, video, in, the, station]</td>\n",
       "      <td>Station , The , The , Station</td>\n",
       "      <td>[]</td>\n",
       "      <td>[]</td>\n",
       "    </tr>\n",
       "    <tr>\n",
       "      <th>4</th>\n",
       "      <td>Tango inaudible....Does the victim report the operator, that was operating the vehicle was armed with a firearm but he was unsure about the passenger</td>\n",
       "      <td>is_crime</td>\n",
       "      <td>[Tango, inaudible, the, victim, report, the, operator, that, was, operating, the, vehicle, was, armed, with, a, firearm, but, he, was, unsure, about, the, passenger]</td>\n",
       "      <td>The , The , The , The</td>\n",
       "      <td>[]</td>\n",
       "      <td>[]</td>\n",
       "    </tr>\n",
       "  </tbody>\n",
       "</table>\n",
       "</div>"
      ],
      "text/plain": [
       "                                                                                                                                                                                                                                                                             transcript  \\\n",
       "0                                          One 5'7\", the second with darker skin, both suspects armed with firearms, driving a Black Mercedes SUV.  Carjacked at 816 memorial drive at the gas station in Cambridge, Suspects are two middle eastern males, on is 5'7\", second one with   \n",
       "1  508, inaudible...supposedly he is saying inaudible...fled towards Harvard Square. I believe he also said one of the suspects went into the Shell Station and paid cash for gas, put gas in the car, before they fled and that was when the victim was able to get out of the vehicle   \n",
       "2                                                                                                                                                                                    Control:  they went into that gas station, paid cash for gas and then fled towards Harvard Square?   \n",
       "3                                                                                                                                                                 Yea, I believe they have video in that Shell station, I am with the victim and believe they have video in the station   \n",
       "4                                                                                                                                 Tango inaudible....Does the victim report the operator, that was operating the vehicle was armed with a firearm but he was unsure about the passenger   \n",
       "\n",
       "       type  \\\n",
       "0  is_crime   \n",
       "1  is_crime   \n",
       "2  is_crime   \n",
       "3  is_crime   \n",
       "4  is_crime   \n",
       "\n",
       "                                                                                                                                                                                                                                                                                                                         tokens  \\\n",
       "0                                                                  [One, the, second, with, darker, skin, both, suspects, armed, with, firearms, driving, a, Black, Mercedes, SUV, Carjacked, at, memorial, drive, at, the, gas, station, in, Cambridge, Suspects, are, two, middle, eastern, males, on, is, second, one, with]   \n",
       "1  [inaudible, supposedly, he, is, saying, inaudible, fled, towards, Harvard, Square, I, believe, he, also, said, one, of, the, suspects, went, into, the, Shell, Station, and, paid, cash, for, gas, put, gas, in, the, car, before, they, fled, and, that, was, when, the, victim, was, able, to, get, out, of, the, vehicle]   \n",
       "2                                                                                                                                                                                                              [Control, they, went, into, that, gas, station, paid, cash, for, gas, and, then, fled, towards, Harvard, Square]   \n",
       "3                                                                                                                                                                                   [Yea, I, believe, they, have, video, in, that, Shell, station, I, am, with, the, victim, and, believe, they, have, video, in, the, station]   \n",
       "4                                                                                                                                                         [Tango, inaudible, the, victim, report, the, operator, that, was, operating, the, vehicle, was, armed, with, a, firearm, but, he, was, unsure, about, the, passenger]   \n",
       "\n",
       "                                                                         streets  \\\n",
       "0  The , Black , Memorial , Drive , The , Station , Cambridge , Middle , Eastern   \n",
       "1                                Harvard , The , The , Station , The , The , The   \n",
       "2                                                              Station , Harvard   \n",
       "3                                                  Station , The , The , Station   \n",
       "4                                                          The , The , The , The   \n",
       "\n",
       "  numbers  \\\n",
       "0   [816]   \n",
       "1      []   \n",
       "2      []   \n",
       "3      []   \n",
       "4      []   \n",
       "\n",
       "                                                                                         full_streets  \n",
       "0  [816 Cambridge, 816 Station, 816 Memorial, 816 Eastern, 816 Middle, 816 Black, 816 The, 816 Drive]  \n",
       "1                                                                                                  []  \n",
       "2                                                                                                  []  \n",
       "3                                                                                                  []  \n",
       "4                                                                                                  []  "
      ]
     },
     "execution_count": 154,
     "metadata": {},
     "output_type": "execute_result"
    }
   ],
   "source": [
    "data.head()"
   ]
  },
  {
   "cell_type": "markdown",
   "metadata": {},
   "source": [
    "### Drop Blanks"
   ]
  },
  {
   "cell_type": "code",
   "execution_count": 155,
   "metadata": {},
   "outputs": [],
   "source": [
    "data['full_streets'] = data['full_streets'].map(lambda x: np.nan if len(x) == 0 else x)\n",
    "data.dropna(inplace=True)\n",
    "data.reset_index(drop=True, inplace=True)"
   ]
  },
  {
   "cell_type": "code",
   "execution_count": 158,
   "metadata": {},
   "outputs": [
    {
     "data": {
      "text/html": [
       "<div>\n",
       "<style scoped>\n",
       "    .dataframe tbody tr th:only-of-type {\n",
       "        vertical-align: middle;\n",
       "    }\n",
       "\n",
       "    .dataframe tbody tr th {\n",
       "        vertical-align: top;\n",
       "    }\n",
       "\n",
       "    .dataframe thead th {\n",
       "        text-align: right;\n",
       "    }\n",
       "</style>\n",
       "<table border=\"1\" class=\"dataframe\">\n",
       "  <thead>\n",
       "    <tr style=\"text-align: right;\">\n",
       "      <th></th>\n",
       "      <th>transcript</th>\n",
       "      <th>type</th>\n",
       "      <th>tokens</th>\n",
       "      <th>streets</th>\n",
       "      <th>numbers</th>\n",
       "      <th>full_streets</th>\n",
       "    </tr>\n",
       "  </thead>\n",
       "  <tbody>\n",
       "    <tr>\n",
       "      <th>0</th>\n",
       "      <td>One 5'7\", the second with darker skin, both suspects armed with firearms, driving a Black Mercedes SUV.  Carjacked at 816 memorial drive at the gas station in Cambridge, Suspects are two middle eastern males, on is 5'7\", second one with</td>\n",
       "      <td>is_crime</td>\n",
       "      <td>[One, the, second, with, darker, skin, both, suspects, armed, with, firearms, driving, a, Black, Mercedes, SUV, Carjacked, at, memorial, drive, at, the, gas, station, in, Cambridge, Suspects, are, two, middle, eastern, males, on, is, second, one, with]</td>\n",
       "      <td>The , Black , Memorial , Drive , The , Station , Cambridge , Middle , Eastern</td>\n",
       "      <td>[816]</td>\n",
       "      <td>[816 Cambridge, 816 Station, 816 Memorial, 816 Eastern, 816 Middle, 816 Black, 816 The, 816 Drive]</td>\n",
       "    </tr>\n",
       "    <tr>\n",
       "      <th>1</th>\n",
       "      <td>Is there an officer driving the 609 right now?</td>\n",
       "      <td>is_crime</td>\n",
       "      <td>[Is, there, an, officer, driving, the, right, now]</td>\n",
       "      <td>The</td>\n",
       "      <td>[609]</td>\n",
       "      <td>[609 The]</td>\n",
       "    </tr>\n",
       "    <tr>\n",
       "      <th>2</th>\n",
       "      <td>Shots Fired! Shots Fired!  Officers pinned down 94 Spruce Street.  I need backup. 94 Spruce Street I need long guns.  I need long guns!</td>\n",
       "      <td>is_crime</td>\n",
       "      <td>[Shots, Fired, Shots, Fired, Officers, pinned, down, Spruce, Street, I, need, backup, Spruce, Street, I, need, long, guns, I, need, long, guns]</td>\n",
       "      <td>Spruce , Spruce , Long , Long</td>\n",
       "      <td>[94]</td>\n",
       "      <td>[94 Spruce, 94 Long]</td>\n",
       "    </tr>\n",
       "    <tr>\n",
       "      <th>3</th>\n",
       "      <td>111 there is an officer down at Hazel and Dexter.</td>\n",
       "      <td>is_crime</td>\n",
       "      <td>[there, is, an, officer, down, at, Hazel, and, Dexter]</td>\n",
       "      <td>Hazel , Dexter</td>\n",
       "      <td>[111]</td>\n",
       "      <td>[111 Hazel, 111 Dexter]</td>\n",
       "    </tr>\n",
       "    <tr>\n",
       "      <th>4</th>\n",
       "      <td>94 Spruce Street, I need long guns. 94 Spruce.</td>\n",
       "      <td>is_crime</td>\n",
       "      <td>[Spruce, Street, I, need, long, guns, Spruce]</td>\n",
       "      <td>Spruce , Long , Spruce</td>\n",
       "      <td>[94]</td>\n",
       "      <td>[94 Spruce, 94 Long]</td>\n",
       "    </tr>\n",
       "    <tr>\n",
       "      <th>5</th>\n",
       "      <td>982, Patch it up with probably Watertown, yea Watertown for now -there is a report of second officer down, there is definitely hand grenades and automatic gunfire.</td>\n",
       "      <td>is_crime</td>\n",
       "      <td>[Patch, it, up, with, probably, Watertown, yea, Watertown, for, now, is, a, report, of, second, officer, down, there, is, definitely, hand, grenades, and, automatic, gunfire]</td>\n",
       "      <td>Watertown , Watertown</td>\n",
       "      <td>[982,]</td>\n",
       "      <td>[982, Watertown]</td>\n",
       "    </tr>\n",
       "    <tr>\n",
       "      <th>6</th>\n",
       "      <td>1181 I am at Spruce and Lincoln</td>\n",
       "      <td>is_crime</td>\n",
       "      <td>[I, am, at, Spruce, and, Lincoln]</td>\n",
       "      <td>Spruce , Lincoln</td>\n",
       "      <td>[1181]</td>\n",
       "      <td>[1181 Spruce, 1181 Lincoln]</td>\n",
       "    </tr>\n",
       "    <tr>\n",
       "      <th>7</th>\n",
       "      <td>13, CP I am on foot in the backyards between Dexter and Laurel.</td>\n",
       "      <td>is_crime</td>\n",
       "      <td>[CP, I, am, on, foot, in, the, backyards, between, Dexter, and, Laurel]</td>\n",
       "      <td>The , Dexter , Laurel</td>\n",
       "      <td>[13,]</td>\n",
       "      <td>[13, Dexter, 13, The, 13, Laurel]</td>\n",
       "    </tr>\n",
       "    <tr>\n",
       "      <th>8</th>\n",
       "      <td>Okay once we complete those 2 blocks - expand it two more blocks from those areas.  okay - we have plenty of police officers lets start using them - from 98 Spruce, first 2 blocks then 4 blocks.</td>\n",
       "      <td>is_crime</td>\n",
       "      <td>[Okay, once, we, complete, those, blocks, expand, it, two, more, blocks, from, those, areas, okay, we, have, plenty, of, police, officers, lets, start, using, them, from, Spruce, first, blocks, then, blocks]</td>\n",
       "      <td>Spruce</td>\n",
       "      <td>[2]</td>\n",
       "      <td>[2 Spruce]</td>\n",
       "    </tr>\n",
       "    <tr>\n",
       "      <th>9</th>\n",
       "      <td>inaudible.....we have a package on the ground at Mt Auburn - 543 Mt. Auburn.</td>\n",
       "      <td>is_crime</td>\n",
       "      <td>[inaudible, have, a, package, on, the, ground, at, Mt, Auburn, Mt, Auburn]</td>\n",
       "      <td>The , Auburn , Auburn</td>\n",
       "      <td>[543]</td>\n",
       "      <td>[543 The, 543 Auburn]</td>\n",
       "    </tr>\n",
       "    <tr>\n",
       "      <th>10</th>\n",
       "      <td>inaudible.......at 144 Dexter Ave and Laurel Street</td>\n",
       "      <td>is_crime</td>\n",
       "      <td>[inaudible, Dexter, Ave, and, Laurel, Street]</td>\n",
       "      <td>Dexter , Laurel</td>\n",
       "      <td>[144]</td>\n",
       "      <td>[144 Dexter, 144 Laurel]</td>\n",
       "    </tr>\n",
       "    <tr>\n",
       "      <th>11</th>\n",
       "      <td>Squad 2 144 Dexter Ave - Officer down.</td>\n",
       "      <td>is_crime</td>\n",
       "      <td>[Squad, Dexter, Ave, Officer, down]</td>\n",
       "      <td>Dexter</td>\n",
       "      <td>[144]</td>\n",
       "      <td>[144 Dexter]</td>\n",
       "    </tr>\n",
       "    <tr>\n",
       "      <th>12</th>\n",
       "      <td>19, I am looking at the two right now - I am looking at the one a</td>\n",
       "      <td>is_crime</td>\n",
       "      <td>[I, am, looking, at, the, two, right, now, I, am, looking, at, the, one, a]</td>\n",
       "      <td>The , The</td>\n",
       "      <td>[19,]</td>\n",
       "      <td>[19, The]</td>\n",
       "    </tr>\n",
       "    <tr>\n",
       "      <th>13</th>\n",
       "      <td>526 Mt Auburn and the one at Upland and Mt. Auburn(officer at Spruce) correct and there definitely the suspects?</td>\n",
       "      <td>is_crime</td>\n",
       "      <td>[Mt, Auburn, and, the, one, at, Upland, and, Mt, Auburn, officer, at, Spruce, correct, and, there, definitely, the, suspects]</td>\n",
       "      <td>Auburn , The , Upland , Spruce , The</td>\n",
       "      <td>[526]</td>\n",
       "      <td>[526 The, 526 Auburn, 526 Upland, 526 Spruce]</td>\n",
       "    </tr>\n",
       "    <tr>\n",
       "      <th>14</th>\n",
       "      <td>I don't know who this second person is at 526 Mt Auburn</td>\n",
       "      <td>is_crime</td>\n",
       "      <td>[I, do, know, who, this, second, person, is, at, Mt, Auburn]</td>\n",
       "      <td>Auburn</td>\n",
       "      <td>[526]</td>\n",
       "      <td>[526 Auburn]</td>\n",
       "    </tr>\n",
       "    <tr>\n",
       "      <th>15</th>\n",
       "      <td>19, I don't know - I gotten word that there's one at Upland and Mt. Auburn in custody, I've gotten word there's another one at Dexter and Laurel - fallen down waiting for EMS - the second party is not out of his ....inaudible</td>\n",
       "      <td>is_crime</td>\n",
       "      <td>[I, do, know, I, gotten, word, that, there, one, at, Upland, and, Mt, Auburn, in, custody, I, gotten, word, there, another, one, at, Dexter, and, Laurel, fallen, down, waiting, for, EMS, the, second, party, is, not, out, of, his]</td>\n",
       "      <td>Upland , Auburn , Dexter , Laurel , The</td>\n",
       "      <td>[19,]</td>\n",
       "      <td>[19, Auburn, 19, The, 19, Dexter, 19, Laurel, 19, Upland]</td>\n",
       "    </tr>\n",
       "  </tbody>\n",
       "</table>\n",
       "</div>"
      ],
      "text/plain": [
       "                                                                                                                                                                                                                                      transcript  \\\n",
       "0   One 5'7\", the second with darker skin, both suspects armed with firearms, driving a Black Mercedes SUV.  Carjacked at 816 memorial drive at the gas station in Cambridge, Suspects are two middle eastern males, on is 5'7\", second one with   \n",
       "1                                                                                                                                                                                                 Is there an officer driving the 609 right now?   \n",
       "2                                                                                                        Shots Fired! Shots Fired!  Officers pinned down 94 Spruce Street.  I need backup. 94 Spruce Street I need long guns.  I need long guns!   \n",
       "3                                                                                                                                                                                              111 there is an officer down at Hazel and Dexter.   \n",
       "4                                                                                                                                                                                                 94 Spruce Street, I need long guns. 94 Spruce.   \n",
       "5                                                                            982, Patch it up with probably Watertown, yea Watertown for now -there is a report of second officer down, there is definitely hand grenades and automatic gunfire.   \n",
       "6                                                                                                                                                                                                                1181 I am at Spruce and Lincoln   \n",
       "7                                                                                                                                                                                13, CP I am on foot in the backyards between Dexter and Laurel.   \n",
       "8                                             Okay once we complete those 2 blocks - expand it two more blocks from those areas.  okay - we have plenty of police officers lets start using them - from 98 Spruce, first 2 blocks then 4 blocks.   \n",
       "9                                                                                                                                                                   inaudible.....we have a package on the ground at Mt Auburn - 543 Mt. Auburn.   \n",
       "10                                                                                                                                                                                           inaudible.......at 144 Dexter Ave and Laurel Street   \n",
       "11                                                                                                                                                                                                        Squad 2 144 Dexter Ave - Officer down.   \n",
       "12                                                                                                                                                                             19, I am looking at the two right now - I am looking at the one a   \n",
       "13                                                                                                                              526 Mt Auburn and the one at Upland and Mt. Auburn(officer at Spruce) correct and there definitely the suspects?   \n",
       "14                                                                                                                                                                                       I don't know who this second person is at 526 Mt Auburn   \n",
       "15             19, I don't know - I gotten word that there's one at Upland and Mt. Auburn in custody, I've gotten word there's another one at Dexter and Laurel - fallen down waiting for EMS - the second party is not out of his ....inaudible   \n",
       "\n",
       "        type  \\\n",
       "0   is_crime   \n",
       "1   is_crime   \n",
       "2   is_crime   \n",
       "3   is_crime   \n",
       "4   is_crime   \n",
       "5   is_crime   \n",
       "6   is_crime   \n",
       "7   is_crime   \n",
       "8   is_crime   \n",
       "9   is_crime   \n",
       "10  is_crime   \n",
       "11  is_crime   \n",
       "12  is_crime   \n",
       "13  is_crime   \n",
       "14  is_crime   \n",
       "15  is_crime   \n",
       "\n",
       "                                                                                                                                                                                                                                                          tokens  \\\n",
       "0   [One, the, second, with, darker, skin, both, suspects, armed, with, firearms, driving, a, Black, Mercedes, SUV, Carjacked, at, memorial, drive, at, the, gas, station, in, Cambridge, Suspects, are, two, middle, eastern, males, on, is, second, one, with]   \n",
       "1                                                                                                                                                                                                             [Is, there, an, officer, driving, the, right, now]   \n",
       "2                                                                                                                [Shots, Fired, Shots, Fired, Officers, pinned, down, Spruce, Street, I, need, backup, Spruce, Street, I, need, long, guns, I, need, long, guns]   \n",
       "3                                                                                                                                                                                                         [there, is, an, officer, down, at, Hazel, and, Dexter]   \n",
       "4                                                                                                                                                                                                                  [Spruce, Street, I, need, long, guns, Spruce]   \n",
       "5                                                                                 [Patch, it, up, with, probably, Watertown, yea, Watertown, for, now, is, a, report, of, second, officer, down, there, is, definitely, hand, grenades, and, automatic, gunfire]   \n",
       "6                                                                                                                                                                                                                              [I, am, at, Spruce, and, Lincoln]   \n",
       "7                                                                                                                                                                                        [CP, I, am, on, foot, in, the, backyards, between, Dexter, and, Laurel]   \n",
       "8                                                [Okay, once, we, complete, those, blocks, expand, it, two, more, blocks, from, those, areas, okay, we, have, plenty, of, police, officers, lets, start, using, them, from, Spruce, first, blocks, then, blocks]   \n",
       "9                                                                                                                                                                                     [inaudible, have, a, package, on, the, ground, at, Mt, Auburn, Mt, Auburn]   \n",
       "10                                                                                                                                                                                                                 [inaudible, Dexter, Ave, and, Laurel, Street]   \n",
       "11                                                                                                                                                                                                                           [Squad, Dexter, Ave, Officer, down]   \n",
       "12                                                                                                                                                                                   [I, am, looking, at, the, two, right, now, I, am, looking, at, the, one, a]   \n",
       "13                                                                                                                                 [Mt, Auburn, and, the, one, at, Upland, and, Mt, Auburn, officer, at, Spruce, correct, and, there, definitely, the, suspects]   \n",
       "14                                                                                                                                                                                                  [I, do, know, who, this, second, person, is, at, Mt, Auburn]   \n",
       "15                         [I, do, know, I, gotten, word, that, there, one, at, Upland, and, Mt, Auburn, in, custody, I, gotten, word, there, another, one, at, Dexter, and, Laurel, fallen, down, waiting, for, EMS, the, second, party, is, not, out, of, his]   \n",
       "\n",
       "                                                                          streets  \\\n",
       "0   The , Black , Memorial , Drive , The , Station , Cambridge , Middle , Eastern   \n",
       "1                                                                             The   \n",
       "2                                                   Spruce , Spruce , Long , Long   \n",
       "3                                                                  Hazel , Dexter   \n",
       "4                                                          Spruce , Long , Spruce   \n",
       "5                                                           Watertown , Watertown   \n",
       "6                                                                Spruce , Lincoln   \n",
       "7                                                           The , Dexter , Laurel   \n",
       "8                                                                          Spruce   \n",
       "9                                                           The , Auburn , Auburn   \n",
       "10                                                                Dexter , Laurel   \n",
       "11                                                                         Dexter   \n",
       "12                                                                      The , The   \n",
       "13                                           Auburn , The , Upland , Spruce , The   \n",
       "14                                                                         Auburn   \n",
       "15                                        Upland , Auburn , Dexter , Laurel , The   \n",
       "\n",
       "   numbers  \\\n",
       "0    [816]   \n",
       "1    [609]   \n",
       "2     [94]   \n",
       "3    [111]   \n",
       "4     [94]   \n",
       "5   [982,]   \n",
       "6   [1181]   \n",
       "7    [13,]   \n",
       "8      [2]   \n",
       "9    [543]   \n",
       "10   [144]   \n",
       "11   [144]   \n",
       "12   [19,]   \n",
       "13   [526]   \n",
       "14   [526]   \n",
       "15   [19,]   \n",
       "\n",
       "                                                                                          full_streets  \n",
       "0   [816 Cambridge, 816 Station, 816 Memorial, 816 Eastern, 816 Middle, 816 Black, 816 The, 816 Drive]  \n",
       "1                                                                                            [609 The]  \n",
       "2                                                                                 [94 Spruce, 94 Long]  \n",
       "3                                                                              [111 Hazel, 111 Dexter]  \n",
       "4                                                                                 [94 Spruce, 94 Long]  \n",
       "5                                                                                     [982, Watertown]  \n",
       "6                                                                          [1181 Spruce, 1181 Lincoln]  \n",
       "7                                                                    [13, Dexter, 13, The, 13, Laurel]  \n",
       "8                                                                                           [2 Spruce]  \n",
       "9                                                                                [543 The, 543 Auburn]  \n",
       "10                                                                            [144 Dexter, 144 Laurel]  \n",
       "11                                                                                        [144 Dexter]  \n",
       "12                                                                                           [19, The]  \n",
       "13                                                       [526 The, 526 Auburn, 526 Upland, 526 Spruce]  \n",
       "14                                                                                        [526 Auburn]  \n",
       "15                                           [19, Auburn, 19, The, 19, Dexter, 19, Laurel, 19, Upland]  "
      ]
     },
     "execution_count": 158,
     "metadata": {},
     "output_type": "execute_result"
    }
   ],
   "source": [
    "data"
   ]
  },
  {
   "cell_type": "code",
   "execution_count": 157,
   "metadata": {},
   "outputs": [
    {
     "data": {
      "text/plain": [
       "(16, 6)"
      ]
     },
     "execution_count": 157,
     "metadata": {},
     "output_type": "execute_result"
    }
   ],
   "source": [
    "data.shape"
   ]
  },
  {
   "cell_type": "code",
   "execution_count": null,
   "metadata": {},
   "outputs": [],
   "source": []
  }
 ],
 "metadata": {
  "kernelspec": {
   "display_name": "Python 3",
   "language": "python",
   "name": "python3"
  },
  "language_info": {
   "codemirror_mode": {
    "name": "ipython",
    "version": 3
   },
   "file_extension": ".py",
   "mimetype": "text/x-python",
   "name": "python",
   "nbconvert_exporter": "python",
   "pygments_lexer": "ipython3",
   "version": "3.7.6"
  },
  "toc": {
   "base_numbering": 1,
   "nav_menu": {},
   "number_sections": true,
   "sideBar": true,
   "skip_h1_title": false,
   "title_cell": "Table of Contents",
   "title_sidebar": "Contents",
   "toc_cell": false,
   "toc_position": {
    "height": "calc(100% - 180px)",
    "left": "10px",
    "top": "150px",
    "width": "165px"
   },
   "toc_section_display": true,
   "toc_window_display": true
  }
 },
 "nbformat": 4,
 "nbformat_minor": 4
}
