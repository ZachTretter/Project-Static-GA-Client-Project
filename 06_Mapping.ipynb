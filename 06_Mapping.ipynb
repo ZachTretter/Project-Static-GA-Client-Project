{
 "cells": [
  {
   "cell_type": "markdown",
   "metadata": {},
   "source": [
    "## Imports"
   ]
  },
  {
   "cell_type": "code",
   "execution_count": 157,
   "metadata": {
    "ExecuteTime": {
     "end_time": "2020-05-07T18:31:28.967586Z",
     "start_time": "2020-05-07T18:31:28.965574Z"
    }
   },
   "outputs": [],
   "source": [
    "# Installs\n",
    "# !pip install gmaps\n",
    "# ! jupyter nbextension enable --py gmaps\n",
    "# !pip install folium"
   ]
  },
  {
   "cell_type": "code",
   "execution_count": 158,
   "metadata": {
    "ExecuteTime": {
     "end_time": "2020-05-07T18:31:29.206050Z",
     "start_time": "2020-05-07T18:31:29.202062Z"
    }
   },
   "outputs": [],
   "source": [
    "import pandas as pd\n",
    "import numpy as np\n",
    "\n",
    "import requests\n",
    "\n",
    "import gmaps\n",
    "import gmaps.datasets\n",
    "\n",
    "import folium\n",
    "\n",
    "boston = (42.3601, -71.0589)"
   ]
  },
  {
   "cell_type": "markdown",
   "metadata": {},
   "source": [
    "## Generate Latitude and Longitude\n",
    "\n",
    "https://geocoding.geo.census.gov/geocoder/Geocoding_Services_API.pdf"
   ]
  },
  {
   "cell_type": "code",
   "execution_count": 163,
   "metadata": {
    "ExecuteTime": {
     "end_time": "2020-05-07T18:34:43.948320Z",
     "start_time": "2020-05-07T18:34:43.939233Z"
    }
   },
   "outputs": [],
   "source": [
    "def geoencode_single_address(address, \n",
    "                             searchtype = 'onelineaddress'):\n",
    "    \n",
    "    base_url = 'https://geocoding.geo.census.gov/geocoder/locations/{}?'.format(searchtype)\n",
    "    \n",
    "    parameters = {'benchmark':9,\n",
    "              'address':address,\n",
    "              'format':'json'}\n",
    "    \n",
    "    r = requests.get(url = base_url, params = parameters).json()\n",
    "    \n",
    "    return r\n",
    "    \n",
    "#     if len(r['result']['addressMatches'])==0:\n",
    "#         return \"No Results\"\n",
    "    \n",
    "#     else:\n",
    "#         coordinates = r['result']['addressMatches'][0]['coordinates']\n",
    "#         matched_address = r['result']['addressMatches'][0]['matchedAddress']\n",
    "#         return (matched_address, coordinates)        "
   ]
  },
  {
   "cell_type": "code",
   "execution_count": 170,
   "metadata": {
    "ExecuteTime": {
     "end_time": "2020-05-07T18:36:30.452350Z",
     "start_time": "2020-05-07T18:36:29.130786Z"
    }
   },
   "outputs": [
    {
     "data": {
      "text/plain": [
       "{'result': {'input': {'benchmark': {'id': '9',\n",
       "    'benchmarkName': 'Public_AR_Census2010',\n",
       "    'benchmarkDescription': 'Public Address Ranges - Census 2010 Benchmark',\n",
       "    'isDefault': False},\n",
       "   'address': {'address': ' 1 Massachusetts Hall, Cambridge'}},\n",
       "  'addressMatches': [{'matchedAddress': '1 Massachusetts Ave, CAMBRIDGE, MA, 02139',\n",
       "    'coordinates': {'x': -71.09428, 'y': 42.35977},\n",
       "    'tigerLine': {'tigerLineId': '86870253', 'side': 'R'},\n",
       "    'addressComponents': {'fromAddress': '1',\n",
       "     'toAddress': '63',\n",
       "     'preQualifier': '',\n",
       "     'preDirection': '',\n",
       "     'preType': '',\n",
       "     'streetName': 'Massachusetts',\n",
       "     'suffixType': 'Ave',\n",
       "     'suffixDirection': '',\n",
       "     'suffixQualifier': '',\n",
       "     'city': 'CAMBRIDGE',\n",
       "     'state': 'MA',\n",
       "     'zip': '02139'}}]}}"
      ]
     },
     "execution_count": 170,
     "metadata": {},
     "output_type": "execute_result"
    }
   ],
   "source": [
    "test_value = \" 1 Massachusetts Hall, Cambridge\"\n",
    "geoencode_single_address(test_value)"
   ]
  },
  {
   "cell_type": "markdown",
   "metadata": {},
   "source": [
    "## Google Maps"
   ]
  },
  {
   "cell_type": "code",
   "execution_count": 48,
   "metadata": {
    "ExecuteTime": {
     "end_time": "2020-05-06T19:00:44.052088Z",
     "start_time": "2020-05-06T19:00:44.048099Z"
    }
   },
   "outputs": [],
   "source": [
    "gmaps.configure(api_key=key)"
   ]
  },
  {
   "cell_type": "code",
   "execution_count": 10,
   "metadata": {
    "ExecuteTime": {
     "end_time": "2020-05-06T20:56:56.001679Z",
     "start_time": "2020-05-06T20:56:55.998687Z"
    },
    "scrolled": false
   },
   "outputs": [],
   "source": [
    "# gmaps.figure(center=boston, \n",
    "#              zoom_level=12, \n",
    "#              map_type='ROADMAP', \n",
    "#              layout={'width': '800px', 'height': '800px'})\n"
   ]
  },
  {
   "cell_type": "markdown",
   "metadata": {},
   "source": [
    "## Folium"
   ]
  },
  {
   "cell_type": "code",
   "execution_count": 153,
   "metadata": {
    "ExecuteTime": {
     "end_time": "2020-05-07T18:27:02.850123Z",
     "start_time": "2020-05-07T18:27:02.847159Z"
    },
    "scrolled": true
   },
   "outputs": [],
   "source": [
    "# m = folium.Map(location=boston)\n",
    "# m"
   ]
  },
  {
   "cell_type": "markdown",
   "metadata": {
    "ExecuteTime": {
     "end_time": "2020-05-07T18:26:52.576156Z",
     "start_time": "2020-05-07T18:26:52.570138Z"
    }
   },
   "source": [
    "## Overview of Prior DSI Cohort Approches\n",
    "\n",
    "---------\n",
    "\n",
    "### Project \"Red Siren\" by DSI-CHI-7\n",
    "\n",
    "https://github.com/project-red-siren-dsi-chi-cc7/deliverables\n",
    "\n",
    "Did not do any mapping\n",
    "\n",
    "----------\n",
    "\n",
    "### Project \"Camp Fire\" by DSI-NY-7\n",
    "\n",
    "Mitchell Bohman, Nour Zahlan, and Masiur Abik\n",
    "\n",
    "https://github.com/mchbmn/radio-to-location\n",
    "\n",
    "Used gmaps\n",
    "\n",
    "----------\n",
    "\n",
    "### \"Mapping Emergency Dispatch Transactions\" by ATL-DSI-8\n",
    "\n",
    "Joseph Hopkins, Carol, Chiu, Anthony Chapman, Kwamae Delva\n",
    "\n",
    "https://github.com/delvakwa/police_radio_to_mapping\n",
    "\n",
    "Used same code as \"Project Camp Fire\" \n",
    "\n",
    "--------\n",
    "\n",
    "### \"San Franscisco Dispatch Audio Mapping\" by DSI-SF-CC9\n",
    "\n",
    " Grant Wilson, J. Hall, Gabriel Perez Prieto\n",
    " \n",
    " https://github.com/GWilson97/san_francisco_dispatch_audio_mapping\n",
    " \n",
    " Used folium\n",
    " \n",
    " ------------\n",
    " \n"
   ]
  },
  {
   "cell_type": "code",
   "execution_count": null,
   "metadata": {},
   "outputs": [],
   "source": [
    "\n",
    "# function that takes in as arguments a address and returns the latitude and longitude\n",
    "\n",
    "def get_google_latlong(address, api_key=None, return_full_response=False):\n",
    "    # Set up your Geocoding url\n",
    "    geocode_url = \"https://maps.googleapis.com/maps/api/geocode/json?address={}\".format(address)\n",
    "    if api_key is not None:\n",
    "        geocode_url = geocode_url + \"&key={}\".format(api_key)\n",
    "        \n",
    "    # Ping google for the reuslts:\n",
    "    results = requests.get(geocode_url)\n",
    "    # Results will be in JSON format - convert to dict using requests functionality\n",
    "    results = results.json()\n",
    "    \n",
    "    # if there's no results or an error, return empty results.\n",
    "    if len(results['results']) == 0:\n",
    "        output = {\n",
    "            \"latitude\": None,\n",
    "            \"longitude\": None\n",
    "        }\n",
    "    else:    \n",
    "        answer = results['results'][0]\n",
    "        output = {\n",
    "            \"latitude\": answer.get('geometry').get('location').get('lat'),\n",
    "            \"longitude\": answer.get('geometry').get('location').get('lng')\n",
    "        }\n",
    "        \n",
    "    # Append some other details:    \n",
    "    output['input_string'] = address\n",
    "    output['number_of_results'] = len(results['results'])\n",
    "    output['status'] = results.get('status')\n",
    "    if return_full_response is True:\n",
    "        output['response'] = results\n",
    "    \n",
    "    return output"
   ]
  }
 ],
 "metadata": {
  "kernelspec": {
   "display_name": "Python 3",
   "language": "python",
   "name": "python3"
  },
  "language_info": {
   "codemirror_mode": {
    "name": "ipython",
    "version": 3
   },
   "file_extension": ".py",
   "mimetype": "text/x-python",
   "name": "python",
   "nbconvert_exporter": "python",
   "pygments_lexer": "ipython3",
   "version": "3.7.6"
  }
 },
 "nbformat": 4,
 "nbformat_minor": 4
}
