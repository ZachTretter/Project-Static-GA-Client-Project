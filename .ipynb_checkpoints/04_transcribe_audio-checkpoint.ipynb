{
 "cells": [
  {
   "cell_type": "code",
   "execution_count": 1,
   "metadata": {},
   "outputs": [],
   "source": [
    "# pip install --upgrade google-cloud-speech\n",
    "import os\n",
    "import io\n",
    "from google.cloud import speech_v1p1beta1 as speech\n",
    "from google.cloud.speech_v1p1beta1 import enums\n",
    "from pydub import AudioSegment\n",
    "import pandas as pd\n",
    "import time"
   ]
  },
  {
   "cell_type": "code",
   "execution_count": 20,
   "metadata": {},
   "outputs": [],
   "source": [
    "# Check audio file properites\n",
    "# sound_file = AudioSegment.from_file('./Datasets/sample_audio/QUICKTEST/31120-20200501-0034sample21.wav', format=\"wav\")\n",
    "\n",
    "# print(f'Sample Width: {sound_file.sample_width}')\n",
    "# print(f'Channel Count: {sound_file.channels}')\n",
    "# print(f'Duration: {len(sound_file) / 1000}s')\n",
    "# print(f'Sample Rate: {sound_file.frame_rate}')\n",
    "# print(f'Sample Rate: {sound_file.dBFS}')"
   ]
  },
  {
   "cell_type": "code",
   "execution_count": 7,
   "metadata": {},
   "outputs": [],
   "source": [
    "def transcribe(input_path,output_path,output_filename,street_file):\n",
    "    # define key path (security feature)\n",
    "    os.environ[\"GOOGLE_APPLICATION_CREDENTIALS\"] = '/Users/alex/ga-dsi-11/police-scanner-speech-to-text-c09b11750e4e.json'\n",
    "    \n",
    "    # Instantiate speech to text model, DataFrame, and time\n",
    "    client = speech.SpeechClient()\n",
    "    df = pd.DataFrame()\n",
    "    total_time_start = time.time()\n",
    "    \n",
    "    # List of streets\n",
    "    street_df = pd.read_csv(street_file)\n",
    "    street_list = []\n",
    "    for j in street_df['0']:\n",
    "        street_list.append(j) \n",
    "        \n",
    "    \n",
    "    # loop through files in our input path\n",
    "    for i in os.listdir(input_path):\n",
    "        if i.endswith('.wav'):\n",
    "            loop_time = time.time()\n",
    "            \n",
    "            # open our audio file\n",
    "            with io.open(f'{input_path}{i}', 'rb') as audio_file:\n",
    "                content = audio_file.read()\n",
    "                audio = speech.types.RecognitionAudio(content=content)\n",
    "            print(f\"File {i} opened\")\n",
    "            \n",
    "            # model parameters\n",
    "            config = speech.types.RecognitionConfig(\n",
    "                encoding=enums.RecognitionConfig.AudioEncoding.LINEAR16,\n",
    "                sample_rate_hertz = 22050,\n",
    "                language_code = 'en-US',\n",
    "                audio_channel_count = 1,\n",
    "                enable_separate_recognition_per_channel = True,\n",
    "                use_enhanced = True,\n",
    "                model = 'phone_call',\n",
    "                speech_contexts = [\n",
    "                                    {'boost': 20.0}])\n",
    "            \n",
    "            # This models equivalent of fit/predict\n",
    "            response = client.recognize(config, audio)\n",
    "            \n",
    "            # build dictionary -> dataframe\n",
    "#             print(response.results)\n",
    "            for result in response.results:\n",
    "                d = {}\n",
    "                d['transcript'] = result.alternatives[0].transcript\n",
    "                d['confidence_interval'] = result.alternatives[0].confidence\n",
    "                d['file_name'] = i\n",
    "                df = df.append(d, ignore_index=True)\n",
    "                print(f\"File {i} results added to dataframe: {time.time() - loop_time}s\")\n",
    "\n",
    "\n",
    "    \n",
    "    # export df of transcriptions\n",
    "    df.to_csv(f'{output_path}{output_filename}', index=False)\n",
    "    \n",
    "    print(f\"Total time elapsed: {time.time() - total_time_start}s\")\n",
    "    \n",
    "    #return dataframe incase we would like to use it in local file\n",
    "    return df"
   ]
  },
  {
   "cell_type": "code",
   "execution_count": 11,
   "metadata": {
    "scrolled": false
   },
   "outputs": [
    {
     "name": "stdout",
     "output_type": "stream",
     "text": [
      "File Alexsample18-25818-20200501-0413.wav opened\n",
      "File Alexsample17-25818-20200501-0413.wav opened\n",
      "File Alexsample13-25818-20200501-0413.wav opened\n",
      "File Alexsample13-25818-20200501-0413.wav results added to dataframe: 23.451646327972412s\n",
      "File Alexsample10-25818-20200501-0413.wav opened\n",
      "File Alexsample10-25818-20200501-0413.wav results added to dataframe: 3.9653687477111816s\n",
      "File Alexsample14-25818-20200501-0413.wav opened\n",
      "File Alexsample14-25818-20200501-0413.wav results added to dataframe: 3.368769884109497s\n",
      "File Alexsample12-25818-20200501-0413.wav opened\n",
      "File Alexsample12-25818-20200501-0413.wav results added to dataframe: 3.8850531578063965s\n",
      "File Alexsample16-25818-20200501-0413.wav opened\n",
      "File Alexsample16-25818-20200501-0413.wav results added to dataframe: 7.202057838439941s\n",
      "File Alexsample16-25818-20200501-0413.wav results added to dataframe: 7.207916975021362s\n",
      "File Alexsample15-25818-20200501-0413.wav opened\n",
      "File Alexsample15-25818-20200501-0413.wav results added to dataframe: 4.553072929382324s\n",
      "File Alexsample1-25818-20200501-0413.wav opened\n",
      "File Alexsample11-25818-20200501-0413.wav opened\n",
      "File Alexsample11-25818-20200501-0413.wav results added to dataframe: 5.135146856307983s\n",
      "Total time elapsed: 57.355074882507324s\n"
     ]
    }
   ],
   "source": [
    "transcription_df = transcribe('./Datasets/sample_audio/test/',   # Indivitual INPUT PATH\n",
    "                              './Datasets/sample_transcript/', # Indivitual OUTPUT PATH\n",
    "                              'ALEX_sample_transcript_QUICKTEST.csv', # Indivitual transcription csv name\n",
    "                              './Datasets/cambridge.csv'\n",
    "                             )\n",
    "\n",
    "transcription_df\n"
   ]
  },
  {
   "cell_type": "code",
   "execution_count": 19,
   "metadata": {},
   "outputs": [
    {
     "data": {
      "text/plain": [
       "'car locations required to be outside in the motor vehicle'"
      ]
     },
     "execution_count": 19,
     "metadata": {},
     "output_type": "execute_result"
    }
   ],
   "source": []
  },
  {
   "cell_type": "code",
   "execution_count": null,
   "metadata": {},
   "outputs": [],
   "source": []
  }
 ],
 "metadata": {
  "kernelspec": {
   "display_name": "Python 3",
   "language": "python",
   "name": "python3"
  },
  "language_info": {
   "codemirror_mode": {
    "name": "ipython",
    "version": 3
   },
   "file_extension": ".py",
   "mimetype": "text/x-python",
   "name": "python",
   "nbconvert_exporter": "python",
   "pygments_lexer": "ipython3",
   "version": "3.7.6"
  },
  "toc": {
   "base_numbering": 1,
   "nav_menu": {},
   "number_sections": true,
   "sideBar": true,
   "skip_h1_title": false,
   "title_cell": "Table of Contents",
   "title_sidebar": "Contents",
   "toc_cell": false,
   "toc_position": {},
   "toc_section_display": true,
   "toc_window_display": false
  },
  "varInspector": {
   "cols": {
    "lenName": 16,
    "lenType": 16,
    "lenVar": 40
   },
   "kernels_config": {
    "python": {
     "delete_cmd_postfix": "",
     "delete_cmd_prefix": "del ",
     "library": "var_list.py",
     "varRefreshCmd": "print(var_dic_list())"
    },
    "r": {
     "delete_cmd_postfix": ") ",
     "delete_cmd_prefix": "rm(",
     "library": "var_list.r",
     "varRefreshCmd": "cat(var_dic_list()) "
    }
   },
   "position": {
    "height": "488px",
    "left": "1329px",
    "right": "20px",
    "top": "100px",
    "width": "356px"
   },
   "types_to_exclude": [
    "module",
    "function",
    "builtin_function_or_method",
    "instance",
    "_Feature"
   ],
   "window_display": false
  }
 },
 "nbformat": 4,
 "nbformat_minor": 4
}
