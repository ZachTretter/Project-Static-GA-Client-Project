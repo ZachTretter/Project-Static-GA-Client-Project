{
 "cells": [
  {
   "cell_type": "code",
   "execution_count": 1,
   "metadata": {
    "ExecuteTime": {
     "end_time": "2020-05-11T16:36:51.717132Z",
     "start_time": "2020-05-11T16:36:50.844535Z"
    }
   },
   "outputs": [],
   "source": [
    "import os\n",
    "import time\n",
    "import pydub\n",
    "from pydub.silence import split_on_silence\n",
    "from pydub import AudioSegment"
   ]
  },
  {
   "cell_type": "markdown",
   "metadata": {
    "ExecuteTime": {
     "end_time": "2020-05-10T13:46:14.731666Z",
     "start_time": "2020-05-10T13:46:14.725648Z"
    }
   },
   "source": [
    "#### Establish Sound Processing Criteria"
   ]
  },
  {
   "cell_type": "code",
   "execution_count": 2,
   "metadata": {
    "ExecuteTime": {
     "end_time": "2020-05-11T16:36:51.721120Z",
     "start_time": "2020-05-11T16:36:51.718088Z"
    }
   },
   "outputs": [],
   "source": [
    "silence_length_ms = 4_000\n",
    "silence_threshold_delta_dBFS = -5\n",
    "\n",
    "min_chunk_length_ms = 2_000\n",
    "max_chunk_length_ms = 60_000"
   ]
  },
  {
   "cell_type": "markdown",
   "metadata": {},
   "source": [
    "#### Identify File Paths Specific to Your Machine"
   ]
  },
  {
   "cell_type": "code",
   "execution_count": 4,
   "metadata": {
    "ExecuteTime": {
     "end_time": "2020-05-11T16:36:51.791927Z",
     "start_time": "2020-05-11T16:36:51.785942Z"
    }
   },
   "outputs": [
    {
     "data": {
      "text/plain": [
       "['\\u2068 13467-20200507-2331.mp3',\n",
       " '\\u2068 13467-20200508-0100.mp3',\n",
       " '\\u2068 13467-20200508-0001.mp3',\n",
       " '\\u2068 13467-20200507-2231.mp3',\n",
       " '\\u2068 13467-20200508-0200.mp3',\n",
       " '\\u2068 13467-20200508-0030.mp3',\n",
       " '\\u2068 13467-20200508-0130.mp3',\n",
       " '\\u2068 13467-20200507-2301.mp3']"
      ]
     },
     "execution_count": 4,
     "metadata": {},
     "output_type": "execute_result"
    }
   ],
   "source": [
    "# File Path to Raw Audio\n",
    "raw_path = \"./Datasets/mp3_download/cambridge/\"\n",
    "\n",
    "# Verify Appropriate Files Exist in this Path\n",
    "os.listdir(raw_path)"
   ]
  },
  {
   "cell_type": "code",
   "execution_count": 4,
   "metadata": {
    "ExecuteTime": {
     "end_time": "2020-05-11T16:36:52.702937Z",
     "start_time": "2020-05-11T16:36:52.698933Z"
    }
   },
   "outputs": [
    {
     "data": {
      "text/plain": [
       "[]"
      ]
     },
     "execution_count": 4,
     "metadata": {},
     "output_type": "execute_result"
    }
   ],
   "source": [
    "# File Path for Structured Audio\n",
    "output_path = \"\"\n",
    "\n",
    "# Verify Outpath Path Exists\n",
    "os.listdir(output_path)"
   ]
  },
  {
   "cell_type": "markdown",
   "metadata": {},
   "source": [
    "#### Split Archive Feeds into Chunks"
   ]
  },
  {
   "cell_type": "code",
   "execution_count": 5,
   "metadata": {
    "ExecuteTime": {
     "end_time": "2020-05-11T16:40:57.695637Z",
     "start_time": "2020-05-11T16:36:54.691403Z"
    }
   },
   "outputs": [
    {
     "name": "stdout",
     "output_type": "stream",
     "text": [
      "file 202005011636-603577-26120.mp3 required 243.0 seconds to split into 75 pieces \n",
      "\n"
     ]
    }
   ],
   "source": [
    "aggregate_chunks = []\n",
    "\n",
    "for raw_file in os.listdir(raw_path):\n",
    "    # Start Timer\n",
    "    start_time = time.time()\n",
    "    \n",
    "    # Pull in File\n",
    "    audio_to_split = AudioSegment.from_mp3(raw_path + raw_file)\n",
    "    \n",
    "    # Split based on silence critiera\n",
    "    chunks = split_on_silence(audio_to_split,\n",
    "                             min_silence_len = silence_length_ms,\n",
    "                             silence_thresh = audio_to_split.dBFS + silence_threshold_delta_dBFS)\n",
    "    \n",
    "    # Calculate Processing Time\n",
    "    processing_time = round(time.time() - start_time,0)\n",
    "    \n",
    "    # Return informative statement\n",
    "    print(f'file {raw_file} required {processing_time} seconds to split into {len(chunks)} pieces \\n')\n",
    "    \n",
    "    # Append chunks to master list\n",
    "    aggregate_chunks.append(chunks)   "
   ]
  },
  {
   "cell_type": "markdown",
   "metadata": {},
   "source": [
    "#### Export Chunks that meet Criteria"
   ]
  },
  {
   "cell_type": "code",
   "execution_count": 6,
   "metadata": {
    "ExecuteTime": {
     "end_time": "2020-05-11T16:41:00.770255Z",
     "start_time": "2020-05-11T16:41:00.732392Z"
    }
   },
   "outputs": [
    {
     "name": "stdout",
     "output_type": "stream",
     "text": [
      "Exporting 49 chunks required 0.03287005424499512 seconds\n"
     ]
    }
   ],
   "source": [
    "start_time = time.time()\n",
    "\n",
    "counter = 1\n",
    "for chunk in chunks:\n",
    "    file_name = \"sample{}.wav\".format(counter)\n",
    "    if len(chunk) >= min_chunk_length_ms and len(chunk) <= max_chunk_length_ms:\n",
    "        chunk.export(output_path + file_name,\n",
    "                     format = \"wav\")\n",
    "        counter+=1\n",
    "print(f'Exporting {counter} chunks required {time.time()-start_time} seconds')"
   ]
  },
  {
   "cell_type": "markdown",
   "metadata": {},
   "source": [
    "#### Confirm Files Exist"
   ]
  },
  {
   "cell_type": "code",
   "execution_count": 7,
   "metadata": {
    "ExecuteTime": {
     "end_time": "2020-05-11T16:41:03.745724Z",
     "start_time": "2020-05-11T16:41:03.738744Z"
    },
    "scrolled": false
   },
   "outputs": [
    {
     "data": {
      "text/plain": [
       "['sample1.wav',\n",
       " 'sample10.wav',\n",
       " 'sample11.wav',\n",
       " 'sample12.wav',\n",
       " 'sample13.wav',\n",
       " 'sample14.wav',\n",
       " 'sample15.wav',\n",
       " 'sample16.wav',\n",
       " 'sample17.wav',\n",
       " 'sample18.wav',\n",
       " 'sample19.wav',\n",
       " 'sample2.wav',\n",
       " 'sample20.wav',\n",
       " 'sample21.wav',\n",
       " 'sample22.wav',\n",
       " 'sample23.wav',\n",
       " 'sample24.wav',\n",
       " 'sample25.wav',\n",
       " 'sample26.wav',\n",
       " 'sample27.wav',\n",
       " 'sample28.wav',\n",
       " 'sample29.wav',\n",
       " 'sample3.wav',\n",
       " 'sample30.wav',\n",
       " 'sample31.wav',\n",
       " 'sample32.wav',\n",
       " 'sample33.wav',\n",
       " 'sample34.wav',\n",
       " 'sample35.wav',\n",
       " 'sample36.wav',\n",
       " 'sample37.wav',\n",
       " 'sample38.wav',\n",
       " 'sample39.wav',\n",
       " 'sample4.wav',\n",
       " 'sample40.wav',\n",
       " 'sample41.wav',\n",
       " 'sample42.wav',\n",
       " 'sample43.wav',\n",
       " 'sample44.wav',\n",
       " 'sample45.wav',\n",
       " 'sample46.wav',\n",
       " 'sample47.wav',\n",
       " 'sample48.wav',\n",
       " 'sample5.wav',\n",
       " 'sample6.wav',\n",
       " 'sample7.wav',\n",
       " 'sample8.wav',\n",
       " 'sample9.wav']"
      ]
     },
     "execution_count": 7,
     "metadata": {},
     "output_type": "execute_result"
    }
   ],
   "source": [
    "os.listdir(output_path)"
   ]
  },
  {
   "cell_type": "code",
   "execution_count": null,
   "metadata": {},
   "outputs": [],
   "source": []
  }
 ],
 "metadata": {
  "kernelspec": {
   "display_name": "Python 3",
   "language": "python",
   "name": "python3"
  },
  "language_info": {
   "codemirror_mode": {
    "name": "ipython",
    "version": 3
   },
   "file_extension": ".py",
   "mimetype": "text/x-python",
   "name": "python",
   "nbconvert_exporter": "python",
   "pygments_lexer": "ipython3",
   "version": "3.7.6"
  },
  "toc": {
   "base_numbering": 1,
   "nav_menu": {},
   "number_sections": true,
   "sideBar": true,
   "skip_h1_title": false,
   "title_cell": "Table of Contents",
   "title_sidebar": "Contents",
   "toc_cell": false,
   "toc_position": {},
   "toc_section_display": true,
   "toc_window_display": false
  },
  "varInspector": {
   "cols": {
    "lenName": 16,
    "lenType": 16,
    "lenVar": 40
   },
   "kernels_config": {
    "python": {
     "delete_cmd_postfix": "",
     "delete_cmd_prefix": "del ",
     "library": "var_list.py",
     "varRefreshCmd": "print(var_dic_list())"
    },
    "r": {
     "delete_cmd_postfix": ") ",
     "delete_cmd_prefix": "rm(",
     "library": "var_list.r",
     "varRefreshCmd": "cat(var_dic_list()) "
    }
   },
   "types_to_exclude": [
    "module",
    "function",
    "builtin_function_or_method",
    "instance",
    "_Feature"
   ],
   "window_display": false
  }
 },
 "nbformat": 4,
 "nbformat_minor": 4
}
