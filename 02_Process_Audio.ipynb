{
 "cells": [
  {
   "cell_type": "code",
   "execution_count": 1,
   "metadata": {
    "ExecuteTime": {
     "end_time": "2020-05-11T16:36:51.717132Z",
     "start_time": "2020-05-11T16:36:50.844535Z"
    }
   },
   "outputs": [],
   "source": [
    "import os\n",
    "import time\n",
    "import pydub\n",
    "from pydub.silence import split_on_silence\n",
    "from pydub import AudioSegment"
   ]
  },
  {
   "cell_type": "markdown",
   "metadata": {
    "ExecuteTime": {
     "end_time": "2020-05-10T13:46:14.731666Z",
     "start_time": "2020-05-10T13:46:14.725648Z"
    }
   },
   "source": [
    "#### Establish Sound Processing Criteria"
   ]
  },
  {
   "cell_type": "code",
   "execution_count": 2,
   "metadata": {
    "ExecuteTime": {
     "end_time": "2020-05-11T16:36:51.721120Z",
     "start_time": "2020-05-11T16:36:51.718088Z"
    }
   },
   "outputs": [],
   "source": [
    "silence_length_ms = 4_000\n",
    "silence_threshold_delta_dBFS = -5\n",
    "\n",
    "min_chunk_length_ms = 2_000\n",
    "max_chunk_length_ms = 60_000"
   ]
  },
  {
   "cell_type": "markdown",
   "metadata": {},
   "source": [
    "#### Identify File Paths Specific to Your Machine"
   ]
  },
  {
   "cell_type": "code",
   "execution_count": 3,
   "metadata": {
    "ExecuteTime": {
     "end_time": "2020-05-11T16:36:51.791927Z",
     "start_time": "2020-05-11T16:36:51.785942Z"
    }
   },
   "outputs": [
    {
     "data": {
      "text/plain": [
       "['31120-20200502-1738.mp3',\n",
       " '31120-20200502-1539.mp3',\n",
       " '31120-20200502-1808.mp3',\n",
       " '31120-20200502-1216.mp3',\n",
       " '31120-20200502-1422.mp3',\n",
       " '.ipynb_checkpoints',\n",
       " '31120-20200502-1452.mp3',\n",
       " '31120-20200502-1322.mp3',\n",
       " '31120-20200502-1252.mp3',\n",
       " 'held',\n",
       " '31120-20200502-1522.mp3',\n",
       " '31120-20200502-1708.mp3']"
      ]
     },
     "execution_count": 3,
     "metadata": {},
     "output_type": "execute_result"
    }
   ],
   "source": [
    "# File Path to Raw Audio\n",
    "raw_path = \"./Datasets/mp3_download/cambridge/LUKE\"\n",
    "\n",
    "# Verify Appropriate Files Exist in this Path\n",
    "os.listdir(raw_path)"
   ]
  },
  {
   "cell_type": "code",
   "execution_count": 4,
   "metadata": {
    "ExecuteTime": {
     "end_time": "2020-05-11T16:36:52.702937Z",
     "start_time": "2020-05-11T16:36:52.698933Z"
    }
   },
   "outputs": [
    {
     "data": {
      "text/plain": [
       "['.DS_Store', 'Old-metro-bos', '.ipynb_checkpoints']"
      ]
     },
     "execution_count": 4,
     "metadata": {},
     "output_type": "execute_result"
    }
   ],
   "source": [
    "# File Path for Structured Audio\n",
    "output_path = \"./Datasets/sample_audio/\"\n",
    "\n",
    "# Verify Outpath Path Exists\n",
    "os.listdir(output_path)"
   ]
  },
  {
   "cell_type": "markdown",
   "metadata": {},
   "source": [
    "#### Split Archive Feeds into Chunks"
   ]
  },
  {
   "cell_type": "code",
   "execution_count": 5,
   "metadata": {
    "ExecuteTime": {
     "end_time": "2020-05-11T16:40:57.695637Z",
     "start_time": "2020-05-11T16:36:54.691403Z"
    }
   },
   "outputs": [
    {
     "name": "stdout",
     "output_type": "stream",
     "text": [
      "Processing 31120-20200502-1738.mp3\n",
      "file 31120-20200502-1738.mp3 required 600.0 seconds to split into 1 pieces \n",
      "\n",
      "Processing 31120-20200502-1539.mp3\n"
     ]
    },
    {
     "ename": "KeyboardInterrupt",
     "evalue": "",
     "output_type": "error",
     "traceback": [
      "\u001b[0;31m---------------------------------------------------------------------------\u001b[0m",
      "\u001b[0;31mKeyboardInterrupt\u001b[0m                         Traceback (most recent call last)",
      "\u001b[0;32m<ipython-input-5-66a78b6f3417>\u001b[0m in \u001b[0;36m<module>\u001b[0;34m\u001b[0m\n\u001b[1;32m     13\u001b[0m         chunks = split_on_silence(audio_to_split,\n\u001b[1;32m     14\u001b[0m                                  \u001b[0mmin_silence_len\u001b[0m \u001b[0;34m=\u001b[0m \u001b[0msilence_length_ms\u001b[0m\u001b[0;34m,\u001b[0m\u001b[0;34m\u001b[0m\u001b[0;34m\u001b[0m\u001b[0m\n\u001b[0;32m---> 15\u001b[0;31m                                  silence_thresh = audio_to_split.dBFS + silence_threshold_delta_dBFS)\n\u001b[0m\u001b[1;32m     16\u001b[0m \u001b[0;34m\u001b[0m\u001b[0m\n\u001b[1;32m     17\u001b[0m         \u001b[0;31m# Calculate Processing Time\u001b[0m\u001b[0;34m\u001b[0m\u001b[0;34m\u001b[0m\u001b[0;34m\u001b[0m\u001b[0m\n",
      "\u001b[0;32m/opt/anaconda3/lib/python3.7/site-packages/pydub/silence.py\u001b[0m in \u001b[0;36msplit_on_silence\u001b[0;34m(audio_segment, min_silence_len, silence_thresh, keep_silence, seek_step)\u001b[0m\n\u001b[1;32m    105\u001b[0m     \"\"\"\n\u001b[1;32m    106\u001b[0m \u001b[0;34m\u001b[0m\u001b[0m\n\u001b[0;32m--> 107\u001b[0;31m     \u001b[0mnot_silence_ranges\u001b[0m \u001b[0;34m=\u001b[0m \u001b[0mdetect_nonsilent\u001b[0m\u001b[0;34m(\u001b[0m\u001b[0maudio_segment\u001b[0m\u001b[0;34m,\u001b[0m \u001b[0mmin_silence_len\u001b[0m\u001b[0;34m,\u001b[0m \u001b[0msilence_thresh\u001b[0m\u001b[0;34m,\u001b[0m \u001b[0mseek_step\u001b[0m\u001b[0;34m)\u001b[0m\u001b[0;34m\u001b[0m\u001b[0;34m\u001b[0m\u001b[0m\n\u001b[0m\u001b[1;32m    108\u001b[0m \u001b[0;34m\u001b[0m\u001b[0m\n\u001b[1;32m    109\u001b[0m     \u001b[0mchunks\u001b[0m \u001b[0;34m=\u001b[0m \u001b[0;34m[\u001b[0m\u001b[0;34m]\u001b[0m\u001b[0;34m\u001b[0m\u001b[0;34m\u001b[0m\u001b[0m\n",
      "\u001b[0;32m/opt/anaconda3/lib/python3.7/site-packages/pydub/silence.py\u001b[0m in \u001b[0;36mdetect_nonsilent\u001b[0;34m(audio_segment, min_silence_len, silence_thresh, seek_step)\u001b[0m\n\u001b[1;32m     63\u001b[0m \u001b[0;34m\u001b[0m\u001b[0m\n\u001b[1;32m     64\u001b[0m \u001b[0;32mdef\u001b[0m \u001b[0mdetect_nonsilent\u001b[0m\u001b[0;34m(\u001b[0m\u001b[0maudio_segment\u001b[0m\u001b[0;34m,\u001b[0m \u001b[0mmin_silence_len\u001b[0m\u001b[0;34m=\u001b[0m\u001b[0;36m1000\u001b[0m\u001b[0;34m,\u001b[0m \u001b[0msilence_thresh\u001b[0m\u001b[0;34m=\u001b[0m\u001b[0;34m-\u001b[0m\u001b[0;36m16\u001b[0m\u001b[0;34m,\u001b[0m \u001b[0mseek_step\u001b[0m\u001b[0;34m=\u001b[0m\u001b[0;36m1\u001b[0m\u001b[0;34m)\u001b[0m\u001b[0;34m:\u001b[0m\u001b[0;34m\u001b[0m\u001b[0;34m\u001b[0m\u001b[0m\n\u001b[0;32m---> 65\u001b[0;31m     \u001b[0msilent_ranges\u001b[0m \u001b[0;34m=\u001b[0m \u001b[0mdetect_silence\u001b[0m\u001b[0;34m(\u001b[0m\u001b[0maudio_segment\u001b[0m\u001b[0;34m,\u001b[0m \u001b[0mmin_silence_len\u001b[0m\u001b[0;34m,\u001b[0m \u001b[0msilence_thresh\u001b[0m\u001b[0;34m,\u001b[0m \u001b[0mseek_step\u001b[0m\u001b[0;34m)\u001b[0m\u001b[0;34m\u001b[0m\u001b[0;34m\u001b[0m\u001b[0m\n\u001b[0m\u001b[1;32m     66\u001b[0m     \u001b[0mlen_seg\u001b[0m \u001b[0;34m=\u001b[0m \u001b[0mlen\u001b[0m\u001b[0;34m(\u001b[0m\u001b[0maudio_segment\u001b[0m\u001b[0;34m)\u001b[0m\u001b[0;34m\u001b[0m\u001b[0;34m\u001b[0m\u001b[0m\n\u001b[1;32m     67\u001b[0m \u001b[0;34m\u001b[0m\u001b[0m\n",
      "\u001b[0;32m/opt/anaconda3/lib/python3.7/site-packages/pydub/silence.py\u001b[0m in \u001b[0;36mdetect_silence\u001b[0;34m(audio_segment, min_silence_len, silence_thresh, seek_step)\u001b[0m\n\u001b[1;32m     29\u001b[0m     \u001b[0;32mfor\u001b[0m \u001b[0mi\u001b[0m \u001b[0;32min\u001b[0m \u001b[0mslice_starts\u001b[0m\u001b[0;34m:\u001b[0m\u001b[0;34m\u001b[0m\u001b[0;34m\u001b[0m\u001b[0m\n\u001b[1;32m     30\u001b[0m         \u001b[0maudio_slice\u001b[0m \u001b[0;34m=\u001b[0m \u001b[0maudio_segment\u001b[0m\u001b[0;34m[\u001b[0m\u001b[0mi\u001b[0m\u001b[0;34m:\u001b[0m\u001b[0mi\u001b[0m \u001b[0;34m+\u001b[0m \u001b[0mmin_silence_len\u001b[0m\u001b[0;34m]\u001b[0m\u001b[0;34m\u001b[0m\u001b[0;34m\u001b[0m\u001b[0m\n\u001b[0;32m---> 31\u001b[0;31m         \u001b[0;32mif\u001b[0m \u001b[0maudio_slice\u001b[0m\u001b[0;34m.\u001b[0m\u001b[0mrms\u001b[0m \u001b[0;34m<=\u001b[0m \u001b[0msilence_thresh\u001b[0m\u001b[0;34m:\u001b[0m\u001b[0;34m\u001b[0m\u001b[0;34m\u001b[0m\u001b[0m\n\u001b[0m\u001b[1;32m     32\u001b[0m             \u001b[0msilence_starts\u001b[0m\u001b[0;34m.\u001b[0m\u001b[0mappend\u001b[0m\u001b[0;34m(\u001b[0m\u001b[0mi\u001b[0m\u001b[0;34m)\u001b[0m\u001b[0;34m\u001b[0m\u001b[0;34m\u001b[0m\u001b[0m\n\u001b[1;32m     33\u001b[0m \u001b[0;34m\u001b[0m\u001b[0m\n",
      "\u001b[0;32m/opt/anaconda3/lib/python3.7/site-packages/pydub/audio_segment.py\u001b[0m in \u001b[0;36mrms\u001b[0;34m(self)\u001b[0m\n\u001b[1;32m    983\u001b[0m             \u001b[0;32mreturn\u001b[0m \u001b[0mself\u001b[0m\u001b[0;34m.\u001b[0m\u001b[0mset_sample_width\u001b[0m\u001b[0;34m(\u001b[0m\u001b[0;36m2\u001b[0m\u001b[0;34m)\u001b[0m\u001b[0;34m.\u001b[0m\u001b[0mrms\u001b[0m\u001b[0;34m\u001b[0m\u001b[0;34m\u001b[0m\u001b[0m\n\u001b[1;32m    984\u001b[0m         \u001b[0;32melse\u001b[0m\u001b[0;34m:\u001b[0m\u001b[0;34m\u001b[0m\u001b[0;34m\u001b[0m\u001b[0m\n\u001b[0;32m--> 985\u001b[0;31m             \u001b[0;32mreturn\u001b[0m \u001b[0maudioop\u001b[0m\u001b[0;34m.\u001b[0m\u001b[0mrms\u001b[0m\u001b[0;34m(\u001b[0m\u001b[0mself\u001b[0m\u001b[0;34m.\u001b[0m\u001b[0m_data\u001b[0m\u001b[0;34m,\u001b[0m \u001b[0mself\u001b[0m\u001b[0;34m.\u001b[0m\u001b[0msample_width\u001b[0m\u001b[0;34m)\u001b[0m\u001b[0;34m\u001b[0m\u001b[0;34m\u001b[0m\u001b[0m\n\u001b[0m\u001b[1;32m    986\u001b[0m \u001b[0;34m\u001b[0m\u001b[0m\n\u001b[1;32m    987\u001b[0m     \u001b[0;34m@\u001b[0m\u001b[0mproperty\u001b[0m\u001b[0;34m\u001b[0m\u001b[0;34m\u001b[0m\u001b[0m\n",
      "\u001b[0;31mKeyboardInterrupt\u001b[0m: "
     ]
    }
   ],
   "source": [
    "aggregate_chunks = []\n",
    "\n",
    "for raw_file in os.listdir(raw_path):\n",
    "    if raw_file.endswith('.mp3'):\n",
    "        print(f\"Processing {raw_file}\")\n",
    "        # Start Timer\n",
    "        start_time = time.time()\n",
    "\n",
    "        # Pull in File\n",
    "        audio_to_split = AudioSegment.from_mp3(raw_path + raw_file)\n",
    "\n",
    "        # Split based on silence critiera\n",
    "        chunks = split_on_silence(audio_to_split,\n",
    "                                 min_silence_len = silence_length_ms,\n",
    "                                 silence_thresh = audio_to_split.dBFS + silence_threshold_delta_dBFS)\n",
    "\n",
    "        # Calculate Processing Time\n",
    "        processing_time = round(time.time() - start_time,0)\n",
    "\n",
    "        # Return informative statement\n",
    "        print(f'file {raw_file} required {processing_time} seconds to split into {len(chunks)} pieces \\n')\n",
    "\n",
    "        # Append chunks to master list\n",
    "        aggregate_chunks.append(chunks)   \n",
    "        \n",
    "        start_time = time.time()\n",
    "\n",
    "        counter = 1\n",
    "        for chunks in aggregate_chunks:\n",
    "            for chunk in chunks:\n",
    "                file_name = \"sample{}.wav\".format(counter)\n",
    "                if len(chunk) >= min_chunk_length_ms and len(chunk) <= max_chunk_length_ms:\n",
    "                    chunk.export(f\"{output_path}{raw_file}sample{counter}.wav\", format = \"wav\",\n",
    "                                 format = \"wav\")\n",
    "                    counter+=1\n",
    "        print(f'Exporting {counter} chunks required {time.time()-start_time} seconds')"
   ]
  },
  {
   "cell_type": "markdown",
   "metadata": {},
   "source": [
    "#### Export Chunks that meet Criteria"
   ]
  },
  {
   "cell_type": "code",
   "execution_count": null,
   "metadata": {},
   "outputs": [],
   "source": [
    "chunks"
   ]
  },
  {
   "cell_type": "code",
   "execution_count": null,
   "metadata": {
    "ExecuteTime": {
     "end_time": "2020-05-11T16:41:00.770255Z",
     "start_time": "2020-05-11T16:41:00.732392Z"
    }
   },
   "outputs": [],
   "source": [
    "start_time = time.time()\n",
    "\n",
    "counter = 1\n",
    "for chunks in aggregate_chunks:\n",
    "    for chunk in chunks:\n",
    "        file_name = \"sample{}.wav\".format(counter)\n",
    "        if len(chunk) >= min_chunk_length_ms and len(chunk) <= max_chunk_length_ms:\n",
    "            chunk.export(output_path + file_name,\n",
    "                         format = \"wav\")\n",
    "            counter+=1\n",
    "print(f'Exporting {counter} chunks required {time.time()-start_time} seconds')"
   ]
  },
  {
   "cell_type": "markdown",
   "metadata": {},
   "source": [
    "#### Confirm Files Exist"
   ]
  },
  {
   "cell_type": "code",
   "execution_count": null,
   "metadata": {
    "ExecuteTime": {
     "end_time": "2020-05-11T16:41:03.745724Z",
     "start_time": "2020-05-11T16:41:03.738744Z"
    },
    "scrolled": false
   },
   "outputs": [],
   "source": [
    "os.listdir(output_path)"
   ]
  },
  {
   "cell_type": "code",
   "execution_count": null,
   "metadata": {},
   "outputs": [],
   "source": []
  }
 ],
 "metadata": {
  "kernelspec": {
   "display_name": "Python 3",
   "language": "python",
   "name": "python3"
  },
  "language_info": {
   "codemirror_mode": {
    "name": "ipython",
    "version": 3
   },
   "file_extension": ".py",
   "mimetype": "text/x-python",
   "name": "python",
   "nbconvert_exporter": "python",
   "pygments_lexer": "ipython3",
   "version": "3.7.6"
  },
  "toc": {
   "base_numbering": 1,
   "nav_menu": {},
   "number_sections": true,
   "sideBar": true,
   "skip_h1_title": false,
   "title_cell": "Table of Contents",
   "title_sidebar": "Contents",
   "toc_cell": false,
   "toc_position": {},
   "toc_section_display": true,
   "toc_window_display": false
  },
  "varInspector": {
   "cols": {
    "lenName": 16,
    "lenType": 16,
    "lenVar": 40
   },
   "kernels_config": {
    "python": {
     "delete_cmd_postfix": "",
     "delete_cmd_prefix": "del ",
     "library": "var_list.py",
     "varRefreshCmd": "print(var_dic_list())"
    },
    "r": {
     "delete_cmd_postfix": ") ",
     "delete_cmd_prefix": "rm(",
     "library": "var_list.r",
     "varRefreshCmd": "cat(var_dic_list()) "
    }
   },
   "types_to_exclude": [
    "module",
    "function",
    "builtin_function_or_method",
    "instance",
    "_Feature"
   ],
   "window_display": false
  }
 },
 "nbformat": 4,
 "nbformat_minor": 4
}
