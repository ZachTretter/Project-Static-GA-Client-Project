{
 "cells": [
  {
   "cell_type": "code",
   "execution_count": 1,
   "metadata": {
    "ExecuteTime": {
     "end_time": "2020-05-11T20:09:48.587877Z",
     "start_time": "2020-05-11T20:09:42.532837Z"
    }
   },
   "outputs": [],
   "source": [
    "import os\n",
    "import time\n",
    "import pydub\n",
    "import seaborn as sns\n",
    "from pydub.silence import split_on_silence\n",
    "from pydub import AudioSegment"
   ]
  },
  {
   "cell_type": "markdown",
   "metadata": {
    "ExecuteTime": {
     "end_time": "2020-05-10T13:46:14.731666Z",
     "start_time": "2020-05-10T13:46:14.725648Z"
    }
   },
   "source": [
    "#### Establish Sound Processing Criteria"
   ]
  },
  {
   "cell_type": "code",
   "execution_count": 8,
   "metadata": {
    "ExecuteTime": {
     "end_time": "2020-05-11T20:15:50.162877Z",
     "start_time": "2020-05-11T20:15:50.159884Z"
    }
   },
   "outputs": [],
   "source": [
    "silence_length_ms = 4_000\n",
    "silence_threshold_delta_dBFS = 0\n",
    "\n",
    "min_chunk_length_ms = 2_000\n",
    "max_chunk_length_ms = 60_000"
   ]
  },
  {
   "cell_type": "markdown",
   "metadata": {},
   "source": [
    "#### Identify File Paths Specific to Your Machine"
   ]
  },
  {
   "cell_type": "code",
   "execution_count": 3,
   "metadata": {
    "ExecuteTime": {
     "end_time": "2020-05-11T20:09:48.605416Z",
     "start_time": "2020-05-11T20:09:48.596405Z"
    }
   },
   "outputs": [
    {
     "data": {
      "text/plain": [
       "['13467-20200501-1252.mp3',\n",
       " '13467-20200501-1322.mp3',\n",
       " '13467-20200501-1351.mp3']"
      ]
     },
     "execution_count": 3,
     "metadata": {},
     "output_type": "execute_result"
    }
   ],
   "source": [
    "# File Path to Raw Audio\n",
    "raw_path = \"./mp3_download/\"\n",
    "\n",
    "# Verify Appropriate Files Exist in this Path\n",
    "os.listdir(raw_path)"
   ]
  },
  {
   "cell_type": "code",
   "execution_count": 5,
   "metadata": {
    "ExecuteTime": {
     "end_time": "2020-05-11T20:10:16.056997Z",
     "start_time": "2020-05-11T20:10:16.052011Z"
    }
   },
   "outputs": [
    {
     "data": {
      "text/plain": [
       "[]"
      ]
     },
     "execution_count": 5,
     "metadata": {},
     "output_type": "execute_result"
    }
   ],
   "source": [
    "# File Path for Structured Audio\n",
    "output_path = \"./wav_output/\"\n",
    "\n",
    "# Verify Outpath Path Exists\n",
    "os.listdir(output_path)"
   ]
  },
  {
   "cell_type": "markdown",
   "metadata": {},
   "source": [
    "#### Split Archive Feeds into Chunks and Export Chunks that meet Criteria"
   ]
  },
  {
   "cell_type": "code",
   "execution_count": 88,
   "metadata": {
    "ExecuteTime": {
     "end_time": "2020-05-11T21:16:54.478951Z",
     "start_time": "2020-05-11T21:15:32.606966Z"
    }
   },
   "outputs": [
    {
     "name": "stdout",
     "output_type": "stream",
     "text": [
      "File 13467-20200501-1252.mp3 required 27.0 seconds to split into 2 candidate chunks of audio \n",
      "\n",
      "File 13467-20200501-1322.mp3 required 55.0 seconds to split into 3 candidate chunks of audio \n",
      "\n",
      "File 13467-20200501-1351.mp3 required 82.0 seconds to split into 2 candidate chunks of audio \n",
      "\n",
      "Exporting 0 qualifying chunks required 81.86603331565857 seconds\n"
     ]
    }
   ],
   "source": [
    "# Start Timer\n",
    "start_time = time.time()\n",
    "\n",
    "# Counter for file names\n",
    "counter = 0\n",
    "\n",
    "for raw_file in os.listdir(raw_path):\n",
    "    \n",
    "    # Pull in File\n",
    "    audio_to_split = AudioSegment.from_mp3(raw_path + raw_file)[:200_000]\n",
    "    \n",
    "    # Audio Processing - Increase Loudness\n",
    "    audio_to_split += 40\n",
    "    \n",
    "    # Audio Processing - Set Channels to 1\n",
    "    audio_to_split.set_channels(1)\n",
    "    \n",
    "    # Split based on silence critiera\n",
    "    chunks = split_on_silence(audio_to_split,\n",
    "                             min_silence_len = silence_length_ms,\n",
    "                             silence_thresh = audio_to_split.dBFS + silence_threshold_delta_dBFS)\n",
    "    \n",
    "    # Calculate Processing Time\n",
    "    processing_time = round(time.time() - start_time,0)\n",
    "    \n",
    "    # Return informative statement\n",
    "    print(f'File {raw_file} required {processing_time} seconds to split into {len(chunks)} candidate chunks of audio \\n')\n",
    "    \n",
    "    # Export qualifying chunks\n",
    "    for chunk in chunks:\n",
    "        if len(chunk) >= min_chunk_length_ms and len(chunk) <= max_chunk_length_ms:\n",
    "            counter +=1\n",
    "            file_name = \"sample{}-{}.wav\".format(counter,raw_file.split(\".\")[0])\n",
    "            chunk.export(output_path + file_name,\n",
    "                     format = \"wav\")\n",
    "\n",
    "    \n",
    "print(f'Exporting {counter} qualifying chunks required {time.time()-start_time} seconds')    "
   ]
  },
  {
   "cell_type": "markdown",
   "metadata": {},
   "source": [
    "#### Confirm Files Exist"
   ]
  },
  {
   "cell_type": "code",
   "execution_count": 74,
   "metadata": {
    "ExecuteTime": {
     "end_time": "2020-05-11T21:11:47.586656Z",
     "start_time": "2020-05-11T21:11:47.582669Z"
    },
    "scrolled": false
   },
   "outputs": [
    {
     "data": {
      "text/plain": [
       "['sample1-13467-20200501-1252.wav',\n",
       " 'sample1-13467-20200501-1322.wav',\n",
       " 'sample2-13467-20200501-1322.wav',\n",
       " 'sample2-13467-20200501-1351.wav',\n",
       " 'sample3-13467-20200501-1322.wav',\n",
       " 'sample4-13467-20200501-1351.wav',\n",
       " 'sample5-13467-20200501-1351.wav']"
      ]
     },
     "execution_count": 74,
     "metadata": {},
     "output_type": "execute_result"
    }
   ],
   "source": [
    "os.listdir(output_path)"
   ]
  },
  {
   "cell_type": "code",
   "execution_count": 87,
   "metadata": {
    "ExecuteTime": {
     "end_time": "2020-05-11T21:15:19.109718Z",
     "start_time": "2020-05-11T21:15:19.013940Z"
    }
   },
   "outputs": [
    {
     "data": {
      "text/html": [
       "\n",
       "                    <audio controls>\n",
       "                        <source src=\"data:audio/mpeg;base64,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\" type=\"audio/mpeg\"/>\n",
       "                        Your browser does not support the audio element.\n",
       "                    </audio>\n",
       "                  "
      ],
      "text/plain": [
       "<pydub.audio_segment.AudioSegment at 0x1b580230748>"
      ]
     },
     "execution_count": 87,
     "metadata": {},
     "output_type": "execute_result"
    }
   ],
   "source": [
    "chunks[5]"
   ]
  },
  {
   "cell_type": "code",
   "execution_count": null,
   "metadata": {},
   "outputs": [],
   "source": []
  }
 ],
 "metadata": {
  "kernelspec": {
   "display_name": "Python 3",
   "language": "python",
   "name": "python3"
  },
  "language_info": {
   "codemirror_mode": {
    "name": "ipython",
    "version": 3
   },
   "file_extension": ".py",
   "mimetype": "text/x-python",
   "name": "python",
   "nbconvert_exporter": "python",
   "pygments_lexer": "ipython3",
   "version": "3.7.6"
  }
 },
 "nbformat": 4,
 "nbformat_minor": 4
}
