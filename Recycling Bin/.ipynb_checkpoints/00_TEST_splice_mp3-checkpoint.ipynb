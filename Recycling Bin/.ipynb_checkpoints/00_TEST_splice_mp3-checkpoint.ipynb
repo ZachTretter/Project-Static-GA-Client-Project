{
 "cells": [
  {
   "cell_type": "markdown",
   "metadata": {},
   "source": [
    "DSI BOS 11 (May 2020) Project 5\n",
    "\n",
    "Alex Golden, Jungmoon Ham, Luke Podsiadlo, Zach Tretter\n",
    "\n",
    "---------"
   ]
  },
  {
   "cell_type": "markdown",
   "metadata": {},
   "source": [
    "# Clean and Parse Audio Files"
   ]
  },
  {
   "cell_type": "markdown",
   "metadata": {},
   "source": [
    "## Clean Audio"
   ]
  },
  {
   "cell_type": "code",
   "execution_count": 1,
   "metadata": {},
   "outputs": [],
   "source": [
    "# Installs \n",
    "# pip install pydub\n",
    "# brew install ffmpeg\n",
    "\n",
    "# Imports \n",
    "from pydub import AudioSegment  # allows us to import our auido\n",
    "from pydub.silence import detect_silence, split_on_silence\n",
    "import time\n",
    "import numpy as np\n",
    "import seaborn as sns"
   ]
  },
  {
   "cell_type": "code",
   "execution_count": 2,
   "metadata": {},
   "outputs": [],
   "source": [
    "# Our Audio File\n",
    "file = AudioSegment.from_mp3(\"./Datasets/mp3_download/25818-20200501-1240.mp3\")"
   ]
  },
  {
   "cell_type": "code",
   "execution_count": 8,
   "metadata": {},
   "outputs": [
    {
     "name": "stdout",
     "output_type": "stream",
     "text": [
      "Splitting function took 270.47768807411194 seconds\n"
     ]
    }
   ],
   "source": [
    "# This will slice our audio file into segements of non-silence\n",
    "timestart = time.time()\n",
    "chunks = split_on_silence(file, silence_thresh = file.dBFS - 5, min_silence_len= 4000)\n",
    "print(f\"Splitting function took {time.time() - timestart} seconds\")\n",
    "\n",
    "# This will save our segments into indivutal wav files\n",
    "total_time = 0\n",
    "counter = 1\n",
    "chunk_list = []\n",
    "# for chunks in chuck_list:\n",
    "for chunk in chunks:\n",
    "    if len(chunk) <= 60_000 and len(chunk) >= 5_000:\n",
    "        chunk.export(f\"./Datasets/sample_audio/0501-1240sample{counter}.wav\", format = \"wav\")\n",
    "        counter += 1"
   ]
  },
  {
   "cell_type": "code",
   "execution_count": null,
   "metadata": {},
   "outputs": [],
   "source": []
  }
 ],
 "metadata": {
  "kernelspec": {
   "display_name": "Python 3",
   "language": "python",
   "name": "python3"
  },
  "language_info": {
   "codemirror_mode": {
    "name": "ipython",
    "version": 3
   },
   "file_extension": ".py",
   "mimetype": "text/x-python",
   "name": "python",
   "nbconvert_exporter": "python",
   "pygments_lexer": "ipython3",
   "version": "3.7.6"
  },
  "toc": {
   "base_numbering": 1,
   "nav_menu": {},
   "number_sections": true,
   "sideBar": true,
   "skip_h1_title": false,
   "title_cell": "Table of Contents",
   "title_sidebar": "Contents",
   "toc_cell": false,
   "toc_position": {},
   "toc_section_display": true,
   "toc_window_display": false
  },
  "varInspector": {
   "cols": {
    "lenName": 16,
    "lenType": 16,
    "lenVar": 40
   },
   "kernels_config": {
    "python": {
     "delete_cmd_postfix": "",
     "delete_cmd_prefix": "del ",
     "library": "var_list.py",
     "varRefreshCmd": "print(var_dic_list())"
    },
    "r": {
     "delete_cmd_postfix": ") ",
     "delete_cmd_prefix": "rm(",
     "library": "var_list.r",
     "varRefreshCmd": "cat(var_dic_list()) "
    }
   },
   "types_to_exclude": [
    "module",
    "function",
    "builtin_function_or_method",
    "instance",
    "_Feature"
   ],
   "window_display": false
  }
 },
 "nbformat": 4,
 "nbformat_minor": 4
}
