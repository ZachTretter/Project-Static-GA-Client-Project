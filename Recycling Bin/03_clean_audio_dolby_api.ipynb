{
 "cells": [
  {
   "cell_type": "code",
   "execution_count": 1,
   "metadata": {},
   "outputs": [],
   "source": [
    "import boto3\n",
    "import requests\n",
    "import time"
   ]
  },
  {
   "cell_type": "code",
   "execution_count": 2,
   "metadata": {},
   "outputs": [],
   "source": [
    "# Personal Info:\n",
    "\n",
    "dolby_api = '[YOUR DOLBY API KEY HERE]'\n",
    "\n",
    "aws_key = '[YOUR AWS KEY HERE]'\n",
    "aws_secret = '[YOUR AWS SECRET KEY HERE]'\n"
   ]
  },
  {
   "cell_type": "code",
   "execution_count": 3,
   "metadata": {},
   "outputs": [],
   "source": [
    "# Instantiate Boto Client\n",
    "\n",
    "s3_client = boto3.client('s3',\n",
    "                         aws_access_key_id = aws_key,\n",
    "                         aws_secret_access_key = aws_secret)"
   ]
  },
  {
   "cell_type": "code",
   "execution_count": 8,
   "metadata": {},
   "outputs": [
    {
     "name": "stdout",
     "output_type": "stream",
     "text": [
      "raw/25818-20200502-1222.mp3\n",
      "raw/25818-20200502-1332.mp3\n",
      "raw/25818-20200502-1401.mp3\n",
      "raw/25818-20200502-1431.mp3\n",
      "raw/25818-20200502-1501.mp3\n",
      "raw/25818-20200502-1531.mp3\n",
      "raw/25818-20200502-1601.mp3\n",
      "raw/25818-20200502-1631.mp3\n",
      "raw/25818-20200502-1700.mp3\n",
      "raw/25818-20200502-1730.mp3\n",
      "raw/25818-20200502-1800.mp3\n",
      "raw/25818-20200502-1830.mp3\n",
      "raw/25818-20200502-1900.mp3\n",
      "raw/25818-20200502-1930.mp3\n",
      "raw/25818-20200502-2059.mp3\n",
      "raw/25818-20200502-2129.mp3\n",
      "raw/25818-20200502-2159.mp3\n",
      "raw/25818-20200502-2229.mp3\n",
      "raw/25818-20200502-2258.mp3\n",
      "raw/25818-20200502-2328.mp3\n",
      "raw/25818-20200502-2358.mp3\n"
     ]
    }
   ],
   "source": [
    "files = s3_client.list_objects_v2(Bucket = 'project-5-audio-files') # confirm we can nagivate to bucket\n",
    "\n",
    "\n",
    "# files\n",
    "for file in files['Contents']:\n",
    "    if file['Key'].endswith('.mp3') and file['Key'].startswith('raw/'):\n",
    "        print(file['Key'])"
   ]
  },
  {
   "cell_type": "code",
   "execution_count": 5,
   "metadata": {},
   "outputs": [],
   "source": [
    "# Generate presigned urls\n",
    "\n",
    "aws_input_url = s3_client.generate_presigned_url('get_object',\n",
    "                                                 Params = {'Bucket': 'project-5-audio-files',\n",
    "                                                           'Key': '25818-20200501-1210.mp3'})\n",
    "\n",
    "aws_output_url = s3_client.generate_presigned_url('put_object',\n",
    "                                                  Params = {'Bucket': 'project-5-audio-files',\n",
    "                                                            'Key': 'enhanced/enhanced-25818-20200501-1210.mp3'})"
   ]
  },
  {
   "cell_type": "code",
   "execution_count": 45,
   "metadata": {},
   "outputs": [],
   "source": [
    "# POST to enhance (should send file to dolby, enhance, and write new file to specified output location)\n",
    "post_request_enhance = requests.post('https://api.dolby.com/media/enhance',\n",
    "                                     headers = {'x-api-key': dolby_api},\n",
    "                                     json = {\n",
    "                                         \"input\": aws_input_url,\n",
    "                                         \"output\": aws_output_url,\n",
    "                                         \"audio\": { \n",
    "                                             \"loudness\": {\n",
    "                                                 \"enable\": True\n",
    "                                             },\n",
    "                                             \"dynamics\": {\n",
    "                                                 \"range_control\": {\n",
    "                                                     \"enable\": True,\n",
    "                                                     \"amount\": \"max\"\n",
    "                                                 }\n",
    "                                             },\n",
    "                                             \"noise\": {\n",
    "                                                 \"reduction\": {\n",
    "                                                     \"enable\": False,\n",
    "                                                     \"amount\": \"max\"\n",
    "                                                 }\n",
    "                                             },\n",
    "                                             \"filter\": {\n",
    "                                                 \"high_pass\": {\n",
    "                                                     \"enable\": True,\n",
    "                                                     \"frequency\": 80\n",
    "                                                 }\n",
    "                                             },\n",
    "                                             \"speech\": {\n",
    "                                                 \"isolation\": {\n",
    "                                                     \"enable\": True,\n",
    "                                                     \"amount\": 100},\n",
    "                                                 \"sibilance\": {\n",
    "                                                     \"reduction\": {\n",
    "                                                         \"enable\": True,\n",
    "                                                         \"amount\": \"low\"}\n",
    "                                                 } # wraps sibilance\n",
    "                                             } # wraps speech\n",
    "                                         } #wraps audio\n",
    "                                     })"
   ]
  },
  {
   "cell_type": "code",
   "execution_count": 2,
   "metadata": {},
   "outputs": [],
   "source": [
    "# post_request_enhance.json()"
   ]
  },
  {
   "cell_type": "code",
   "execution_count": 4,
   "metadata": {
    "scrolled": true
   },
   "outputs": [],
   "source": [
    "# Get Job ID\n",
    "job_id = post_request_enhance.json()['job_id']\n",
    "\n",
    "# Create URL to check status\n",
    "status_url = 'https://api.dolby.com/media/enhance?job_id=' + job_id\n",
    "\n",
    "# Request status\n",
    "status = requests.get(status_url, \n",
    "                      headers = {'x-api-key': dolby_api})\n",
    "\n",
    "status = status.json()\n",
    "\n",
    "time_start = time.time()\n",
    "\n",
    "# Keep checking status\n",
    "while status['status'] == 'Running':\n",
    "    status = requests.get(status_url, \n",
    "                          headers = {'x-api-key': dolby_api})\n",
    "    print(status.json())\n",
    "    print(f'Time elapsed: {time.time() - time_start}s')\n",
    "    status = status.json()\n",
    "    time.sleep(30)"
   ]
  }
 ],
 "metadata": {
  "kernelspec": {
   "display_name": "Python 3",
   "language": "python",
   "name": "python3"
  },
  "language_info": {
   "codemirror_mode": {
    "name": "ipython",
    "version": 3
   },
   "file_extension": ".py",
   "mimetype": "text/x-python",
   "name": "python",
   "nbconvert_exporter": "python",
   "pygments_lexer": "ipython3",
   "version": "3.7.6"
  },
  "toc": {
   "base_numbering": 1,
   "nav_menu": {},
   "number_sections": true,
   "sideBar": true,
   "skip_h1_title": false,
   "title_cell": "Table of Contents",
   "title_sidebar": "Contents",
   "toc_cell": false,
   "toc_position": {},
   "toc_section_display": true,
   "toc_window_display": false
  },
  "varInspector": {
   "cols": {
    "lenName": 16,
    "lenType": 16,
    "lenVar": 40
   },
   "kernels_config": {
    "python": {
     "delete_cmd_postfix": "",
     "delete_cmd_prefix": "del ",
     "library": "var_list.py",
     "varRefreshCmd": "print(var_dic_list())"
    },
    "r": {
     "delete_cmd_postfix": ") ",
     "delete_cmd_prefix": "rm(",
     "library": "var_list.r",
     "varRefreshCmd": "cat(var_dic_list()) "
    }
   },
   "types_to_exclude": [
    "module",
    "function",
    "builtin_function_or_method",
    "instance",
    "_Feature"
   ],
   "window_display": false
  }
 },
 "nbformat": 4,
 "nbformat_minor": 4
}
