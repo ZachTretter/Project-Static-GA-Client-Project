{
 "cells": [
  {
   "cell_type": "code",
   "execution_count": 115,
   "metadata": {},
   "outputs": [],
   "source": [
    "# ! pip install usaddress"
   ]
  },
  {
   "cell_type": "code",
   "execution_count": 116,
   "metadata": {},
   "outputs": [],
   "source": [
    "# ! pip install spacy"
   ]
  },
  {
   "cell_type": "markdown",
   "metadata": {},
   "source": [
    "### Import All Neccesary Libraries"
   ]
  },
  {
   "cell_type": "code",
   "execution_count": 2,
   "metadata": {
    "scrolled": true
   },
   "outputs": [],
   "source": [
    "import spacy\n",
    "import re\n",
    "import pandas as pd\n",
    "from spacy import displacy\n",
    "from spacy.attrs import LOWER \n",
    "from collections import Counter\n",
    "from spacy.matcher import Matcher\n",
    "import numpy as np\n",
    "import usaddress\n",
    "import requests\n",
    "import pandas as pd\n",
    "\n",
    "import nltk\n",
    "from nltk.tokenize import RegexpTokenizer\n",
    "\n",
    "nlp = spacy.load('en_core_web_sm')"
   ]
  },
  {
   "cell_type": "code",
   "execution_count": 3,
   "metadata": {},
   "outputs": [],
   "source": [
    "# Set column width to be larger to display more content\n",
    "pd.options.display.max_colwidth = 1000"
   ]
  },
  {
   "cell_type": "markdown",
   "metadata": {},
   "source": [
    "### Import the Transcribed Audio"
   ]
  },
  {
   "cell_type": "code",
   "execution_count": 4,
   "metadata": {
    "scrolled": true
   },
   "outputs": [
    {
     "data": {
      "text/html": [
       "<div>\n",
       "<style scoped>\n",
       "    .dataframe tbody tr th:only-of-type {\n",
       "        vertical-align: middle;\n",
       "    }\n",
       "\n",
       "    .dataframe tbody tr th {\n",
       "        vertical-align: top;\n",
       "    }\n",
       "\n",
       "    .dataframe thead th {\n",
       "        text-align: right;\n",
       "    }\n",
       "</style>\n",
       "<table border=\"1\" class=\"dataframe\">\n",
       "  <thead>\n",
       "    <tr style=\"text-align: right;\">\n",
       "      <th></th>\n",
       "      <th>confidence</th>\n",
       "      <th>file_name</th>\n",
       "      <th>transcript</th>\n",
       "    </tr>\n",
       "  </thead>\n",
       "  <tbody>\n",
       "    <tr>\n",
       "      <th>0</th>\n",
       "      <td>0.479057</td>\n",
       "      <td>sample786-25818-20200501-0442.wav</td>\n",
       "      <td>a m</td>\n",
       "    </tr>\n",
       "    <tr>\n",
       "      <th>1</th>\n",
       "      <td>0.605411</td>\n",
       "      <td>sample116-25818-20200501-0941.wav</td>\n",
       "      <td>a blast from the a second alarm to go off in fact about</td>\n",
       "    </tr>\n",
       "  </tbody>\n",
       "</table>\n",
       "</div>"
      ],
      "text/plain": [
       "   confidence                          file_name  \\\n",
       "0    0.479057  sample786-25818-20200501-0442.wav   \n",
       "1    0.605411  sample116-25818-20200501-0941.wav   \n",
       "\n",
       "                                                transcript  \n",
       "0                                                      a m  \n",
       "1  a blast from the a second alarm to go off in fact about  "
      ]
     },
     "execution_count": 4,
     "metadata": {},
     "output_type": "execute_result"
    }
   ],
   "source": [
    "df = pd.read_csv('./Datasets/sample_transcript/ALEX_full_transcript.csv')\n",
    "df.head(2)"
   ]
  },
  {
   "cell_type": "markdown",
   "metadata": {},
   "source": [
    "### Import List of Streets"
   ]
  },
  {
   "cell_type": "code",
   "execution_count": 5,
   "metadata": {},
   "outputs": [],
   "source": [
    "street_list = pd.read_csv('./Datasets/Metro_West_Streets.csv')"
   ]
  },
  {
   "cell_type": "code",
   "execution_count": 6,
   "metadata": {},
   "outputs": [],
   "source": [
    "streets_list = street_list['0'].tolist()"
   ]
  },
  {
   "cell_type": "markdown",
   "metadata": {},
   "source": [
    "### Tokenize the Transcribed Audio"
   ]
  },
  {
   "cell_type": "code",
   "execution_count": 7,
   "metadata": {},
   "outputs": [],
   "source": [
    "def identify_tokens(row):\n",
    "    tran = row['transcript']\n",
    "    tokens = nltk.word_tokenize(tran)\n",
    "    # taken only words (not punctuation)\n",
    "    token_words = [w for w in tokens if w.isalpha()]\n",
    "    return token_words\n",
    "\n",
    "df['tokens'] = df.apply(identify_tokens, axis=1)\n",
    "\n",
    "# adpapted from Michael Allen (pythonhealthcare.org)"
   ]
  },
  {
   "cell_type": "code",
   "execution_count": 8,
   "metadata": {},
   "outputs": [
    {
     "data": {
      "text/html": [
       "<div>\n",
       "<style scoped>\n",
       "    .dataframe tbody tr th:only-of-type {\n",
       "        vertical-align: middle;\n",
       "    }\n",
       "\n",
       "    .dataframe tbody tr th {\n",
       "        vertical-align: top;\n",
       "    }\n",
       "\n",
       "    .dataframe thead th {\n",
       "        text-align: right;\n",
       "    }\n",
       "</style>\n",
       "<table border=\"1\" class=\"dataframe\">\n",
       "  <thead>\n",
       "    <tr style=\"text-align: right;\">\n",
       "      <th></th>\n",
       "      <th>confidence</th>\n",
       "      <th>file_name</th>\n",
       "      <th>transcript</th>\n",
       "      <th>tokens</th>\n",
       "    </tr>\n",
       "  </thead>\n",
       "  <tbody>\n",
       "    <tr>\n",
       "      <th>0</th>\n",
       "      <td>0.479057</td>\n",
       "      <td>sample786-25818-20200501-0442.wav</td>\n",
       "      <td>a m</td>\n",
       "      <td>[a, m]</td>\n",
       "    </tr>\n",
       "    <tr>\n",
       "      <th>1</th>\n",
       "      <td>0.605411</td>\n",
       "      <td>sample116-25818-20200501-0941.wav</td>\n",
       "      <td>a blast from the a second alarm to go off in fact about</td>\n",
       "      <td>[a, blast, from, the, a, second, alarm, to, go, off, in, fact, about]</td>\n",
       "    </tr>\n",
       "  </tbody>\n",
       "</table>\n",
       "</div>"
      ],
      "text/plain": [
       "   confidence                          file_name  \\\n",
       "0    0.479057  sample786-25818-20200501-0442.wav   \n",
       "1    0.605411  sample116-25818-20200501-0941.wav   \n",
       "\n",
       "                                                transcript  \\\n",
       "0                                                      a m   \n",
       "1  a blast from the a second alarm to go off in fact about   \n",
       "\n",
       "                                                                  tokens  \n",
       "0                                                                 [a, m]  \n",
       "1  [a, blast, from, the, a, second, alarm, to, go, off, in, fact, about]  "
      ]
     },
     "execution_count": 8,
     "metadata": {},
     "output_type": "execute_result"
    }
   ],
   "source": [
    "df.head(2)"
   ]
  },
  {
   "cell_type": "markdown",
   "metadata": {},
   "source": [
    "### Identify and Match Street Names from the Audio Transcripts"
   ]
  },
  {
   "cell_type": "code",
   "execution_count": 9,
   "metadata": {},
   "outputs": [],
   "source": [
    "# Instantiate the Spacy Matcher Function\n",
    "matcher = Matcher(nlp.vocab)\n",
    "\n",
    "# Create a matching function\n",
    "def on_match(matcher, doc, id, matches):\n",
    "    return matches\n",
    "\n",
    "# building patterns for every road name\n",
    "def build_pattern(road_name):\n",
    "    list_words = road_name.split(' ')\n",
    "# ensure capitlization does not affect the model \n",
    "    pattern = [{'LOWER': word.lower()} for word in list_words]\n",
    "    return pattern\n",
    "\n",
    "# Get a pattern of every road\n",
    "for road in streets_list:\n",
    "    matcher.add(road, on_match, build_pattern(road))\n",
    "    \n",
    "# capitalize all the strings\n",
    "def capitalize_string(string_in):\n",
    "    words = string_in.split(' ')\n",
    "    string_out = ''\n",
    "    for i in words:\n",
    "        string_out += i.capitalize() + ' '\n",
    "    string_out = string_out[:-1]\n",
    "    return string_out   \n",
    "    \n",
    "# Look for locations in the transcript, then extract them\n",
    "def location_extraction_context(string_in):\n",
    "    doc = nlp(string_in)\n",
    "    string_out = ''\n",
    "    list_words = string_in.split(' ')\n",
    "    matches = matcher(doc)\n",
    "    if len(matches) == 0:\n",
    "        return None\n",
    "\n",
    "    # loop through the matches and make sure they all follow the same format\n",
    "    for match in matches:\n",
    "        list_pattern = matcher.get(match[0])[1][0]\n",
    "        for token in list_pattern:\n",
    "            string_out += token['LOWER'] + ' '\n",
    "        string_out += ', '\n",
    "    string_out = string_out[:-3]\n",
    "    string_out = capitalize_string(string_out)\n",
    "    return string_out\n",
    "\n",
    "# Add a column consisting of the extracted streets\n",
    "df['streets'] = df['transcript'].map(location_extraction_context)"
   ]
  },
  {
   "cell_type": "markdown",
   "metadata": {},
   "source": [
    "Above Code Adapted from: Grant Wilson San Francisco Cohort"
   ]
  },
  {
   "cell_type": "markdown",
   "metadata": {},
   "source": [
    "### Find Possible Street Numbers"
   ]
  },
  {
   "cell_type": "code",
   "execution_count": 125,
   "metadata": {},
   "outputs": [],
   "source": [
    "# Creat list to house data from all addresses\n",
    "addresses = []\n",
    "\n",
    "# Loop Through all DataFrame's rows\n",
    "for row in df['transcript']:\n",
    "    # Create dictionary to house data for each row of the DataFrame\n",
    "    d = {}\n",
    "    \n",
    "    # Parse through rows and house results in a list\n",
    "    list_tuples = usaddress.parse(row)\n",
    "    \n",
    "    # Create variable to house list of possible numbers\n",
    "    numbers = []\n",
    "    \n",
    "    # Loop through each value in the list created\n",
    "    for i, n in enumerate(list_tuples):\n",
    "        \n",
    "        # Get addresses' numbers\n",
    "        if list_tuples[i][1] == 'AddressNumber':\n",
    "            \n",
    "            # Append numbers to list\n",
    "            numbers.append(n[0])\n",
    "    \n",
    "    # Include keys and values into d\n",
    "    d['numbers'] = numbers\n",
    "    \n",
    "    # Append d to addresses\n",
    "    addresses.append(d)"
   ]
  },
  {
   "cell_type": "markdown",
   "metadata": {},
   "source": [
    "Above Code Adapted from: Grant Wilson San Francisco Cohort"
   ]
  },
  {
   "cell_type": "markdown",
   "metadata": {},
   "source": [
    "### Add Street Number Column to the Dataframe"
   ]
  },
  {
   "cell_type": "code",
   "execution_count": 126,
   "metadata": {},
   "outputs": [],
   "source": [
    "df = pd.concat([df, pd.DataFrame(addresses)], axis=1)"
   ]
  },
  {
   "cell_type": "code",
   "execution_count": 127,
   "metadata": {},
   "outputs": [],
   "source": [
    "# Drop NaNs\n",
    "df.dropna(inplace=True)\n",
    "df.reset_index(drop=True, inplace=True)"
   ]
  },
  {
   "cell_type": "code",
   "execution_count": 128,
   "metadata": {},
   "outputs": [
    {
     "data": {
      "text/plain": [
       "(646, 6)"
      ]
     },
     "execution_count": 128,
     "metadata": {},
     "output_type": "execute_result"
    }
   ],
   "source": [
    "df.shape"
   ]
  },
  {
   "cell_type": "markdown",
   "metadata": {},
   "source": [
    "### Generate a List of All Possible Adresses for each Row in the Transcript"
   ]
  },
  {
   "cell_type": "code",
   "execution_count": 129,
   "metadata": {},
   "outputs": [],
   "source": [
    "# Creat list to house data for possible addresses\n",
    "possibilities = []\n",
    "\n",
    "# Loop Through all DataFrame's rows\n",
    "for i in range(0, df.shape[0]):\n",
    "    \n",
    "    # Create variables to temporarily house information\n",
    "    final_poss = []\n",
    "    d = {}\n",
    "    number_poss = []\n",
    "    \n",
    "    # Loop through values in each row / numbers\n",
    "    for row in df[i:i+1]['numbers']:\n",
    "        for a_number in row:\n",
    "            number_poss.append(a_number)\n",
    "    \n",
    "    # Loop through values in each row / streets\n",
    "    street_poss = []\n",
    "    for row2 in [x.split(',') for x in df[i:(i+1)]['streets']][0]:\n",
    "        for j in row2.split(','):\n",
    "            street_poss.append(j.strip())\n",
    "\n",
    "    # Concatenate numbers and streets\n",
    "    for i in number_poss:\n",
    "        for j in street_poss:\n",
    "            final_poss.append(i + ' ' + j)\n",
    "\n",
    "    # Append all possibilities to list\n",
    "    d['full_streets'] = list(set(final_poss))\n",
    "    possibilities.append(d)\n",
    "\n",
    "# Concatenate dataframes\n",
    "df = pd.concat([df, pd.DataFrame(possibilities)], axis=1)"
   ]
  },
  {
   "cell_type": "markdown",
   "metadata": {},
   "source": [
    "Above Code Adapted from: Grant Wilson San Francisco Cohort"
   ]
  },
  {
   "cell_type": "code",
   "execution_count": 130,
   "metadata": {},
   "outputs": [
    {
     "data": {
      "text/html": [
       "<div>\n",
       "<style scoped>\n",
       "    .dataframe tbody tr th:only-of-type {\n",
       "        vertical-align: middle;\n",
       "    }\n",
       "\n",
       "    .dataframe tbody tr th {\n",
       "        vertical-align: top;\n",
       "    }\n",
       "\n",
       "    .dataframe thead th {\n",
       "        text-align: right;\n",
       "    }\n",
       "</style>\n",
       "<table border=\"1\" class=\"dataframe\">\n",
       "  <thead>\n",
       "    <tr style=\"text-align: right;\">\n",
       "      <th></th>\n",
       "      <th>confidence</th>\n",
       "      <th>file_name</th>\n",
       "      <th>transcript</th>\n",
       "      <th>tokens</th>\n",
       "      <th>streets</th>\n",
       "      <th>numbers</th>\n",
       "      <th>full_streets</th>\n",
       "    </tr>\n",
       "  </thead>\n",
       "  <tbody>\n",
       "    <tr>\n",
       "      <th>0</th>\n",
       "      <td>0.605411</td>\n",
       "      <td>sample116-25818-20200501-0941.wav</td>\n",
       "      <td>a blast from the a second alarm to go off in fact about</td>\n",
       "      <td>[a, blast, from, the, a, second, alarm, to, go, off, in, fact, about]</td>\n",
       "      <td>The , Off</td>\n",
       "      <td>[]</td>\n",
       "      <td>[]</td>\n",
       "    </tr>\n",
       "    <tr>\n",
       "      <th>1</th>\n",
       "      <td>0.801003</td>\n",
       "      <td>sample92-25818-20200501-0941.wav</td>\n",
       "      <td>a van a t show a joke to 19219 South Street</td>\n",
       "      <td>[a, van, a, t, show, a, joke, to, South, Street]</td>\n",
       "      <td>Van , South</td>\n",
       "      <td>[19219]</td>\n",
       "      <td>[19219 Van, 19219 South]</td>\n",
       "    </tr>\n",
       "  </tbody>\n",
       "</table>\n",
       "</div>"
      ],
      "text/plain": [
       "   confidence                          file_name  \\\n",
       "0    0.605411  sample116-25818-20200501-0941.wav   \n",
       "1    0.801003   sample92-25818-20200501-0941.wav   \n",
       "\n",
       "                                                transcript  \\\n",
       "0  a blast from the a second alarm to go off in fact about   \n",
       "1              a van a t show a joke to 19219 South Street   \n",
       "\n",
       "                                                                  tokens  \\\n",
       "0  [a, blast, from, the, a, second, alarm, to, go, off, in, fact, about]   \n",
       "1                       [a, van, a, t, show, a, joke, to, South, Street]   \n",
       "\n",
       "       streets  numbers              full_streets  \n",
       "0    The , Off       []                        []  \n",
       "1  Van , South  [19219]  [19219 Van, 19219 South]  "
      ]
     },
     "execution_count": 130,
     "metadata": {},
     "output_type": "execute_result"
    }
   ],
   "source": [
    "df.head(2)"
   ]
  },
  {
   "cell_type": "markdown",
   "metadata": {},
   "source": [
    "### Drop Blanks"
   ]
  },
  {
   "cell_type": "code",
   "execution_count": 131,
   "metadata": {},
   "outputs": [],
   "source": [
    "df['full_streets'] = df['full_streets'].map(lambda x: np.nan if len(x) == 0 else x)\n",
    "df.dropna(inplace=True)\n",
    "df.reset_index(drop=True, inplace=True)"
   ]
  },
  {
   "cell_type": "code",
   "execution_count": 132,
   "metadata": {},
   "outputs": [
    {
     "data": {
      "text/html": [
       "<div>\n",
       "<style scoped>\n",
       "    .dataframe tbody tr th:only-of-type {\n",
       "        vertical-align: middle;\n",
       "    }\n",
       "\n",
       "    .dataframe tbody tr th {\n",
       "        vertical-align: top;\n",
       "    }\n",
       "\n",
       "    .dataframe thead th {\n",
       "        text-align: right;\n",
       "    }\n",
       "</style>\n",
       "<table border=\"1\" class=\"dataframe\">\n",
       "  <thead>\n",
       "    <tr style=\"text-align: right;\">\n",
       "      <th></th>\n",
       "      <th>confidence</th>\n",
       "      <th>file_name</th>\n",
       "      <th>transcript</th>\n",
       "      <th>tokens</th>\n",
       "      <th>streets</th>\n",
       "      <th>numbers</th>\n",
       "      <th>full_streets</th>\n",
       "    </tr>\n",
       "  </thead>\n",
       "  <tbody>\n",
       "    <tr>\n",
       "      <th>0</th>\n",
       "      <td>0.801003</td>\n",
       "      <td>sample92-25818-20200501-0941.wav</td>\n",
       "      <td>a van a t show a joke to 19219 South Street</td>\n",
       "      <td>[a, van, a, t, show, a, joke, to, South, Street]</td>\n",
       "      <td>Van , South</td>\n",
       "      <td>[19219]</td>\n",
       "      <td>[19219 Van, 19219 South]</td>\n",
       "    </tr>\n",
       "    <tr>\n",
       "      <th>1</th>\n",
       "      <td>0.819970</td>\n",
       "      <td>sample644-25818-20200501-1439.wav</td>\n",
       "      <td>medical a r v a $12 C Street Hyde Park / 28 / medical s s a $12 C Street Hyde Park v r s Fox / e s 3-1 r a / a ballast r e 1417</td>\n",
       "      <td>[medical, a, r, v, a, C, Street, Hyde, Park, medical, s, s, a, C, Street, Hyde, Park, v, r, s, Fox, e, s, r, a, a, ballast, r, e]</td>\n",
       "      <td>Hyde , Park , Hyde , Park , Fox</td>\n",
       "      <td>[12]</td>\n",
       "      <td>[12 Fox, 12 Hyde, 12 Park]</td>\n",
       "    </tr>\n",
       "  </tbody>\n",
       "</table>\n",
       "</div>"
      ],
      "text/plain": [
       "   confidence                          file_name  \\\n",
       "0    0.801003   sample92-25818-20200501-0941.wav   \n",
       "1    0.819970  sample644-25818-20200501-1439.wav   \n",
       "\n",
       "                                                                                                                        transcript  \\\n",
       "0                                                                                      a van a t show a joke to 19219 South Street   \n",
       "1  medical a r v a $12 C Street Hyde Park / 28 / medical s s a $12 C Street Hyde Park v r s Fox / e s 3-1 r a / a ballast r e 1417   \n",
       "\n",
       "                                                                                                                              tokens  \\\n",
       "0                                                                                   [a, van, a, t, show, a, joke, to, South, Street]   \n",
       "1  [medical, a, r, v, a, C, Street, Hyde, Park, medical, s, s, a, C, Street, Hyde, Park, v, r, s, Fox, e, s, r, a, a, ballast, r, e]   \n",
       "\n",
       "                           streets  numbers                full_streets  \n",
       "0                      Van , South  [19219]    [19219 Van, 19219 South]  \n",
       "1  Hyde , Park , Hyde , Park , Fox     [12]  [12 Fox, 12 Hyde, 12 Park]  "
      ]
     },
     "execution_count": 132,
     "metadata": {},
     "output_type": "execute_result"
    }
   ],
   "source": [
    "df.head(2)"
   ]
  },
  {
   "cell_type": "code",
   "execution_count": 133,
   "metadata": {
    "scrolled": true
   },
   "outputs": [
    {
     "data": {
      "text/plain": [
       "(81, 7)"
      ]
     },
     "execution_count": 133,
     "metadata": {},
     "output_type": "execute_result"
    }
   ],
   "source": [
    "df.shape"
   ]
  }
 ],
 "metadata": {
  "kernelspec": {
   "display_name": "Python 3",
   "language": "python",
   "name": "python3"
  },
  "language_info": {
   "codemirror_mode": {
    "name": "ipython",
    "version": 3
   },
   "file_extension": ".py",
   "mimetype": "text/x-python",
   "name": "python",
   "nbconvert_exporter": "python",
   "pygments_lexer": "ipython3",
   "version": "3.7.3"
  }
 },
 "nbformat": 4,
 "nbformat_minor": 2
}
