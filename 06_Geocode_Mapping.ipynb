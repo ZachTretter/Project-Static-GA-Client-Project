{
 "cells": [
  {
   "cell_type": "markdown",
   "metadata": {},
   "source": [
    "DSI BOS 11 (May 2020) Project 5\n",
    "\n",
    "Alex Golden, Jungmoon Ham, Luke Podsiadlo, Zach Tretter\n",
    "\n",
    "Workbook 6 - Mapping\n",
    "\n",
    "----------"
   ]
  },
  {
   "cell_type": "markdown",
   "metadata": {
    "ExecuteTime": {
     "end_time": "2020-05-13T15:30:29.275152Z",
     "start_time": "2020-05-13T15:30:29.272153Z"
    }
   },
   "source": [
    "## Geocode and Map Addresses from Police Radio Speech-to-Text\n",
    "\n",
    "Relevance to Problem Statement : _\"The tool will flag neighborhoods or specific streets where the police and first-respondents were called to provide assistance related to the event.\"_\n",
    "\n",
    "#### Workflow Steps\n",
    "\n",
    "1. Import dataframe.  Addresses at minimum data, additional context as avaiable\n",
    "\n",
    "2. Find Latitude/Longitude from address (\"geocode\") via google to enable plotting on map\n",
    "\n",
    "3. Visualize on map using [Folium](https://python-visualization.github.io/folium/)"
   ]
  },
  {
   "cell_type": "markdown",
   "metadata": {
    "ExecuteTime": {
     "end_time": "2020-05-12T20:56:54.657710Z",
     "start_time": "2020-05-12T20:56:54.653716Z"
    }
   },
   "source": [
    "#### API Key (Google Geocoding API)"
   ]
  },
  {
   "cell_type": "code",
   "execution_count": null,
   "metadata": {
    "ExecuteTime": {
     "end_time": "2020-05-13T18:32:24.960030Z",
     "start_time": "2020-05-13T18:32:24.956041Z"
    }
   },
   "outputs": [],
   "source": [
    "# Text String from Google\n",
    "my_key = "
   ]
  },
  {
   "cell_type": "markdown",
   "metadata": {},
   "source": [
    "_____________\n",
    "\n",
    "## Imports"
   ]
  },
  {
   "cell_type": "code",
   "execution_count": null,
   "metadata": {
    "ExecuteTime": {
     "end_time": "2020-05-13T18:29:32.286482Z",
     "start_time": "2020-05-13T18:29:32.283483Z"
    }
   },
   "outputs": [],
   "source": [
    "import pandas as pd\n",
    "import numpy as np\n",
    "import requests\n",
    "\n",
    "# !pip install folium\n",
    "import folium"
   ]
  },
  {
   "cell_type": "markdown",
   "metadata": {
    "ExecuteTime": {
     "end_time": "2020-05-12T20:34:01.774997Z",
     "start_time": "2020-05-12T20:34:01.771971Z"
    }
   },
   "source": [
    "### Import Dataframe"
   ]
  },
  {
   "cell_type": "code",
   "execution_count": null,
   "metadata": {
    "ExecuteTime": {
     "end_time": "2020-05-13T19:33:29.721535Z",
     "start_time": "2020-05-13T19:33:29.709542Z"
    },
    "scrolled": false
   },
   "outputs": [],
   "source": [
    "## Import\n",
    "df = pd.read_csv(\"text.csv\")"
   ]
  },
  {
   "cell_type": "code",
   "execution_count": null,
   "metadata": {
    "ExecuteTime": {
     "end_time": "2020-05-13T19:33:30.023247Z",
     "start_time": "2020-05-13T19:33:29.958317Z"
    },
    "scrolled": false
   },
   "outputs": [],
   "source": [
    "# Drop columns as desired\n",
    "df = df.drop(columns = [\"Unnamed: 0\",\n",
    "                        \"file_name\",\n",
    "                        'tokens',\n",
    "                        'streets',\n",
    "                        'numbers'],axis=1)\n",
    "\n",
    "# Rearrange columns as needed\n",
    "df = df[['confidence',\n",
    "         'full_streets',\n",
    "         'transcript']]\n",
    "\n",
    "pd.set_option('display.expand_frame_repr', False)\n",
    "\n",
    "df"
   ]
  },
  {
   "cell_type": "code",
   "execution_count": null,
   "metadata": {
    "ExecuteTime": {
     "end_time": "2020-05-13T18:38:56.998964Z",
     "start_time": "2020-05-13T18:38:56.994985Z"
    }
   },
   "outputs": [],
   "source": [
    "# Addresses used to test functions\n",
    "test_addresses = [\"MIT\",\n",
    "                  \"Boston College\",\n",
    "                  \"Harvard\",\n",
    "                  \"Tufts\",\n",
    "                  \"Boston University\"]"
   ]
  },
  {
   "cell_type": "code",
   "execution_count": null,
   "metadata": {
    "ExecuteTime": {
     "end_time": "2020-05-13T18:38:57.174144Z",
     "start_time": "2020-05-13T18:38:57.171126Z"
    }
   },
   "outputs": [],
   "source": [
    "# Identify addresses to plot\n",
    "addresses_to_plot = test_addresses"
   ]
  },
  {
   "cell_type": "markdown",
   "metadata": {},
   "source": [
    "### Function that Finds Latitude and Longitude from Address\n",
    "\n",
    "Function code adapted from [article on geocoding written by Shane Lynn](https://www.shanelynn.ie/batch-geocoding-in-python-with-google-geocoding-api/)\n",
    "\n",
    "Given an address, this code will create a URL to query google.\n",
    "\n",
    "It will return this dictionary\n",
    "\n",
    "| Key                 | Value             | Information                                              |\n",
    "|---------------------|-------------------|----------------------------------------------------------|\n",
    "| lat_long            | tuple (lat, long) | Geocode result from google                               |\n",
    "| full_output_address | Text String       | Full address corresponding to geocode returned by google |\n",
    "| input_string        | Text String       | String that was searched on (from dataframe)             |\n",
    "| number_of_results   | Integer           | Number of results                                        |\n",
    "| status              | Text String       | 'Ok' if request successful<br>None otherwise             |"
   ]
  },
  {
   "cell_type": "code",
   "execution_count": null,
   "metadata": {
    "ExecuteTime": {
     "end_time": "2020-05-13T18:33:34.578964Z",
     "start_time": "2020-05-13T18:33:34.571950Z"
    }
   },
   "outputs": [],
   "source": [
    "def get_google_latlong(address,\n",
    "                       api_key=my_key,\n",
    "                       return_full_response=False):\n",
    "    \n",
    "    # Create the URL for geocoding\n",
    "    geocode_url = \"https://maps.googleapis.com/maps/api/geocode/json?address={}\".format(address)\n",
    "    \n",
    "    # Add the API key\n",
    "    if api_key is not None:\n",
    "        geocode_url = geocode_url + \"&key={}\".format(api_key)\n",
    "        \n",
    "    # Ping google for the results:\n",
    "    results = requests.get(geocode_url)\n",
    "    \n",
    "    # Display results as JSON dictionary\n",
    "    results = results.json()\n",
    "\n",
    "    # If no result, return None\n",
    "    if len(results['results']) == 0:\n",
    "        output = {\n",
    "            \"latitude\": None,\n",
    "            \"longitude\": None\n",
    "        }\n",
    "        \n",
    "    else:    \n",
    "        answer = results['results'][0]\n",
    "        output = { \"lat_long\" : (\n",
    "            answer.get('geometry').get('location').get('lat'),\n",
    "            answer.get('geometry').get('location').get('lng')\n",
    "        )\n",
    "                 }\n",
    "        \n",
    "        output['full_output_address'] = answer.get('formatted_address')\n",
    "        \n",
    "    # Append some other details:    \n",
    "    output['input_string'] = address\n",
    "    output['number_of_results'] = len(results['results'])\n",
    "    output['status'] = results.get('status')\n",
    "\n",
    "    if return_full_response is True:\n",
    "        output['response'] = results\n",
    "    \n",
    "    return output"
   ]
  },
  {
   "cell_type": "markdown",
   "metadata": {},
   "source": [
    "### Folium Map"
   ]
  },
  {
   "cell_type": "code",
   "execution_count": null,
   "metadata": {
    "ExecuteTime": {
     "end_time": "2020-05-13T18:39:11.518467Z",
     "start_time": "2020-05-13T18:39:10.690863Z"
    }
   },
   "outputs": [],
   "source": [
    "lat_long_list = [get_google_latlong(i)['lat_long'] for i in addresses_to_plot]\n",
    "lat_long_list"
   ]
  },
  {
   "cell_type": "code",
   "execution_count": null,
   "metadata": {
    "ExecuteTime": {
     "end_time": "2020-05-13T20:27:19.942712Z",
     "start_time": "2020-05-13T20:27:19.912792Z"
    },
    "scrolled": false
   },
   "outputs": [],
   "source": [
    "# Create a Folium Object (Centered at Harvard Square)\n",
    "m = folium.Map(\n",
    "    location = [42.3736, -71.1190],\n",
    "    tiles = 'stamentoner',\n",
    "    zoom_start = 12,\n",
    "    control_scale=False\n",
    ")\n",
    "\n",
    "# Iterate though our list of latitude and longitudes\n",
    "for i in lat_long_list:\n",
    "    folium.CircleMarker(\n",
    "    radius = 10,\n",
    "    location = i,\n",
    "    color ='red'\n",
    "    ).add_to(m)\n",
    "\n",
    "# Display the map\n",
    "m"
   ]
  }
 ],
 "metadata": {
  "kernelspec": {
   "display_name": "Python 3",
   "language": "python",
   "name": "python3"
  },
  "language_info": {
   "codemirror_mode": {
    "name": "ipython",
    "version": 3
   },
   "file_extension": ".py",
   "mimetype": "text/x-python",
   "name": "python",
   "nbconvert_exporter": "python",
   "pygments_lexer": "ipython3",
   "version": "3.7.6"
  }
 },
 "nbformat": 4,
 "nbformat_minor": 4
}
