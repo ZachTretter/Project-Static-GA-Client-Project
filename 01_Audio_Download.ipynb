{
 "cells": [
  {
   "cell_type": "markdown",
   "metadata": {},
   "source": [
    "DSI BOS 11 (May 2020) Project 5\n",
    "\n",
    "Alex Golden, Jungmoon Ham, Luke Podsiadlo, Zach Tretter\n",
    "\n",
    "---------"
   ]
  },
  {
   "cell_type": "markdown",
   "metadata": {},
   "source": [
    "## Download Police Radio Archive from BroadCastify\n",
    "\n",
    "Our emphatic appreciation to prior General Assembly Data Science cohorts\n",
    "* DSI-ATL-8 (Anthony Chapman, Carol Chiu, Kwamae Delva, and Joseph Hopkins) for developing Broadcastify Archive\n",
    "\n",
    "* DSI-SF-9 (Grant Wilson, J. Hall, Gabriel Perez Prieto) for a well documented instantiation of Broadcastify Archive\n",
    "\n",
    "## Notebook Contents\n",
    "- [BroadcastifyArchive Tool (BART)](#BroadcastifyArchive-Tool-(BART))\n",
    "- [Imports](#Imports)\n",
    "- [Parameterize BART](#Parameterize-BART)\n",
    "- [Execute BART](#Executive-BART)"
   ]
  },
  {
   "cell_type": "markdown",
   "metadata": {},
   "source": [
    "----------\n",
    "## BroadcastifyArchive Tool (BART)\n",
    "\n",
    "[Link to Broadcastify Website](https://www.broadcastify.com)\n",
    "\n",
    "[BART Source Documentation on github](https://github.com/ljhopkins2/broadcastify-archtk)\n",
    "\n",
    "#### How to Install and Run BART\n",
    "\n",
    "1. Install BART ```!pip install broadcastify-archtk```\n",
    "2. Install Selenium```!pip install selenium```\n",
    "3. Download [ChromeWebDriver](https://sites.google.com/a/chromium.org/chromedriver/downloads)\n",
    "4. Identify the absolute file path to 'chromedriver.exe'\n",
    "\n",
    "\n",
    "#### Note BroadcastifyArchive tool worked despite this \"RequestsDependencyWarning\" upon installation\n",
    "* C:\\Users\\(```username```)\\anaconda3\\lib\\site-packages\\requests\\__init__.py:91: \n",
    "    * RequestsDependencyWarning: urllib3 (1.25.8) or chardet (3.0.4) doesn't match a supported version!"
   ]
  },
  {
   "cell_type": "markdown",
   "metadata": {},
   "source": [
    "--------\n",
    "\n",
    "## Imports"
   ]
  },
  {
   "cell_type": "code",
   "execution_count": 1,
   "metadata": {
    "ExecuteTime": {
     "end_time": "2020-05-09T16:53:32.409802Z",
     "start_time": "2020-05-09T16:53:32.405849Z"
    }
   },
   "outputs": [],
   "source": [
    "from broadcastify_archtk import BroadcastifyArchive\n",
    "from datetime import datetime as dt\n",
    "import os"
   ]
  },
  {
   "cell_type": "markdown",
   "metadata": {},
   "source": [
    "--------\n",
    "\n",
    "## Parameterize BART\n",
    "\n",
    "Requirements\n",
    "* Test Feed ID found in the url: .../archives/feed/```NUMERIC CODE```\n",
    "* Username (Any download requires a premium account)\n",
    "* Password associated with username\n",
    "* Start and End Dates (Must be Datetime.date)\n",
    "* Start and End Times (Must be Datetime.time)\n",
    "* Outpath for File Download"
   ]
  },
  {
   "cell_type": "markdown",
   "metadata": {},
   "source": [
    "### Test Feed ID"
   ]
  },
  {
   "cell_type": "code",
   "execution_count": 2,
   "metadata": {
    "ExecuteTime": {
     "end_time": "2020-05-09T16:52:52.106073Z",
     "start_time": "2020-05-09T16:52:52.102082Z"
    }
   },
   "outputs": [],
   "source": [
    "# Cambridge PD\n",
    "TEST_FEED_ID = \"31120\"  "
   ]
  },
  {
   "cell_type": "markdown",
   "metadata": {},
   "source": [
    "### Broadcastify Username and Password"
   ]
  },
  {
   "cell_type": "code",
   "execution_count": 3,
   "metadata": {
    "ExecuteTime": {
     "end_time": "2020-05-09T16:52:52.808798Z",
     "start_time": "2020-05-09T16:52:52.805808Z"
    }
   },
   "outputs": [],
   "source": [
    "USERNAME = 'codylocks'\n",
    "PASSWORD = 'UE8v*.NbJ9xbs6k'"
   ]
  },
  {
   "cell_type": "markdown",
   "metadata": {},
   "source": [
    "### Dates and Time"
   ]
  },
  {
   "cell_type": "code",
   "execution_count": 7,
   "metadata": {
    "ExecuteTime": {
     "end_time": "2020-05-09T16:52:53.660759Z",
     "start_time": "2020-05-09T16:52:53.653780Z"
    }
   },
   "outputs": [
    {
     "name": "stdout",
     "output_type": "stream",
     "text": [
      "This will download archived audio \n",
      "starting at 2020-05-01 00:00:00 \n",
      "ending at 2020-05-02 23:59:00\n"
     ]
    }
   ],
   "source": [
    "start_date = dt(2020,\n",
    "                5,\n",
    "                1\n",
    "               ).date()\n",
    "\n",
    "end_date = dt(2020,\n",
    "              5,\n",
    "              2\n",
    "             ).date()\n",
    "\n",
    "start_time = dt(2020,\n",
    "                5,\n",
    "                1,\n",
    "                0,\n",
    "                0)\n",
    "\n",
    "end_time = dt(2020,\n",
    "              5,\n",
    "              2,\n",
    "              23,\n",
    "              59)\n",
    "\n",
    "print(f'This will download archived audio \\nstarting at {start_time} \\nending at {end_time}')"
   ]
  },
  {
   "cell_type": "markdown",
   "metadata": {},
   "source": [
    "### Webdriver Path (Specific to Your Machine)"
   ]
  },
  {
   "cell_type": "code",
   "execution_count": 8,
   "metadata": {
    "ExecuteTime": {
     "end_time": "2020-05-09T16:52:55.025418Z",
     "start_time": "2020-05-09T16:52:55.021418Z"
    }
   },
   "outputs": [],
   "source": [
    "# chromedriverpath = \"../../documents/webdriver/chromedriver.exe\"\n",
    "\n",
    "chromedriverpath = \"/Users/alex/Documents/chromedriver\""
   ]
  },
  {
   "cell_type": "markdown",
   "metadata": {},
   "source": [
    "### Download Path (Specific to Your Machine)"
   ]
  },
  {
   "cell_type": "code",
   "execution_count": 9,
   "metadata": {
    "ExecuteTime": {
     "end_time": "2020-05-09T16:52:55.971177Z",
     "start_time": "2020-05-09T16:52:55.967188Z"
    }
   },
   "outputs": [],
   "source": [
    "outputpath = \"./Datasets/mp3_download/cambridge/\""
   ]
  },
  {
   "cell_type": "markdown",
   "metadata": {},
   "source": [
    "-------\n",
    "\n",
    "## Execute BART\n",
    "\n",
    "* Instantiate with Test Feed ID, Username, and Password\n",
    "* Activate BART bound by the Start and End DATES\n",
    "* Download mp3 files bound by the Start and End TIMES\n",
    "* Confirm Existence of Files"
   ]
  },
  {
   "cell_type": "markdown",
   "metadata": {},
   "source": [
    "### Initialize the BroadcastifyArchive Tool"
   ]
  },
  {
   "cell_type": "code",
   "execution_count": 10,
   "metadata": {
    "ExecuteTime": {
     "end_time": "2020-05-09T16:53:14.855711Z",
     "start_time": "2020-05-09T16:52:57.156832Z"
    }
   },
   "outputs": [
    {
     "name": "stdout",
     "output_type": "stream",
     "text": [
      "Initializing calendar navigation for Cambridge Police Dispatch...\n",
      "Initialization complete.\n",
      "\n",
      "BroadcastifyArchive\n",
      " (Feed ID = 31120\n",
      "  Feed Name = Cambridge Police Dispatch\n",
      "  Feed URL = \"https://www.broadcastify.com/listen/feed/31120\"\n",
      "  Archive URL = \"https://www.broadcastify.com/archives/feed/31120\"\n",
      "  Start Date: 2019-08-21\n",
      "  End Date:   2020-05-11\n",
      "  Username = \"codylocks\" Password = [True]\n",
      "  0 built archive entries \n"
     ]
    }
   ],
   "source": [
    "archive = BroadcastifyArchive(TEST_FEED_ID, \n",
    "                              login_cfg_path = None, \n",
    "                              username = USERNAME, \n",
    "                              password = PASSWORD,\n",
    "                              webdriver_path = chromedriverpath)"
   ]
  },
  {
   "cell_type": "markdown",
   "metadata": {},
   "source": [
    "### Activate the BroadcastifyArchive Tool"
   ]
  },
  {
   "cell_type": "code",
   "execution_count": 11,
   "metadata": {
    "ExecuteTime": {
     "end_time": "2020-05-09T16:53:42.960437Z",
     "start_time": "2020-05-09T16:53:35.782288Z"
    }
   },
   "outputs": [
    {
     "name": "stdout",
     "output_type": "stream",
     "text": [
      "Launching webdriver...\n"
     ]
    },
    {
     "data": {
      "application/vnd.jupyter.widget-view+json": {
       "model_id": "8cb5b992a18e493098dc445d08b16f8b",
       "version_major": 2,
       "version_minor": 0
      },
      "text/plain": [
       "HBox(children=(IntProgress(value=0, description='Building dates', layout=Layout(flex='2'), max=2, style=Progre…"
      ]
     },
     "metadata": {},
     "output_type": "display_data"
    },
    {
     "name": "stdout",
     "output_type": "stream",
     "text": [
      "\n",
      "BroadcastifyArchive\n",
      " (Feed ID = 31120\n",
      "  Feed Name = Cambridge Police Dispatch\n",
      "  Feed URL = \"https://www.broadcastify.com/listen/feed/31120\"\n",
      "  Archive URL = \"https://www.broadcastify.com/archives/feed/31120\"\n",
      "  Start Date: 2019-08-21\n",
      "  End Date:   2020-05-11\n",
      "  Username = \"codylocks\" Password = [True]\n",
      "  92 built archive entries between 2020-05-01 and 2020-05-02\n"
     ]
    }
   ],
   "source": [
    "archive.build(start = start_date,\n",
    "              end = end_date)"
   ]
  },
  {
   "cell_type": "markdown",
   "metadata": {},
   "source": [
    "### Download MP3 Audio Files from the BroadcastifyArchive"
   ]
  },
  {
   "cell_type": "code",
   "execution_count": 12,
   "metadata": {
    "ExecuteTime": {
     "end_time": "2020-05-09T16:53:58.435756Z",
     "start_time": "2020-05-09T16:53:45.415115Z"
    },
    "scrolled": false
   },
   "outputs": [
    {
     "data": {
      "application/vnd.jupyter.widget-view+json": {
       "model_id": "9d9855b95a6d4560897703751f9cd80e",
       "version_major": 2,
       "version_minor": 0
      },
      "text/plain": [
       "HBox(children=(IntProgress(value=0, description='Overall progress', layout=Layout(flex='2'), max=91, style=Pro…"
      ]
     },
     "metadata": {},
     "output_type": "display_data"
    },
    {
     "name": "stdout",
     "output_type": "stream",
     "text": [
      "\r",
      "Downloading 05-01-20 00:04 to 05-02-20 23:06\n",
      "\r",
      "Storing at ./Datasets/mp3_download/cambridge/.\n"
     ]
    },
    {
     "data": {
      "application/vnd.jupyter.widget-view+json": {
       "model_id": "8e60c8eb55d64d73932a777090072dbc",
       "version_major": 2,
       "version_minor": 0
      },
      "text/plain": [
       "HBox(children=(IntProgress(value=0, description='Downloading 202005022206-298595-31120.mp3', layout=Layout(fle…"
      ]
     },
     "metadata": {},
     "output_type": "display_data"
    },
    {
     "data": {
      "application/vnd.jupyter.widget-view+json": {
       "model_id": "1baf3bc3949c49eea93eac84d7a1e5d9",
       "version_major": 2,
       "version_minor": 0
      },
      "text/plain": [
       "HBox(children=(IntProgress(value=0, description='Downloading 202005022136-360742-31120.mp3', layout=Layout(fle…"
      ]
     },
     "metadata": {},
     "output_type": "display_data"
    },
    {
     "data": {
      "application/vnd.jupyter.widget-view+json": {
       "model_id": "abaf96c4f03a459d88d14d2b046b637b",
       "version_major": 2,
       "version_minor": 0
      },
      "text/plain": [
       "HBox(children=(IntProgress(value=0, description='Downloading 202005022106-347708-31120.mp3', layout=Layout(fle…"
      ]
     },
     "metadata": {},
     "output_type": "display_data"
    },
    {
     "data": {
      "application/vnd.jupyter.widget-view+json": {
       "model_id": "b8c51427dfc3419da328298960deb2fa",
       "version_major": 2,
       "version_minor": 0
      },
      "text/plain": [
       "HBox(children=(IntProgress(value=0, description='Downloading 202005022037-412417-31120.mp3', layout=Layout(fle…"
      ]
     },
     "metadata": {},
     "output_type": "display_data"
    },
    {
     "data": {
      "application/vnd.jupyter.widget-view+json": {
       "model_id": "1e6c3dd4af21425bbf13cf2658b352a2",
       "version_major": 2,
       "version_minor": 0
      },
      "text/plain": [
       "HBox(children=(IntProgress(value=0, description='Downloading 202005022007-991294-31120.mp3', layout=Layout(fle…"
      ]
     },
     "metadata": {},
     "output_type": "display_data"
    },
    {
     "data": {
      "application/vnd.jupyter.widget-view+json": {
       "model_id": "1ff8742198b2462da725920c0fef1d95",
       "version_major": 2,
       "version_minor": 0
      },
      "text/plain": [
       "HBox(children=(IntProgress(value=0, description='Downloading 202005021937-957542-31120.mp3', layout=Layout(fle…"
      ]
     },
     "metadata": {},
     "output_type": "display_data"
    },
    {
     "data": {
      "application/vnd.jupyter.widget-view+json": {
       "model_id": "9c37e849d98049138d1a53efec28b33e",
       "version_major": 2,
       "version_minor": 0
      },
      "text/plain": [
       "HBox(children=(IntProgress(value=0, description='Downloading 202005021907-217570-31120.mp3', layout=Layout(fle…"
      ]
     },
     "metadata": {},
     "output_type": "display_data"
    },
    {
     "data": {
      "application/vnd.jupyter.widget-view+json": {
       "model_id": "b785d1cb167a467894310e71b1ba8fb5",
       "version_major": 2,
       "version_minor": 0
      },
      "text/plain": [
       "HBox(children=(IntProgress(value=0, description='Downloading 202005021837-382227-31120.mp3', layout=Layout(fle…"
      ]
     },
     "metadata": {},
     "output_type": "display_data"
    },
    {
     "data": {
      "application/vnd.jupyter.widget-view+json": {
       "model_id": "94c677d2be7940f682fe6cd9214231c5",
       "version_major": 2,
       "version_minor": 0
      },
      "text/plain": [
       "HBox(children=(IntProgress(value=0, description='Downloading 202005021807-801481-31120.mp3', layout=Layout(fle…"
      ]
     },
     "metadata": {},
     "output_type": "display_data"
    },
    {
     "data": {
      "application/vnd.jupyter.widget-view+json": {
       "model_id": "ec24f7f3d1e4463fb544105034f089aa",
       "version_major": 2,
       "version_minor": 0
      },
      "text/plain": [
       "HBox(children=(IntProgress(value=0, description='Downloading 202005021738-210014-31120.mp3', layout=Layout(fle…"
      ]
     },
     "metadata": {},
     "output_type": "display_data"
    },
    {
     "data": {
      "application/vnd.jupyter.widget-view+json": {
       "model_id": "ee8f402246dc4785b65423dc7032e823",
       "version_major": 2,
       "version_minor": 0
      },
      "text/plain": [
       "HBox(children=(IntProgress(value=0, description='Downloading 202005021708-927742-31120.mp3', layout=Layout(fle…"
      ]
     },
     "metadata": {},
     "output_type": "display_data"
    },
    {
     "data": {
      "application/vnd.jupyter.widget-view+json": {
       "model_id": "60688afa79574062a5a5dbc5e6b28d16",
       "version_major": 2,
       "version_minor": 0
      },
      "text/plain": [
       "HBox(children=(IntProgress(value=0, description='Downloading 202005021638-597155-31120.mp3', layout=Layout(fle…"
      ]
     },
     "metadata": {},
     "output_type": "display_data"
    },
    {
     "data": {
      "application/vnd.jupyter.widget-view+json": {
       "model_id": "619ce58a5d0f4392a9b87911d032a9f2",
       "version_major": 2,
       "version_minor": 0
      },
      "text/plain": [
       "HBox(children=(IntProgress(value=0, description='Downloading 202005021608-721681-31120.mp3', layout=Layout(fle…"
      ]
     },
     "metadata": {},
     "output_type": "display_data"
    },
    {
     "data": {
      "application/vnd.jupyter.widget-view+json": {
       "model_id": "184470f8636941b38b9972d8bbcbc84f",
       "version_major": 2,
       "version_minor": 0
      },
      "text/plain": [
       "HBox(children=(IntProgress(value=0, description='Downloading 202005021538-64476-31120.mp3', layout=Layout(flex…"
      ]
     },
     "metadata": {},
     "output_type": "display_data"
    },
    {
     "data": {
      "application/vnd.jupyter.widget-view+json": {
       "model_id": "1cf7ae8da2c443d4957c0b7736006256",
       "version_major": 2,
       "version_minor": 0
      },
      "text/plain": [
       "HBox(children=(IntProgress(value=0, description='Downloading 202005021421-948619-31120.mp3', layout=Layout(fle…"
      ]
     },
     "metadata": {},
     "output_type": "display_data"
    },
    {
     "data": {
      "application/vnd.jupyter.widget-view+json": {
       "model_id": "f35a3836bf034f6daa578ce25648490b",
       "version_major": 2,
       "version_minor": 0
      },
      "text/plain": [
       "HBox(children=(IntProgress(value=0, description='Downloading 202005021352-114972-31120.mp3', layout=Layout(fle…"
      ]
     },
     "metadata": {},
     "output_type": "display_data"
    },
    {
     "data": {
      "application/vnd.jupyter.widget-view+json": {
       "model_id": "7faaacbafb344af49b831b0164aa600e",
       "version_major": 2,
       "version_minor": 0
      },
      "text/plain": [
       "HBox(children=(IntProgress(value=0, description='Downloading 202005021322-692643-31120.mp3', layout=Layout(fle…"
      ]
     },
     "metadata": {},
     "output_type": "display_data"
    },
    {
     "data": {
      "application/vnd.jupyter.widget-view+json": {
       "model_id": "ad9b8884c0fc402399546c217e0025dc",
       "version_major": 2,
       "version_minor": 0
      },
      "text/plain": [
       "HBox(children=(IntProgress(value=0, description='Downloading 202005021252-683976-31120.mp3', layout=Layout(fle…"
      ]
     },
     "metadata": {},
     "output_type": "display_data"
    },
    {
     "data": {
      "application/vnd.jupyter.widget-view+json": {
       "model_id": "2c29824749d34544a0defb49d5339f1d",
       "version_major": 2,
       "version_minor": 0
      },
      "text/plain": [
       "HBox(children=(IntProgress(value=0, description='Downloading 202005021152-655299-31120.mp3', layout=Layout(fle…"
      ]
     },
     "metadata": {},
     "output_type": "display_data"
    },
    {
     "data": {
      "application/vnd.jupyter.widget-view+json": {
       "model_id": "08fbf23a3e054baaa64d76cb06476f21",
       "version_major": 2,
       "version_minor": 0
      },
      "text/plain": [
       "HBox(children=(IntProgress(value=0, description='Downloading 202005021122-207879-31120.mp3', layout=Layout(fle…"
      ]
     },
     "metadata": {},
     "output_type": "display_data"
    },
    {
     "data": {
      "application/vnd.jupyter.widget-view+json": {
       "model_id": "41723f369671438d9fda999e0f1ad958",
       "version_major": 2,
       "version_minor": 0
      },
      "text/plain": [
       "HBox(children=(IntProgress(value=0, description='Downloading 202005021053-753636-31120.mp3', layout=Layout(fle…"
      ]
     },
     "metadata": {},
     "output_type": "display_data"
    },
    {
     "data": {
      "application/vnd.jupyter.widget-view+json": {
       "model_id": "771d25824704402ab303d2d421f1ab0c",
       "version_major": 2,
       "version_minor": 0
      },
      "text/plain": [
       "HBox(children=(IntProgress(value=0, description='Downloading 202005021023-576334-31120.mp3', layout=Layout(fle…"
      ]
     },
     "metadata": {},
     "output_type": "display_data"
    },
    {
     "data": {
      "application/vnd.jupyter.widget-view+json": {
       "model_id": "5c4110369c1447c6a8c308a97a902acd",
       "version_major": 2,
       "version_minor": 0
      },
      "text/plain": [
       "HBox(children=(IntProgress(value=0, description='Downloading 202005020953-561635-31120.mp3', layout=Layout(fle…"
      ]
     },
     "metadata": {},
     "output_type": "display_data"
    },
    {
     "data": {
      "application/vnd.jupyter.widget-view+json": {
       "model_id": "eeae2a5c4c8a4222a297ef8050950547",
       "version_major": 2,
       "version_minor": 0
      },
      "text/plain": [
       "HBox(children=(IntProgress(value=0, description='Downloading 202005020923-96558-31120.mp3', layout=Layout(flex…"
      ]
     },
     "metadata": {},
     "output_type": "display_data"
    },
    {
     "data": {
      "application/vnd.jupyter.widget-view+json": {
       "model_id": "4a3c26b186d14fb4aea55aae56e2be7e",
       "version_major": 2,
       "version_minor": 0
      },
      "text/plain": [
       "HBox(children=(IntProgress(value=0, description='Downloading 202005020853-305477-31120.mp3', layout=Layout(fle…"
      ]
     },
     "metadata": {},
     "output_type": "display_data"
    },
    {
     "data": {
      "application/vnd.jupyter.widget-view+json": {
       "model_id": "d36fe0d8576841e086646c60bf0a26da",
       "version_major": 2,
       "version_minor": 0
      },
      "text/plain": [
       "HBox(children=(IntProgress(value=0, description='Downloading 202005020823-581393-31120.mp3', layout=Layout(fle…"
      ]
     },
     "metadata": {},
     "output_type": "display_data"
    },
    {
     "data": {
      "application/vnd.jupyter.widget-view+json": {
       "model_id": "fc10283c8d41479080a9ba90b8da5d8f",
       "version_major": 2,
       "version_minor": 0
      },
      "text/plain": [
       "HBox(children=(IntProgress(value=0, description='Downloading 202005020754-351032-31120.mp3', layout=Layout(fle…"
      ]
     },
     "metadata": {},
     "output_type": "display_data"
    },
    {
     "data": {
      "application/vnd.jupyter.widget-view+json": {
       "model_id": "802c2445a6ce4b5da6d27ae5027bd3e4",
       "version_major": 2,
       "version_minor": 0
      },
      "text/plain": [
       "HBox(children=(IntProgress(value=0, description='Downloading 202005020724-281045-31120.mp3', layout=Layout(fle…"
      ]
     },
     "metadata": {},
     "output_type": "display_data"
    },
    {
     "data": {
      "application/vnd.jupyter.widget-view+json": {
       "model_id": "ef4bb79df2f243dc8f67c91ee72fd467",
       "version_major": 2,
       "version_minor": 0
      },
      "text/plain": [
       "HBox(children=(IntProgress(value=0, description='Downloading 202005020654-942147-31120.mp3', layout=Layout(fle…"
      ]
     },
     "metadata": {},
     "output_type": "display_data"
    },
    {
     "data": {
      "application/vnd.jupyter.widget-view+json": {
       "model_id": "1b00202c2fd34ca2b00c3c7631628b3e",
       "version_major": 2,
       "version_minor": 0
      },
      "text/plain": [
       "HBox(children=(IntProgress(value=0, description='Downloading 202005020624-650576-31120.mp3', layout=Layout(fle…"
      ]
     },
     "metadata": {},
     "output_type": "display_data"
    },
    {
     "data": {
      "application/vnd.jupyter.widget-view+json": {
       "model_id": "d33c6294a1ea4eeebf472dc9f51df974",
       "version_major": 2,
       "version_minor": 0
      },
      "text/plain": [
       "HBox(children=(IntProgress(value=0, description='Downloading 202005020554-628295-31120.mp3', layout=Layout(fle…"
      ]
     },
     "metadata": {},
     "output_type": "display_data"
    },
    {
     "data": {
      "application/vnd.jupyter.widget-view+json": {
       "model_id": "de6a579c92024a9188053e6cf91e137a",
       "version_major": 2,
       "version_minor": 0
      },
      "text/plain": [
       "HBox(children=(IntProgress(value=0, description='Downloading 202005020524-928103-31120.mp3', layout=Layout(fle…"
      ]
     },
     "metadata": {},
     "output_type": "display_data"
    },
    {
     "data": {
      "application/vnd.jupyter.widget-view+json": {
       "model_id": "f163cfe873d24b2e9ee57ac85fe073d2",
       "version_major": 2,
       "version_minor": 0
      },
      "text/plain": [
       "HBox(children=(IntProgress(value=0, description='Downloading 202005020455-227691-31120.mp3', layout=Layout(fle…"
      ]
     },
     "metadata": {},
     "output_type": "display_data"
    },
    {
     "data": {
      "application/vnd.jupyter.widget-view+json": {
       "model_id": "646a8ed426194b20a83b51a5060e8aad",
       "version_major": 2,
       "version_minor": 0
      },
      "text/plain": [
       "HBox(children=(IntProgress(value=0, description='Downloading 202005020425-655663-31120.mp3', layout=Layout(fle…"
      ]
     },
     "metadata": {},
     "output_type": "display_data"
    },
    {
     "data": {
      "application/vnd.jupyter.widget-view+json": {
       "model_id": "bd7f41d8aef74dc08529bc65814abcf6",
       "version_major": 2,
       "version_minor": 0
      },
      "text/plain": [
       "HBox(children=(IntProgress(value=0, description='Downloading 202005020355-596684-31120.mp3', layout=Layout(fle…"
      ]
     },
     "metadata": {},
     "output_type": "display_data"
    },
    {
     "data": {
      "application/vnd.jupyter.widget-view+json": {
       "model_id": "87dfc865837c45a8969bbe8feb914ec4",
       "version_major": 2,
       "version_minor": 0
      },
      "text/plain": [
       "HBox(children=(IntProgress(value=0, description='Downloading 202005020325-437903-31120.mp3', layout=Layout(fle…"
      ]
     },
     "metadata": {},
     "output_type": "display_data"
    },
    {
     "data": {
      "application/vnd.jupyter.widget-view+json": {
       "model_id": "6d2334c5e66f456eaefab751152d5ada",
       "version_major": 2,
       "version_minor": 0
      },
      "text/plain": [
       "HBox(children=(IntProgress(value=0, description='Downloading 202005020255-440418-31120.mp3', layout=Layout(fle…"
      ]
     },
     "metadata": {},
     "output_type": "display_data"
    },
    {
     "data": {
      "application/vnd.jupyter.widget-view+json": {
       "model_id": "a724eb3eac7a4054819579fb55c292ba",
       "version_major": 2,
       "version_minor": 0
      },
      "text/plain": [
       "HBox(children=(IntProgress(value=0, description='Downloading 202005020225-370290-31120.mp3', layout=Layout(fle…"
      ]
     },
     "metadata": {},
     "output_type": "display_data"
    },
    {
     "data": {
      "application/vnd.jupyter.widget-view+json": {
       "model_id": "8b933d4f9d41449cb949325d79759944",
       "version_major": 2,
       "version_minor": 0
      },
      "text/plain": [
       "HBox(children=(IntProgress(value=0, description='Downloading 202005020156-840967-31120.mp3', layout=Layout(fle…"
      ]
     },
     "metadata": {},
     "output_type": "display_data"
    },
    {
     "data": {
      "application/vnd.jupyter.widget-view+json": {
       "model_id": "5968d69e38fc44af9469a07e1618fbbd",
       "version_major": 2,
       "version_minor": 0
      },
      "text/plain": [
       "HBox(children=(IntProgress(value=0, description='Downloading 202005020126-32564-31120.mp3', layout=Layout(flex…"
      ]
     },
     "metadata": {},
     "output_type": "display_data"
    },
    {
     "data": {
      "application/vnd.jupyter.widget-view+json": {
       "model_id": "3c2cb7a74b7d45a0b3d6b495f84ab99f",
       "version_major": 2,
       "version_minor": 0
      },
      "text/plain": [
       "HBox(children=(IntProgress(value=0, description='Downloading 202005020056-634251-31120.mp3', layout=Layout(fle…"
      ]
     },
     "metadata": {},
     "output_type": "display_data"
    },
    {
     "data": {
      "application/vnd.jupyter.widget-view+json": {
       "model_id": "e3a3002f0f174d07962fe9185e851152",
       "version_major": 2,
       "version_minor": 0
      },
      "text/plain": [
       "HBox(children=(IntProgress(value=0, description='Downloading 202005020026-428918-31120.mp3', layout=Layout(fle…"
      ]
     },
     "metadata": {},
     "output_type": "display_data"
    },
    {
     "data": {
      "application/vnd.jupyter.widget-view+json": {
       "model_id": "23a1b61e06bc497880aa016d68969e08",
       "version_major": 2,
       "version_minor": 0
      },
      "text/plain": [
       "HBox(children=(IntProgress(value=0, description='Downloading 202005012356-215150-31120.mp3', layout=Layout(fle…"
      ]
     },
     "metadata": {},
     "output_type": "display_data"
    },
    {
     "data": {
      "application/vnd.jupyter.widget-view+json": {
       "model_id": "42dd8df4a66c4050a6f22db8a86fc1be",
       "version_major": 2,
       "version_minor": 0
      },
      "text/plain": [
       "HBox(children=(IntProgress(value=0, description='Downloading 202005012326-732784-31120.mp3', layout=Layout(fle…"
      ]
     },
     "metadata": {},
     "output_type": "display_data"
    },
    {
     "data": {
      "application/vnd.jupyter.widget-view+json": {
       "model_id": "880561d7c3f54ba2a0f926a8c390c801",
       "version_major": 2,
       "version_minor": 0
      },
      "text/plain": [
       "HBox(children=(IntProgress(value=0, description='Downloading 202005012256-921672-31120.mp3', layout=Layout(fle…"
      ]
     },
     "metadata": {},
     "output_type": "display_data"
    },
    {
     "data": {
      "application/vnd.jupyter.widget-view+json": {
       "model_id": "1e00b00c9cc24853b29fa4e5f2cf1a82",
       "version_major": 2,
       "version_minor": 0
      },
      "text/plain": [
       "HBox(children=(IntProgress(value=0, description='Downloading 202005012227-473995-31120.mp3', layout=Layout(fle…"
      ]
     },
     "metadata": {},
     "output_type": "display_data"
    },
    {
     "data": {
      "application/vnd.jupyter.widget-view+json": {
       "model_id": "da3c059cedda496e99fe20a3cf30de40",
       "version_major": 2,
       "version_minor": 0
      },
      "text/plain": [
       "HBox(children=(IntProgress(value=0, description='Downloading 202005012157-412841-31120.mp3', layout=Layout(fle…"
      ]
     },
     "metadata": {},
     "output_type": "display_data"
    },
    {
     "data": {
      "application/vnd.jupyter.widget-view+json": {
       "model_id": "3f3787e1c1d4424b81b8308c02fc27fe",
       "version_major": 2,
       "version_minor": 0
      },
      "text/plain": [
       "HBox(children=(IntProgress(value=0, description='Downloading 202005012127-209362-31120.mp3', layout=Layout(fle…"
      ]
     },
     "metadata": {},
     "output_type": "display_data"
    },
    {
     "data": {
      "application/vnd.jupyter.widget-view+json": {
       "model_id": "7f6ddca24a2449429799d760d6cbc53a",
       "version_major": 2,
       "version_minor": 0
      },
      "text/plain": [
       "HBox(children=(IntProgress(value=0, description='Downloading 202005012057-975239-31120.mp3', layout=Layout(fle…"
      ]
     },
     "metadata": {},
     "output_type": "display_data"
    },
    {
     "data": {
      "application/vnd.jupyter.widget-view+json": {
       "model_id": "448346a357414a19977dbfdda5275d14",
       "version_major": 2,
       "version_minor": 0
      },
      "text/plain": [
       "HBox(children=(IntProgress(value=0, description='Downloading 202005012027-690665-31120.mp3', layout=Layout(fle…"
      ]
     },
     "metadata": {},
     "output_type": "display_data"
    },
    {
     "data": {
      "application/vnd.jupyter.widget-view+json": {
       "model_id": "d235ea4dd75140e48e4b1cfd9d69ef34",
       "version_major": 2,
       "version_minor": 0
      },
      "text/plain": [
       "HBox(children=(IntProgress(value=0, description='Downloading 202005011957-63464-31120.mp3', layout=Layout(flex…"
      ]
     },
     "metadata": {},
     "output_type": "display_data"
    },
    {
     "data": {
      "application/vnd.jupyter.widget-view+json": {
       "model_id": "e83f40b14145436ba7d491ae4537428d",
       "version_major": 2,
       "version_minor": 0
      },
      "text/plain": [
       "HBox(children=(IntProgress(value=0, description='Downloading 202005011928-178239-31120.mp3', layout=Layout(fle…"
      ]
     },
     "metadata": {},
     "output_type": "display_data"
    },
    {
     "data": {
      "application/vnd.jupyter.widget-view+json": {
       "model_id": "76b0a979ff5a4cb69d0bf205f53face2",
       "version_major": 2,
       "version_minor": 0
      },
      "text/plain": [
       "HBox(children=(IntProgress(value=0, description='Downloading 202005011858-659488-31120.mp3', layout=Layout(fle…"
      ]
     },
     "metadata": {},
     "output_type": "display_data"
    },
    {
     "data": {
      "application/vnd.jupyter.widget-view+json": {
       "model_id": "c5a90d621b7f48a58749a135c1ce6c15",
       "version_major": 2,
       "version_minor": 0
      },
      "text/plain": [
       "HBox(children=(IntProgress(value=0, description='Downloading 202005011828-618316-31120.mp3', layout=Layout(fle…"
      ]
     },
     "metadata": {},
     "output_type": "display_data"
    },
    {
     "data": {
      "application/vnd.jupyter.widget-view+json": {
       "model_id": "5df7760af41846fab69818019385fda0",
       "version_major": 2,
       "version_minor": 0
      },
      "text/plain": [
       "HBox(children=(IntProgress(value=0, description='Downloading 202005011758-918973-31120.mp3', layout=Layout(fle…"
      ]
     },
     "metadata": {},
     "output_type": "display_data"
    },
    {
     "data": {
      "application/vnd.jupyter.widget-view+json": {
       "model_id": "f57688beb5254060a58efc9131bfce0c",
       "version_major": 2,
       "version_minor": 0
      },
      "text/plain": [
       "HBox(children=(IntProgress(value=0, description='Downloading 202005011728-170284-31120.mp3', layout=Layout(fle…"
      ]
     },
     "metadata": {},
     "output_type": "display_data"
    },
    {
     "data": {
      "application/vnd.jupyter.widget-view+json": {
       "model_id": "cd77e7307ced4dbf97e25ed822162cd4",
       "version_major": 2,
       "version_minor": 0
      },
      "text/plain": [
       "HBox(children=(IntProgress(value=0, description='Downloading 202005011658-123407-31120.mp3', layout=Layout(fle…"
      ]
     },
     "metadata": {},
     "output_type": "display_data"
    },
    {
     "data": {
      "application/vnd.jupyter.widget-view+json": {
       "model_id": "aea19dce580b4ad8a5602ae1a631fd50",
       "version_major": 2,
       "version_minor": 0
      },
      "text/plain": [
       "HBox(children=(IntProgress(value=0, description='Downloading 202005011629-503595-31120.mp3', layout=Layout(fle…"
      ]
     },
     "metadata": {},
     "output_type": "display_data"
    },
    {
     "data": {
      "application/vnd.jupyter.widget-view+json": {
       "model_id": "1cdcda30de6a43d5b84550241125a93e",
       "version_major": 2,
       "version_minor": 0
      },
      "text/plain": [
       "HBox(children=(IntProgress(value=0, description='Downloading 202005011559-527079-31120.mp3', layout=Layout(fle…"
      ]
     },
     "metadata": {},
     "output_type": "display_data"
    },
    {
     "data": {
      "application/vnd.jupyter.widget-view+json": {
       "model_id": "be704ad9218043269d40e1565e06eef7",
       "version_major": 2,
       "version_minor": 0
      },
      "text/plain": [
       "HBox(children=(IntProgress(value=0, description='Downloading 202005011529-565285-31120.mp3', layout=Layout(fle…"
      ]
     },
     "metadata": {},
     "output_type": "display_data"
    },
    {
     "data": {
      "application/vnd.jupyter.widget-view+json": {
       "model_id": "a8f03a8569074b7b8037d6408f6f7231",
       "version_major": 2,
       "version_minor": 0
      },
      "text/plain": [
       "HBox(children=(IntProgress(value=0, description='Downloading 202005011429-716111-31120.mp3', layout=Layout(fle…"
      ]
     },
     "metadata": {},
     "output_type": "display_data"
    },
    {
     "data": {
      "application/vnd.jupyter.widget-view+json": {
       "model_id": "87e63ad26fba4c33a5a3a2f57a341061",
       "version_major": 2,
       "version_minor": 0
      },
      "text/plain": [
       "HBox(children=(IntProgress(value=0, description='Downloading 202005011359-571523-31120.mp3', layout=Layout(fle…"
      ]
     },
     "metadata": {},
     "output_type": "display_data"
    },
    {
     "data": {
      "application/vnd.jupyter.widget-view+json": {
       "model_id": "562065434d414de4a0baa30c24e4913c",
       "version_major": 2,
       "version_minor": 0
      },
      "text/plain": [
       "HBox(children=(IntProgress(value=0, description='Downloading 202005011330-556730-31120.mp3', layout=Layout(fle…"
      ]
     },
     "metadata": {},
     "output_type": "display_data"
    },
    {
     "data": {
      "application/vnd.jupyter.widget-view+json": {
       "model_id": "0016b11f249a48dc9d896457be02d727",
       "version_major": 2,
       "version_minor": 0
      },
      "text/plain": [
       "HBox(children=(IntProgress(value=0, description='Downloading 202005011300-118096-31120.mp3', layout=Layout(fle…"
      ]
     },
     "metadata": {},
     "output_type": "display_data"
    },
    {
     "data": {
      "application/vnd.jupyter.widget-view+json": {
       "model_id": "1189c055e69848839f627724db1963ad",
       "version_major": 2,
       "version_minor": 0
      },
      "text/plain": [
       "HBox(children=(IntProgress(value=0, description='Downloading 202005011200-119241-31120.mp3', layout=Layout(fle…"
      ]
     },
     "metadata": {},
     "output_type": "display_data"
    },
    {
     "data": {
      "application/vnd.jupyter.widget-view+json": {
       "model_id": "0b74895243004efd901f8f144d47ef9c",
       "version_major": 2,
       "version_minor": 0
      },
      "text/plain": [
       "HBox(children=(IntProgress(value=0, description='Downloading 202005011130-572259-31120.mp3', layout=Layout(fle…"
      ]
     },
     "metadata": {},
     "output_type": "display_data"
    },
    {
     "data": {
      "application/vnd.jupyter.widget-view+json": {
       "model_id": "3f837c94bad543e39d8eaba128b46de2",
       "version_major": 2,
       "version_minor": 0
      },
      "text/plain": [
       "HBox(children=(IntProgress(value=0, description='Downloading 202005011100-390155-31120.mp3', layout=Layout(fle…"
      ]
     },
     "metadata": {},
     "output_type": "display_data"
    },
    {
     "data": {
      "application/vnd.jupyter.widget-view+json": {
       "model_id": "c30e26dd082d4faab31688350b47b065",
       "version_major": 2,
       "version_minor": 0
      },
      "text/plain": [
       "HBox(children=(IntProgress(value=0, description='Downloading 202005011031-356434-31120.mp3', layout=Layout(fle…"
      ]
     },
     "metadata": {},
     "output_type": "display_data"
    },
    {
     "data": {
      "application/vnd.jupyter.widget-view+json": {
       "model_id": "ef144f946e7d428f8d86101d7f2ee8ce",
       "version_major": 2,
       "version_minor": 0
      },
      "text/plain": [
       "HBox(children=(IntProgress(value=0, description='Downloading 202005011001-859929-31120.mp3', layout=Layout(fle…"
      ]
     },
     "metadata": {},
     "output_type": "display_data"
    },
    {
     "data": {
      "application/vnd.jupyter.widget-view+json": {
       "model_id": "00042db0e8214803a2f4194f6b5f5218",
       "version_major": 2,
       "version_minor": 0
      },
      "text/plain": [
       "HBox(children=(IntProgress(value=0, description='Downloading 202005010931-831752-31120.mp3', layout=Layout(fle…"
      ]
     },
     "metadata": {},
     "output_type": "display_data"
    },
    {
     "data": {
      "application/vnd.jupyter.widget-view+json": {
       "model_id": "ad8cac3a251b4873a263d59e8e1654d8",
       "version_major": 2,
       "version_minor": 0
      },
      "text/plain": [
       "HBox(children=(IntProgress(value=0, description='Downloading 202005010901-454079-31120.mp3', layout=Layout(fle…"
      ]
     },
     "metadata": {},
     "output_type": "display_data"
    },
    {
     "data": {
      "application/vnd.jupyter.widget-view+json": {
       "model_id": "615c2d8d9440446982c69bc124231a63",
       "version_major": 2,
       "version_minor": 0
      },
      "text/plain": [
       "HBox(children=(IntProgress(value=0, description='Downloading 202005010831-583516-31120.mp3', layout=Layout(fle…"
      ]
     },
     "metadata": {},
     "output_type": "display_data"
    },
    {
     "data": {
      "application/vnd.jupyter.widget-view+json": {
       "model_id": "a9ae272052af4b12b0aa5a2709a5be1b",
       "version_major": 2,
       "version_minor": 0
      },
      "text/plain": [
       "HBox(children=(IntProgress(value=0, description='Downloading 202005010801-968496-31120.mp3', layout=Layout(fle…"
      ]
     },
     "metadata": {},
     "output_type": "display_data"
    },
    {
     "data": {
      "application/vnd.jupyter.widget-view+json": {
       "model_id": "6be81bd742ba4d578b87280097259cad",
       "version_major": 2,
       "version_minor": 0
      },
      "text/plain": [
       "HBox(children=(IntProgress(value=0, description='Downloading 202005010732-844178-31120.mp3', layout=Layout(fle…"
      ]
     },
     "metadata": {},
     "output_type": "display_data"
    },
    {
     "data": {
      "application/vnd.jupyter.widget-view+json": {
       "model_id": "a338544cc6e94911a2bec45be477738a",
       "version_major": 2,
       "version_minor": 0
      },
      "text/plain": [
       "HBox(children=(IntProgress(value=0, description='Downloading 202005010702-521061-31120.mp3', layout=Layout(fle…"
      ]
     },
     "metadata": {},
     "output_type": "display_data"
    },
    {
     "data": {
      "application/vnd.jupyter.widget-view+json": {
       "model_id": "fa19f4d1209147848116da5c629d17d1",
       "version_major": 2,
       "version_minor": 0
      },
      "text/plain": [
       "HBox(children=(IntProgress(value=0, description='Downloading 202005010632-540160-31120.mp3', layout=Layout(fle…"
      ]
     },
     "metadata": {},
     "output_type": "display_data"
    },
    {
     "data": {
      "application/vnd.jupyter.widget-view+json": {
       "model_id": "8ad85011c381442f9583b61b1953d260",
       "version_major": 2,
       "version_minor": 0
      },
      "text/plain": [
       "HBox(children=(IntProgress(value=0, description='Downloading 202005010602-978349-31120.mp3', layout=Layout(fle…"
      ]
     },
     "metadata": {},
     "output_type": "display_data"
    },
    {
     "data": {
      "application/vnd.jupyter.widget-view+json": {
       "model_id": "31152a4b282c4328ad16b17736b40c92",
       "version_major": 2,
       "version_minor": 0
      },
      "text/plain": [
       "HBox(children=(IntProgress(value=0, description='Downloading 202005010532-587826-31120.mp3', layout=Layout(fle…"
      ]
     },
     "metadata": {},
     "output_type": "display_data"
    },
    {
     "data": {
      "application/vnd.jupyter.widget-view+json": {
       "model_id": "b62e392b8c03467a9b8dc390dc1db5a7",
       "version_major": 2,
       "version_minor": 0
      },
      "text/plain": [
       "HBox(children=(IntProgress(value=0, description='Downloading 202005010502-960508-31120.mp3', layout=Layout(fle…"
      ]
     },
     "metadata": {},
     "output_type": "display_data"
    },
    {
     "data": {
      "application/vnd.jupyter.widget-view+json": {
       "model_id": "53943ecaf09e453b8b5923a07d569461",
       "version_major": 2,
       "version_minor": 0
      },
      "text/plain": [
       "HBox(children=(IntProgress(value=0, description='Downloading 202005010433-760885-31120.mp3', layout=Layout(fle…"
      ]
     },
     "metadata": {},
     "output_type": "display_data"
    },
    {
     "data": {
      "application/vnd.jupyter.widget-view+json": {
       "model_id": "925d1ec3f51440ad953352492fb8aeb1",
       "version_major": 2,
       "version_minor": 0
      },
      "text/plain": [
       "HBox(children=(IntProgress(value=0, description='Downloading 202005010403-313421-31120.mp3', layout=Layout(fle…"
      ]
     },
     "metadata": {},
     "output_type": "display_data"
    },
    {
     "data": {
      "application/vnd.jupyter.widget-view+json": {
       "model_id": "5abc854e58eb447e91a3e7bf14b35a85",
       "version_major": 2,
       "version_minor": 0
      },
      "text/plain": [
       "HBox(children=(IntProgress(value=0, description='Downloading 202005010333-536103-31120.mp3', layout=Layout(fle…"
      ]
     },
     "metadata": {},
     "output_type": "display_data"
    },
    {
     "data": {
      "application/vnd.jupyter.widget-view+json": {
       "model_id": "757ca41134294e8cbe1e05c10aff9f04",
       "version_major": 2,
       "version_minor": 0
      },
      "text/plain": [
       "HBox(children=(IntProgress(value=0, description='Downloading 202005010303-343357-31120.mp3', layout=Layout(fle…"
      ]
     },
     "metadata": {},
     "output_type": "display_data"
    },
    {
     "data": {
      "application/vnd.jupyter.widget-view+json": {
       "model_id": "c7f38d98866e40e5b7937a4cabe22ff9",
       "version_major": 2,
       "version_minor": 0
      },
      "text/plain": [
       "HBox(children=(IntProgress(value=0, description='Downloading 202005010233-710176-31120.mp3', layout=Layout(fle…"
      ]
     },
     "metadata": {},
     "output_type": "display_data"
    },
    {
     "data": {
      "application/vnd.jupyter.widget-view+json": {
       "model_id": "2fe1830128684811aeadc155b5a488b4",
       "version_major": 2,
       "version_minor": 0
      },
      "text/plain": [
       "HBox(children=(IntProgress(value=0, description='Downloading 202005010203-541619-31120.mp3', layout=Layout(fle…"
      ]
     },
     "metadata": {},
     "output_type": "display_data"
    },
    {
     "data": {
      "application/vnd.jupyter.widget-view+json": {
       "model_id": "763e29d95c854222afb229b7f328668f",
       "version_major": 2,
       "version_minor": 0
      },
      "text/plain": [
       "HBox(children=(IntProgress(value=0, description='Downloading 202005010134-185703-31120.mp3', layout=Layout(fle…"
      ]
     },
     "metadata": {},
     "output_type": "display_data"
    },
    {
     "data": {
      "application/vnd.jupyter.widget-view+json": {
       "model_id": "1e5d9091d88b43d4b06ae1099543b407",
       "version_major": 2,
       "version_minor": 0
      },
      "text/plain": [
       "HBox(children=(IntProgress(value=0, description='Downloading 202005010104-91031-31120.mp3', layout=Layout(flex…"
      ]
     },
     "metadata": {},
     "output_type": "display_data"
    },
    {
     "data": {
      "application/vnd.jupyter.widget-view+json": {
       "model_id": "ef1e3d4c5f114009879112d718ff35b6",
       "version_major": 2,
       "version_minor": 0
      },
      "text/plain": [
       "HBox(children=(IntProgress(value=0, description='Downloading 202005010034-382525-31120.mp3', layout=Layout(fle…"
      ]
     },
     "metadata": {},
     "output_type": "display_data"
    },
    {
     "data": {
      "application/vnd.jupyter.widget-view+json": {
       "model_id": "a629057cd3d2446e89c7cae1c7fbb5ef",
       "version_major": 2,
       "version_minor": 0
      },
      "text/plain": [
       "HBox(children=(IntProgress(value=0, description='Downloading 202005010004-227230-31120.mp3', layout=Layout(fle…"
      ]
     },
     "metadata": {},
     "output_type": "display_data"
    },
    {
     "data": {
      "application/vnd.jupyter.widget-view+json": {
       "model_id": "416d6360a763483984f79a65d5a0c8d1",
       "version_major": 2,
       "version_minor": 0
      },
      "text/plain": [
       "HBox(children=(IntProgress(value=0, description='Downloading 202004302334-195012-31120.mp3', layout=Layout(fle…"
      ]
     },
     "metadata": {},
     "output_type": "display_data"
    },
    {
     "data": {
      "application/vnd.jupyter.widget-view+json": {
       "model_id": "a5ad5b8ccc7f400382c7f6dcabd34be4",
       "version_major": 2,
       "version_minor": 0
      },
      "text/plain": [
       "HBox(children=(IntProgress(value=0, description='Downloading 202004302304-751673-31120.mp3', layout=Layout(fle…"
      ]
     },
     "metadata": {},
     "output_type": "display_data"
    }
   ],
   "source": [
    "archive.download(start = start_time,\n",
    "             end = end_time,\n",
    "             output_path = outputpath)"
   ]
  },
  {
   "cell_type": "markdown",
   "metadata": {
    "ExecuteTime": {
     "end_time": "2020-05-09T16:52:18.017680Z",
     "start_time": "2020-05-09T16:52:18.014723Z"
    }
   },
   "source": [
    "## Confirm Existence of Downloaded Files"
   ]
  },
  {
   "cell_type": "code",
   "execution_count": 16,
   "metadata": {
    "ExecuteTime": {
     "end_time": "2020-05-09T16:54:31.724278Z",
     "start_time": "2020-05-09T16:54:31.718299Z"
    }
   },
   "outputs": [
    {
     "data": {
      "text/plain": [
       "['31120-20200502-0156.mp3',\n",
       " '31120-20200502-1937.mp3',\n",
       " '31120-20200501-1031.mp3',\n",
       " '31120-20200502-1738.mp3',\n",
       " '31120-20200501-1958.mp3',\n",
       " '31120-20200501-0931.mp3',\n",
       " '31120-20200501-0702.mp3',\n",
       " '31120-20200502-0355.mp3',\n",
       " '31120-20200502-0625.mp3',\n",
       " '31120-20200501-0104.mp3',\n",
       " '31120-20200501-1230.mp3',\n",
       " '31120-20200502-1539.mp3',\n",
       " '31120-20200502-1908.mp3',\n",
       " '31120-20200501-0304.mp3',\n",
       " '31120-20200502-0425.mp3',\n",
       " '31120-20200501-0503.mp3',\n",
       " '31120-20200502-0226.mp3',\n",
       " '31120-20200502-0555.mp3',\n",
       " '31120-20200502-2236.mp3',\n",
       " '31120-20200501-1430.mp3',\n",
       " '31120-20200502-0026.mp3',\n",
       " '31120-20200502-0754.mp3',\n",
       " '31120-20200501-1828.mp3',\n",
       " '31120-20200502-2037.mp3',\n",
       " '31120-20200501-2058.mp3',\n",
       " '31120-20200502-1808.mp3',\n",
       " '31120-20200501-0204.mp3',\n",
       " '31120-20200502-0525.mp3',\n",
       " '31120-20200501-1319.mp3',\n",
       " '31120-20200502-0256.mp3',\n",
       " '31120-20200501-0403.mp3',\n",
       " '31120-20200501-0832.mp3',\n",
       " '31120-20200502-1216.mp3',\n",
       " '31120-20200501-0603.mp3',\n",
       " '31120-20200501-2028.mp3',\n",
       " '31120-20200501-1131.mp3',\n",
       " '31120-20200501-1858.mp3',\n",
       " '31120-20200502-0724.mp3',\n",
       " '31120-20200502-0056.mp3',\n",
       " '31120-20200502-2137.mp3',\n",
       " '31120-20200501-1928.mp3',\n",
       " '31120-20200502-0126.mp3',\n",
       " '31120-20200502-0654.mp3',\n",
       " '31120-20200502-0326.mp3',\n",
       " '31120-20200502-1831.mp3',\n",
       " '31120-20200502-2336.mp3',\n",
       " '31120-20200502-0455.mp3',\n",
       " '31120-20200501-1729.mp3',\n",
       " '31120-20200501-2157.mp3',\n",
       " '31120-20200502-2306.mp3',\n",
       " '31120-20200502-0854.mp3',\n",
       " '31120-20200501-1500.mp3',\n",
       " '31120-20200502-1023.mp3',\n",
       " '31120-20200502-2107.mp3',\n",
       " '31120-20200501-1529.mp3',\n",
       " '31120-20200501-1101.mp3',\n",
       " '31120-20200502-1422.mp3',\n",
       " '31120-20200501-0034.mp3',\n",
       " '31120-20200502-1153.mp3',\n",
       " '31120-20200501-2227.mp3',\n",
       " '31120-20200501-0632.mp3',\n",
       " '31120-20200501-0234.mp3',\n",
       " '31120-20200501-1300.mp3',\n",
       " '31120-20200502-0924.mp3',\n",
       " '31120-20200501-1659.mp3',\n",
       " '31120-20200501-2350.mp3',\n",
       " '31120-20200501-0433.mp3',\n",
       " '31120-20200501-0802.mp3',\n",
       " '31120-20200501-2257.mp3',\n",
       " '.ipynb_checkpoints',\n",
       " '31120-20200502-1123.mp3',\n",
       " '31120-20200502-1452.mp3',\n",
       " '31120-20200501-0333.mp3',\n",
       " '31120-20200502-2007.mp3',\n",
       " '31120-20200502-2207.mp3',\n",
       " '31120-20200502-1322.mp3',\n",
       " '31120-20200502-0824.mp3',\n",
       " '31120-20200501-2127.mp3',\n",
       " '31120-20200501-0902.mp3',\n",
       " '31120-20200501-0533.mp3',\n",
       " '31120-20200501-1759.mp3',\n",
       " '31120-20200502-1252.mp3',\n",
       " '31120-20200501-1201.mp3',\n",
       " '31120-20200501-1559.mp3',\n",
       " '31120-20200502-1522.mp3',\n",
       " '31120-20200501-1001.mp3',\n",
       " '31120-20200502-1708.mp3',\n",
       " '31120-20200502-0953.mp3',\n",
       " '31120-20200501-0732.mp3',\n",
       " '31120-20200501-2327.mp3',\n",
       " '31120-20200502-1053.mp3',\n",
       " '31120-20200501-0134.mp3']"
      ]
     },
     "execution_count": 16,
     "metadata": {},
     "output_type": "execute_result"
    }
   ],
   "source": [
    "os.listdir(outputpath)"
   ]
  },
  {
   "cell_type": "markdown",
   "metadata": {},
   "source": [
    "# As Functions:"
   ]
  }
 ],
 "metadata": {
  "kernelspec": {
   "display_name": "Python 3",
   "language": "python",
   "name": "python3"
  },
  "language_info": {
   "codemirror_mode": {
    "name": "ipython",
    "version": 3
   },
   "file_extension": ".py",
   "mimetype": "text/x-python",
   "name": "python",
   "nbconvert_exporter": "python",
   "pygments_lexer": "ipython3",
   "version": "3.7.6"
  },
  "toc": {
   "base_numbering": 1,
   "nav_menu": {},
   "number_sections": true,
   "sideBar": true,
   "skip_h1_title": false,
   "title_cell": "Table of Contents",
   "title_sidebar": "Contents",
   "toc_cell": false,
   "toc_position": {},
   "toc_section_display": true,
   "toc_window_display": false
  },
  "varInspector": {
   "cols": {
    "lenName": 16,
    "lenType": 16,
    "lenVar": 40
   },
   "kernels_config": {
    "python": {
     "delete_cmd_postfix": "",
     "delete_cmd_prefix": "del ",
     "library": "var_list.py",
     "varRefreshCmd": "print(var_dic_list())"
    },
    "r": {
     "delete_cmd_postfix": ") ",
     "delete_cmd_prefix": "rm(",
     "library": "var_list.r",
     "varRefreshCmd": "cat(var_dic_list()) "
    }
   },
   "types_to_exclude": [
    "module",
    "function",
    "builtin_function_or_method",
    "instance",
    "_Feature"
   ],
   "window_display": false
  }
 },
 "nbformat": 4,
 "nbformat_minor": 4
}
