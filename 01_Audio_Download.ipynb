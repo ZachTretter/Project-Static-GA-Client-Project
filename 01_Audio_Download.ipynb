{
 "cells": [
  {
   "cell_type": "markdown",
   "metadata": {},
   "source": [
    "DSI BOS 11 (May 2020) Project 5\n",
    "\n",
    "Alex Golden, Jungmoon Ham, Luke Podsiadlo, Zach Tretter\n",
    "\n",
    "---------"
   ]
  },
  {
   "cell_type": "markdown",
   "metadata": {},
   "source": [
    "## Download Police Radio Archive from BroadCastify\n",
    "\n",
    "Our emphatic appreciation to prior General Assembly Data Science cohorts\n",
    "* DSI-ATL-8 (Anthony Chapman, Carol Chiu, Kwamae Delva, and Joseph Hopkins) for developing Broadcastify Archive\n",
    "\n",
    "* DSI-SF-9 (Grant Wilson, J. Hall, Gabriel Perez Prieto) for a well documented instantiation of Broadcastify Archive\n",
    "\n",
    "## Notebook Contents\n",
    "- [BroadcastifyArchive Tool (BART)](#BroadcastifyArchive-Tool-(BART))\n",
    "- [Imports](#Imports)\n",
    "- [Parameterize BART](#Parameterize-BART)\n",
    "- [Execute BART](#Executive-BART)"
   ]
  },
  {
   "cell_type": "markdown",
   "metadata": {},
   "source": [
    "----------\n",
    "## BroadcastifyArchive Tool (BART)\n",
    "\n",
    "[Link to Broadcastify Website](https://www.broadcastify.com)\n",
    "\n",
    "[BART Source Documentation on github](https://github.com/ljhopkins2/broadcastify-archtk)\n",
    "\n",
    "#### How to Install and Run BART\n",
    "\n",
    "1. Install BART ```!pip install broadcastify-archtk```\n",
    "2. Install Selenium```!pip install selenium```\n",
    "3. Download [ChromeWebDriver](https://sites.google.com/a/chromium.org/chromedriver/downloads)\n",
    "4. Identify the absolute file path to 'chromedriver.exe'\n",
    "\n",
    "\n",
    "#### Note BroadcastifyArchive tool worked despite this \"RequestsDependencyWarning\" upon installation\n",
    "* C:\\Users\\(```username```)\\anaconda3\\lib\\site-packages\\requests\\__init__.py:91: \n",
    "    * RequestsDependencyWarning: urllib3 (1.25.8) or chardet (3.0.4) doesn't match a supported version!"
   ]
  },
  {
   "cell_type": "markdown",
   "metadata": {},
   "source": [
    "--------\n",
    "\n",
    "## Imports"
   ]
  },
  {
   "cell_type": "code",
   "execution_count": 1,
   "metadata": {
    "ExecuteTime": {
     "end_time": "2020-05-09T16:53:32.409802Z",
     "start_time": "2020-05-09T16:53:32.405849Z"
    }
   },
   "outputs": [],
   "source": [
    "from broadcastify_archtk import BroadcastifyArchive\n",
    "from datetime import datetime as dt\n",
    "import os"
   ]
  },
  {
   "cell_type": "markdown",
   "metadata": {},
   "source": [
    "--------\n",
    "\n",
    "## Parameterize BART\n",
    "\n",
    "Requirements\n",
    "* Test Feed ID found in the url: .../archives/feed/```NUMERIC CODE```\n",
    "* Username (Any download requires a premium account)\n",
    "* Password associated with username\n",
    "* Start and End Dates (Must be Datetime.date)\n",
    "* Start and End Times (Must be Datetime.time)\n",
    "* Outpath for File Download"
   ]
  },
  {
   "cell_type": "markdown",
   "metadata": {},
   "source": [
    "### Test Feed ID"
   ]
  },
  {
   "cell_type": "code",
   "execution_count": 3,
   "metadata": {
    "ExecuteTime": {
     "end_time": "2020-05-09T16:52:52.106073Z",
     "start_time": "2020-05-09T16:52:52.102082Z"
    }
   },
   "outputs": [],
   "source": [
    "# Cambridge PD\n",
    "TEST_FEED_ID = \"25818\"  "
   ]
  },
  {
   "cell_type": "markdown",
   "metadata": {},
   "source": [
    "### Broadcastify Username and Password"
   ]
  },
  {
   "cell_type": "code",
   "execution_count": 4,
   "metadata": {
    "ExecuteTime": {
     "end_time": "2020-05-09T16:52:52.808798Z",
     "start_time": "2020-05-09T16:52:52.805808Z"
    }
   },
   "outputs": [],
   "source": [
    "USERNAME = 'codylocks'\n",
    "PASSWORD = 'UE8v*.NbJ9xbs6k'"
   ]
  },
  {
   "cell_type": "markdown",
   "metadata": {},
   "source": [
    "### Dates and Time"
   ]
  },
  {
   "cell_type": "code",
   "execution_count": 5,
   "metadata": {
    "ExecuteTime": {
     "end_time": "2020-05-09T16:52:53.660759Z",
     "start_time": "2020-05-09T16:52:53.653780Z"
    }
   },
   "outputs": [
    {
     "name": "stdout",
     "output_type": "stream",
     "text": [
      "This will download archived audio \n",
      "starting at 2020-05-01 00:00:00 \n",
      "ending at 2020-05-02 23:59:00\n"
     ]
    }
   ],
   "source": [
    "start_date = dt(2020,\n",
    "                5,\n",
    "                1\n",
    "               ).date()\n",
    "\n",
    "end_date = dt(2020,\n",
    "              5,\n",
    "              2\n",
    "             ).date()\n",
    "\n",
    "start_time = dt(2020,\n",
    "                5,\n",
    "                1,\n",
    "                0,\n",
    "                0)\n",
    "\n",
    "end_time = dt(2020,\n",
    "              5,\n",
    "              2,\n",
    "              23,\n",
    "              59)\n",
    "\n",
    "print(f'This will download archived audio \\nstarting at {start_time} \\nending at {end_time}')"
   ]
  },
  {
   "cell_type": "markdown",
   "metadata": {},
   "source": [
    "### Webdriver Path (Specific to Your Machine)"
   ]
  },
  {
   "cell_type": "code",
   "execution_count": 6,
   "metadata": {
    "ExecuteTime": {
     "end_time": "2020-05-09T16:52:55.025418Z",
     "start_time": "2020-05-09T16:52:55.021418Z"
    }
   },
   "outputs": [],
   "source": [
    "# chromedriverpath = \"../../documents/webdriver/chromedriver.exe\"\n",
    "\n",
    "chromedriverpath = \"/Users/alex/Documents/chromedriver\""
   ]
  },
  {
   "cell_type": "markdown",
   "metadata": {},
   "source": [
    "### Download Path (Specific to Your Machine)"
   ]
  },
  {
   "cell_type": "code",
   "execution_count": 11,
   "metadata": {
    "ExecuteTime": {
     "end_time": "2020-05-09T16:52:55.971177Z",
     "start_time": "2020-05-09T16:52:55.967188Z"
    }
   },
   "outputs": [],
   "source": [
    "outputpath = \"./Datasets/mp3_download/\""
   ]
  },
  {
   "cell_type": "markdown",
   "metadata": {},
   "source": [
    "-------\n",
    "\n",
    "## Execute BART\n",
    "\n",
    "* Instantiate with Test Feed ID, Username, and Password\n",
    "* Activate BART bound by the Start and End DATES\n",
    "* Download mp3 files bound by the Start and End TIMES\n",
    "* Confirm Existence of Files"
   ]
  },
  {
   "cell_type": "markdown",
   "metadata": {},
   "source": [
    "### Initialize the BroadcastifyArchive Tool"
   ]
  },
  {
   "cell_type": "code",
   "execution_count": 12,
   "metadata": {
    "ExecuteTime": {
     "end_time": "2020-05-09T16:53:14.855711Z",
     "start_time": "2020-05-09T16:52:57.156832Z"
    }
   },
   "outputs": [
    {
     "name": "stdout",
     "output_type": "stream",
     "text": [
      "Initializing calendar navigation for Boston Metro Area Police and Fire - West...\n",
      "Initialization complete.\n",
      "\n",
      "BroadcastifyArchive\n",
      " (Feed ID = 25818\n",
      "  Feed Name = Boston Metro Area Police and Fire - West\n",
      "  Feed URL = \"https://www.broadcastify.com/listen/feed/25818\"\n",
      "  Archive URL = \"https://www.broadcastify.com/archives/feed/25818\"\n",
      "  Start Date: 2019-05-11\n",
      "  End Date:   2020-05-11\n",
      "  Username = \"codylocks\" Password = [True]\n",
      "  0 built archive entries \n"
     ]
    }
   ],
   "source": [
    "archive = BroadcastifyArchive(TEST_FEED_ID, \n",
    "                              login_cfg_path = None, \n",
    "                              username = USERNAME, \n",
    "                              password = PASSWORD,\n",
    "                              webdriver_path = chromedriverpath)"
   ]
  },
  {
   "cell_type": "markdown",
   "metadata": {},
   "source": [
    "### Activate the BroadcastifyArchive Tool"
   ]
  },
  {
   "cell_type": "code",
   "execution_count": 13,
   "metadata": {
    "ExecuteTime": {
     "end_time": "2020-05-09T16:53:42.960437Z",
     "start_time": "2020-05-09T16:53:35.782288Z"
    }
   },
   "outputs": [
    {
     "name": "stdout",
     "output_type": "stream",
     "text": [
      "Launching webdriver...\n"
     ]
    },
    {
     "data": {
      "application/vnd.jupyter.widget-view+json": {
       "model_id": "ec897ffe0eb3452b9362ea94cae0f340",
       "version_major": 2,
       "version_minor": 0
      },
      "text/plain": [
       "HBox(children=(IntProgress(value=0, description='Building dates', layout=Layout(flex='2'), max=2, style=Progre…"
      ]
     },
     "metadata": {},
     "output_type": "display_data"
    },
    {
     "name": "stdout",
     "output_type": "stream",
     "text": [
      "BroadcastifyArchive\n",
      " (Feed ID = 25818\n",
      "  Feed Name = Boston Metro Area Police and Fire - West\n",
      "  Feed URL = \"https://www.broadcastify.com/listen/feed/25818\"\n",
      "  Archive URL = \"https://www.broadcastify.com/archives/feed/25818\"\n",
      "  Start Date: 2019-05-11\n",
      "  End Date:   2020-05-11\n",
      "  Username = \"codylocks\" Password = [True]\n",
      "  85 built archive entries between 2020-05-01 and 2020-05-02\n"
     ]
    }
   ],
   "source": [
    "archive.build(start = start_date,\n",
    "              end = end_date)"
   ]
  },
  {
   "cell_type": "markdown",
   "metadata": {},
   "source": [
    "### Download MP3 Audio Files from the BroadcastifyArchive"
   ]
  },
  {
   "cell_type": "code",
   "execution_count": 14,
   "metadata": {
    "ExecuteTime": {
     "end_time": "2020-05-09T16:53:58.435756Z",
     "start_time": "2020-05-09T16:53:45.415115Z"
    },
    "scrolled": false
   },
   "outputs": [
    {
     "data": {
      "application/vnd.jupyter.widget-view+json": {
       "model_id": "9cc504bf05de401995561c396e2ba8e1",
       "version_major": 2,
       "version_minor": 0
      },
      "text/plain": [
       "HBox(children=(IntProgress(value=0, description='Overall progress', layout=Layout(flex='2'), max=84, style=Pro…"
      ]
     },
     "metadata": {},
     "output_type": "display_data"
    },
    {
     "name": "stdout",
     "output_type": "stream",
     "text": [
      "\r",
      "\r",
      "\r",
      "Downloading 05-01-20 00:14 to 05-02-20 23:28\n",
      "\r",
      "\r",
      "\r",
      "Storing at ./Datasets/mp3_download/.\n"
     ]
    },
    {
     "data": {
      "application/vnd.jupyter.widget-view+json": {
       "model_id": "2ffc619da0224d71bd4f208b39ea17b0",
       "version_major": 2,
       "version_minor": 0
      },
      "text/plain": [
       "HBox(children=(IntProgress(value=0, description='Downloading 202005022228-737110-25818.mp3', layout=Layout(fle…"
      ]
     },
     "metadata": {},
     "output_type": "display_data"
    },
    {
     "data": {
      "application/vnd.jupyter.widget-view+json": {
       "model_id": "1ab557f47f4649d294abdc78c4cbdfc4",
       "version_major": 2,
       "version_minor": 0
      },
      "text/plain": [
       "HBox(children=(IntProgress(value=0, description='Downloading 202005022158-111225-25818.mp3', layout=Layout(fle…"
      ]
     },
     "metadata": {},
     "output_type": "display_data"
    },
    {
     "data": {
      "application/vnd.jupyter.widget-view+json": {
       "model_id": "8bb672b953564d3aa916fc2fe6e6b671",
       "version_major": 2,
       "version_minor": 0
      },
      "text/plain": [
       "HBox(children=(IntProgress(value=0, description='Downloading 202005022128-429692-25818.mp3', layout=Layout(fle…"
      ]
     },
     "metadata": {},
     "output_type": "display_data"
    },
    {
     "data": {
      "application/vnd.jupyter.widget-view+json": {
       "model_id": "d783efebcf004d1b91c505b98ddbd118",
       "version_major": 2,
       "version_minor": 0
      },
      "text/plain": [
       "HBox(children=(IntProgress(value=0, description='Downloading 202005022059-751725-25818.mp3', layout=Layout(fle…"
      ]
     },
     "metadata": {},
     "output_type": "display_data"
    },
    {
     "data": {
      "application/vnd.jupyter.widget-view+json": {
       "model_id": "1ac10e9a03e346bfa5210ff5095b5a71",
       "version_major": 2,
       "version_minor": 0
      },
      "text/plain": [
       "HBox(children=(IntProgress(value=0, description='Downloading 202005022029-664648-25818.mp3', layout=Layout(fle…"
      ]
     },
     "metadata": {},
     "output_type": "display_data"
    },
    {
     "data": {
      "application/vnd.jupyter.widget-view+json": {
       "model_id": "ee69417beee0421ea118b5a3463ee3ce",
       "version_major": 2,
       "version_minor": 0
      },
      "text/plain": [
       "HBox(children=(IntProgress(value=0, description='Downloading 202005021959-493323-25818.mp3', layout=Layout(fle…"
      ]
     },
     "metadata": {},
     "output_type": "display_data"
    },
    {
     "data": {
      "application/vnd.jupyter.widget-view+json": {
       "model_id": "ab8cb3f49f574cf680a2dd4868d57bbb",
       "version_major": 2,
       "version_minor": 0
      },
      "text/plain": [
       "HBox(children=(IntProgress(value=0, description='Downloading 202005021929-620816-25818.mp3', layout=Layout(fle…"
      ]
     },
     "metadata": {},
     "output_type": "display_data"
    },
    {
     "data": {
      "application/vnd.jupyter.widget-view+json": {
       "model_id": "7e37d7cc265646ad828a99726f5c2da5",
       "version_major": 2,
       "version_minor": 0
      },
      "text/plain": [
       "HBox(children=(IntProgress(value=0, description='Downloading 202005021800-838990-25818.mp3', layout=Layout(fle…"
      ]
     },
     "metadata": {},
     "output_type": "display_data"
    },
    {
     "data": {
      "application/vnd.jupyter.widget-view+json": {
       "model_id": "6a6e27db970348278e7bd3a3bb61dd3c",
       "version_major": 2,
       "version_minor": 0
      },
      "text/plain": [
       "HBox(children=(IntProgress(value=0, description='Downloading 202005021730-722291-25818.mp3', layout=Layout(fle…"
      ]
     },
     "metadata": {},
     "output_type": "display_data"
    },
    {
     "data": {
      "application/vnd.jupyter.widget-view+json": {
       "model_id": "7ad95f04572a44ce8218247d8a47f730",
       "version_major": 2,
       "version_minor": 0
      },
      "text/plain": [
       "HBox(children=(IntProgress(value=0, description='Downloading 202005021700-732593-25818.mp3', layout=Layout(fle…"
      ]
     },
     "metadata": {},
     "output_type": "display_data"
    },
    {
     "data": {
      "application/vnd.jupyter.widget-view+json": {
       "model_id": "5a6eae36631e4614a62e527a25673c2e",
       "version_major": 2,
       "version_minor": 0
      },
      "text/plain": [
       "HBox(children=(IntProgress(value=0, description='Downloading 202005021630-470828-25818.mp3', layout=Layout(fle…"
      ]
     },
     "metadata": {},
     "output_type": "display_data"
    },
    {
     "data": {
      "application/vnd.jupyter.widget-view+json": {
       "model_id": "9a3babe3aa5b4ae099a67dbcb787a585",
       "version_major": 2,
       "version_minor": 0
      },
      "text/plain": [
       "HBox(children=(IntProgress(value=0, description='Downloading 202005021600-136307-25818.mp3', layout=Layout(fle…"
      ]
     },
     "metadata": {},
     "output_type": "display_data"
    },
    {
     "data": {
      "application/vnd.jupyter.widget-view+json": {
       "model_id": "a2c79b868c4548498d85d68b29f04c29",
       "version_major": 2,
       "version_minor": 0
      },
      "text/plain": [
       "HBox(children=(IntProgress(value=0, description='Downloading 202005021530-386761-25818.mp3', layout=Layout(fle…"
      ]
     },
     "metadata": {},
     "output_type": "display_data"
    },
    {
     "data": {
      "application/vnd.jupyter.widget-view+json": {
       "model_id": "0be3e8c4089e4586a9ba29e9ae97f475",
       "version_major": 2,
       "version_minor": 0
      },
      "text/plain": [
       "HBox(children=(IntProgress(value=0, description='Downloading 202005021501-606244-25818.mp3', layout=Layout(fle…"
      ]
     },
     "metadata": {},
     "output_type": "display_data"
    },
    {
     "data": {
      "application/vnd.jupyter.widget-view+json": {
       "model_id": "276f0c3a9db54b11892a696d8c976b82",
       "version_major": 2,
       "version_minor": 0
      },
      "text/plain": [
       "HBox(children=(IntProgress(value=0, description='Downloading 202005021431-377119-25818.mp3', layout=Layout(fle…"
      ]
     },
     "metadata": {},
     "output_type": "display_data"
    },
    {
     "data": {
      "application/vnd.jupyter.widget-view+json": {
       "model_id": "c399c8768c66472f86a394e628a1b59c",
       "version_major": 2,
       "version_minor": 0
      },
      "text/plain": [
       "HBox(children=(IntProgress(value=0, description='Downloading 202005021401-763448-25818.mp3', layout=Layout(fle…"
      ]
     },
     "metadata": {},
     "output_type": "display_data"
    },
    {
     "data": {
      "application/vnd.jupyter.widget-view+json": {
       "model_id": "6fc40de37f52430193c227104870ad80",
       "version_major": 2,
       "version_minor": 0
      },
      "text/plain": [
       "HBox(children=(IntProgress(value=0, description='Downloading 202005021331-465125-25818.mp3', layout=Layout(fle…"
      ]
     },
     "metadata": {},
     "output_type": "display_data"
    },
    {
     "data": {
      "application/vnd.jupyter.widget-view+json": {
       "model_id": "5c0b7b3355414cc29d9e1c04bf58986a",
       "version_major": 2,
       "version_minor": 0
      },
      "text/plain": [
       "HBox(children=(IntProgress(value=0, description='Downloading 202005021301-615060-25818.mp3', layout=Layout(fle…"
      ]
     },
     "metadata": {},
     "output_type": "display_data"
    },
    {
     "data": {
      "application/vnd.jupyter.widget-view+json": {
       "model_id": "316a1e5feae642a0b832fe0939ed5258",
       "version_major": 2,
       "version_minor": 0
      },
      "text/plain": [
       "HBox(children=(IntProgress(value=0, description='Downloading 202005021231-573127-25818.mp3', layout=Layout(fle…"
      ]
     },
     "metadata": {},
     "output_type": "display_data"
    },
    {
     "data": {
      "application/vnd.jupyter.widget-view+json": {
       "model_id": "117cc71a3cec400da3e4d1cb4246f7a2",
       "version_major": 2,
       "version_minor": 0
      },
      "text/plain": [
       "HBox(children=(IntProgress(value=0, description='Downloading 202005021202-594825-25818.mp3', layout=Layout(fle…"
      ]
     },
     "metadata": {},
     "output_type": "display_data"
    },
    {
     "data": {
      "application/vnd.jupyter.widget-view+json": {
       "model_id": "4ced6b83d13d4db18d050b7453959261",
       "version_major": 2,
       "version_minor": 0
      },
      "text/plain": [
       "HBox(children=(IntProgress(value=0, description='Downloading 202005021102-832225-25818.mp3', layout=Layout(fle…"
      ]
     },
     "metadata": {},
     "output_type": "display_data"
    },
    {
     "data": {
      "application/vnd.jupyter.widget-view+json": {
       "model_id": "1dd13398e1bf4beab0d75feb994e9303",
       "version_major": 2,
       "version_minor": 0
      },
      "text/plain": [
       "HBox(children=(IntProgress(value=0, description='Downloading 202005021032-648905-25818.mp3', layout=Layout(fle…"
      ]
     },
     "metadata": {},
     "output_type": "display_data"
    },
    {
     "data": {
      "application/vnd.jupyter.widget-view+json": {
       "model_id": "2d08d6a45c124288882817aefecabfc1",
       "version_major": 2,
       "version_minor": 0
      },
      "text/plain": [
       "HBox(children=(IntProgress(value=0, description='Downloading 202005021002-878694-25818.mp3', layout=Layout(fle…"
      ]
     },
     "metadata": {},
     "output_type": "display_data"
    },
    {
     "data": {
      "application/vnd.jupyter.widget-view+json": {
       "model_id": "f734ca8e9a044f56a37c40c251613f3a",
       "version_major": 2,
       "version_minor": 0
      },
      "text/plain": [
       "HBox(children=(IntProgress(value=0, description='Downloading 202005020903-779252-25818.mp3', layout=Layout(fle…"
      ]
     },
     "metadata": {},
     "output_type": "display_data"
    },
    {
     "data": {
      "application/vnd.jupyter.widget-view+json": {
       "model_id": "c1a804b2e65b4e44a8fc0f95daa81d12",
       "version_major": 2,
       "version_minor": 0
      },
      "text/plain": [
       "HBox(children=(IntProgress(value=0, description='Downloading 202005020833-271109-25818.mp3', layout=Layout(fle…"
      ]
     },
     "metadata": {},
     "output_type": "display_data"
    },
    {
     "data": {
      "application/vnd.jupyter.widget-view+json": {
       "model_id": "f032da71bd3d42639cd4b65986d1079f",
       "version_major": 2,
       "version_minor": 0
      },
      "text/plain": [
       "HBox(children=(IntProgress(value=0, description='Downloading 202005020733-759815-25818.mp3', layout=Layout(fle…"
      ]
     },
     "metadata": {},
     "output_type": "display_data"
    },
    {
     "data": {
      "application/vnd.jupyter.widget-view+json": {
       "model_id": "4d14fc29b4c441f294d654c9ce5c9528",
       "version_major": 2,
       "version_minor": 0
      },
      "text/plain": [
       "HBox(children=(IntProgress(value=0, description='Downloading 202005020703-187978-25818.mp3', layout=Layout(fle…"
      ]
     },
     "metadata": {},
     "output_type": "display_data"
    },
    {
     "data": {
      "application/vnd.jupyter.widget-view+json": {
       "model_id": "bac2c73830224610b73ac985f75228a2",
       "version_major": 2,
       "version_minor": 0
      },
      "text/plain": [
       "HBox(children=(IntProgress(value=0, description='Downloading 202005020534-542284-25818.mp3', layout=Layout(fle…"
      ]
     },
     "metadata": {},
     "output_type": "display_data"
    },
    {
     "data": {
      "application/vnd.jupyter.widget-view+json": {
       "model_id": "56c24ed9fd474b5dbc14cb98d3cb0442",
       "version_major": 2,
       "version_minor": 0
      },
      "text/plain": [
       "HBox(children=(IntProgress(value=0, description='Downloading 202005020434-130780-25818.mp3', layout=Layout(fle…"
      ]
     },
     "metadata": {},
     "output_type": "display_data"
    },
    {
     "data": {
      "application/vnd.jupyter.widget-view+json": {
       "model_id": "bedba8f66e904e099aecd8a43fc0d9c3",
       "version_major": 2,
       "version_minor": 0
      },
      "text/plain": [
       "HBox(children=(IntProgress(value=0, description='Downloading 202005020404-695745-25818.mp3', layout=Layout(fle…"
      ]
     },
     "metadata": {},
     "output_type": "display_data"
    },
    {
     "data": {
      "application/vnd.jupyter.widget-view+json": {
       "model_id": "bcba45ac6c7346c4be1a2c3701f6ce91",
       "version_major": 2,
       "version_minor": 0
      },
      "text/plain": [
       "HBox(children=(IntProgress(value=0, description='Downloading 202005020334-414366-25818.mp3', layout=Layout(fle…"
      ]
     },
     "metadata": {},
     "output_type": "display_data"
    },
    {
     "data": {
      "application/vnd.jupyter.widget-view+json": {
       "model_id": "e8f144a255e24df78b5ea141fc81d603",
       "version_major": 2,
       "version_minor": 0
      },
      "text/plain": [
       "HBox(children=(IntProgress(value=0, description='Downloading 202005020304-943051-25818.mp3', layout=Layout(fle…"
      ]
     },
     "metadata": {},
     "output_type": "display_data"
    },
    {
     "data": {
      "application/vnd.jupyter.widget-view+json": {
       "model_id": "f5bfe620af904329b539d0b1ae4f9686",
       "version_major": 2,
       "version_minor": 0
      },
      "text/plain": [
       "HBox(children=(IntProgress(value=0, description='Downloading 202005020235-246356-25818.mp3', layout=Layout(fle…"
      ]
     },
     "metadata": {},
     "output_type": "display_data"
    },
    {
     "data": {
      "application/vnd.jupyter.widget-view+json": {
       "model_id": "dfd20cc401bd453eb1b632ff0fe5b5a4",
       "version_major": 2,
       "version_minor": 0
      },
      "text/plain": [
       "HBox(children=(IntProgress(value=0, description='Downloading 202005020205-551192-25818.mp3', layout=Layout(fle…"
      ]
     },
     "metadata": {},
     "output_type": "display_data"
    },
    {
     "data": {
      "application/vnd.jupyter.widget-view+json": {
       "model_id": "022ec4f6813e412e9ac589d7cc5750eb",
       "version_major": 2,
       "version_minor": 0
      },
      "text/plain": [
       "HBox(children=(IntProgress(value=0, description='Downloading 202005020135-278620-25818.mp3', layout=Layout(fle…"
      ]
     },
     "metadata": {},
     "output_type": "display_data"
    },
    {
     "data": {
      "application/vnd.jupyter.widget-view+json": {
       "model_id": "f233f155d17c4dfe92de8a65e72f0206",
       "version_major": 2,
       "version_minor": 0
      },
      "text/plain": [
       "HBox(children=(IntProgress(value=0, description='Downloading 202005020105-455077-25818.mp3', layout=Layout(fle…"
      ]
     },
     "metadata": {},
     "output_type": "display_data"
    },
    {
     "data": {
      "application/vnd.jupyter.widget-view+json": {
       "model_id": "8d937a1179a14ba98789f2cf2b59ea43",
       "version_major": 2,
       "version_minor": 0
      },
      "text/plain": [
       "HBox(children=(IntProgress(value=0, description='Downloading 202005020035-258413-25818.mp3', layout=Layout(fle…"
      ]
     },
     "metadata": {},
     "output_type": "display_data"
    },
    {
     "data": {
      "application/vnd.jupyter.widget-view+json": {
       "model_id": "e20e6d71e2e9437ba64571b943534e1b",
       "version_major": 2,
       "version_minor": 0
      },
      "text/plain": [
       "HBox(children=(IntProgress(value=0, description='Downloading 202005012306-788067-25818.mp3', layout=Layout(fle…"
      ]
     },
     "metadata": {},
     "output_type": "display_data"
    },
    {
     "data": {
      "application/vnd.jupyter.widget-view+json": {
       "model_id": "64c6aea0bc9c4f13ab066f4a0a88a6df",
       "version_major": 2,
       "version_minor": 0
      },
      "text/plain": [
       "HBox(children=(IntProgress(value=0, description='Downloading 202005012236-194711-25818.mp3', layout=Layout(fle…"
      ]
     },
     "metadata": {},
     "output_type": "display_data"
    },
    {
     "data": {
      "application/vnd.jupyter.widget-view+json": {
       "model_id": "6fd85dc4cacc4bbeb9056f92e5d5a9f6",
       "version_major": 2,
       "version_minor": 0
      },
      "text/plain": [
       "HBox(children=(IntProgress(value=0, description='Downloading 202005012206-500849-25818.mp3', layout=Layout(fle…"
      ]
     },
     "metadata": {},
     "output_type": "display_data"
    },
    {
     "data": {
      "application/vnd.jupyter.widget-view+json": {
       "model_id": "ab05ffa31cb9436eb775779f2dd16a47",
       "version_major": 2,
       "version_minor": 0
      },
      "text/plain": [
       "HBox(children=(IntProgress(value=0, description='Downloading 202005012106-728978-25818.mp3', layout=Layout(fle…"
      ]
     },
     "metadata": {},
     "output_type": "display_data"
    },
    {
     "data": {
      "application/vnd.jupyter.widget-view+json": {
       "model_id": "934e0bf1b13e42bfbfaa7f7000d9002d",
       "version_major": 2,
       "version_minor": 0
      },
      "text/plain": [
       "HBox(children=(IntProgress(value=0, description='Downloading 202005012037-848071-25818.mp3', layout=Layout(fle…"
      ]
     },
     "metadata": {},
     "output_type": "display_data"
    },
    {
     "data": {
      "application/vnd.jupyter.widget-view+json": {
       "model_id": "a7497960cbe5412b87a1ab217c3c5a0b",
       "version_major": 2,
       "version_minor": 0
      },
      "text/plain": [
       "HBox(children=(IntProgress(value=0, description='Downloading 202005011937-720877-25818.mp3', layout=Layout(fle…"
      ]
     },
     "metadata": {},
     "output_type": "display_data"
    },
    {
     "data": {
      "application/vnd.jupyter.widget-view+json": {
       "model_id": "33b85f27ce0b45e19508cb7cbae05e93",
       "version_major": 2,
       "version_minor": 0
      },
      "text/plain": [
       "HBox(children=(IntProgress(value=0, description='Downloading 202005011907-364864-25818.mp3', layout=Layout(fle…"
      ]
     },
     "metadata": {},
     "output_type": "display_data"
    },
    {
     "data": {
      "application/vnd.jupyter.widget-view+json": {
       "model_id": "3ebba713e8904c31b231d73c01a0dc51",
       "version_major": 2,
       "version_minor": 0
      },
      "text/plain": [
       "HBox(children=(IntProgress(value=0, description='Downloading 202005011837-170203-25818.mp3', layout=Layout(fle…"
      ]
     },
     "metadata": {},
     "output_type": "display_data"
    },
    {
     "data": {
      "application/vnd.jupyter.widget-view+json": {
       "model_id": "406d90527e58497fa8b0593c9719bba4",
       "version_major": 2,
       "version_minor": 0
      },
      "text/plain": [
       "HBox(children=(IntProgress(value=0, description='Downloading 202005011807-755712-25818.mp3', layout=Layout(fle…"
      ]
     },
     "metadata": {},
     "output_type": "display_data"
    },
    {
     "data": {
      "application/vnd.jupyter.widget-view+json": {
       "model_id": "87ad91b4100d4309b0d7894a67cdc1dc",
       "version_major": 2,
       "version_minor": 0
      },
      "text/plain": [
       "HBox(children=(IntProgress(value=0, description='Downloading 202005011738-952790-25818.mp3', layout=Layout(fle…"
      ]
     },
     "metadata": {},
     "output_type": "display_data"
    },
    {
     "data": {
      "application/vnd.jupyter.widget-view+json": {
       "model_id": "f41f632a034b4a4dbfd7c9b277ae426e",
       "version_major": 2,
       "version_minor": 0
      },
      "text/plain": [
       "HBox(children=(IntProgress(value=0, description='Downloading 202005011708-514714-25818.mp3', layout=Layout(fle…"
      ]
     },
     "metadata": {},
     "output_type": "display_data"
    },
    {
     "data": {
      "application/vnd.jupyter.widget-view+json": {
       "model_id": "a9a13bb16e3c42509bd4242236818bd6",
       "version_major": 2,
       "version_minor": 0
      },
      "text/plain": [
       "HBox(children=(IntProgress(value=0, description='Downloading 202005011638-50711-25818.mp3', layout=Layout(flex…"
      ]
     },
     "metadata": {},
     "output_type": "display_data"
    },
    {
     "data": {
      "application/vnd.jupyter.widget-view+json": {
       "model_id": "b60f237db76e46978dd3c02c8af62a8b",
       "version_major": 2,
       "version_minor": 0
      },
      "text/plain": [
       "HBox(children=(IntProgress(value=0, description='Downloading 202005011608-998968-25818.mp3', layout=Layout(fle…"
      ]
     },
     "metadata": {},
     "output_type": "display_data"
    },
    {
     "data": {
      "application/vnd.jupyter.widget-view+json": {
       "model_id": "d746b438b4ad4bb9a5b7e778b09b9f17",
       "version_major": 2,
       "version_minor": 0
      },
      "text/plain": [
       "HBox(children=(IntProgress(value=0, description='Downloading 202005011538-252462-25818.mp3', layout=Layout(fle…"
      ]
     },
     "metadata": {},
     "output_type": "display_data"
    },
    {
     "data": {
      "application/vnd.jupyter.widget-view+json": {
       "model_id": "bf41c44b890b48a19cbb1eca5d2312be",
       "version_major": 2,
       "version_minor": 0
      },
      "text/plain": [
       "HBox(children=(IntProgress(value=0, description='Downloading 202005011508-799813-25818.mp3', layout=Layout(fle…"
      ]
     },
     "metadata": {},
     "output_type": "display_data"
    },
    {
     "data": {
      "application/vnd.jupyter.widget-view+json": {
       "model_id": "c6b5ae454ebb4188b5562a6a1f34e385",
       "version_major": 2,
       "version_minor": 0
      },
      "text/plain": [
       "HBox(children=(IntProgress(value=0, description='Downloading 202005011439-771855-25818.mp3', layout=Layout(fle…"
      ]
     },
     "metadata": {},
     "output_type": "display_data"
    },
    {
     "data": {
      "application/vnd.jupyter.widget-view+json": {
       "model_id": "2627da42268347658d8281a4d301f8cd",
       "version_major": 2,
       "version_minor": 0
      },
      "text/plain": [
       "HBox(children=(IntProgress(value=0, description='Downloading 202005011409-281238-25818.mp3', layout=Layout(fle…"
      ]
     },
     "metadata": {},
     "output_type": "display_data"
    },
    {
     "data": {
      "application/vnd.jupyter.widget-view+json": {
       "model_id": "95afb5df382b46d0b8b2c2aa924525f2",
       "version_major": 2,
       "version_minor": 0
      },
      "text/plain": [
       "HBox(children=(IntProgress(value=0, description='Downloading 202005011339-738048-25818.mp3', layout=Layout(fle…"
      ]
     },
     "metadata": {},
     "output_type": "display_data"
    },
    {
     "data": {
      "application/vnd.jupyter.widget-view+json": {
       "model_id": "01211157e10e4fcb8e499b691eb48eb9",
       "version_major": 2,
       "version_minor": 0
      },
      "text/plain": [
       "HBox(children=(IntProgress(value=0, description='Downloading 202005011309-541421-25818.mp3', layout=Layout(fle…"
      ]
     },
     "metadata": {},
     "output_type": "display_data"
    },
    {
     "data": {
      "application/vnd.jupyter.widget-view+json": {
       "model_id": "c8810dd6a18d4a4a88a8f1e57b97f4e2",
       "version_major": 2,
       "version_minor": 0
      },
      "text/plain": [
       "HBox(children=(IntProgress(value=0, description='Downloading 202005011239-30941-25818.mp3', layout=Layout(flex…"
      ]
     },
     "metadata": {},
     "output_type": "display_data"
    },
    {
     "data": {
      "application/vnd.jupyter.widget-view+json": {
       "model_id": "688b4df4ef24423c857ebbbcb28cb58e",
       "version_major": 2,
       "version_minor": 0
      },
      "text/plain": [
       "HBox(children=(IntProgress(value=0, description='Downloading 202005011209-287722-25818.mp3', layout=Layout(fle…"
      ]
     },
     "metadata": {},
     "output_type": "display_data"
    },
    {
     "data": {
      "application/vnd.jupyter.widget-view+json": {
       "model_id": "3f1456d5e3e44a68a75ddfa61c7599db",
       "version_major": 2,
       "version_minor": 0
      },
      "text/plain": [
       "HBox(children=(IntProgress(value=0, description='Downloading 202005011140-705103-25818.mp3', layout=Layout(fle…"
      ]
     },
     "metadata": {},
     "output_type": "display_data"
    },
    {
     "data": {
      "application/vnd.jupyter.widget-view+json": {
       "model_id": "6f2f537e926241aab35ede468de1a66f",
       "version_major": 2,
       "version_minor": 0
      },
      "text/plain": [
       "HBox(children=(IntProgress(value=0, description='Downloading 202005011110-123863-25818.mp3', layout=Layout(fle…"
      ]
     },
     "metadata": {},
     "output_type": "display_data"
    },
    {
     "data": {
      "application/vnd.jupyter.widget-view+json": {
       "model_id": "3a614e97c98c409e8cdd7a27b44911dd",
       "version_major": 2,
       "version_minor": 0
      },
      "text/plain": [
       "HBox(children=(IntProgress(value=0, description='Downloading 202005011040-879158-25818.mp3', layout=Layout(fle…"
      ]
     },
     "metadata": {},
     "output_type": "display_data"
    },
    {
     "data": {
      "application/vnd.jupyter.widget-view+json": {
       "model_id": "c181d24bc51a4cb99fd97fa47100c8a9",
       "version_major": 2,
       "version_minor": 0
      },
      "text/plain": [
       "HBox(children=(IntProgress(value=0, description='Downloading 202005011010-340144-25818.mp3', layout=Layout(fle…"
      ]
     },
     "metadata": {},
     "output_type": "display_data"
    },
    {
     "data": {
      "application/vnd.jupyter.widget-view+json": {
       "model_id": "7f9be5d675dd4d6b96444a619d86c80e",
       "version_major": 2,
       "version_minor": 0
      },
      "text/plain": [
       "HBox(children=(IntProgress(value=0, description='Downloading 202005010940-543609-25818.mp3', layout=Layout(fle…"
      ]
     },
     "metadata": {},
     "output_type": "display_data"
    },
    {
     "data": {
      "application/vnd.jupyter.widget-view+json": {
       "model_id": "89cced78bd854106b0c196b42711ee5a",
       "version_major": 2,
       "version_minor": 0
      },
      "text/plain": [
       "HBox(children=(IntProgress(value=0, description='Downloading 202005010910-676705-25818.mp3', layout=Layout(fle…"
      ]
     },
     "metadata": {},
     "output_type": "display_data"
    },
    {
     "data": {
      "application/vnd.jupyter.widget-view+json": {
       "model_id": "d9d6b5c3e4f64473b2d68111edc18335",
       "version_major": 2,
       "version_minor": 0
      },
      "text/plain": [
       "HBox(children=(IntProgress(value=0, description='Downloading 202005010841-995811-25818.mp3', layout=Layout(fle…"
      ]
     },
     "metadata": {},
     "output_type": "display_data"
    },
    {
     "data": {
      "application/vnd.jupyter.widget-view+json": {
       "model_id": "8b503f28ec4f4666a77b9c4a6da90987",
       "version_major": 2,
       "version_minor": 0
      },
      "text/plain": [
       "HBox(children=(IntProgress(value=0, description='Downloading 202005010811-774839-25818.mp3', layout=Layout(fle…"
      ]
     },
     "metadata": {},
     "output_type": "display_data"
    },
    {
     "data": {
      "application/vnd.jupyter.widget-view+json": {
       "model_id": "4cba7f4dc9194137a3b8396c91d4be06",
       "version_major": 2,
       "version_minor": 0
      },
      "text/plain": [
       "HBox(children=(IntProgress(value=0, description='Downloading 202005010741-736297-25818.mp3', layout=Layout(fle…"
      ]
     },
     "metadata": {},
     "output_type": "display_data"
    },
    {
     "data": {
      "application/vnd.jupyter.widget-view+json": {
       "model_id": "8b01bee63ebf49c5981df46082f0a8cf",
       "version_major": 2,
       "version_minor": 0
      },
      "text/plain": [
       "HBox(children=(IntProgress(value=0, description='Downloading 202005010711-668257-25818.mp3', layout=Layout(fle…"
      ]
     },
     "metadata": {},
     "output_type": "display_data"
    },
    {
     "data": {
      "application/vnd.jupyter.widget-view+json": {
       "model_id": "0fa2dec53ce9483a8b979f538abdae8f",
       "version_major": 2,
       "version_minor": 0
      },
      "text/plain": [
       "HBox(children=(IntProgress(value=0, description='Downloading 202005010641-944837-25818.mp3', layout=Layout(fle…"
      ]
     },
     "metadata": {},
     "output_type": "display_data"
    },
    {
     "data": {
      "application/vnd.jupyter.widget-view+json": {
       "model_id": "0504cfd58bc84255b2c540c8207c0484",
       "version_major": 2,
       "version_minor": 0
      },
      "text/plain": [
       "HBox(children=(IntProgress(value=0, description='Downloading 202005010611-664478-25818.mp3', layout=Layout(fle…"
      ]
     },
     "metadata": {},
     "output_type": "display_data"
    },
    {
     "data": {
      "application/vnd.jupyter.widget-view+json": {
       "model_id": "1934e2b779f044ddb9b4935f1ed2b5b1",
       "version_major": 2,
       "version_minor": 0
      },
      "text/plain": [
       "HBox(children=(IntProgress(value=0, description='Downloading 202005010542-280023-25818.mp3', layout=Layout(fle…"
      ]
     },
     "metadata": {},
     "output_type": "display_data"
    },
    {
     "data": {
      "application/vnd.jupyter.widget-view+json": {
       "model_id": "080176841d9f43e398757066199d112a",
       "version_major": 2,
       "version_minor": 0
      },
      "text/plain": [
       "HBox(children=(IntProgress(value=0, description='Downloading 202005010512-889269-25818.mp3', layout=Layout(fle…"
      ]
     },
     "metadata": {},
     "output_type": "display_data"
    },
    {
     "data": {
      "application/vnd.jupyter.widget-view+json": {
       "model_id": "3e38846994ff4d7798241b2b62d1db2f",
       "version_major": 2,
       "version_minor": 0
      },
      "text/plain": [
       "HBox(children=(IntProgress(value=0, description='Downloading 202005010442-173659-25818.mp3', layout=Layout(fle…"
      ]
     },
     "metadata": {},
     "output_type": "display_data"
    },
    {
     "data": {
      "application/vnd.jupyter.widget-view+json": {
       "model_id": "50dbf53821944fa7b084148b671d5d1b",
       "version_major": 2,
       "version_minor": 0
      },
      "text/plain": [
       "HBox(children=(IntProgress(value=0, description='Downloading 202005010412-533917-25818.mp3', layout=Layout(fle…"
      ]
     },
     "metadata": {},
     "output_type": "display_data"
    },
    {
     "data": {
      "application/vnd.jupyter.widget-view+json": {
       "model_id": "fddccc2119124802ab68d816ff97bdd5",
       "version_major": 2,
       "version_minor": 0
      },
      "text/plain": [
       "HBox(children=(IntProgress(value=0, description='Downloading 202005010342-558464-25818.mp3', layout=Layout(fle…"
      ]
     },
     "metadata": {},
     "output_type": "display_data"
    },
    {
     "data": {
      "application/vnd.jupyter.widget-view+json": {
       "model_id": "dc71bf4a058d41d8923e37ace3d3483e",
       "version_major": 2,
       "version_minor": 0
      },
      "text/plain": [
       "HBox(children=(IntProgress(value=0, description='Downloading 202005010312-535601-25818.mp3', layout=Layout(fle…"
      ]
     },
     "metadata": {},
     "output_type": "display_data"
    },
    {
     "data": {
      "application/vnd.jupyter.widget-view+json": {
       "model_id": "5ce646d98ec3498eb59c3a44c649dc35",
       "version_major": 2,
       "version_minor": 0
      },
      "text/plain": [
       "HBox(children=(IntProgress(value=0, description='Downloading 202005010243-277800-25818.mp3', layout=Layout(fle…"
      ]
     },
     "metadata": {},
     "output_type": "display_data"
    },
    {
     "data": {
      "application/vnd.jupyter.widget-view+json": {
       "model_id": "54b0482f4896400291ad1202a522eb97",
       "version_major": 2,
       "version_minor": 0
      },
      "text/plain": [
       "HBox(children=(IntProgress(value=0, description='Downloading 202005010213-35517-25818.mp3', layout=Layout(flex…"
      ]
     },
     "metadata": {},
     "output_type": "display_data"
    },
    {
     "data": {
      "application/vnd.jupyter.widget-view+json": {
       "model_id": "e1a85c951bac44b59915f49a4370ff3a",
       "version_major": 2,
       "version_minor": 0
      },
      "text/plain": [
       "HBox(children=(IntProgress(value=0, description='Downloading 202005010143-197712-25818.mp3', layout=Layout(fle…"
      ]
     },
     "metadata": {},
     "output_type": "display_data"
    },
    {
     "data": {
      "application/vnd.jupyter.widget-view+json": {
       "model_id": "691e2ed841654defa23150f1c5c659d6",
       "version_major": 2,
       "version_minor": 0
      },
      "text/plain": [
       "HBox(children=(IntProgress(value=0, description='Downloading 202005010113-881747-25818.mp3', layout=Layout(fle…"
      ]
     },
     "metadata": {},
     "output_type": "display_data"
    },
    {
     "data": {
      "application/vnd.jupyter.widget-view+json": {
       "model_id": "0b09486575d6470bb5ffbb920cf9486c",
       "version_major": 2,
       "version_minor": 0
      },
      "text/plain": [
       "HBox(children=(IntProgress(value=0, description='Downloading 202005010043-390823-25818.mp3', layout=Layout(fle…"
      ]
     },
     "metadata": {},
     "output_type": "display_data"
    },
    {
     "data": {
      "application/vnd.jupyter.widget-view+json": {
       "model_id": "b067ab8f01a04b4ba5a104f96a68dfb8",
       "version_major": 2,
       "version_minor": 0
      },
      "text/plain": [
       "HBox(children=(IntProgress(value=0, description='Downloading 202005010013-689034-25818.mp3', layout=Layout(fle…"
      ]
     },
     "metadata": {},
     "output_type": "display_data"
    },
    {
     "data": {
      "application/vnd.jupyter.widget-view+json": {
       "model_id": "b64daeca79964bfd943b90ed0066b6c2",
       "version_major": 2,
       "version_minor": 0
      },
      "text/plain": [
       "HBox(children=(IntProgress(value=0, description='Downloading 202004302343-506112-25818.mp3', layout=Layout(fle…"
      ]
     },
     "metadata": {},
     "output_type": "display_data"
    },
    {
     "data": {
      "application/vnd.jupyter.widget-view+json": {
       "model_id": "b078766f9817464b93fd16fc826315a6",
       "version_major": 2,
       "version_minor": 0
      },
      "text/plain": [
       "HBox(children=(IntProgress(value=0, description='Downloading 202004302314-62202-25818.mp3', layout=Layout(flex…"
      ]
     },
     "metadata": {},
     "output_type": "display_data"
    }
   ],
   "source": [
    "archive.download(start = start_time,\n",
    "             end = end_time,\n",
    "             output_path = outputpath)"
   ]
  },
  {
   "cell_type": "markdown",
   "metadata": {
    "ExecuteTime": {
     "end_time": "2020-05-09T16:52:18.017680Z",
     "start_time": "2020-05-09T16:52:18.014723Z"
    }
   },
   "source": [
    "## Confirm Existence of Downloaded Files"
   ]
  },
  {
   "cell_type": "code",
   "execution_count": 15,
   "metadata": {
    "ExecuteTime": {
     "end_time": "2020-05-09T16:54:31.724278Z",
     "start_time": "2020-05-09T16:54:31.718299Z"
    }
   },
   "outputs": [
    {
     "data": {
      "text/plain": [
       "['25818-20200501-0413.mp3',\n",
       " '25818-20200501-2007.mp3',\n",
       " '25818-20200501-1240.mp3',\n",
       " '25818-20200502-0643.mp3',\n",
       " '25818-20200502-1830.mp3',\n",
       " '25818-20200502-1401.mp3',\n",
       " '25818-20200501-0941.mp3',\n",
       " '25818-20200502-1601.mp3',\n",
       " '25818-20200501-1040.mp3',\n",
       " '25818-20200501-2207.mp3',\n",
       " '25818-20200501-0612.mp3',\n",
       " '25818-20200501-0213.mp3',\n",
       " '25818-20200501-1509.mp3',\n",
       " '25818-20200502-0335.mp3',\n",
       " '25818-20200502-1017.mp3',\n",
       " '25818-20200501-1708.mp3',\n",
       " '25818-20200501-0712.mp3',\n",
       " '25818-20200501-1140.mp3',\n",
       " '25818-20200501-0841.mp3',\n",
       " '25818-20200502-1700.mp3',\n",
       " '25818-20200502-0434.mp3',\n",
       " '25818-20200502-1501.mp3',\n",
       " '25818-20200502-1930.mp3',\n",
       " '25818-20200501-0512.mp3',\n",
       " '25818-20200502-0155.mp3',\n",
       " '25818-20200501-0113.mp3',\n",
       " '25818-20200501-1609.mp3',\n",
       " '25818-20200502-0036.mp3',\n",
       " '25818-20200501-1409.mp3',\n",
       " '25818-20200501-1838.mp3',\n",
       " '25818-20200501-0313.mp3',\n",
       " '25818-20200501-1439.mp3',\n",
       " '25818-20200501-1808.mp3',\n",
       " '25818-20200502-1132.mp3',\n",
       " '25818-20200501-0243.mp3',\n",
       " '25818-20200502-2229.mp3',\n",
       " '25818-20200502-0833.mp3',\n",
       " '25818-20200502-0944.mp3',\n",
       " '25818-20200502-0213.mp3',\n",
       " '25818-20200501-1638.mp3',\n",
       " '25818-20200502-0602.mp3',\n",
       " '25818-20200502-1332.mp3',\n",
       " '25818-20200502-2159.mp3',\n",
       " '25818-20200501-1210.mp3',\n",
       " '25818-20200502-1531.mp3',\n",
       " '25818-20200502-1900.mp3',\n",
       " '25818-20200501-0442.mp3',\n",
       " '25818-20200502-0405.mp3',\n",
       " '25818-20200501-0911.mp3',\n",
       " '25818-20200501-0044.mp3',\n",
       " '25818-20200502-2358.mp3',\n",
       " '25818-20200501-0642.mp3',\n",
       " '25818-20200501-2054.mp3',\n",
       " '25818-20200501-1011.mp3',\n",
       " '25818-20200502-1730.mp3',\n",
       " '25818-20200501-2336.mp3',\n",
       " '.ipynb_checkpoints',\n",
       " '25818-20200501-1937.mp3',\n",
       " '25818-20200501-1738.mp3',\n",
       " '25818-20200501-0143.mp3',\n",
       " '25818-20200502-2129.mp3',\n",
       " '25818-20200502-1152.mp3',\n",
       " '25818-20200501-2346.mp3',\n",
       " '25818-20200501-1908.mp3',\n",
       " '25818-20200501-0343.mp3',\n",
       " '25818-20200501-1539.mp3',\n",
       " '25818-20200501-2030.mp3',\n",
       " '25818-20200502-0853.mp3',\n",
       " '25818-20200502-0305.mp3',\n",
       " '25818-20200502-2328.mp3',\n",
       " '25818-20200502-0517.mp3',\n",
       " '25818-20200502-1631.mp3',\n",
       " '25818-20200501-1110.mp3',\n",
       " '25818-20200502-2258.mp3',\n",
       " '25818-20200501-0811.mp3',\n",
       " '25818-20200501-2236.mp3',\n",
       " '25818-20200501-1339.mp3',\n",
       " '25818-20200501-0741.mp3',\n",
       " '25818-20200502-0504.mp3',\n",
       " '25818-20200502-2059.mp3',\n",
       " '25818-20200502-1222.mp3',\n",
       " '25818-20200502-1800.mp3',\n",
       " '25818-20200501-0542.mp3',\n",
       " '25818-20200501-1310.mp3',\n",
       " '25818-20200502-1431.mp3']"
      ]
     },
     "execution_count": 15,
     "metadata": {},
     "output_type": "execute_result"
    }
   ],
   "source": [
    "os.listdir(outputpath)"
   ]
  },
  {
   "cell_type": "markdown",
   "metadata": {},
   "source": [
    "# As Functions:"
   ]
  }
 ],
 "metadata": {
  "kernelspec": {
   "display_name": "Python 3",
   "language": "python",
   "name": "python3"
  },
  "language_info": {
   "codemirror_mode": {
    "name": "ipython",
    "version": 3
   },
   "file_extension": ".py",
   "mimetype": "text/x-python",
   "name": "python",
   "nbconvert_exporter": "python",
   "pygments_lexer": "ipython3",
   "version": "3.7.6"
  },
  "toc": {
   "base_numbering": 1,
   "nav_menu": {},
   "number_sections": true,
   "sideBar": true,
   "skip_h1_title": false,
   "title_cell": "Table of Contents",
   "title_sidebar": "Contents",
   "toc_cell": false,
   "toc_position": {},
   "toc_section_display": true,
   "toc_window_display": false
  },
  "varInspector": {
   "cols": {
    "lenName": 16,
    "lenType": 16,
    "lenVar": 40
   },
   "kernels_config": {
    "python": {
     "delete_cmd_postfix": "",
     "delete_cmd_prefix": "del ",
     "library": "var_list.py",
     "varRefreshCmd": "print(var_dic_list())"
    },
    "r": {
     "delete_cmd_postfix": ") ",
     "delete_cmd_prefix": "rm(",
     "library": "var_list.r",
     "varRefreshCmd": "cat(var_dic_list()) "
    }
   },
   "types_to_exclude": [
    "module",
    "function",
    "builtin_function_or_method",
    "instance",
    "_Feature"
   ],
   "window_display": false
  }
 },
 "nbformat": 4,
 "nbformat_minor": 4
}
