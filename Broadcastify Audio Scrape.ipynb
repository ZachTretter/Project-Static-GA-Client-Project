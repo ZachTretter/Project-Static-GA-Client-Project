{
 "cells": [
  {
   "cell_type": "markdown",
   "metadata": {},
   "source": [
    "## Scrapping Police Broadcast Audio from Broadcastify"
   ]
  },
  {
   "cell_type": "markdown",
   "metadata": {},
   "source": [
    "#### The Broadcastify Archive Tool Kit for Python\n",
    "https://pypi.org/project/broadcastify-archtk/"
   ]
  },
  {
   "cell_type": "markdown",
   "metadata": {},
   "source": [
    "### Import the Boardcastify API and The Selinium Webdriver"
   ]
  },
  {
   "cell_type": "code",
   "execution_count": 1,
   "metadata": {},
   "outputs": [],
   "source": [
    "# !pip install broadcastify-archtk\n",
    "from broadcastify_archtk import BroadcastifyArchive\n",
    "import datetime as dt"
   ]
  },
  {
   "cell_type": "code",
   "execution_count": 2,
   "metadata": {},
   "outputs": [],
   "source": [
    "#!pip install webdriver-manager\n",
    "from selenium import webdriver\n",
    "from webdriver_manager.chrome import ChromeDriverManager"
   ]
  },
  {
   "cell_type": "markdown",
   "metadata": {},
   "source": [
    "### Create a Broadcastify Archive"
   ]
  },
  {
   "cell_type": "code",
   "execution_count": 3,
   "metadata": {},
   "outputs": [
    {
     "name": "stdout",
     "output_type": "stream",
     "text": [
      "Initializing calendar navigation for Cambridge Police, Fire and PW...\n",
      "Initialization complete.\n",
      "\n",
      "BroadcastifyArchive\n",
      " (Feed ID = 13467\n",
      "  Feed Name = Cambridge Police, Fire and PW\n",
      "  Feed URL = \"https://www.broadcastify.com/listen/feed/13467\"\n",
      "  Archive URL = \"https://www.broadcastify.com/archives/feed/13467\"\n",
      "  Start Date: 2019-05-11\n",
      "  End Date:   2020-05-11\n",
      "  Username = \"codylocks\" Password = [True]\n",
      "  0 built archive entries \n"
     ]
    }
   ],
   "source": [
    "archive = BroadcastifyArchive(feed_id= '13467',\n",
    "                    username = 'codylocks', password = 'UE8v*.NbJ9xbs6k')"
   ]
  },
  {
   "cell_type": "markdown",
   "metadata": {},
   "source": [
    "### Build A Broadcastify Archive\n",
    "\n",
    "The archive starts 7 days before today and ends 3 days from today"
   ]
  },
  {
   "cell_type": "code",
   "execution_count": 4,
   "metadata": {},
   "outputs": [
    {
     "name": "stdout",
     "output_type": "stream",
     "text": [
      "Launching webdriver...\n"
     ]
    },
    {
     "data": {
      "application/vnd.jupyter.widget-view+json": {
       "model_id": "eaed871ee7f847c5b3e2c08137164ca9",
       "version_major": 2,
       "version_minor": 0
      },
      "text/plain": [
       "HBox(children=(IntProgress(value=0, description='Building dates', layout=Layout(flex='2'), max=5, style=Progre…"
      ]
     },
     "metadata": {},
     "output_type": "display_data"
    },
    {
     "name": "stdout",
     "output_type": "stream",
     "text": [
      "\n",
      "BroadcastifyArchive\n",
      " (Feed ID = 13467\n",
      "  Feed Name = Cambridge Police, Fire and PW\n",
      "  Feed URL = \"https://www.broadcastify.com/listen/feed/13467\"\n",
      "  Archive URL = \"https://www.broadcastify.com/archives/feed/13467\"\n",
      "  Start Date: 2019-05-11\n",
      "  End Date:   2020-05-11\n",
      "  Username = \"codylocks\" Password = [True]\n",
      "  242 built archive entries between 2020-05-04 and 2020-05-08\n"
     ]
    }
   ],
   "source": [
    "start_date = (dt.datetime.now() - dt.timedelta(days=7)).date()\n",
    "end_date = (dt.datetime.now() - dt.timedelta(days=3)).date()\n",
    "\n",
    "archive.build(start=start_date, end=end_date, rebuild = True)"
   ]
  },
  {
   "cell_type": "markdown",
   "metadata": {},
   "source": [
    "### Download The Audio Files"
   ]
  },
  {
   "cell_type": "code",
   "execution_count": 13,
   "metadata": {},
   "outputs": [],
   "source": [
    "# This is where the downloaded files will be saved\n",
    "audio_file_path = '⁨ '"
   ]
  },
  {
   "cell_type": "code",
   "execution_count": 14,
   "metadata": {},
   "outputs": [
    {
     "data": {
      "application/vnd.jupyter.widget-view+json": {
       "model_id": "fc5a5a34223d45f89bf3976f758afa61",
       "version_major": 2,
       "version_minor": 0
      },
      "text/plain": [
       "HBox(children=(IntProgress(value=0, description='Overall progress', layout=Layout(flex='2'), max=8, style=Prog…"
      ]
     },
     "metadata": {},
     "output_type": "display_data"
    },
    {
     "name": "stdout",
     "output_type": "stream",
     "text": [
      "Downloading 05-07-20 22:01 to 05-08-20 01:30\n",
      "Storing at ⁨ .\n"
     ]
    },
    {
     "data": {
      "application/vnd.jupyter.widget-view+json": {
       "model_id": "f3417d8a6d7a40268e7c015d41346c98",
       "version_major": 2,
       "version_minor": 0
      },
      "text/plain": [
       "HBox(children=(IntProgress(value=0, description='Downloading 202005080030-932585-13467.mp3', layout=Layout(fle…"
      ]
     },
     "metadata": {},
     "output_type": "display_data"
    },
    {
     "data": {
      "application/vnd.jupyter.widget-view+json": {
       "model_id": "6268a0138e5046949c9e712e6280a1db",
       "version_major": 2,
       "version_minor": 0
      },
      "text/plain": [
       "HBox(children=(IntProgress(value=0, description='Downloading 202005080000-570963-13467.mp3', layout=Layout(fle…"
      ]
     },
     "metadata": {},
     "output_type": "display_data"
    },
    {
     "data": {
      "application/vnd.jupyter.widget-view+json": {
       "model_id": "3e4ea946a211448a97acf14f5d69d2ce",
       "version_major": 2,
       "version_minor": 0
      },
      "text/plain": [
       "HBox(children=(IntProgress(value=0, description='Downloading 202005072330-499171-13467.mp3', layout=Layout(fle…"
      ]
     },
     "metadata": {},
     "output_type": "display_data"
    },
    {
     "data": {
      "application/vnd.jupyter.widget-view+json": {
       "model_id": "eabb7ad17eda4a42a7cb63474854ff6d",
       "version_major": 2,
       "version_minor": 0
      },
      "text/plain": [
       "HBox(children=(IntProgress(value=0, description='Downloading 202005072300-735121-13467.mp3', layout=Layout(fle…"
      ]
     },
     "metadata": {},
     "output_type": "display_data"
    },
    {
     "data": {
      "application/vnd.jupyter.widget-view+json": {
       "model_id": "035b39b6aaf74d638400c7e7a99006a6",
       "version_major": 2,
       "version_minor": 0
      },
      "text/plain": [
       "HBox(children=(IntProgress(value=0, description='Downloading 202005072231-725847-13467.mp3', layout=Layout(fle…"
      ]
     },
     "metadata": {},
     "output_type": "display_data"
    },
    {
     "data": {
      "application/vnd.jupyter.widget-view+json": {
       "model_id": "157ba317fc004b09bd330580b68512c0",
       "version_major": 2,
       "version_minor": 0
      },
      "text/plain": [
       "HBox(children=(IntProgress(value=0, description='Downloading 202005072201-938187-13467.mp3', layout=Layout(fle…"
      ]
     },
     "metadata": {},
     "output_type": "display_data"
    },
    {
     "data": {
      "application/vnd.jupyter.widget-view+json": {
       "model_id": "5e8de19eb49f46de863a3fb819241e52",
       "version_major": 2,
       "version_minor": 0
      },
      "text/plain": [
       "HBox(children=(IntProgress(value=0, description='Downloading 202005072131-471691-13467.mp3', layout=Layout(fle…"
      ]
     },
     "metadata": {},
     "output_type": "display_data"
    },
    {
     "data": {
      "application/vnd.jupyter.widget-view+json": {
       "model_id": "2c2bf2705d784822ba7e14c942ccd1e8",
       "version_major": 2,
       "version_minor": 0
      },
      "text/plain": [
       "HBox(children=(IntProgress(value=0, description='Downloading 202005072101-59464-13467.mp3', layout=Layout(flex…"
      ]
     },
     "metadata": {},
     "output_type": "display_data"
    }
   ],
   "source": [
    "download_start_time = dt.datetime.combine(end_date - dt.timedelta(days = 1), \n",
    "                                          dt.datetime(1,1,1,22,0).time())\n",
    "download_end_time = dt.datetime.combine(end_date, \n",
    "                                        dt.datetime(1,1,1,2,0).time())\n",
    "\n",
    "archive.download(start = download_start_time, \n",
    "                 end = download_end_time, \n",
    "                 output_path = audio_file_path)\n"
   ]
  },
  {
   "cell_type": "markdown",
   "metadata": {},
   "source": [
    "Above Code Adapted from Broadcastify Demo on Git Hub\n",
    "\n",
    "https://github.com/ljhopkins2/broadcastify-archtk/blob/master/broadcastify_archtk_demo.ipynb"
   ]
  },
  {
   "cell_type": "code",
   "execution_count": null,
   "metadata": {},
   "outputs": [],
   "source": []
  }
 ],
 "metadata": {
  "kernelspec": {
   "display_name": "Python 3",
   "language": "python",
   "name": "python3"
  },
  "language_info": {
   "codemirror_mode": {
    "name": "ipython",
    "version": 3
   },
   "file_extension": ".py",
   "mimetype": "text/x-python",
   "name": "python",
   "nbconvert_exporter": "python",
   "pygments_lexer": "ipython3",
   "version": "3.7.3"
  }
 },
 "nbformat": 4,
 "nbformat_minor": 2
}
