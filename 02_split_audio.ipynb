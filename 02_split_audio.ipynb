{
 "cells": [
  {
   "cell_type": "code",
   "execution_count": 1,
   "metadata": {
    "ExecuteTime": {
     "end_time": "2020-05-11T21:35:29.995646Z",
     "start_time": "2020-05-11T21:35:29.991656Z"
    }
   },
   "outputs": [],
   "source": [
    "import os\n",
    "import time\n",
    "import pydub\n",
    "import seaborn as sns\n",
    "from pydub.silence import split_on_silence\n",
    "from pydub import AudioSegment"
   ]
  },
  {
   "cell_type": "markdown",
   "metadata": {
    "ExecuteTime": {
     "end_time": "2020-05-10T13:46:14.731666Z",
     "start_time": "2020-05-10T13:46:14.725648Z"
    }
   },
   "source": [
    "#### Establish Sound Processing Criteria"
   ]
  },
  {
   "cell_type": "code",
   "execution_count": 2,
   "metadata": {
    "ExecuteTime": {
     "end_time": "2020-05-11T21:35:31.073985Z",
     "start_time": "2020-05-11T21:35:31.070030Z"
    }
   },
   "outputs": [],
   "source": [
    "silence_length_ms = 4_000\n",
    "silence_threshold_delta_dBFS = -5\n",
    "\n",
    "min_chunk_length_ms = 2_000\n",
    "max_chunk_length_ms = 60_000"
   ]
  },
  {
   "cell_type": "markdown",
   "metadata": {},
   "source": [
    "#### Identify File Paths Specific to Your Machine"
   ]
  },
  {
   "cell_type": "code",
   "execution_count": 7,
   "metadata": {
    "ExecuteTime": {
     "end_time": "2020-05-11T21:35:32.109311Z",
     "start_time": "2020-05-11T21:35:32.103323Z"
    }
   },
   "outputs": [
    {
     "data": {
      "text/plain": [
       "['enhanced-25818-20200501-1210.mp3']"
      ]
     },
     "execution_count": 7,
     "metadata": {},
     "output_type": "execute_result"
    }
   ],
   "source": [
    "# File Path to Raw Audio\n",
    "raw_path = \"./Datasets/dolby_tests/enhanced/\"\n",
    "\n",
    "# Verify Appropriate Files Exist in this Path\n",
    "os.listdir(raw_path)"
   ]
  },
  {
   "cell_type": "code",
   "execution_count": 8,
   "metadata": {
    "ExecuteTime": {
     "end_time": "2020-05-11T21:35:41.786594Z",
     "start_time": "2020-05-11T21:35:41.782567Z"
    }
   },
   "outputs": [
    {
     "data": {
      "text/plain": [
       "[]"
      ]
     },
     "execution_count": 8,
     "metadata": {},
     "output_type": "execute_result"
    }
   ],
   "source": [
    "# File Path for Structured Audio\n",
    "output_path = \"./Datasets/dolby_tests/chunks/enhanced/\"\n",
    "\n",
    "# Verify Outpath Path Exists\n",
    "os.listdir(output_path)"
   ]
  },
  {
   "cell_type": "markdown",
   "metadata": {},
   "source": [
    "#### Split Archive Feeds into Chunks and Export Chunks that meet Criteria"
   ]
  },
  {
   "cell_type": "code",
   "execution_count": 9,
   "metadata": {
    "ExecuteTime": {
     "end_time": "2020-05-11T21:45:18.646305Z",
     "start_time": "2020-05-11T21:44:04.560394Z"
    },
    "scrolled": true
   },
   "outputs": [
    {
     "name": "stdout",
     "output_type": "stream",
     "text": [
      "Examine enhanced-25818-20200501-1210.mp3\n",
      "File enhanced-25818-20200501-1210.mp3 required 280.0 seconds to split into 72 candidate chunks of audio\n",
      "this chunk is 14.592 seconds long and our count is 0\n",
      "write this file as sample1-enhanced-25818-20200501-1210.wav\n",
      "this chunk is 14.354 seconds long and our count is 1\n",
      "write this file as sample2-enhanced-25818-20200501-1210.wav\n",
      "this chunk is 18.79 seconds long and our count is 2\n",
      "write this file as sample3-enhanced-25818-20200501-1210.wav\n",
      "this chunk is 2.466 seconds long and our count is 3\n",
      "write this file as sample4-enhanced-25818-20200501-1210.wav\n",
      "this chunk is 2.136 seconds long and our count is 4\n",
      "write this file as sample5-enhanced-25818-20200501-1210.wav\n",
      "this chunk is 20.274 seconds long and our count is 5\n",
      "write this file as sample6-enhanced-25818-20200501-1210.wav\n",
      "this chunk is 4.567 seconds long and our count is 6\n",
      "write this file as sample7-enhanced-25818-20200501-1210.wav\n",
      "this chunk is 5.133 seconds long and our count is 7\n",
      "write this file as sample8-enhanced-25818-20200501-1210.wav\n",
      "this chunk is 4.236 seconds long and our count is 8\n",
      "write this file as sample9-enhanced-25818-20200501-1210.wav\n",
      "this chunk is 17.516 seconds long and our count is 9\n",
      "write this file as sample10-enhanced-25818-20200501-1210.wav\n",
      "this chunk is 2.025 seconds long and our count is 10\n",
      "write this file as sample11-enhanced-25818-20200501-1210.wav\n",
      "this chunk is 9.059 seconds long and our count is 11\n",
      "write this file as sample12-enhanced-25818-20200501-1210.wav\n",
      "this chunk is 4.849 seconds long and our count is 12\n",
      "write this file as sample13-enhanced-25818-20200501-1210.wav\n",
      "this chunk is 5.216 seconds long and our count is 13\n",
      "write this file as sample14-enhanced-25818-20200501-1210.wav\n",
      "this chunk is 5.543 seconds long and our count is 14\n",
      "write this file as sample15-enhanced-25818-20200501-1210.wav\n",
      "this chunk is 3.202 seconds long and our count is 15\n",
      "write this file as sample16-enhanced-25818-20200501-1210.wav\n",
      "this chunk is 6.174 seconds long and our count is 16\n",
      "write this file as sample17-enhanced-25818-20200501-1210.wav\n",
      "this chunk is 6.297 seconds long and our count is 17\n",
      "write this file as sample18-enhanced-25818-20200501-1210.wav\n",
      "this chunk is 11.271 seconds long and our count is 18\n",
      "write this file as sample19-enhanced-25818-20200501-1210.wav\n",
      "this chunk is 2.951 seconds long and our count is 19\n",
      "write this file as sample20-enhanced-25818-20200501-1210.wav\n",
      "this chunk is 21.159 seconds long and our count is 20\n",
      "write this file as sample21-enhanced-25818-20200501-1210.wav\n",
      "this chunk is 13.505 seconds long and our count is 21\n",
      "write this file as sample22-enhanced-25818-20200501-1210.wav\n",
      "this chunk is 9.224 seconds long and our count is 22\n",
      "write this file as sample23-enhanced-25818-20200501-1210.wav\n",
      "this chunk is 5.627 seconds long and our count is 23\n",
      "write this file as sample24-enhanced-25818-20200501-1210.wav\n",
      "this chunk is 2.136 seconds long and our count is 24\n",
      "write this file as sample25-enhanced-25818-20200501-1210.wav\n",
      "this chunk is 11.079 seconds long and our count is 25\n",
      "write this file as sample26-enhanced-25818-20200501-1210.wav\n",
      "this chunk is 17.619 seconds long and our count is 26\n",
      "write this file as sample27-enhanced-25818-20200501-1210.wav\n",
      "this chunk is 5.415 seconds long and our count is 27\n",
      "write this file as sample28-enhanced-25818-20200501-1210.wav\n",
      "this chunk is 8.08 seconds long and our count is 28\n",
      "write this file as sample29-enhanced-25818-20200501-1210.wav\n",
      "this chunk is 10.871 seconds long and our count is 29\n",
      "write this file as sample30-enhanced-25818-20200501-1210.wav\n",
      "this chunk is 2.389 seconds long and our count is 30\n",
      "write this file as sample31-enhanced-25818-20200501-1210.wav\n",
      "this chunk is 20.145 seconds long and our count is 31\n",
      "write this file as sample32-enhanced-25818-20200501-1210.wav\n",
      "this chunk is 14.49 seconds long and our count is 32\n",
      "write this file as sample33-enhanced-25818-20200501-1210.wav\n",
      "this chunk is 8.405 seconds long and our count is 33\n",
      "write this file as sample34-enhanced-25818-20200501-1210.wav\n",
      "this chunk is 14.431 seconds long and our count is 34\n",
      "write this file as sample35-enhanced-25818-20200501-1210.wav\n",
      "this chunk is 8.644 seconds long and our count is 35\n",
      "write this file as sample36-enhanced-25818-20200501-1210.wav\n",
      "this chunk is 13.125 seconds long and our count is 36\n",
      "write this file as sample37-enhanced-25818-20200501-1210.wav\n",
      "this chunk is 3.269 seconds long and our count is 37\n",
      "write this file as sample38-enhanced-25818-20200501-1210.wav\n",
      "this chunk is 12.098 seconds long and our count is 38\n",
      "write this file as sample39-enhanced-25818-20200501-1210.wav\n",
      "this chunk is 14.106 seconds long and our count is 39\n",
      "write this file as sample40-enhanced-25818-20200501-1210.wav\n",
      "this chunk is 8.686 seconds long and our count is 40\n",
      "write this file as sample41-enhanced-25818-20200501-1210.wav\n",
      "this chunk is 13.471 seconds long and our count is 41\n",
      "write this file as sample42-enhanced-25818-20200501-1210.wav\n",
      "this chunk is 11.141 seconds long and our count is 42\n",
      "write this file as sample43-enhanced-25818-20200501-1210.wav\n",
      "this chunk is 10.958 seconds long and our count is 43\n",
      "write this file as sample44-enhanced-25818-20200501-1210.wav\n",
      "this chunk is 9.918 seconds long and our count is 44\n",
      "write this file as sample45-enhanced-25818-20200501-1210.wav\n",
      "this chunk is 7.388 seconds long and our count is 45\n",
      "write this file as sample46-enhanced-25818-20200501-1210.wav\n",
      "this chunk is 16.187 seconds long and our count is 46\n",
      "write this file as sample47-enhanced-25818-20200501-1210.wav\n",
      "this chunk is 9.061 seconds long and our count is 47\n",
      "write this file as sample48-enhanced-25818-20200501-1210.wav\n",
      "this chunk is 15.823 seconds long and our count is 48\n",
      "write this file as sample49-enhanced-25818-20200501-1210.wav\n",
      "this chunk is 3.688 seconds long and our count is 49\n",
      "write this file as sample50-enhanced-25818-20200501-1210.wav\n",
      "this chunk is 26.263 seconds long and our count is 50\n",
      "write this file as sample51-enhanced-25818-20200501-1210.wav\n",
      "\n",
      "\n",
      "Exporting 51 qualifying chunks required 280.38065695762634 seconds\n",
      "Total audio length of 14.140333333333333 minutes\n"
     ]
    }
   ],
   "source": [
    "# Start Timer\n",
    "start_time = time.time()\n",
    "\n",
    "# Counter for file names\n",
    "counter = 0\n",
    "# Calculat total length of audio\n",
    "total_length_to_process = 0\n",
    "\n",
    "for raw_file in os.listdir(raw_path): \n",
    "    if raw_file.endswith('.mp3'):\n",
    "        print(f\"Examine {raw_file}\")\n",
    "\n",
    "        # Pull in File\n",
    "        audio_to_split = AudioSegment.from_mp3(raw_path + raw_file)\n",
    "\n",
    "        # Split based on silence critiera\n",
    "        chunks = split_on_silence(audio_to_split,\n",
    "                                 min_silence_len = silence_length_ms,\n",
    "                                 silence_thresh = audio_to_split.dBFS + silence_threshold_delta_dBFS)\n",
    "\n",
    "        # Calculate Processing Time\n",
    "        processing_time = round(time.time() - start_time,0)\n",
    "\n",
    "        # Return informative statement\n",
    "        print(f'File {raw_file} required {processing_time} seconds to split into {len(chunks)} candidate chunks of audio')\n",
    "\n",
    "        # Export qualifying chunks\n",
    "        for chunk in chunks:\n",
    "            sound_length = len(chunk)\n",
    "            if sound_length >= min_chunk_length_ms and sound_length <= max_chunk_length_ms:\n",
    "                total_length_to_process += len(chunk)\n",
    "                print(f\"this chunk is {len(chunk)/1_000} seconds long and our count is {counter}\")\n",
    "                counter +=1\n",
    "                file_name = \"sample{}-{}.wav\".format(counter,raw_file.split(\".\")[0])\n",
    "                print(f'write this file as {file_name}')\n",
    "                chunk.export(output_path + file_name,\n",
    "                         format = \"wav\")\n",
    "        print('\\n')\n",
    "    \n",
    "print(f'Exporting {counter} qualifying chunks required {time.time()-start_time} seconds') \n",
    "print(f'Total audio length of {total_length_to_process/36_000} minutes')"
   ]
  },
  {
   "cell_type": "markdown",
   "metadata": {},
   "source": [
    "#### Confirm Files Exist"
   ]
  },
  {
   "cell_type": "code",
   "execution_count": null,
   "metadata": {
    "ExecuteTime": {
     "end_time": "2020-05-11T21:45:41.749491Z",
     "start_time": "2020-05-11T21:45:41.744504Z"
    },
    "scrolled": false
   },
   "outputs": [],
   "source": [
    "os.listdir(output_path)"
   ]
  }
 ],
 "metadata": {
  "kernelspec": {
   "display_name": "Python 3",
   "language": "python",
   "name": "python3"
  },
  "language_info": {
   "codemirror_mode": {
    "name": "ipython",
    "version": 3
   },
   "file_extension": ".py",
   "mimetype": "text/x-python",
   "name": "python",
   "nbconvert_exporter": "python",
   "pygments_lexer": "ipython3",
   "version": "3.7.6"
  },
  "toc": {
   "base_numbering": 1,
   "nav_menu": {},
   "number_sections": true,
   "sideBar": true,
   "skip_h1_title": false,
   "title_cell": "Table of Contents",
   "title_sidebar": "Contents",
   "toc_cell": false,
   "toc_position": {},
   "toc_section_display": true,
   "toc_window_display": false
  },
  "varInspector": {
   "cols": {
    "lenName": 16,
    "lenType": 16,
    "lenVar": 40
   },
   "kernels_config": {
    "python": {
     "delete_cmd_postfix": "",
     "delete_cmd_prefix": "del ",
     "library": "var_list.py",
     "varRefreshCmd": "print(var_dic_list())"
    },
    "r": {
     "delete_cmd_postfix": ") ",
     "delete_cmd_prefix": "rm(",
     "library": "var_list.r",
     "varRefreshCmd": "cat(var_dic_list()) "
    }
   },
   "types_to_exclude": [
    "module",
    "function",
    "builtin_function_or_method",
    "instance",
    "_Feature"
   ],
   "window_display": false
  }
 },
 "nbformat": 4,
 "nbformat_minor": 4
}
