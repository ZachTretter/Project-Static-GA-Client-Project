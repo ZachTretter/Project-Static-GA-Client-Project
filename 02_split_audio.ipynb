{
 "cells": [
  {
   "cell_type": "code",
   "execution_count": 1,
   "metadata": {
    "ExecuteTime": {
     "end_time": "2020-05-11T21:35:29.995646Z",
     "start_time": "2020-05-11T21:35:29.991656Z"
    }
   },
   "outputs": [],
   "source": [
    "import os\n",
    "import time\n",
    "import pydub\n",
    "import seaborn as sns\n",
    "from pydub.silence import split_on_silence\n",
    "from pydub import AudioSegment"
   ]
  },
  {
   "cell_type": "markdown",
   "metadata": {
    "ExecuteTime": {
     "end_time": "2020-05-10T13:46:14.731666Z",
     "start_time": "2020-05-10T13:46:14.725648Z"
    }
   },
   "source": [
    "#### Establish Sound Processing Criteria"
   ]
  },
  {
   "cell_type": "code",
   "execution_count": 2,
   "metadata": {
    "ExecuteTime": {
     "end_time": "2020-05-11T21:35:31.073985Z",
     "start_time": "2020-05-11T21:35:31.070030Z"
    }
   },
   "outputs": [],
   "source": [
    "silence_length_ms = 4_000\n",
    "silence_threshold_delta_dBFS = -5\n",
    "\n",
    "min_chunk_length_ms = 2_000\n",
    "max_chunk_length_ms = 60_000"
   ]
  },
  {
   "cell_type": "markdown",
   "metadata": {},
   "source": [
    "#### Identify File Paths Specific to Your Machine"
   ]
  },
  {
   "cell_type": "code",
   "execution_count": 3,
   "metadata": {
    "ExecuteTime": {
     "end_time": "2020-05-11T21:35:32.109311Z",
     "start_time": "2020-05-11T21:35:32.103323Z"
    }
   },
   "outputs": [
    {
     "data": {
      "text/plain": [
       "['25818-20200501-0413.mp3',\n",
       " '25818-20200501-1240.mp3',\n",
       " '25818-20200501-0941.mp3',\n",
       " '25818-20200501-1040.mp3',\n",
       " '25818-20200501-0612.mp3',\n",
       " '25818-20200501-0213.mp3',\n",
       " '25818-20200501-1509.mp3',\n",
       " '25818-20200501-0712.mp3',\n",
       " '25818-20200501-1140.mp3',\n",
       " '25818-20200501-0841.mp3',\n",
       " '25818-20200501-0512.mp3',\n",
       " '25818-20200501-0113.mp3',\n",
       " '25818-20200501-1409.mp3',\n",
       " '25818-20200501-0313.mp3',\n",
       " '25818-20200501-1439.mp3',\n",
       " '25818-20200501-0243.mp3',\n",
       " '25818-20200501-1210.mp3',\n",
       " '25818-20200501-0442.mp3',\n",
       " '25818-20200501-0911.mp3',\n",
       " '25818-20200501-0044.mp3',\n",
       " '25818-20200501-0642.mp3',\n",
       " '25818-20200501-1011.mp3',\n",
       " '25818-20200501-0143.mp3',\n",
       " '25818-20200501-0343.mp3',\n",
       " '25818-20200501-1110.mp3',\n",
       " '25818-20200501-0811.mp3',\n",
       " '25818-20200501-1339.mp3',\n",
       " '25818-20200501-0741.mp3',\n",
       " '25818-20200501-0542.mp3',\n",
       " '25818-20200501-1310.mp3']"
      ]
     },
     "execution_count": 3,
     "metadata": {},
     "output_type": "execute_result"
    }
   ],
   "source": [
    "# File Path to Raw Audio\n",
    "raw_path = \"./Datasets/mp3_download/Alex/\"\n",
    "\n",
    "# Verify Appropriate Files Exist in this Path\n",
    "os.listdir(raw_path)"
   ]
  },
  {
   "cell_type": "code",
   "execution_count": 4,
   "metadata": {
    "ExecuteTime": {
     "end_time": "2020-05-11T21:35:41.786594Z",
     "start_time": "2020-05-11T21:35:41.782567Z"
    }
   },
   "outputs": [
    {
     "data": {
      "text/plain": [
       "['untitled copy.txt']"
      ]
     },
     "execution_count": 4,
     "metadata": {},
     "output_type": "execute_result"
    }
   ],
   "source": [
    "# File Path for Structured Audio\n",
    "output_path = \"./Datasets/sample_audio/Alex/\"\n",
    "\n",
    "# Verify Outpath Path Exists\n",
    "os.listdir(output_path)"
   ]
  },
  {
   "cell_type": "markdown",
   "metadata": {},
   "source": [
    "#### Split Archive Feeds into Chunks and Export Chunks that meet Criteria"
   ]
  },
  {
   "cell_type": "code",
   "execution_count": null,
   "metadata": {
    "ExecuteTime": {
     "end_time": "2020-05-11T21:45:18.646305Z",
     "start_time": "2020-05-11T21:44:04.560394Z"
    }
   },
   "outputs": [
    {
     "name": "stdout",
     "output_type": "stream",
     "text": [
      "Examine 25818-20200501-0413.mp3\n",
      "File 25818-20200501-0413.mp3 required 443.0 seconds to split into 38 candidate chunks of audio\n",
      "this chunk is 2.7 seconds long and our count is 0\n",
      "write this file as sample1-25818-20200501-0413.wav\n",
      "this chunk is 17.118 seconds long and our count is 1\n",
      "write this file as sample2-25818-20200501-0413.wav\n",
      "this chunk is 18.559 seconds long and our count is 2\n",
      "write this file as sample3-25818-20200501-0413.wav\n",
      "this chunk is 4.065 seconds long and our count is 3\n",
      "write this file as sample4-25818-20200501-0413.wav\n",
      "this chunk is 14.434 seconds long and our count is 4\n",
      "write this file as sample5-25818-20200501-0413.wav\n",
      "this chunk is 8.232 seconds long and our count is 5\n",
      "write this file as sample6-25818-20200501-0413.wav\n",
      "this chunk is 7.303 seconds long and our count is 6\n",
      "write this file as sample7-25818-20200501-0413.wav\n",
      "this chunk is 22.608 seconds long and our count is 7\n",
      "write this file as sample8-25818-20200501-0413.wav\n",
      "this chunk is 13.648 seconds long and our count is 8\n",
      "write this file as sample9-25818-20200501-0413.wav\n",
      "this chunk is 2.97 seconds long and our count is 9\n",
      "write this file as sample10-25818-20200501-0413.wav\n",
      "this chunk is 14.715 seconds long and our count is 10\n",
      "write this file as sample11-25818-20200501-0413.wav\n",
      "this chunk is 8.173 seconds long and our count is 11\n",
      "write this file as sample12-25818-20200501-0413.wav\n",
      "this chunk is 16.959 seconds long and our count is 12\n",
      "write this file as sample13-25818-20200501-0413.wav\n",
      "this chunk is 4.757 seconds long and our count is 13\n",
      "write this file as sample14-25818-20200501-0413.wav\n",
      "this chunk is 5.411 seconds long and our count is 14\n",
      "write this file as sample15-25818-20200501-0413.wav\n",
      "this chunk is 20.64 seconds long and our count is 15\n",
      "write this file as sample16-25818-20200501-0413.wav\n",
      "this chunk is 3.548 seconds long and our count is 16\n",
      "write this file as sample17-25818-20200501-0413.wav\n",
      "this chunk is 11.728 seconds long and our count is 17\n",
      "write this file as sample18-25818-20200501-0413.wav\n",
      "this chunk is 10.796 seconds long and our count is 18\n",
      "write this file as sample19-25818-20200501-0413.wav\n",
      "this chunk is 5.65 seconds long and our count is 19\n",
      "write this file as sample20-25818-20200501-0413.wav\n",
      "this chunk is 9.72 seconds long and our count is 20\n",
      "write this file as sample21-25818-20200501-0413.wav\n",
      "this chunk is 4.359 seconds long and our count is 21\n",
      "write this file as sample22-25818-20200501-0413.wav\n",
      "this chunk is 10.501 seconds long and our count is 22\n",
      "write this file as sample23-25818-20200501-0413.wav\n",
      "this chunk is 2.851 seconds long and our count is 23\n",
      "write this file as sample24-25818-20200501-0413.wav\n",
      "this chunk is 2.935 seconds long and our count is 24\n",
      "write this file as sample25-25818-20200501-0413.wav\n",
      "this chunk is 19.322 seconds long and our count is 25\n",
      "write this file as sample26-25818-20200501-0413.wav\n",
      "this chunk is 2.367 seconds long and our count is 26\n",
      "write this file as sample27-25818-20200501-0413.wav\n",
      "this chunk is 4.751 seconds long and our count is 27\n",
      "write this file as sample28-25818-20200501-0413.wav\n",
      "this chunk is 13.411 seconds long and our count is 28\n",
      "write this file as sample29-25818-20200501-0413.wav\n",
      "this chunk is 4.033 seconds long and our count is 29\n",
      "write this file as sample30-25818-20200501-0413.wav\n",
      "this chunk is 11.645 seconds long and our count is 30\n",
      "write this file as sample31-25818-20200501-0413.wav\n",
      "this chunk is 4.498 seconds long and our count is 31\n",
      "write this file as sample32-25818-20200501-0413.wav\n",
      "this chunk is 14.712 seconds long and our count is 32\n",
      "write this file as sample33-25818-20200501-0413.wav\n",
      "\n",
      "\n",
      "Examine 25818-20200501-1240.mp3\n"
     ]
    }
   ],
   "source": [
    "# Start Timer\n",
    "start_time = time.time()\n",
    "\n",
    "# Counter for file names\n",
    "counter = 0\n",
    "# Calculat total length of audio\n",
    "total_length_to_process = 0\n",
    "\n",
    "for raw_file in os.listdir(raw_path): \n",
    "    if raw_file.endswith('.mp3'):\n",
    "        print(f\"Examine {raw_file}\")\n",
    "\n",
    "        # Pull in File\n",
    "        audio_to_split = AudioSegment.from_mp3(raw_path + raw_file)\n",
    "\n",
    "        # Split based on silence critiera\n",
    "        chunks = split_on_silence(audio_to_split,\n",
    "                                 min_silence_len = silence_length_ms,\n",
    "                                 silence_thresh = audio_to_split.dBFS + silence_threshold_delta_dBFS)\n",
    "\n",
    "        # Calculate Processing Time\n",
    "        processing_time = round(time.time() - start_time,0)\n",
    "\n",
    "        # Return informative statement\n",
    "        print(f'File {raw_file} required {processing_time} seconds to split into {len(chunks)} candidate chunks of audio')\n",
    "\n",
    "        # Export qualifying chunks\n",
    "        for chunk in chunks:\n",
    "            sound_length = len(chunk)\n",
    "            if sound_length >= min_chunk_length_ms and sound_length <= max_chunk_length_ms:\n",
    "                total_length_to_process += len(chunk)\n",
    "                print(f\"this chunk is {len(chunk)/1_000} seconds long and our count is {counter}\")\n",
    "                counter +=1\n",
    "                file_name = \"sample{}-{}.wav\".format(counter,raw_file.split(\".\")[0])\n",
    "                print(f'write this file as {file_name}')\n",
    "                chunk.export(output_path + file_name,\n",
    "                         format = \"wav\")\n",
    "        print('\\n')\n",
    "    \n",
    "print(f'Exporting {counter} qualifying chunks required {time.time()-start_time} seconds') \n",
    "print(f'Total audio length of {total_length_to_process/36_000} minutes')"
   ]
  },
  {
   "cell_type": "markdown",
   "metadata": {},
   "source": [
    "#### Confirm Files Exist"
   ]
  },
  {
   "cell_type": "code",
   "execution_count": null,
   "metadata": {
    "ExecuteTime": {
     "end_time": "2020-05-11T21:45:41.749491Z",
     "start_time": "2020-05-11T21:45:41.744504Z"
    },
    "scrolled": false
   },
   "outputs": [],
   "source": [
    "os.listdir(output_path)"
   ]
  }
 ],
 "metadata": {
  "kernelspec": {
   "display_name": "Python 3",
   "language": "python",
   "name": "python3"
  },
  "language_info": {
   "codemirror_mode": {
    "name": "ipython",
    "version": 3
   },
   "file_extension": ".py",
   "mimetype": "text/x-python",
   "name": "python",
   "nbconvert_exporter": "python",
   "pygments_lexer": "ipython3",
   "version": "3.7.6"
  },
  "toc": {
   "base_numbering": 1,
   "nav_menu": {},
   "number_sections": true,
   "sideBar": true,
   "skip_h1_title": false,
   "title_cell": "Table of Contents",
   "title_sidebar": "Contents",
   "toc_cell": false,
   "toc_position": {},
   "toc_section_display": true,
   "toc_window_display": false
  },
  "varInspector": {
   "cols": {
    "lenName": 16,
    "lenType": 16,
    "lenVar": 40
   },
   "kernels_config": {
    "python": {
     "delete_cmd_postfix": "",
     "delete_cmd_prefix": "del ",
     "library": "var_list.py",
     "varRefreshCmd": "print(var_dic_list())"
    },
    "r": {
     "delete_cmd_postfix": ") ",
     "delete_cmd_prefix": "rm(",
     "library": "var_list.r",
     "varRefreshCmd": "cat(var_dic_list()) "
    }
   },
   "types_to_exclude": [
    "module",
    "function",
    "builtin_function_or_method",
    "instance",
    "_Feature"
   ],
   "window_display": false
  }
 },
 "nbformat": 4,
 "nbformat_minor": 4
}
